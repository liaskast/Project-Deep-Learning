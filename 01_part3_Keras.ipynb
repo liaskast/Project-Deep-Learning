{
  "nbformat": 4,
  "nbformat_minor": 0,
  "metadata": {
    "colab": {
      "name": "2020_01_part3_Keras.ipynb",
      "provenance": [],
      "collapsed_sections": [],
      "toc_visible": true,
      "include_colab_link": true
    },
    "kernelspec": {
      "name": "python2",
      "display_name": "Python 2"
    },
    "accelerator": "GPU"
  },
  "cells": [
    {
      "cell_type": "markdown",
      "metadata": {
        "id": "view-in-github",
        "colab_type": "text"
      },
      "source": [
        "<a href=\"https://colab.research.google.com/github/MatchLab-Imperial/deep-learning-course/blob/master/2020_01_part3_Keras.ipynb\" target=\"_parent\"><img src=\"https://colab.research.google.com/assets/colab-badge.svg\" alt=\"Open In Colab\"/></a>"
      ]
    },
    {
      "cell_type": "markdown",
      "metadata": {
        "id": "bb1Zl0tVSKCN",
        "colab_type": "text"
      },
      "source": [
        "# **Starting with Keras**\n",
        "\n",
        "Keras is a high-level Deep Learning API  written in Python and capable of running on top of TensorFlow, CNTK, or Theano. It was developed with a focus on enabling fast experimentation. In other words, Keras is especially good for beginners, it is modular, minimalist and it is easy to get a neural network up and running in no time. \n",
        "\n",
        "Based on [this tutorial](https://elitedatascience.com/keras-tutorial-deep-learning-in-python). The following code is just a brief introduction to Keras, refer to [Keras documentation](https://keras.io/) to learn more about it."
      ]
    },
    {
      "cell_type": "markdown",
      "metadata": {
        "id": "rF1rW5C1dS4R",
        "colab_type": "text"
      },
      "source": [
        "## Importing Libraries and Modules\n",
        "\n",
        "Google Colab already has everything you need installed. We highly recommend to use Colab for this tutorial, however, if you want to use your our environment, you will need to set up a Python environment and install Keras on it. \n",
        "\n",
        "You can find multiple guides that will help you with the task of installing Keras on your machine. Here are some examples for [Windows](http://inmachineswetrust.com/posts/deep-learning-setup/) or [Ubuntu](https://medium.com/@naomi.fridman/install-conda-tensorflow-gpu-and-keras-on-ubuntu-18-04-1b403e740e25)."
      ]
    },
    {
      "cell_type": "markdown",
      "metadata": {
        "id": "Wzb418Yih5SN",
        "colab_type": "text"
      },
      "source": [
        "We will import numpy and set a seed for the pseudorandom number generator. This seed is important for reproducibility, since different initializations might lead to varying results."
      ]
    },
    {
      "cell_type": "code",
      "metadata": {
        "id": "VTilKf6uRhML",
        "colab_type": "code",
        "colab": {}
      },
      "source": [
        "import numpy as np\n",
        "np.random.seed(123)  # for reproducibility"
      ],
      "execution_count": 0,
      "outputs": []
    },
    {
      "cell_type": "markdown",
      "metadata": {
        "id": "ob8EYZ89h96k",
        "colab_type": "text"
      },
      "source": [
        "Now we are ready to start importing some of Keras' modules.\n",
        "\n",
        "First, we will import the `Sequential` module from Keras. A `Sequential` module is a stack of neural network layers, and it will be used when creating our first feed-forward network.\n"
      ]
    },
    {
      "cell_type": "code",
      "metadata": {
        "id": "tE570PePip7f",
        "colab_type": "code",
        "colab": {}
      },
      "source": [
        "from keras.models import Sequential"
      ],
      "execution_count": 0,
      "outputs": []
    },
    {
      "cell_type": "markdown",
      "metadata": {
        "id": "IC1aRifsj4Eu",
        "colab_type": "text"
      },
      "source": [
        "As mentioned before, Keras is a wrapper that allows us to use either Theano or TensorFlow as backend. It is easy to switch between them if required. However, newer versions of Keras will focus on the TensorFlow backend, dropping support for the rest of backends. In this tutorial, we will use the TensorFlow backend. Same as with the numpy pseudorandom number generator, we also fix Keras pseudorandom number generator for reproducibility."
      ]
    },
    {
      "cell_type": "code",
      "metadata": {
        "id": "81_cpwH9UhRn",
        "colab_type": "code",
        "colab": {}
      },
      "source": [
        "from tensorflow import set_random_seed\n",
        "set_random_seed(123)"
      ],
      "execution_count": 0,
      "outputs": []
    },
    {
      "cell_type": "markdown",
      "metadata": {
        "id": "8zCje2VIWFIV",
        "colab_type": "text"
      },
      "source": [
        "Next, we will import two of the core layers used to build a network on Keras: [`Dense`](https://keras.io/layers/core/#dense) and [`Activation`](https://keras.io/layers/core/#activation). In short, `Dense` defines a fully-connected network where all the neurons are connected to all of the elements of the input data and `Activation` defines a non-linear function applied to the network. We will explain more about the available layers in the next tutorials."
      ]
    },
    {
      "cell_type": "code",
      "metadata": {
        "id": "Ua1JaDKTj5XO",
        "colab_type": "code",
        "colab": {}
      },
      "source": [
        "from keras.layers import Dense, Activation"
      ],
      "execution_count": 0,
      "outputs": []
    },
    {
      "cell_type": "markdown",
      "metadata": {
        "id": "Vbm3UwLeKdDv",
        "colab_type": "text"
      },
      "source": [
        "Also, we import some utils, that will help us later with visualisation and transforming the dataset."
      ]
    },
    {
      "cell_type": "code",
      "metadata": {
        "id": "yUVkzIz3KtXt",
        "colab_type": "code",
        "colab": {}
      },
      "source": [
        "from keras.utils import np_utils\n",
        "import matplotlib.pyplot as plt"
      ],
      "execution_count": 0,
      "outputs": []
    },
    {
      "cell_type": "markdown",
      "metadata": {
        "id": "ZBQn3bnIkpOE",
        "colab_type": "text"
      },
      "source": [
        "## Loading datasets from Keras\n",
        "\n",
        "Besides the modules to build our neural networks, Keras library also contains [standard datasets](https://keras.io/datasets/). The fact that those datasets are inside Keras is handy and can save us a lot of time when learning how to create our first neural network. \n",
        "\n",
        "To show this, we import the [MNIST](https://en.wikipedia.org/wiki/MNIST_database) dataset, which contains binary images of handwritten images, and load it."
      ]
    },
    {
      "cell_type": "code",
      "metadata": {
        "id": "92F5A9XEIiVQ",
        "colab_type": "code",
        "colab": {}
      },
      "source": [
        "from keras.datasets import mnist\n",
        "\n",
        "# the data, shuffled and split between train and test sets\n",
        "(X_train, y_train), (X_test, y_test) = mnist.load_data()"
      ],
      "execution_count": 0,
      "outputs": []
    },
    {
      "cell_type": "markdown",
      "metadata": {
        "id": "nuHAmcCaImS8",
        "colab_type": "text"
      },
      "source": [
        "Now we have on `X_train` and `X_test` variables the training/test partitions provided by Keras,  and on `y_train` and `y_test` their corresponding labels.\n",
        "\n",
        "We can now look into the shape of the data, and visualise some data examples:\n",
        "\n",
        "\n"
      ]
    },
    {
      "cell_type": "code",
      "metadata": {
        "id": "l5o9qsfjJdNv",
        "colab_type": "code",
        "outputId": "95f30ccc-a932-4290-9baa-5c653cc08ed8",
        "colab": {
          "base_uri": "https://localhost:8080/",
          "height": 322
        }
      },
      "source": [
        "print('Image shape: {0}'.format(X_train.shape[1:]))\n",
        "print('Total number of training samples: {0}'.format(X_train.shape[0]))\n",
        "print('Total number of test samples: {0}'.format(X_test.shape[0]))\n",
        "\n",
        "N=5\n",
        "start_val = 0 # pick an element for the code to plot the following N**2 values\n",
        "fig, axes = plt.subplots(N,N)\n",
        "items = list(range(0, 10))\n",
        "for row in range(N):\n",
        "  for col in range(N):\n",
        "    idx = start_val+row+N*col\n",
        "    axes[row,col].imshow(X_train[idx], cmap='gray')\n",
        "    fig.subplots_adjust(hspace=0.5)\n",
        "    y_target = int(y_train[idx])\n",
        "    target = str(items[y_target])\n",
        "    axes[row,col].set_title(target)\n",
        "    axes[row,col].set_xticks([])\n",
        "    axes[row,col].set_yticks([])"
      ],
      "execution_count": 53,
      "outputs": [
        {
          "output_type": "stream",
          "text": [
            "Image shape: (28, 28)\n",
            "Total number of training samples: 60000\n",
            "Total number of test samples: 10000\n"
          ],
          "name": "stdout"
        },
        {
          "output_type": "display_data",
          "data": {
            "image/png": "[encoded data removed]",
            "text/plain": [
              "<Figure size 432x288 with 25 Axes>"
            ]
          },
          "metadata": {
            "tags": []
          }
        }
      ]
    },
    {
      "cell_type": "markdown",
      "metadata": {
        "id": "WoNhnQtRNhHu",
        "colab_type": "text"
      },
      "source": [
        "Therefore, we have 60000 training samples and 10000 test samples, where each image has a shape of $28\\times 28$ pixels. Visualizing the data before starting to deploy any algorithms is always a good idea: it is a quick sanity check that can prevent easily avoidable mistakes."
      ]
    },
    {
      "cell_type": "markdown",
      "metadata": {
        "id": "DohVlsvsN9np",
        "colab_type": "text"
      },
      "source": [
        "## Preprocessing Keras datasets\n",
        "\n",
        "In this first example, we will train a simple model to classify the digits on MNIST dataset. As will be introduced in the lectures, convolutional layers are usually employed to classify images. However, for the moment we use only `Dense` layers, so we have to reshape the images to have a single dimension. Therefore, the same network could be used for any 1D data. We will see on following weeks that when using Convolutional Neural Networks (CNNs) we must define a 3D shape for images (depth, width, height). CNNs usually have higher performance compared to models with only `Dense` layers when applied to 2D data.\n",
        "\n",
        "Let's flatten the data now."
      ]
    },
    {
      "cell_type": "code",
      "metadata": {
        "id": "aa6-T9T9PABQ",
        "colab_type": "code",
        "outputId": "e4cec3c0-5760-4fc9-93d6-200722e4c84a",
        "colab": {
          "base_uri": "https://localhost:8080/",
          "height": 35
        }
      },
      "source": [
        "X_train_flatten = X_train.reshape(X_train.shape[0], X_train.shape[1] * X_train.shape[2])\n",
        "X_test_flatten = X_test.reshape(X_test.shape[0], X_test.shape[1] * X_test.shape[2])\n",
        "\n",
        "print('New X_train shape: {0}'.format(X_train_flatten.shape))"
      ],
      "execution_count": 54,
      "outputs": [
        {
          "output_type": "stream",
          "text": [
            "New X_train shape: (60000, 784)\n"
          ],
          "name": "stdout"
        }
      ]
    },
    {
      "cell_type": "markdown",
      "metadata": {
        "id": "aVLnq7URVwxH",
        "colab_type": "text"
      },
      "source": [
        "A standard practise is to normalise the dataset to the range $[0, 1]$."
      ]
    },
    {
      "cell_type": "code",
      "metadata": {
        "id": "jbOITHGSV9WS",
        "colab_type": "code",
        "colab": {}
      },
      "source": [
        "X_train_flatten = X_train_flatten.astype('float32')\n",
        "X_test_flatten = X_test_flatten.astype('float32')\n",
        "X_train_flatten /= 255\n",
        "X_test_flatten /= 255"
      ],
      "execution_count": 0,
      "outputs": []
    },
    {
      "cell_type": "markdown",
      "metadata": {
        "id": "eZTwrNtOWNBe",
        "colab_type": "text"
      },
      "source": [
        "To train the model we also process the labels. The `y_train` and `y_test` labels are represented as a single array with the class values as integer. \n",
        "\n",
        "\n"
      ]
    },
    {
      "cell_type": "markdown",
      "metadata": {
        "id": "hZtCSmMos8uo",
        "colab_type": "text"
      },
      "source": [
        "For the loss we will use for training, we need to transform those values to a [one-hot encoded vector](https://en.wikipedia.org/wiki/One-hot)."
      ]
    },
    {
      "cell_type": "code",
      "metadata": {
        "id": "z-KifrbWXreU",
        "colab_type": "code",
        "outputId": "8d4b862b-8fa5-46be-c9a2-d10dd478629b",
        "colab": {
          "base_uri": "https://localhost:8080/",
          "height": 35
        }
      },
      "source": [
        "Y_train_class = np_utils.to_categorical(y_train, 10)\n",
        "Y_test_class = np_utils.to_categorical(y_test, 10)\n",
        "\n",
        "print('New Y_train shape: {0}'.format(Y_train_class.shape))"
      ],
      "execution_count": 56,
      "outputs": [
        {
          "output_type": "stream",
          "text": [
            "New Y_train shape: (60000, 10)\n"
          ],
          "name": "stdout"
        }
      ]
    },
    {
      "cell_type": "markdown",
      "metadata": {
        "id": "jokxf-U8thD8",
        "colab_type": "text"
      },
      "source": [
        "To see the difference in representation, let's print the first element of `y_train` and `Y_train_class`."
      ]
    },
    {
      "cell_type": "code",
      "metadata": {
        "id": "0oYrx0kStdfy",
        "colab_type": "code",
        "outputId": "efb838da-2a0e-4732-e241-2e48cc378913",
        "colab": {
          "base_uri": "https://localhost:8080/",
          "height": 35
        }
      },
      "source": [
        "print(y_train[0], Y_train_class[0])"
      ],
      "execution_count": 57,
      "outputs": [
        {
          "output_type": "stream",
          "text": [
            "(5, array([0., 0., 0., 0., 0., 1., 0., 0., 0., 0.], dtype=float32))\n"
          ],
          "name": "stdout"
        }
      ]
    },
    {
      "cell_type": "markdown",
      "metadata": {
        "id": "OcgAG0OZLZ3W",
        "colab_type": "text"
      },
      "source": [
        "## Model Architecture\n",
        "\n",
        "Defining model architectures is a critical step when trying to solve a machine learning problem. In this tutorial, we will understand how models can be built in Keras, starting from a simpler model and then using a more complex example. Here is a list of [implemented models for specific datasets](https://github.com/keras-team/keras/tree/master/examples) which can be a useful reference. \n",
        "\n",
        "First, we need to declare a `Sequential` module. As mentioned, a `Sequential` module is a linear stack of neural network layers. We, therefore, can create a mode  by passing a list of layer instances to the `Sequential` module, "
      ]
    },
    {
      "cell_type": "code",
      "metadata": {
        "id": "9_sJo3MbS1Lz",
        "colab_type": "code",
        "colab": {}
      },
      "source": [
        "model = Sequential([\n",
        "    Dense(10, input_shape=(784,)),\n",
        "    Activation('softmax'),\n",
        "])"
      ],
      "execution_count": 0,
      "outputs": []
    },
    {
      "cell_type": "markdown",
      "metadata": {
        "id": "iEVpTbQ9TX_u",
        "colab_type": "text"
      },
      "source": [
        "Keras also allows us to simply add layers via the `.add()` method:"
      ]
    },
    {
      "cell_type": "code",
      "metadata": {
        "id": "w-i9u2fbTZCk",
        "colab_type": "code",
        "colab": {}
      },
      "source": [
        "model = Sequential()\n",
        "model.add(Dense(10, input_dim=784))\n",
        "model.add(Activation('softmax'))"
      ],
      "execution_count": 0,
      "outputs": []
    },
    {
      "cell_type": "markdown",
      "metadata": {
        "colab_type": "text",
        "id": "xGsQ9NTBBHFC"
      },
      "source": [
        "We now have a simple model ready. However, the model needs to know what input shape is going to receive. For this reason, the first layer in a Sequential model (and only the first, because the following layers can do automatic shape inference) needs to receive information about its input shape. As seen previously, after the flatten operation our images have a shape of 784. If we were using directly images, the input shape would have been (28, 28, 1), which corresponds to the (width, height, depth) of each digit image. The formatting (width, height, depth) is called `channels_last`, which is used by default in Keras, however Keras also accepts the format (depth, width, height), which is called `channels_first`. You can either pass the argument `data_format` when defining a layer or setting your preferred data format as default by using the code given [here](https://keras.rstudio.com/reference/k_image_data_format.html). \n",
        "\n",
        "We now can check the model shape output:"
      ]
    },
    {
      "cell_type": "code",
      "metadata": {
        "id": "h5CZJUssUW1b",
        "colab_type": "code",
        "outputId": "3d6d1fe8-f5a3-47a9-ef2b-516a088f338e",
        "colab": {
          "base_uri": "https://localhost:8080/",
          "height": 35
        }
      },
      "source": [
        "print(model.output_shape)"
      ],
      "execution_count": 60,
      "outputs": [
        {
          "output_type": "stream",
          "text": [
            "(None, 10)\n"
          ],
          "name": "stdout"
        }
      ]
    },
    {
      "cell_type": "markdown",
      "metadata": {
        "id": "Kpz5BNJ8UnuP",
        "colab_type": "text"
      },
      "source": [
        "The dense layer used in our model is a fully connected layer, where the first parameter is the output size of the layer. The final layer has an output size of 10, corresponding to the 10 classes of digits. Keras automatically handles the connections between layers. In this case, the layer has $784\\cdot 10+ 10=7850$ parameters, where the first term refers to the connections between input data and neurons and the second term to the output bias.\n",
        "\n",
        "We can see how our model looks like by using `.summary()`."
      ]
    },
    {
      "cell_type": "code",
      "metadata": {
        "id": "a37n1PQzU3BX",
        "colab_type": "code",
        "outputId": "5a39f960-7153-43b3-b6f2-2e606ffd2d90",
        "colab": {
          "base_uri": "https://localhost:8080/",
          "height": 215
        }
      },
      "source": [
        "model.summary()"
      ],
      "execution_count": 61,
      "outputs": [
        {
          "output_type": "stream",
          "text": [
            "_________________________________________________________________\n",
            "Layer (type)                 Output Shape              Param #   \n",
            "=================================================================\n",
            "dense_15 (Dense)             (None, 10)                7850      \n",
            "_________________________________________________________________\n",
            "activation_4 (Activation)    (None, 10)                0         \n",
            "=================================================================\n",
            "Total params: 7,850\n",
            "Trainable params: 7,850\n",
            "Non-trainable params: 0\n",
            "_________________________________________________________________\n"
          ],
          "name": "stdout"
        }
      ]
    },
    {
      "cell_type": "markdown",
      "metadata": {
        "id": "TPQEWWDuwCzk",
        "colab_type": "text"
      },
      "source": [
        "The number of parameters given by Keras corresponds to the number we computed."
      ]
    },
    {
      "cell_type": "markdown",
      "metadata": {
        "id": "q_zb2cNDVaJi",
        "colab_type": "text"
      },
      "source": [
        "## Compilation\n",
        "\n",
        "Before starting to train our model, we need to configure the learning process, which is done via the compile method. We need to define three important parameters here:\n",
        "\n",
        "*   The loss function that the model will try to minimize.\n",
        "*   The optimiser used to minimise the loss function and update the weights.\n",
        "*   The list of metrics you want the model to compute.\n",
        "\n",
        "In our example, as we are doing classification, we will define the categorical_crossentropy as the loss function and we will compute the accuracy metric. You can refer to Keras documentation to learn more about [losses](https://keras.io/losses/) or [optimisers](https://keras.io/optimizers/). There are many other parameters (learning rate, decay factor, weight normalisation...) than could be manually set. We will explore in more detail all of these parameters in the following tutorials. Now, we will use the default values for them. \n",
        "\n"
      ]
    },
    {
      "cell_type": "code",
      "metadata": {
        "id": "kHasLrmvWtSf",
        "colab_type": "code",
        "colab": {}
      },
      "source": [
        "model.compile(loss='categorical_crossentropy',\n",
        "              optimizer='adam',\n",
        "              metrics=['accuracy'])"
      ],
      "execution_count": 0,
      "outputs": []
    },
    {
      "cell_type": "markdown",
      "metadata": {
        "id": "iqImvb8kWznJ",
        "colab_type": "text"
      },
      "source": [
        "## Training\n",
        "\n",
        "To train the model, we call `.fit()` after compiling the model. We have to define the batch size and the number of total epochs the model is going to train. We are finally ready to train our classifier! "
      ]
    },
    {
      "cell_type": "code",
      "metadata": {
        "id": "trVlIdWNXUwd",
        "colab_type": "code",
        "outputId": "36243793-5fb3-4ba2-bcf4-02cae0ce8177",
        "colab": {
          "base_uri": "https://localhost:8080/",
          "height": 377
        }
      },
      "source": [
        "history = model.fit(X_train_flatten, Y_train_class, batch_size=32, epochs=10)"
      ],
      "execution_count": 63,
      "outputs": [
        {
          "output_type": "stream",
          "text": [
            "Epoch 1/10\n",
            "60000/60000 [==============================] - 5s 85us/step - loss: 0.4693 - acc: 0.8793\n",
            "Epoch 2/10\n",
            "60000/60000 [==============================] - 5s 80us/step - loss: 0.3042 - acc: 0.9152\n",
            "Epoch 3/10\n",
            "60000/60000 [==============================] - 5s 80us/step - loss: 0.2836 - acc: 0.9210\n",
            "Epoch 4/10\n",
            "60000/60000 [==============================] - 5s 80us/step - loss: 0.2728 - acc: 0.9235\n",
            "Epoch 5/10\n",
            "60000/60000 [==============================] - 5s 80us/step - loss: 0.2664 - acc: 0.9260\n",
            "Epoch 6/10\n",
            "60000/60000 [==============================] - 5s 79us/step - loss: 0.2620 - acc: 0.9268\n",
            "Epoch 7/10\n",
            "60000/60000 [==============================] - 5s 79us/step - loss: 0.2580 - acc: 0.9286\n",
            "Epoch 8/10\n",
            "60000/60000 [==============================] - 5s 80us/step - loss: 0.2550 - acc: 0.9294\n",
            "Epoch 9/10\n",
            "60000/60000 [==============================] - 5s 79us/step - loss: 0.2528 - acc: 0.9308\n",
            "Epoch 10/10\n",
            "60000/60000 [==============================] - 5s 78us/step - loss: 0.2506 - acc: 0.9308\n"
          ],
          "name": "stdout"
        }
      ]
    },
    {
      "cell_type": "markdown",
      "metadata": {
        "id": "yj8MJvUnXzHj",
        "colab_type": "text"
      },
      "source": [
        "Great, we have trained our first model! \n",
        "\n",
        "Now, imagine we need to train the model until it converges, and we do not know how many epochs it will take. Then, we could use callbacks to define early-stopping rules. In addition, we can use those [callbacks](https://keras.io/callbacks/) to save the model's weights or log history along the training process. An example of using the early stopping callback will be given later in this tutorial.\n",
        "\n",
        "\n",
        "Most of the times, the training curves give important information about the training process. In order to visualise them, we can use the information saved on the training history:"
      ]
    },
    {
      "cell_type": "code",
      "metadata": {
        "id": "OGy405W2boBB",
        "colab_type": "code",
        "outputId": "6ad13767-79e9-4b9f-8fff-f8ff5e4724cd",
        "colab": {
          "base_uri": "https://localhost:8080/",
          "height": 313
        }
      },
      "source": [
        "fig, axes = plt.subplots(2,1)\n",
        "axes[0].plot(history.history['acc'])\n",
        "axes[0].set_title('Model Accuracy')\n",
        "axes[0].set_ylabel('Accuracy')\n",
        "axes[0].set_xlabel('Epoch')\n",
        "\n",
        "fig.subplots_adjust(hspace=0.5)\n",
        "\n",
        "axes[1].plot(history.history['loss'], 'g')\n",
        "axes[1].set_title('Model Loss')\n",
        "axes[1].set_ylabel('Cross Entropy Loss')\n",
        "axes[1].set_xlabel('Epoch')"
      ],
      "execution_count": 64,
      "outputs": [
        {
          "output_type": "execute_result",
          "data": {
            "text/plain": [
              "Text(0.5,0,'Epoch')"
            ]
          },
          "metadata": {
            "tags": []
          },
          "execution_count": 64
        },
        {
          "output_type": "display_data",
          "data": {
            "image/png": "[encoded data removed]",
            "text/plain": [
              "<Figure size 432x288 with 2 Axes>"
            ]
          },
          "metadata": {
            "tags": []
          }
        }
      ]
    },
    {
      "cell_type": "markdown",
      "metadata": {
        "id": "1xMgl2FYaSA9",
        "colab_type": "text"
      },
      "source": [
        "## Evaluating Model\n",
        "\n",
        "Finally, we can evaluate our model on the test data by using the method `.evaluate()`:"
      ]
    },
    {
      "cell_type": "code",
      "metadata": {
        "id": "Dac7-bRJab05",
        "colab_type": "code",
        "outputId": "651da636-8ec2-4dfe-d653-a9a991b790eb",
        "colab": {
          "base_uri": "https://localhost:8080/",
          "height": 53
        }
      },
      "source": [
        "score = model.evaluate(X_test_flatten, Y_test_class, verbose=0)\n",
        "print('Test loss:', score[0])\n",
        "print('Test accuracy:', score[1])"
      ],
      "execution_count": 65,
      "outputs": [
        {
          "output_type": "stream",
          "text": [
            "('Test loss:', 0.26236837894022463)\n",
            "('Test accuracy:', 0.9283)\n"
          ],
          "name": "stdout"
        }
      ]
    },
    {
      "cell_type": "markdown",
      "metadata": {
        "id": "Jzdmn3rCgo8l",
        "colab_type": "text"
      },
      "source": [
        "## Training A Simple Multi-layer Perceptron\n",
        "\n",
        "Previously, we showed a simple network mapping directly from $784$ to $10$. Here we show how to combine different sequential layers. We now define a more complex model with two extra layers to see how that affects the final test accuracy."
      ]
    },
    {
      "cell_type": "code",
      "metadata": {
        "id": "WRRqajaThGgf",
        "colab_type": "code",
        "outputId": "da60a0fa-04b5-4d98-e6d5-f81a6a1f5d09",
        "colab": {
          "base_uri": "https://localhost:8080/",
          "height": 215
        }
      },
      "source": [
        "model2 = Sequential()\n",
        "model2.add(Dense(100, activation='relu', input_shape=(784,)))\n",
        "model2.add(Dense(10, activation='softmax'))\n",
        "\n",
        "model2.summary()"
      ],
      "execution_count": 66,
      "outputs": [
        {
          "output_type": "stream",
          "text": [
            "_________________________________________________________________\n",
            "Layer (type)                 Output Shape              Param #   \n",
            "=================================================================\n",
            "dense_16 (Dense)             (None, 100)               78500     \n",
            "_________________________________________________________________\n",
            "dense_17 (Dense)             (None, 10)                1010      \n",
            "=================================================================\n",
            "Total params: 79,510\n",
            "Trainable params: 79,510\n",
            "Non-trainable params: 0\n",
            "_________________________________________________________________\n"
          ],
          "name": "stdout"
        }
      ]
    },
    {
      "cell_type": "markdown",
      "metadata": {
        "id": "RK4s-S-ihT2v",
        "colab_type": "text"
      },
      "source": [
        "We have increased the number of parameters from 7850 to 79510 by adding this layer. Remember that the number of units given to the layer in Keras defines the dimensionality of the output space, that is why we need the last layer to have the same number of digit classes. \n",
        "\n",
        "In addition, we use ReLU (Rectified Linear Unit) activation function in the first dense layer. You can learn more about it [here](https://keras.io/activations/#relu).\n",
        "\n",
        "As done above, we can train our new model and visualise the model curves:"
      ]
    },
    {
      "cell_type": "code",
      "metadata": {
        "id": "Ni6ov50rkltw",
        "colab_type": "code",
        "outputId": "074b44ed-5b92-4a12-8578-a971097a211c",
        "colab": {
          "base_uri": "https://localhost:8080/",
          "height": 673
        }
      },
      "source": [
        "model2.compile(loss='categorical_crossentropy',\n",
        "              optimizer='adam',\n",
        "              metrics=['accuracy'])\n",
        "\n",
        "history2 = model2.fit(X_train_flatten, Y_train_class, batch_size=32, epochs=10)\n",
        "\n",
        "fig, axes = plt.subplots(2,1)\n",
        "axes[0].plot(history2.history['acc'])\n",
        "axes[0].set_title('Model Accuracy')\n",
        "axes[0].set_ylabel('Accuracy')\n",
        "axes[0].set_xlabel('Epoch')\n",
        "\n",
        "fig.subplots_adjust(hspace=0.5)\n",
        "\n",
        "axes[1].plot(history2.history['loss'], 'g')\n",
        "axes[1].set_title('Model Loss')\n",
        "axes[1].set_ylabel('Cross Entropy Loss')\n",
        "axes[1].set_xlabel('Epoch')"
      ],
      "execution_count": 67,
      "outputs": [
        {
          "output_type": "stream",
          "text": [
            "Epoch 1/10\n",
            "60000/60000 [==============================] - 6s 96us/step - loss: 0.2722 - acc: 0.9215\n",
            "Epoch 2/10\n",
            "60000/60000 [==============================] - 5s 90us/step - loss: 0.1243 - acc: 0.9636\n",
            "Epoch 3/10\n",
            "60000/60000 [==============================] - 5s 89us/step - loss: 0.0870 - acc: 0.9736\n",
            "Epoch 4/10\n",
            "60000/60000 [==============================] - 5s 89us/step - loss: 0.0655 - acc: 0.9791\n",
            "Epoch 5/10\n",
            "60000/60000 [==============================] - 5s 89us/step - loss: 0.0507 - acc: 0.9843\n",
            "Epoch 6/10\n",
            "60000/60000 [==============================] - 5s 90us/step - loss: 0.0423 - acc: 0.9871\n",
            "Epoch 7/10\n",
            "60000/60000 [==============================] - 5s 91us/step - loss: 0.0338 - acc: 0.9894\n",
            "Epoch 8/10\n",
            "60000/60000 [==============================] - 5s 89us/step - loss: 0.0279 - acc: 0.9913\n",
            "Epoch 9/10\n",
            "60000/60000 [==============================] - 5s 90us/step - loss: 0.0234 - acc: 0.9932\n",
            "Epoch 10/10\n",
            "60000/60000 [==============================] - 5s 91us/step - loss: 0.0201 - acc: 0.9936\n"
          ],
          "name": "stdout"
        },
        {
          "output_type": "execute_result",
          "data": {
            "text/plain": [
              "Text(0.5,0,'Epoch')"
            ]
          },
          "metadata": {
            "tags": []
          },
          "execution_count": 67
        },
        {
          "output_type": "display_data",
          "data": {
            "image/png": "[encoded data removed]",
            "text/plain": [
              "<Figure size 432x288 with 2 Axes>"
            ]
          },
          "metadata": {
            "tags": []
          }
        }
      ]
    },
    {
      "cell_type": "markdown",
      "metadata": {
        "id": "LDcMSVr_l6C3",
        "colab_type": "text"
      },
      "source": [
        "We have now trained the two models and we can see how these extra layers improve the results in the test set."
      ]
    },
    {
      "cell_type": "code",
      "metadata": {
        "id": "cnk6_wuemCXO",
        "colab_type": "code",
        "outputId": "8b2a1bc9-7eb6-4036-97e9-c3ac6a4b04c5",
        "colab": {
          "base_uri": "https://localhost:8080/",
          "height": 125
        }
      },
      "source": [
        "print('Old model:')\n",
        "print('Test loss:', score[0])\n",
        "print('Test accuracy:', score[1])\n",
        "\n",
        "print('New model:')\n",
        "score2 = model2.evaluate(X_test_flatten, Y_test_class, verbose=0)\n",
        "print('Test loss:', score2[0])\n",
        "print('Test accuracy:', score2[1])"
      ],
      "execution_count": 68,
      "outputs": [
        {
          "output_type": "stream",
          "text": [
            "Old model:\n",
            "('Test loss:', 0.26236837894022463)\n",
            "('Test accuracy:', 0.9283)\n",
            "New model:\n",
            "('Test loss:', 0.08035141767178139)\n",
            "('Test accuracy:', 0.9783)\n"
          ],
          "name": "stdout"
        }
      ]
    },
    {
      "cell_type": "markdown",
      "metadata": {
        "id": "a-DHj7P7n1Eh",
        "colab_type": "text"
      },
      "source": [
        "We have improved accuracy results on test, however, there is still margin for parameter tuning. Try to improve upon this model by adding more layers and changing the dimensionality in each layer."
      ]
    },
    {
      "cell_type": "markdown",
      "metadata": {
        "id": "9XyUx6ThaT47",
        "colab_type": "text"
      },
      "source": [
        "## Saving/Loading Model\n",
        "\n",
        "Some networks will require long training times (hours, days or even weeks), it is essential to know how to save models for using them afterwards without the need of starting the training each time. \n",
        "\n",
        "We can save and load the trained model in different ways.\n",
        "\n",
        "The first way is to save everyting into a single HDF5 file, which will contain:\n",
        "\n",
        "*   the architecture of the model, allowing to re-create the model\n",
        "*   the weights of the model\n",
        "*   the training configuration (loss, optimiser)\n",
        "*   the state of the optimiser, allowing to resume training exactly where you left off.\n",
        "\n",
        "[Here](https://keras.io/getting-started/faq/#how-can-i-save-a-keras-model) you can find more information about the process.\n"
      ]
    },
    {
      "cell_type": "code",
      "metadata": {
        "id": "0KJp2Pj2aTOc",
        "colab_type": "code",
        "colab": {}
      },
      "source": [
        "from keras.models import load_model\n",
        "\n",
        "model.save('my_model.h5')  # creates a HDF5 file 'my_model.h5'\n",
        "del model  # deletes the existing model\n",
        "\n",
        "# Load a compiled model identical to the previous one\n",
        "model = load_model('my_model.h5') "
      ],
      "execution_count": 0,
      "outputs": []
    },
    {
      "cell_type": "markdown",
      "metadata": {
        "id": "vD5h5qsUblji",
        "colab_type": "text"
      },
      "source": [
        "Another way is to save the architecture and the weights independently.\n",
        "\n",
        "\n"
      ]
    },
    {
      "cell_type": "code",
      "metadata": {
        "id": "dJXTYfTDcaWs",
        "colab_type": "code",
        "colab": {}
      },
      "source": [
        "model.save_weights('my_model_weights.h5') # creates a HDF5 file 'my_model_weights.h5'\n",
        "\n",
        "with open('my_model_architecture.json', 'w') as f:\n",
        "    f.write(model.to_json()) # creates a json file 'my_model_architecture.json'"
      ],
      "execution_count": 0,
      "outputs": []
    },
    {
      "cell_type": "markdown",
      "metadata": {
        "id": "wPgCrD4Leony",
        "colab_type": "text"
      },
      "source": [
        "If we want to load the model, without having to define it, we can directly use `model_from_json()`."
      ]
    },
    {
      "cell_type": "code",
      "metadata": {
        "id": "gXr0L8nqeipI",
        "colab_type": "code",
        "colab": {}
      },
      "source": [
        "from keras.models import model_from_json\n",
        "\n",
        "# Model reconstruction from JSON file\n",
        "with open('my_model_architecture.json', 'r') as f:\n",
        "    model = model_from_json(f.read())"
      ],
      "execution_count": 0,
      "outputs": []
    },
    {
      "cell_type": "markdown",
      "metadata": {
        "id": "NzmL07T_dh7Z",
        "colab_type": "text"
      },
      "source": [
        "If we have a model defined, we can then load the weights by using the method `load_weights(file_path)`."
      ]
    },
    {
      "cell_type": "code",
      "metadata": {
        "id": "yBahatkweEZx",
        "colab_type": "code",
        "colab": {}
      },
      "source": [
        "model.load_weights('my_model_weights.h5')"
      ],
      "execution_count": 0,
      "outputs": []
    },
    {
      "cell_type": "markdown",
      "metadata": {
        "id": "nwXWMk1vdm48",
        "colab_type": "text"
      },
      "source": [
        "If we modify the model and the new model shares some layers with the saved one, we could load the weights into a different architecture by using the layer name. This situation is common when you do fine-tuning or transfer-learning, among others."
      ]
    },
    {
      "cell_type": "code",
      "metadata": {
        "id": "KAGF3VbPdroU",
        "colab_type": "code",
        "colab": {}
      },
      "source": [
        "model.load_weights('my_model_weights.h5', by_name=True)"
      ],
      "execution_count": 0,
      "outputs": []
    },
    {
      "cell_type": "markdown",
      "metadata": {
        "id": "-6v_S7oxfUQC",
        "colab_type": "text"
      },
      "source": [
        "## Obtaining an output of an intermediate layer\n",
        "\n",
        "Sometimes we need to check how features of intermediate layers look like. This can be used for extracting features, but also for debugging purposes. That is why, we need to see how we can extract information of a trained architecture.\n",
        "\n",
        "The easiest way is to define a new model that will have as final output the given output of an specific layer. We first define the model:"
      ]
    },
    {
      "cell_type": "code",
      "metadata": {
        "id": "dZa6sDFLgXoC",
        "colab_type": "code",
        "outputId": "5e1fba08-8d1a-4603-b1a3-37a85deae0c9",
        "colab": {
          "base_uri": "https://localhost:8080/",
          "height": 251
        }
      },
      "source": [
        "model = Sequential()\n",
        "model.add(Dense(64, activation='relu', input_shape=(784,), name='first_dense'))\n",
        "model.add(Dense(128, activation='relu', name='second_dense'))\n",
        "model.add(Dense(10, activation='softmax', name='final_dense'))\n",
        "\n",
        "model.summary()\n",
        "\n"
      ],
      "execution_count": 74,
      "outputs": [
        {
          "output_type": "stream",
          "text": [
            "_________________________________________________________________\n",
            "Layer (type)                 Output Shape              Param #   \n",
            "=================================================================\n",
            "first_dense (Dense)          (None, 64)                50240     \n",
            "_________________________________________________________________\n",
            "second_dense (Dense)         (None, 128)               8320      \n",
            "_________________________________________________________________\n",
            "final_dense (Dense)          (None, 10)                1290      \n",
            "=================================================================\n",
            "Total params: 59,850\n",
            "Trainable params: 59,850\n",
            "Non-trainable params: 0\n",
            "_________________________________________________________________\n"
          ],
          "name": "stdout"
        }
      ]
    },
    {
      "cell_type": "markdown",
      "metadata": {
        "id": "hoXvhyLzhKU2",
        "colab_type": "text"
      },
      "source": [
        "Now, we specify the name of the layer in which we are interested to obtain the output. In our example, it is the second dense layer."
      ]
    },
    {
      "cell_type": "code",
      "metadata": {
        "id": "8Zu29bschSps",
        "colab_type": "code",
        "outputId": "d9d107b8-ae4e-42f0-c575-09ccaa10c5f3",
        "colab": {
          "base_uri": "https://localhost:8080/",
          "height": 53
        }
      },
      "source": [
        "from keras.models import Model\n",
        "\n",
        "layer_name = 'second_dense'\n",
        "intermediate_layer_model = Model(inputs=model.input,\n",
        "                                 outputs=model.get_layer(layer_name).output)\n",
        "intermediate_output = intermediate_layer_model.predict(X_test_flatten)\n",
        "final_output = model.predict(X_test_flatten)\n",
        "\n",
        "print('Second dense layer output shape: {0}'.format(intermediate_output.shape))\n",
        "print('Final output shape: {0}'.format(final_output.shape))"
      ],
      "execution_count": 75,
      "outputs": [
        {
          "output_type": "stream",
          "text": [
            "Second dense layer output shape: (10000, 128)\n",
            "Final output shape: (10000, 10)\n"
          ],
          "name": "stdout"
        }
      ]
    },
    {
      "cell_type": "markdown",
      "metadata": {
        "id": "HFo0jHRqiJv2",
        "colab_type": "text"
      },
      "source": [
        "Alternatively, we could build a Keras function that will return the output of a certain layer given a certain input, for example:"
      ]
    },
    {
      "cell_type": "code",
      "metadata": {
        "id": "msvYp1c9iNEX",
        "colab_type": "code",
        "outputId": "761ae7a1-f60b-4d49-e565-17b0f837465a",
        "colab": {
          "base_uri": "https://localhost:8080/",
          "height": 53
        }
      },
      "source": [
        "from keras import backend as K\n",
        "\n",
        "get_second_dense_layer_output = K.function([model.layers[0].input],\n",
        "                                  [model.layers[2].output])\n",
        "\n",
        "intermediate_output = get_second_dense_layer_output([X_test_flatten])[0]\n",
        "final_output = model.predict(X_test_flatten)\n",
        "\n",
        "print('Second dense layer output shape: {0}'.format(intermediate_output.shape))\n",
        "print('Final output shape: {0}'.format(final_output.shape))"
      ],
      "execution_count": 76,
      "outputs": [
        {
          "output_type": "stream",
          "text": [
            "Second dense layer output shape: (10000, 10)\n",
            "Final output shape: (10000, 10)\n"
          ],
          "name": "stdout"
        }
      ]
    },
    {
      "cell_type": "markdown",
      "metadata": {
        "id": "iV22i-GFj5np",
        "colab_type": "text"
      },
      "source": [
        "## Using a Callback Function\n",
        "\n",
        "We mentioned callback functions in this tutorial already. We now will show an example of using one of the available callbacks, the `EarlyStopping` callback. The complete list of available callbacks can be found in the documentation [here](https://keras.io/callbacks/).\n",
        "\n",
        "Controlling and managing callbacks is essential when training big models. Sometimes we want the network to train until it converges, but we are not able to determine the number of epochs it will take, therefore we need some mechanism to stop it. In those cases, the `EarlyStopping` callback is useful. Let's see how to stop the training when the validation loss is not decreasing anymore:"
      ]
    },
    {
      "cell_type": "code",
      "metadata": {
        "id": "GNShEzC-kdKN",
        "colab_type": "code",
        "outputId": "3a7af909-26c1-4e5f-d620-2b19aa25ba16",
        "colab": {
          "base_uri": "https://localhost:8080/",
          "height": 377
        }
      },
      "source": [
        "from keras.callbacks import EarlyStopping\n",
        "\n",
        "# Define the metric that will determine the earlyStopping\n",
        "# patience defines the number of epochs we wait before stopping training \n",
        "# when the monitored metric does not improve\n",
        "early_stopping = EarlyStopping(monitor='val_loss', patience=2)\n",
        "\n",
        "model.compile(loss='categorical_crossentropy',\n",
        "              optimizer='adam',\n",
        "              metrics=['accuracy'])\n",
        "\n",
        "model.fit(X_train_flatten, Y_train_class, validation_split=0.2, \n",
        "            epochs=100, batch_size=32, callbacks=[early_stopping])"
      ],
      "execution_count": 77,
      "outputs": [
        {
          "output_type": "stream",
          "text": [
            "Train on 48000 samples, validate on 12000 samples\n",
            "Epoch 1/100\n",
            "48000/48000 [==============================] - 6s 119us/step - loss: 0.2918 - acc: 0.9149 - val_loss: 0.1580 - val_acc: 0.9513\n",
            "Epoch 2/100\n",
            "48000/48000 [==============================] - 5s 107us/step - loss: 0.1279 - acc: 0.9615 - val_loss: 0.1230 - val_acc: 0.9621\n",
            "Epoch 3/100\n",
            "48000/48000 [==============================] - 5s 108us/step - loss: 0.0922 - acc: 0.9714 - val_loss: 0.1145 - val_acc: 0.9644\n",
            "Epoch 4/100\n",
            "48000/48000 [==============================] - 5s 109us/step - loss: 0.0704 - acc: 0.9778 - val_loss: 0.1068 - val_acc: 0.9703\n",
            "Epoch 5/100\n",
            "48000/48000 [==============================] - 5s 108us/step - loss: 0.0570 - acc: 0.9817 - val_loss: 0.1004 - val_acc: 0.9724\n",
            "Epoch 6/100\n",
            "48000/48000 [==============================] - 5s 107us/step - loss: 0.0482 - acc: 0.9848 - val_loss: 0.1092 - val_acc: 0.9718\n",
            "Epoch 7/100\n",
            "48000/48000 [==============================] - 5s 108us/step - loss: 0.0386 - acc: 0.9876 - val_loss: 0.0964 - val_acc: 0.9735\n",
            "Epoch 8/100\n",
            "48000/48000 [==============================] - 5s 107us/step - loss: 0.0337 - acc: 0.9889 - val_loss: 0.1236 - val_acc: 0.9700\n",
            "Epoch 9/100\n",
            "48000/48000 [==============================] - 5s 105us/step - loss: 0.0290 - acc: 0.9906 - val_loss: 0.1096 - val_acc: 0.9738\n"
          ],
          "name": "stdout"
        },
        {
          "output_type": "execute_result",
          "data": {
            "text/plain": [
              "<keras.callbacks.History at 0x7f3187649810>"
            ]
          },
          "metadata": {
            "tags": []
          },
          "execution_count": 77
        }
      ]
    },
    {
      "cell_type": "markdown",
      "metadata": {
        "id": "meMroifllkIN",
        "colab_type": "text"
      },
      "source": [
        "We can combine multiple callbacks when calling the fit module, learn more about it  [here](https://keras.io/callbacks/)."
      ]
    },
    {
      "cell_type": "markdown",
      "metadata": {
        "id": "3w4AVBmLCDJe",
        "colab_type": "text"
      },
      "source": [
        "## Freezing Keras Layers\n",
        "\n",
        "In some cases, we may want to fix the weights of some layers, meaning we exclude them from training. This is useful in the context of fine-tuning a model, or, for instance, when using fixed embeddings for text inputs. \n",
        "\n",
        "To do so, we can pass a trainable argument (Boolean) to a layer constructor to set a layer to be non-trainable:"
      ]
    },
    {
      "cell_type": "code",
      "metadata": {
        "id": "Q6x8F5hZDLWH",
        "colab_type": "code",
        "colab": {}
      },
      "source": [
        "frozen_layer = Dense(32, trainable=False)"
      ],
      "execution_count": 0,
      "outputs": []
    },
    {
      "cell_type": "markdown",
      "metadata": {
        "id": "3s-5Bm8ODNe0",
        "colab_type": "text"
      },
      "source": [
        "Additionally, we can set the trainable property of a layer to `True` or `False` after initialization. For this to take effect, we will need to call `compile()` on our model after modifying the trainable property:"
      ]
    },
    {
      "cell_type": "code",
      "metadata": {
        "id": "MTnjPeE7DjEs",
        "colab_type": "code",
        "outputId": "fa08ee43-75aa-4d2a-c9a2-52b2da8e5c08",
        "colab": {
          "base_uri": "https://localhost:8080/",
          "height": 791
        }
      },
      "source": [
        "from keras.models import clone_model\n",
        " \n",
        "model = Sequential()\n",
        "model.add(Dense(10, activation='softmax', input_shape=(784,)))\n",
        "\n",
        "# We clone model in frozen_model\n",
        "frozen_model = clone_model(model)\n",
        "frozen_model.layers[0].trainable = False\n",
        "\n",
        "# with this model the weights of the layer will be updated during training\n",
        "model.compile(loss='categorical_crossentropy',\n",
        "              optimizer='adam',\n",
        "              metrics=['accuracy'])\n",
        "\n",
        "# in the model below, the weights of `layer` will not be updated during training\n",
        "frozen_model.compile(loss='categorical_crossentropy',\n",
        "              optimizer='adam',\n",
        "              metrics=['accuracy'])\n",
        "\n",
        "model.summary()\n",
        "frozen_model.summary()\n",
        "\n",
        "score_untrained = model.evaluate(X_test_flatten, Y_test_class, verbose=0)\n",
        "score_frozen_untrained = frozen_model.evaluate(X_test_flatten, Y_test_class, verbose=0)\n",
        "\n",
        "# Uupdate the weights of `layer`\n",
        "print('Train Models:/n')\n",
        "model.fit(X_train_flatten, Y_train_class, batch_size=32, epochs=5)\n",
        "\n",
        "# Next operation will NOT update the weights of `layer`.\n",
        "# (which will also affect the above model since it uses the same layer instance)\n",
        "frozen_model.fit(X_train_flatten, Y_train_class, batch_size=32, epochs=5)\n",
        "\n",
        "score = model.evaluate(X_test_flatten, Y_test_class, verbose=0)\n",
        "score_frozen = frozen_model.evaluate(X_test_flatten, Y_test_class, verbose=0)\n",
        "\n",
        "print('Before Training: Trainable Model Test Accuracy:', score_untrained[1])\n",
        "print('After Training:  Trainable Model Test Accuracy:', score[1])\n",
        "\n",
        "print('Before Training: Frozen Model Test Accuracy:', score_frozen_untrained[1])\n",
        "print('After Training:  Frozen Model Test Accuracy:', score_frozen[1])"
      ],
      "execution_count": 79,
      "outputs": [
        {
          "output_type": "stream",
          "text": [
            "_________________________________________________________________\n",
            "Layer (type)                 Output Shape              Param #   \n",
            "=================================================================\n",
            "dense_19 (Dense)             (None, 10)                7850      \n",
            "=================================================================\n",
            "Total params: 7,850\n",
            "Trainable params: 7,850\n",
            "Non-trainable params: 0\n",
            "_________________________________________________________________\n",
            "_________________________________________________________________\n",
            "Layer (type)                 Output Shape              Param #   \n",
            "=================================================================\n",
            "dense_19 (Dense)             (None, 10)                7850      \n",
            "=================================================================\n",
            "Total params: 7,850\n",
            "Trainable params: 0\n",
            "Non-trainable params: 7,850\n",
            "_________________________________________________________________\n",
            "Train Models:/n\n",
            "Epoch 1/5\n",
            "60000/60000 [==============================] - 5s 87us/step - loss: 0.4699 - acc: 0.8766\n",
            "Epoch 2/5\n",
            "60000/60000 [==============================] - 5s 80us/step - loss: 0.3034 - acc: 0.9154\n",
            "Epoch 3/5\n",
            "60000/60000 [==============================] - 5s 78us/step - loss: 0.2833 - acc: 0.9211\n",
            "Epoch 4/5\n",
            "60000/60000 [==============================] - 5s 79us/step - loss: 0.2722 - acc: 0.9236\n",
            "Epoch 5/5\n",
            "60000/60000 [==============================] - 5s 80us/step - loss: 0.2662 - acc: 0.9258\n",
            "Epoch 1/5\n",
            "60000/60000 [==============================] - 3s 48us/step - loss: 2.4111 - acc: 0.0839\n",
            "Epoch 2/5\n",
            "60000/60000 [==============================] - 3s 45us/step - loss: 2.4111 - acc: 0.0839\n",
            "Epoch 3/5\n",
            "60000/60000 [==============================] - 3s 46us/step - loss: 2.4111 - acc: 0.0839\n",
            "Epoch 4/5\n",
            "60000/60000 [==============================] - 3s 46us/step - loss: 2.4111 - acc: 0.0839\n",
            "Epoch 5/5\n",
            "60000/60000 [==============================] - 3s 46us/step - loss: 2.4111 - acc: 0.0839\n",
            "('Before Training: Trainable Model Test Accuracy:', 0.1466)\n",
            "('After Training:  Trainable Model Test Accuracy:', 0.9261)\n",
            "('Before Training: Frozen Model Test Accuracy:', 0.0905)\n",
            "('After Training:  Frozen Model Test Accuracy:', 0.0905)\n"
          ],
          "name": "stdout"
        }
      ]
    },
    {
      "cell_type": "markdown",
      "metadata": {
        "id": "mLmeoTdqhmhX",
        "colab_type": "text"
      },
      "source": [
        "We can see in the model description that the frozen model has 0 trainable parameters, while it has 7,850 non-trainable parameters.\n",
        "\n",
        "After training the network, the trainable model improves the accuracy while the frozen one does not change its accuracy."
      ]
    }
  ]
}