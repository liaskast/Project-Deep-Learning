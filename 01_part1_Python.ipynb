{
  "nbformat": 4,
  "nbformat_minor": 0,
  "metadata": {
    "colab": {
      "name": "2020_01_part1_Python.ipynb",
      "provenance": [],
      "collapsed_sections": [],
      "include_colab_link": true
    },
    "kernelspec": {
      "name": "python3",
      "display_name": "Python 3"
    }
  },
  "cells": [
    {
      "cell_type": "markdown",
      "metadata": {
        "id": "view-in-github",
        "colab_type": "text"
      },
      "source": [
        "<a href=\"https://colab.research.google.com/github/MatchLab-Imperial/deep-learning-course/blob/master/2020_01_part1_Python.ipynb\" target=\"_parent\"><img src=\"https://colab.research.google.com/assets/colab-badge.svg\" alt=\"Open In Colab\"/></a>"
      ]
    },
    {
      "cell_type": "markdown",
      "metadata": {
        "id": "nw3aSqi7FUjB",
        "colab_type": "text"
      },
      "source": [
        "\n",
        "# Introduction to Python\n",
        "\n",
        "In this tutorial, we introduce some basic concepts about Python (we set Python 3 by default), the programming language we will use for the rest of the Deep Learning course.\n",
        "\n",
        "In contrast with compiled languages, e.g, C or Java, where instructions in the source code are translated in a lower-level language before to be run, Python is an interpreted language and instructions are directly executed without any intermediate steps.\n",
        "\n",
        "*   **Pro**: platform independence, ease debugging, fast prototyping\n",
        "*   **Cons**: lower execution speed\n",
        "\n",
        "Python interpreter can be invoked anytime on the command line by typing `python`. Then, it will execute each statement that you type on the command line followed by “enter”. In a Jupyter Notebook like this, you can create a new code cell and write a piece of code, and after running the cell the output is shown, like in this example."
      ]
    },
    {
      "cell_type": "code",
      "metadata": {
        "id": "a1neDMAqFjn_",
        "colab_type": "code",
        "outputId": "f1d42fc0-298e-482e-825f-726f5565ab29",
        "colab": {
          "base_uri": "https://localhost:8080/",
          "height": 34
        }
      },
      "source": [
        "print ('Hello world!')"
      ],
      "execution_count": 1,
      "outputs": [
        {
          "output_type": "stream",
          "text": [
            "Hello world!\n"
          ],
          "name": "stdout"
        }
      ]
    },
    {
      "cell_type": "markdown",
      "metadata": {
        "id": "JctnCNL5KOXE",
        "colab_type": "text"
      },
      "source": [
        "If you are in the Python interpreter mode, you can simply type `exit()` to exit it. We will use Jupyter Notebooks for the tutorials as we can integrate code and visualizations in the same document, but you can write instructions on a `.py` file by using your favourite text editor and running it. For example, you could write `hello_world.py` and next execute it from the terminal with `python hello_world.py`. \n",
        "\n",
        "## Data type\n",
        "\n",
        "Everything in Python is an object with a type and correspondent data. Some types are:\n",
        "\n",
        "* **Numeric type:** `float (64 bit), int, long`\n",
        "* **String**\n",
        "* **Boolean:** `True, False`\n",
        "\n",
        "Python is dynamically but strongly typed. In a strongly typed language you cannot perform operations not compatible with the data type, e.g.:"
      ]
    },
    {
      "cell_type": "code",
      "metadata": {
        "id": "xCKF_BvINBXF",
        "colab_type": "code",
        "outputId": "f8c60bbf-d9c8-4262-e21a-3574aac5e4cb",
        "colab": {
          "base_uri": "https://localhost:8080/",
          "height": 197
        }
      },
      "source": [
        "a = 10\n",
        "b = '3'\n",
        "print(a + b)"
      ],
      "execution_count": 2,
      "outputs": [
        {
          "output_type": "error",
          "ename": "TypeError",
          "evalue": "ignored",
          "traceback": [
            "\u001b[0;31m---------------------------------------------------------------------------\u001b[0m",
            "\u001b[0;31mTypeError\u001b[0m                                 Traceback (most recent call last)",
            "\u001b[0;32m<ipython-input-2-996ce71e8773>\u001b[0m in \u001b[0;36m<module>\u001b[0;34m()\u001b[0m\n\u001b[1;32m      1\u001b[0m \u001b[0ma\u001b[0m \u001b[0;34m=\u001b[0m \u001b[0;36m10\u001b[0m\u001b[0;34m\u001b[0m\u001b[0;34m\u001b[0m\u001b[0m\n\u001b[1;32m      2\u001b[0m \u001b[0mb\u001b[0m \u001b[0;34m=\u001b[0m \u001b[0;34m'3'\u001b[0m\u001b[0;34m\u001b[0m\u001b[0;34m\u001b[0m\u001b[0m\n\u001b[0;32m----> 3\u001b[0;31m \u001b[0mprint\u001b[0m\u001b[0;34m(\u001b[0m\u001b[0ma\u001b[0m \u001b[0;34m+\u001b[0m \u001b[0mb\u001b[0m\u001b[0;34m)\u001b[0m\u001b[0;34m\u001b[0m\u001b[0;34m\u001b[0m\u001b[0m\n\u001b[0m",
            "\u001b[0;31mTypeError\u001b[0m: unsupported operand type(s) for +: 'int' and 'str'"
          ]
        }
      ]
    },
    {
      "cell_type": "markdown",
      "metadata": {
        "id": "O87PEyZENII6",
        "colab_type": "text"
      },
      "source": [
        "However, it is dynamically typed, meaning *a variable is simply a value bound to a name; the value has a type -- like \"integer\" or \"string\" or \"list\" -- but the variable itself doesn't. Unlike C or C++ variables, you could have a variable which, right now, holds a number, and later assign a string to it if you need it to change* as described in the [Python wiki](https://wiki.python.org/moin/Why%20is%20Python%20a%20dynamic%20language%20and%20also%20a%20strongly%20typed%20language). For example, this piece of code works:"
      ]
    },
    {
      "cell_type": "code",
      "metadata": {
        "id": "RnWzAQ7TMbrG",
        "colab_type": "code",
        "colab": {}
      },
      "source": [
        "a = 10\n",
        "a = 'Test'"
      ],
      "execution_count": 0,
      "outputs": []
    },
    {
      "cell_type": "markdown",
      "metadata": {
        "id": "OmN3-1haKirK",
        "colab_type": "text"
      },
      "source": [
        " ## Indentation\n",
        "\n",
        "Python uses the indentation level of the line to determine the grouping of statements instead of using braces or other characters.\n",
        "For example:"
      ]
    },
    {
      "cell_type": "code",
      "metadata": {
        "id": "R7A_MqasLBtJ",
        "colab_type": "code",
        "outputId": "82c3ad0a-4778-4310-d0ec-37dece51b4d1",
        "colab": {
          "base_uri": "https://localhost:8080/",
          "height": 34
        }
      },
      "source": [
        "# This piece of code will execute fine\n",
        "if True:\n",
        "  if True:\n",
        "    print('Indentation correct')"
      ],
      "execution_count": 3,
      "outputs": [
        {
          "output_type": "stream",
          "text": [
            "Indentation correct\n"
          ],
          "name": "stdout"
        }
      ]
    },
    {
      "cell_type": "code",
      "metadata": {
        "id": "FmL_ONnOLQCK",
        "colab_type": "code",
        "outputId": "fef2a606-25a2-4487-b19e-48c0fe04e99e",
        "colab": {
          "base_uri": "https://localhost:8080/",
          "height": 129
        }
      },
      "source": [
        "# This piece of code will fail due to bad indentation\n",
        "if True:\n",
        "  if True:\n",
        "  print('Indentation correct')"
      ],
      "execution_count": 4,
      "outputs": [
        {
          "output_type": "error",
          "ename": "IndentationError",
          "evalue": "ignored",
          "traceback": [
            "\u001b[0;36m  File \u001b[0;32m\"<ipython-input-4-5e971eae7b92>\"\u001b[0;36m, line \u001b[0;32m3\u001b[0m\n\u001b[0;31m    print('Indentation correct')\u001b[0m\n\u001b[0m        ^\u001b[0m\n\u001b[0;31mIndentationError\u001b[0m\u001b[0;31m:\u001b[0m expected an indented block\n"
          ]
        }
      ]
    },
    {
      "cell_type": "code",
      "metadata": {
        "id": "NI1mrDmOLhR4",
        "colab_type": "code",
        "outputId": "98c17df9-7aaf-447d-e2cf-f6c28e10337c",
        "colab": {
          "base_uri": "https://localhost:8080/",
          "height": 129
        }
      },
      "source": [
        "# This piece of code will also fail due to not using any indentation\n",
        "if True:\n",
        "if True:\n",
        "print('Indentation correct')"
      ],
      "execution_count": 5,
      "outputs": [
        {
          "output_type": "error",
          "ename": "IndentationError",
          "evalue": "ignored",
          "traceback": [
            "\u001b[0;36m  File \u001b[0;32m\"<ipython-input-5-71c059035cfc>\"\u001b[0;36m, line \u001b[0;32m2\u001b[0m\n\u001b[0;31m    if True:\u001b[0m\n\u001b[0m     ^\u001b[0m\n\u001b[0;31mIndentationError\u001b[0m\u001b[0;31m:\u001b[0m expected an indented block\n"
          ]
        }
      ]
    },
    {
      "cell_type": "markdown",
      "metadata": {
        "id": "d9dOYDpmFk6I",
        "colab_type": "text"
      },
      "source": [
        "## Control instructions\n",
        "\n",
        "To control the flow of your program control instructions are essential.\n",
        "\n",
        "* `If/elif/else`\n",
        "* Loops\n",
        "* Ternary expression"
      ]
    },
    {
      "cell_type": "code",
      "metadata": {
        "id": "5hzTezdaFvBn",
        "colab_type": "code",
        "outputId": "db0b5619-4640-406c-916f-8b5199204f18",
        "colab": {
          "base_uri": "https://localhost:8080/",
          "height": 34
        }
      },
      "source": [
        "# if/elif/else\n",
        "# Check if the input number is odd or even\n",
        "num = 8\n",
        "if (num%2) == 0:\n",
        "  print(str(num)+\" is an even number.\")\n",
        "else:\n",
        "  print(str(num)+\" is an odd number.\")"
      ],
      "execution_count": 6,
      "outputs": [
        {
          "output_type": "stream",
          "text": [
            "8 is an even number.\n"
          ],
          "name": "stdout"
        }
      ]
    },
    {
      "cell_type": "code",
      "metadata": {
        "id": "XfnbYvyPFxVG",
        "colab_type": "code",
        "outputId": "3d7fc145-e2ae-469a-e6bb-c5a28feda168",
        "colab": {
          "base_uri": "https://localhost:8080/",
          "height": 34
        }
      },
      "source": [
        "# if/elif/else\n",
        "# Check if the input number is positive, negative or zero\n",
        "num = 8\n",
        "if num == 0:\n",
        "  print(str(num) + \" is neither negative nor positive.\")\n",
        "elif num < 0:\n",
        "  print(str(num) + \" is a negative number.\")\n",
        "else:\n",
        "  print(str(num) + \" is a positive number.\")"
      ],
      "execution_count": 7,
      "outputs": [
        {
          "output_type": "stream",
          "text": [
            "8 is a positive number.\n"
          ],
          "name": "stdout"
        }
      ]
    },
    {
      "cell_type": "code",
      "metadata": {
        "id": "_java7EMFyoH",
        "colab_type": "code",
        "outputId": "31c55cb5-1133-4f1c-9dac-1af9a5443d71",
        "colab": {
          "base_uri": "https://localhost:8080/",
          "height": 119
        }
      },
      "source": [
        "# Loops\n",
        "# Display all the number within an interval\n",
        "left_bound = 1\n",
        "right_bound = 10\n",
        "step = 2\n",
        "print(\"The left closed interval is:\")\n",
        "# range generates a list of numbers generally used to iterate over\n",
        "# it is defined as range([start], stop[, step]), where start and step are\n",
        "# optional arguments\n",
        "for i in range(left_bound, right_bound, step):\n",
        "  print(i)"
      ],
      "execution_count": 8,
      "outputs": [
        {
          "output_type": "stream",
          "text": [
            "The left closed interval is:\n",
            "1\n",
            "3\n",
            "5\n",
            "7\n",
            "9\n"
          ],
          "name": "stdout"
        }
      ]
    },
    {
      "cell_type": "markdown",
      "metadata": {
        "id": "o-GC7aGzQIWm",
        "colab_type": "text"
      },
      "source": [
        "A ternary expression is defined as:\n",
        "\n",
        "``` variable = expression1 if condition else expression2 ```\n",
        "\n",
        "Where `variable` takes value `expression1` if `condition` is `True`, or `expression2` if it is `False`. An example is:\n",
        "\n"
      ]
    },
    {
      "cell_type": "code",
      "metadata": {
        "id": "Je_7uoTNF0F-",
        "colab_type": "code",
        "outputId": "42210459-ca70-42b4-bd1e-4b917e9988b0",
        "colab": {
          "base_uri": "https://localhost:8080/",
          "height": 34
        }
      },
      "source": [
        "# Ternary expression\n",
        "# To check if the input number is odd or even\n",
        "num = 10\n",
        "message = \"{:d} is an even number.\".format(num) if (num%2) == 0  else \"{:d} is an odd number.\".format(num)\n",
        "print(message)"
      ],
      "execution_count": 9,
      "outputs": [
        {
          "output_type": "stream",
          "text": [
            "10 is an even number.\n"
          ],
          "name": "stdout"
        }
      ]
    },
    {
      "cell_type": "markdown",
      "metadata": {
        "id": "yZyxlr1RF1Um",
        "colab_type": "text"
      },
      "source": [
        "\n",
        "## Functions\n",
        "\n",
        "[Official Reference Manual](https://docs.python.org/2.0/ref/function.html)\n",
        "\n",
        "Functions are useful for organizing and reusing blocks of code and can be defined with two keywords, i.e, `def` and `return`. `def` defines the function, followed by name and input parameters, and `return` followed by output arguments is used to come back to the call function. \n",
        "\n",
        "In a function, we can set any number of input/output arguments. Besides, there are two types of input arguments: positional (without a name, order matters), keyword (with a name). Note that keyword arguments need to be defined after positional arguments, and they have a default value.\n",
        "\n",
        "Examples:"
      ]
    },
    {
      "cell_type": "code",
      "metadata": {
        "id": "6zo52YpQF8vW",
        "colab_type": "code",
        "outputId": "98bb2f77-e5c3-4d8c-dbd8-ac679ce901d3",
        "colab": {
          "base_uri": "https://localhost:8080/",
          "height": 34
        }
      },
      "source": [
        "# Function, one positional argument\n",
        "# Check if the input number is odd or even\n",
        "def isOdd(num):\n",
        "  if (num%2) == 0:\n",
        "    return False\n",
        "  else:\n",
        "    return True\n",
        "\n",
        "\n",
        "def main():\n",
        "\tnum = 10\n",
        "\tanswer = isOdd(num)\n",
        "\tif answer == True:\n",
        "\t\tprint(\"The number is odd\")\n",
        "\telse:\n",
        "\t\tprint(\"The number is even\")\n",
        "    \n",
        "main()"
      ],
      "execution_count": 10,
      "outputs": [
        {
          "output_type": "stream",
          "text": [
            "The number is even\n"
          ],
          "name": "stdout"
        }
      ]
    },
    {
      "cell_type": "code",
      "metadata": {
        "id": "Dz8KGrYjF-6W",
        "colab_type": "code",
        "outputId": "17e7ccb8-99e6-4d8b-8e1f-7639904171be",
        "colab": {
          "base_uri": "https://localhost:8080/",
          "height": 85
        }
      },
      "source": [
        "# Function, one positional argument and two keyword arguments\n",
        "# Find the maximum among three values\n",
        "def max_of_three(num1, num2=15, num3=100):\n",
        "  if (num1 >= num2 and num1 >= num3):\n",
        "    return num1\n",
        "  elif (num2 >= num1 and num2 >= num3):\n",
        "    return num2\n",
        "  elif (num3 >= num1 and num3 >= num2):\n",
        "    return num3\n",
        "\n",
        "def main():\n",
        "  var1 = 10\n",
        "  var2 = 30\n",
        "  var3 = 20\n",
        "  # As no keywords are used, only position matters, so num1 = var1,\n",
        "  # num2 = var2 and num3 takes the default value of 100\n",
        "  max_num = max_of_three(var1, var2)\n",
        "  print(\"Max among \" + str(var1) + \", \"+str(var2) + \" and 100 is:\")\n",
        "  print(max_num)\n",
        "  \n",
        "  # As we use the keyword num3, then num2 takes the default value 15\n",
        "  # and num3 = var3\n",
        "  max_num = max_of_three(var1, num3=var3)\n",
        "  print(\"Max among \" + str(var1) + \", \"+str(var3) + \" and 15 is:\")\n",
        "  print(max_num)\n",
        "  \n",
        "\n",
        "main()"
      ],
      "execution_count": 11,
      "outputs": [
        {
          "output_type": "stream",
          "text": [
            "Max among 10, 30 and 100 is:\n",
            "100\n",
            "Max among 10, 20 and 15 is:\n",
            "20\n"
          ],
          "name": "stdout"
        }
      ]
    },
    {
      "cell_type": "markdown",
      "metadata": {
        "id": "CfMrZSOmGBUW",
        "colab_type": "text"
      },
      "source": [
        "## Exceptions \n",
        "\n",
        "[Official Documentation](https://docs.python.org/2/tutorial/errors.html)\n",
        "\n",
        "Handling errors and exceptions is crucial to have robust programs, which can be done by using `try/except/else/finally`.\n",
        "\n",
        "First, the statements in the `try` clause are executed. If an exception is found, the rest of the `try` clause is skipped and the `except` clause is executed. If the `try` clause does not raise an exception, the `else` clause is then executed. And then, the `finally` clause is executed in all cases. \n",
        " "
      ]
    },
    {
      "cell_type": "code",
      "metadata": {
        "id": "nwXPNXsiGAtl",
        "colab_type": "code",
        "outputId": "062ff478-1593-4c86-ef03-88b11c80ba11",
        "colab": {
          "base_uri": "https://localhost:8080/",
          "height": 85
        }
      },
      "source": [
        "# Converts a given input to float\n",
        "def string_to_float(string):\n",
        "  try:\n",
        "    string = float(string)\n",
        "  except:\n",
        "    print(\"Error\")\n",
        "  else:\n",
        "    print(\"Successfully converted\")\n",
        "  finally:\n",
        "    print(\"This is always executed\")\n",
        "\n",
        "\n",
        "def main():\n",
        "  # '7' can be casted to 7, so this works\n",
        "  num = string_to_float('7')\n",
        "  # float('hello') will raise an exception\n",
        "  num = string_to_float('hello')\n",
        "  \n",
        "main()"
      ],
      "execution_count": 12,
      "outputs": [
        {
          "output_type": "stream",
          "text": [
            "Successfully converted\n",
            "This is always executed\n",
            "Error\n",
            "This is always executed\n"
          ],
          "name": "stdout"
        }
      ]
    },
    {
      "cell_type": "markdown",
      "metadata": {
        "id": "usn74xZaGGpF",
        "colab_type": "text"
      },
      "source": [
        "## Data structures\n",
        "[Official Documentation](https://docs.python.org/2/tutorial/datastructures.html)\n",
        "\n",
        "Some basic structures are:\n",
        "\n",
        "* `tuple`: fixed-length, immutable sequence of python object\n",
        "* `list`: variable length, mutable\n",
        "* `dict`: hash map or associative array with key-values\n",
        "\n",
        "**Tuple examples**"
      ]
    },
    {
      "cell_type": "code",
      "metadata": {
        "id": "YJSkbnewGMzt",
        "colab_type": "code",
        "outputId": "074be926-0b2e-4f37-f48a-5dd0457098c7",
        "colab": {
          "base_uri": "https://localhost:8080/",
          "height": 34
        }
      },
      "source": [
        "# Declaration\n",
        "warm_colours = ('red', 'orange', 'yellow')\n",
        "warm_colours[1]"
      ],
      "execution_count": 13,
      "outputs": [
        {
          "output_type": "execute_result",
          "data": {
            "text/plain": [
              "'orange'"
            ]
          },
          "metadata": {
            "tags": []
          },
          "execution_count": 13
        }
      ]
    },
    {
      "cell_type": "code",
      "metadata": {
        "id": "QS9axfv5GNUt",
        "colab_type": "code",
        "outputId": "ce3573ed-2681-4bb5-d87c-cb5d85d19e44",
        "colab": {
          "base_uri": "https://localhost:8080/",
          "height": 34
        }
      },
      "source": [
        "# Concatenation\n",
        "cool_colours = ('blue', 'green')\n",
        "colours = cool_colours + warm_colours\n",
        "# As tuples are immutable, concatenation creates a new tuple with\n",
        "# elements from cool_colours and warm_colours\n",
        "print(colours)"
      ],
      "execution_count": 14,
      "outputs": [
        {
          "output_type": "stream",
          "text": [
            "('blue', 'green', 'red', 'orange', 'yellow')\n"
          ],
          "name": "stdout"
        }
      ]
    },
    {
      "cell_type": "markdown",
      "metadata": {
        "id": "5rQ4sxeCGMFW",
        "colab_type": "text"
      },
      "source": [
        "**List examples**"
      ]
    },
    {
      "cell_type": "code",
      "metadata": {
        "id": "3IZnZbk2GWYe",
        "colab_type": "code",
        "outputId": "09a1fbbf-7906-4a45-926b-bdfdc1082905",
        "colab": {
          "base_uri": "https://localhost:8080/",
          "height": 34
        }
      },
      "source": [
        "# Declaration\n",
        "warm_colour=['red', 'orange']\n",
        "# Zero-indexing, first index is 0\n",
        "warm_colours[0]"
      ],
      "execution_count": 15,
      "outputs": [
        {
          "output_type": "execute_result",
          "data": {
            "text/plain": [
              "'red'"
            ]
          },
          "metadata": {
            "tags": []
          },
          "execution_count": 15
        }
      ]
    },
    {
      "cell_type": "code",
      "metadata": {
        "id": "za2rHcPHGXlE",
        "colab_type": "code",
        "outputId": "1db0490e-02f4-4d72-aa8f-ec390fcc0435",
        "colab": {
          "base_uri": "https://localhost:8080/",
          "height": 34
        }
      },
      "source": [
        "# Adding elements at the end\n",
        "warm_colour.append('yellow')\n",
        "print(warm_colour)"
      ],
      "execution_count": 16,
      "outputs": [
        {
          "output_type": "stream",
          "text": [
            "['red', 'orange', 'yellow']\n"
          ],
          "name": "stdout"
        }
      ]
    },
    {
      "cell_type": "code",
      "metadata": {
        "id": "3CuQ42XRGYg0",
        "colab_type": "code",
        "outputId": "f5780fa2-ed17-4a63-dece-41257cabdd29",
        "colab": {
          "base_uri": "https://localhost:8080/",
          "height": 34
        }
      },
      "source": [
        "# Removing elements\n",
        "# pop without arguments removes the last element\n",
        "warm_colour.pop(1)\n",
        "print(warm_colour)"
      ],
      "execution_count": 17,
      "outputs": [
        {
          "output_type": "stream",
          "text": [
            "['red', 'yellow']\n"
          ],
          "name": "stdout"
        }
      ]
    },
    {
      "cell_type": "code",
      "metadata": {
        "id": "alI6HUtyGZys",
        "colab_type": "code",
        "outputId": "a4ba6c0d-efd7-4096-d50b-825da49f5f74",
        "colab": {
          "base_uri": "https://localhost:8080/",
          "height": 34
        }
      },
      "source": [
        "# Concatenating\n",
        "cool_colours = ['blue', 'green']\n",
        "colours = cool_colours + warm_colour\n",
        "print(colours)"
      ],
      "execution_count": 18,
      "outputs": [
        {
          "output_type": "stream",
          "text": [
            "['blue', 'green', 'red', 'yellow']\n"
          ],
          "name": "stdout"
        }
      ]
    },
    {
      "cell_type": "code",
      "metadata": {
        "id": "-BkMpOL5Gawt",
        "colab_type": "code",
        "outputId": "8138d0d3-2815-4a18-c60f-20da8438f563",
        "colab": {
          "base_uri": "https://localhost:8080/",
          "height": 34
        }
      },
      "source": [
        "# Concatenating with extend method\n",
        "new_warm_colour = ['orange', 'purple']\n",
        "warm_colour.extend(new_warm_colour)\n",
        "print(warm_colour)"
      ],
      "execution_count": 19,
      "outputs": [
        {
          "output_type": "stream",
          "text": [
            "['red', 'yellow', 'orange', 'purple']\n"
          ],
          "name": "stdout"
        }
      ]
    },
    {
      "cell_type": "code",
      "metadata": {
        "id": "oldPj_pnGb39",
        "colab_type": "code",
        "outputId": "e9a147b4-9d51-429b-d8a5-0488083826db",
        "colab": {
          "base_uri": "https://localhost:8080/",
          "height": 34
        }
      },
      "source": [
        "# Slicing\n",
        "warm_colour[1:3]"
      ],
      "execution_count": 20,
      "outputs": [
        {
          "output_type": "execute_result",
          "data": {
            "text/plain": [
              "['yellow', 'orange']"
            ]
          },
          "metadata": {
            "tags": []
          },
          "execution_count": 20
        }
      ]
    },
    {
      "cell_type": "code",
      "metadata": {
        "id": "YbPhM3vCGc2l",
        "colab_type": "code",
        "outputId": "001e93d4-45a9-4203-8d1d-74a7f9456b83",
        "colab": {
          "base_uri": "https://localhost:8080/",
          "height": 34
        }
      },
      "source": [
        "# Negative index is used to index starting from the last element \n",
        "warm_colour[1:-1]"
      ],
      "execution_count": 21,
      "outputs": [
        {
          "output_type": "execute_result",
          "data": {
            "text/plain": [
              "['yellow', 'orange']"
            ]
          },
          "metadata": {
            "tags": []
          },
          "execution_count": 21
        }
      ]
    },
    {
      "cell_type": "markdown",
      "metadata": {
        "id": "pNHGvn9-GeUl",
        "colab_type": "text"
      },
      "source": [
        "**Dictionary examples**"
      ]
    },
    {
      "cell_type": "code",
      "metadata": {
        "id": "fjERyjtQGikf",
        "colab_type": "code",
        "outputId": "59715b41-4200-43c9-cd84-6001df2c4741",
        "colab": {
          "base_uri": "https://localhost:8080/",
          "height": 34
        }
      },
      "source": [
        "# Declaration\n",
        "population = {'UK': 66740000, 'Italy': 59290000, 'France': 65230000}\n",
        "print(population)"
      ],
      "execution_count": 22,
      "outputs": [
        {
          "output_type": "stream",
          "text": [
            "{'UK': 66740000, 'Italy': 59290000, 'France': 65230000}\n"
          ],
          "name": "stdout"
        }
      ]
    },
    {
      "cell_type": "code",
      "metadata": {
        "id": "DKbHg8fXGjYs",
        "colab_type": "code",
        "outputId": "c61fd2ec-a52c-4685-f247-5fc562488aa7",
        "colab": {
          "base_uri": "https://localhost:8080/",
          "height": 34
        }
      },
      "source": [
        "# Access\n",
        "population['France']"
      ],
      "execution_count": 23,
      "outputs": [
        {
          "output_type": "execute_result",
          "data": {
            "text/plain": [
              "65230000"
            ]
          },
          "metadata": {
            "tags": []
          },
          "execution_count": 23
        }
      ]
    },
    {
      "cell_type": "code",
      "metadata": {
        "id": "A3QglIhQGkx1",
        "colab_type": "code",
        "outputId": "cc135741-e7ad-401c-eed1-655a8f2dee3a",
        "colab": {
          "base_uri": "https://localhost:8080/",
          "height": 51
        }
      },
      "source": [
        "# Removing with pop\n",
        "elem = population.pop('Italy')\n",
        "print(elem)\n",
        "print(population)"
      ],
      "execution_count": 24,
      "outputs": [
        {
          "output_type": "stream",
          "text": [
            "59290000\n",
            "{'UK': 66740000, 'France': 65230000}\n"
          ],
          "name": "stdout"
        }
      ]
    },
    {
      "cell_type": "code",
      "metadata": {
        "id": "aQ4lhs1_Gl3c",
        "colab_type": "code",
        "outputId": "b7ab0e37-a147-41ca-f50f-01733f2c5ced",
        "colab": {
          "base_uri": "https://localhost:8080/",
          "height": 34
        }
      },
      "source": [
        "# Merge two dictionaries\n",
        "population_other_countries = {'China': 1386000000, 'Spain': 46570000}\n",
        "population.update(population_other_countries)\n",
        "print(population)"
      ],
      "execution_count": 25,
      "outputs": [
        {
          "output_type": "stream",
          "text": [
            "{'UK': 66740000, 'France': 65230000, 'China': 1386000000, 'Spain': 46570000}\n"
          ],
          "name": "stdout"
        }
      ]
    },
    {
      "cell_type": "markdown",
      "metadata": {
        "id": "e2hFufbvgHBV",
        "colab_type": "text"
      },
      "source": [
        "## Classes\n",
        "[Official Documentation](https://docs.python.org/2/tutorial/classes.html)\n",
        "\n",
        "A class is a collection of variables and functions (called methods of the class). To define a class, you need to use the `class` keyword."
      ]
    },
    {
      "cell_type": "code",
      "metadata": {
        "id": "-k6-9rHqlz8p",
        "colab_type": "code",
        "outputId": "5e34a994-5d64-4370-8cd4-8eac37602963",
        "colab": {
          "base_uri": "https://localhost:8080/",
          "height": 51
        }
      },
      "source": [
        "class CoordinatesClass:\n",
        "  def __init__(self, x=10, y=2):\n",
        "    self.x = x\n",
        "    self.y = y\n",
        "   \n",
        "  def printVar(self):\n",
        "    # Here is a guide to format strings! https://pyformat.info/\n",
        "    print(\"Coordinates: ({}, {})\".format(self.x, self.y))\n",
        "    \n",
        "coor = CoordinatesClass(19, 23.3)\n",
        "print(coor.x)\n",
        "coor.printVar()"
      ],
      "execution_count": 26,
      "outputs": [
        {
          "output_type": "stream",
          "text": [
            "19\n",
            "Coordinates: (19, 23.3)\n"
          ],
          "name": "stdout"
        }
      ]
    },
    {
      "cell_type": "markdown",
      "metadata": {
        "id": "GhDBmB7AmJ2Q",
        "colab_type": "text"
      },
      "source": [
        "The `__init__` method will be called when the object is initialized. The `self` variable in the class refers to the current instance of the object, used to access its variables and methods. A more detailed explanation can be found [here](https://pythontips.com/2013/08/07/the-self-variable-in-python-explained/).  The object will save the variables x and y, which can be accessed using `coor.x` or `coor.y`. We also can use the defined method `printVar` with `coor.printVar()`."
      ]
    },
    {
      "cell_type": "markdown",
      "metadata": {
        "id": "mz1FDbYnfdzC",
        "colab_type": "text"
      },
      "source": [
        "## Modules\n",
        "\n",
        "[Official Documentation](https://docs.python.org/2.7/tutorial/modules.html)\n",
        "\n",
        "If you want to build longer programs, it will be necessary to define functions or classes in different files for easier maintenance. The file with the different Python definitions is what is called a module. Additionally, a collection of modules is called a package.\n",
        "\n",
        "Several packages are used frequently for scientific computation in Python, such as Numpy, as we will see in the second part of this tutorial.\n",
        "\n",
        "To use the modules or packages in your current Python script, you need to use `import`. For example, if we want to import the math package, we use:"
      ]
    },
    {
      "cell_type": "code",
      "metadata": {
        "id": "EYjzx8tKgGYx",
        "colab_type": "code",
        "colab": {}
      },
      "source": [
        "import math"
      ],
      "execution_count": 0,
      "outputs": []
    },
    {
      "cell_type": "markdown",
      "metadata": {
        "id": "7JVXXKTujNZR",
        "colab_type": "text"
      },
      "source": [
        "Now we have access to the functions from the `math` package by doing `math.definition`, for example:"
      ]
    },
    {
      "cell_type": "code",
      "metadata": {
        "id": "B2Mh7hdrjfs9",
        "colab_type": "code",
        "outputId": "ed316299-d96e-43c3-9dad-b09286ba19b9",
        "colab": {
          "base_uri": "https://localhost:8080/",
          "height": 34
        }
      },
      "source": [
        "# This function returns the smallest integer not less than x\n",
        "math.ceil(3.7)"
      ],
      "execution_count": 28,
      "outputs": [
        {
          "output_type": "execute_result",
          "data": {
            "text/plain": [
              "4"
            ]
          },
          "metadata": {
            "tags": []
          },
          "execution_count": 28
        }
      ]
    },
    {
      "cell_type": "markdown",
      "metadata": {
        "id": "xmah3sygjtRh",
        "colab_type": "text"
      },
      "source": [
        "We may want to import the package using another name, then we use `as`:"
      ]
    },
    {
      "cell_type": "code",
      "metadata": {
        "id": "YD-HXtaWj0pz",
        "colab_type": "code",
        "outputId": "1f1ef8de-bcf4-4f8e-d43b-bd6454766317",
        "colab": {
          "base_uri": "https://localhost:8080/",
          "height": 34
        }
      },
      "source": [
        "import math as m\n",
        "m.ceil(3.7)"
      ],
      "execution_count": 29,
      "outputs": [
        {
          "output_type": "execute_result",
          "data": {
            "text/plain": [
              "4"
            ]
          },
          "metadata": {
            "tags": []
          },
          "execution_count": 29
        }
      ]
    },
    {
      "cell_type": "markdown",
      "metadata": {
        "id": "c4LRTQ-6j_uo",
        "colab_type": "text"
      },
      "source": [
        "You can also import definitions from the package to your local symbol table (i.e. without needing to use the `package.definition` format to call it) using `from`: "
      ]
    },
    {
      "cell_type": "code",
      "metadata": {
        "id": "Y9XgjVYWj_P_",
        "colab_type": "code",
        "outputId": "894be6f2-bba4-4d27-971b-a83153388729",
        "colab": {
          "base_uri": "https://localhost:8080/",
          "height": 34
        }
      },
      "source": [
        "from math import ceil\n",
        "ceil(3.7)"
      ],
      "execution_count": 30,
      "outputs": [
        {
          "output_type": "execute_result",
          "data": {
            "text/plain": [
              "4"
            ]
          },
          "metadata": {
            "tags": []
          },
          "execution_count": 30
        }
      ]
    },
    {
      "cell_type": "code",
      "metadata": {
        "id": "zqcBpErvkc81",
        "colab_type": "code",
        "outputId": "5400c2f8-7fd5-46a7-f2bf-2789c34c1655",
        "colab": {
          "base_uri": "https://localhost:8080/",
          "height": 34
        }
      },
      "source": [
        "# You can also combine from and as\n",
        "from math import ceil as c\n",
        "c(5.7)"
      ],
      "execution_count": 31,
      "outputs": [
        {
          "output_type": "execute_result",
          "data": {
            "text/plain": [
              "6"
            ]
          },
          "metadata": {
            "tags": []
          },
          "execution_count": 31
        }
      ]
    }
  ]
}