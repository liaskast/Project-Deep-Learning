{
  "nbformat": 4,
  "nbformat_minor": 0,
  "metadata": {
    "colab": {
      "name": "2020_01_part2_Python.ipynb",
      "provenance": [],
      "collapsed_sections": [],
      "toc_visible": true,
      "include_colab_link": true
    },
    "kernelspec": {
      "name": "python3",
      "display_name": "Python 3"
    }
  },
  "cells": [
    {
      "cell_type": "markdown",
      "metadata": {
        "id": "view-in-github",
        "colab_type": "text"
      },
      "source": [
        "<a href=\"https://colab.research.google.com/github/MatchLab-Imperial/deep-learning-course/blob/master/2020_01_part2_Python.ipynb\" target=\"_parent\"><img src=\"https://colab.research.google.com/assets/colab-badge.svg\" alt=\"Open In Colab\"/></a>"
      ]
    },
    {
      "cell_type": "markdown",
      "metadata": {
        "colab_type": "text",
        "id": "sWpAGcMXgpd1"
      },
      "source": [
        "# Scientific packages\n",
        "\n",
        "In this tutorial, we are going to introduce some of the features of three scientific packages, NumPy, Pandas and Matplotlib, which are essential tools for data scientists.\n",
        "\n"
      ]
    },
    {
      "cell_type": "markdown",
      "metadata": {
        "id": "48O3My26gzeu",
        "colab_type": "text"
      },
      "source": [
        "## NumPy\n",
        "[Official Documentation](https://docs.scipy.org/doc/numpy/reference/)\n",
        "\n",
        "Numpy is an open source package for scientific computing in Python. In NumPy we can find:\n",
        "\n",
        "*   Powerful N-dimensional array object\n",
        "*   Sophisticated (broadcasting) functions\n",
        "*   Useful functions for integrating C/C++ code\n",
        "*   Linear algebra and random number capabilities\n",
        "\n",
        "\n",
        "Let's now introduce the `ndarray`, the main data structure used in NumPy.\n",
        "\n",
        "\n",
        "\n"
      ]
    },
    {
      "cell_type": "markdown",
      "metadata": {
        "id": "TMbUV9bqhqeW",
        "colab_type": "text"
      },
      "source": [
        "### ndarray \n",
        "\n",
        "The ndarray is an efficient structure for multidimensional array facilitating broadcast and vectorization.\n",
        "\n",
        "Examples of creation of numpy arrays:"
      ]
    },
    {
      "cell_type": "code",
      "metadata": {
        "id": "q8-RiOvFXlO1",
        "colab_type": "code",
        "outputId": "6c76195e-da62-4ffc-cb49-fa0b8009591d",
        "colab": {
          "base_uri": "https://localhost:8080/",
          "height": 51
        }
      },
      "source": [
        "import numpy as np\n",
        "# Initialize an array in Numpy with a list.\n",
        "prime_numbers = np.array([2,3,5,7,11,13,17,19], dtype=np.int32)\n",
        "                          \n",
        "print(prime_numbers)\n",
        "\n",
        "## Access elements\n",
        "print(prime_numbers[0], prime_numbers[5])"
      ],
      "execution_count": 1,
      "outputs": [
        {
          "output_type": "stream",
          "text": [
            "[ 2  3  5  7 11 13 17 19]\n",
            "2 13\n"
          ],
          "name": "stdout"
        }
      ]
    },
    {
      "cell_type": "code",
      "metadata": {
        "id": "xEa6AZ20E62L",
        "colab_type": "code",
        "outputId": "1fb614bb-c00d-4c7d-b770-bc91d28cf25a",
        "colab": {
          "base_uri": "https://localhost:8080/",
          "height": 51
        }
      },
      "source": [
        "# You can also initialize arrays with more dimensions\n",
        "a = np.array([[2,3.5,1],[1,0,4]])\n",
        "print(a)"
      ],
      "execution_count": 2,
      "outputs": [
        {
          "output_type": "stream",
          "text": [
            "[[2.  3.5 1. ]\n",
            " [1.  0.  4. ]]\n"
          ],
          "name": "stdout"
        }
      ]
    },
    {
      "cell_type": "code",
      "metadata": {
        "id": "HjHCirflnvCl",
        "colab_type": "code",
        "outputId": "11acfb59-ff89-47bb-e561-965b1b5b3284",
        "colab": {
          "base_uri": "https://localhost:8080/",
          "height": 85
        }
      },
      "source": [
        "# Alternative initialization methods.\n",
        "# Forms a matrix of 3x3 filled by 0\n",
        "a = np.zeros((3,3))\n",
        "\n",
        "\n",
        "# Check the shape of the matrix\n",
        "print(a.shape)\n",
        "print(a)"
      ],
      "execution_count": 3,
      "outputs": [
        {
          "output_type": "stream",
          "text": [
            "(3, 3)\n",
            "[[0. 0. 0.]\n",
            " [0. 0. 0.]\n",
            " [0. 0. 0.]]\n"
          ],
          "name": "stdout"
        }
      ]
    },
    {
      "cell_type": "code",
      "metadata": {
        "id": "etHY0EESylw3",
        "colab_type": "code",
        "outputId": "cc8515f0-88e1-4ce1-9185-2f5bcb889f11",
        "colab": {
          "base_uri": "https://localhost:8080/",
          "height": 68
        }
      },
      "source": [
        "# Forms a matrix of 3x3 filled by 1\n",
        "a = np.ones((3,3))\n",
        "print(a)"
      ],
      "execution_count": 4,
      "outputs": [
        {
          "output_type": "stream",
          "text": [
            "[[1. 1. 1.]\n",
            " [1. 1. 1.]\n",
            " [1. 1. 1.]]\n"
          ],
          "name": "stdout"
        }
      ]
    },
    {
      "cell_type": "code",
      "metadata": {
        "id": "8lxtqO6wyz8F",
        "colab_type": "code",
        "outputId": "6827d1bf-804c-42a7-90be-4bd242d74c55",
        "colab": {
          "base_uri": "https://localhost:8080/",
          "height": 119
        }
      },
      "source": [
        "# Creates 2x2 identity matrix\n",
        "print(np.eye(2))\n",
        "\n",
        "# Creates a constant matrix of 2x1\n",
        "print(np.full((2,1), 3))\n",
        "\n",
        "# Creates a random matrix (uniform in range [0,1)) of 2x3\n",
        "print(np.random.random((2,3)))"
      ],
      "execution_count": 5,
      "outputs": [
        {
          "output_type": "stream",
          "text": [
            "[[1. 0.]\n",
            " [0. 1.]]\n",
            "[[3]\n",
            " [3]]\n",
            "[[0.21171578 0.03515753 0.79848488]\n",
            " [0.97161438 0.76040953 0.8617679 ]]\n"
          ],
          "name": "stdout"
        }
      ]
    },
    {
      "cell_type": "markdown",
      "metadata": {
        "id": "9WDHr_Yn_RP-",
        "colab_type": "text"
      },
      "source": [
        "### Indexing\n",
        "To access elements from the array, you can index them by using integer indexing and giving an index per dimension."
      ]
    },
    {
      "cell_type": "code",
      "metadata": {
        "id": "xbq07GTC_mKV",
        "colab_type": "code",
        "outputId": "0cc51c52-e34e-4c5b-ace3-c1a240b34773",
        "colab": {
          "base_uri": "https://localhost:8080/",
          "height": 51
        }
      },
      "source": [
        "a = np.ones((2, 2))\n",
        "# To change the element (1,1) we do\n",
        "a[1,1] = 0\n",
        "\n",
        "print(a)"
      ],
      "execution_count": 6,
      "outputs": [
        {
          "output_type": "stream",
          "text": [
            "[[1. 1.]\n",
            " [1. 0.]]\n"
          ],
          "name": "stdout"
        }
      ]
    },
    {
      "cell_type": "markdown",
      "metadata": {
        "id": "lk53OrrZAFBW",
        "colab_type": "text"
      },
      "source": [
        "You can also use slices, which takes a subarray by using the format `first_index:last_index` where `last_index` is not included in the slice"
      ]
    },
    {
      "cell_type": "code",
      "metadata": {
        "id": "PJSl7iACAFfG",
        "colab_type": "code",
        "outputId": "04e98267-d3ee-4867-d175-e039d9a3ed53",
        "colab": {
          "base_uri": "https://localhost:8080/",
          "height": 119
        }
      },
      "source": [
        "a = np.eye(5)\n",
        "print(a[0:3, 2])\n",
        "## Doing a[n] is equivalent to a[n, :]\n",
        "a[1] = 0\n",
        "print(a)"
      ],
      "execution_count": 7,
      "outputs": [
        {
          "output_type": "stream",
          "text": [
            "[0. 0. 1.]\n",
            "[[1. 0. 0. 0. 0.]\n",
            " [0. 0. 0. 0. 0.]\n",
            " [0. 0. 1. 0. 0.]\n",
            " [0. 0. 0. 1. 0.]\n",
            " [0. 0. 0. 0. 1.]]\n"
          ],
          "name": "stdout"
        }
      ]
    },
    {
      "cell_type": "markdown",
      "metadata": {
        "id": "QvBxfwgfB8fZ",
        "colab_type": "text"
      },
      "source": [
        "### Casting\n",
        "\n",
        "We can also change the type of the array."
      ]
    },
    {
      "cell_type": "code",
      "metadata": {
        "id": "e25OHL9KkJow",
        "colab_type": "code",
        "outputId": "fc0e983a-4e94-409d-b1e1-d9827e698fb3",
        "colab": {
          "base_uri": "https://localhost:8080/",
          "height": 34
        }
      },
      "source": [
        "# Type casting\n",
        "a = np.asarray([1.2, 4.3])\n",
        "a = a.astype(np.int32)\n",
        "print(a.dtype, a)"
      ],
      "execution_count": 8,
      "outputs": [
        {
          "output_type": "stream",
          "text": [
            "int32 [1 4]\n"
          ],
          "name": "stdout"
        }
      ]
    },
    {
      "cell_type": "markdown",
      "metadata": {
        "id": "2_qDCjYzEGWU",
        "colab_type": "text"
      },
      "source": [
        "### Mathematical operations\n",
        "\n",
        "We can easily do basic array math using both standard operators like `+` or numpy functions"
      ]
    },
    {
      "cell_type": "code",
      "metadata": {
        "id": "aTfqVKVMmW6R",
        "colab_type": "code",
        "outputId": "1a213950-6000-45bd-d1df-a00bfaf64e7e",
        "colab": {
          "base_uri": "https://localhost:8080/",
          "height": 85
        }
      },
      "source": [
        "# Vectorization examples\n",
        "a = np.eye(2)\n",
        "b = np.array([[2, 1.5], [3, 2.4]])\n",
        "\n",
        "sum_v = a + b\n",
        "print(sum_v)\n",
        "print(np.add(a, b))"
      ],
      "execution_count": 9,
      "outputs": [
        {
          "output_type": "stream",
          "text": [
            "[[3.  1.5]\n",
            " [3.  3.4]]\n",
            "[[3.  1.5]\n",
            " [3.  3.4]]\n"
          ],
          "name": "stdout"
        }
      ]
    },
    {
      "cell_type": "code",
      "metadata": {
        "id": "9_Iq9ffeFR3l",
        "colab_type": "code",
        "outputId": "82e07d2a-ae92-4782-ed03-73ecd3a3418b",
        "colab": {
          "base_uri": "https://localhost:8080/",
          "height": 85
        }
      },
      "source": [
        "sub_v = a - b\n",
        "print(sub_v)\n",
        "print(np.subtract(a, b))"
      ],
      "execution_count": 10,
      "outputs": [
        {
          "output_type": "stream",
          "text": [
            "[[-1.  -1.5]\n",
            " [-3.  -1.4]]\n",
            "[[-1.  -1.5]\n",
            " [-3.  -1.4]]\n"
          ],
          "name": "stdout"
        }
      ]
    },
    {
      "cell_type": "code",
      "metadata": {
        "id": "FAXi1zgcFXNc",
        "colab_type": "code",
        "outputId": "789ee0cf-3f02-4e5c-fb19-69d62b472e4c",
        "colab": {
          "base_uri": "https://localhost:8080/",
          "height": 85
        }
      },
      "source": [
        "mul_v = a * b\n",
        "print(mul_v)\n",
        "print(np.multiply(a, b))"
      ],
      "execution_count": 11,
      "outputs": [
        {
          "output_type": "stream",
          "text": [
            "[[2.  0. ]\n",
            " [0.  2.4]]\n",
            "[[2.  0. ]\n",
            " [0.  2.4]]\n"
          ],
          "name": "stdout"
        }
      ]
    },
    {
      "cell_type": "code",
      "metadata": {
        "id": "mbnAyUPeFpta",
        "colab_type": "code",
        "outputId": "a7b6153e-35a7-4103-dc71-920dbe28947e",
        "colab": {
          "base_uri": "https://localhost:8080/",
          "height": 85
        }
      },
      "source": [
        "mul_v = a / b\n",
        "print(mul_v)\n",
        "print(np.divide(a, b))"
      ],
      "execution_count": 12,
      "outputs": [
        {
          "output_type": "stream",
          "text": [
            "[[0.5        0.        ]\n",
            " [0.         0.41666667]]\n",
            "[[0.5        0.        ]\n",
            " [0.         0.41666667]]\n"
          ],
          "name": "stdout"
        }
      ]
    },
    {
      "cell_type": "code",
      "metadata": {
        "id": "S6jHlidIpWJw",
        "colab_type": "code",
        "outputId": "a4676c52-25dd-4024-e945-0b15738c177e",
        "colab": {
          "base_uri": "https://localhost:8080/",
          "height": 85
        }
      },
      "source": [
        "print(b**0.5)\n",
        "print(np.sqrt(b))\n"
      ],
      "execution_count": 13,
      "outputs": [
        {
          "output_type": "stream",
          "text": [
            "[[1.41421356 1.22474487]\n",
            " [1.73205081 1.54919334]]\n",
            "[[1.41421356 1.22474487]\n",
            " [1.73205081 1.54919334]]\n"
          ],
          "name": "stdout"
        }
      ]
    },
    {
      "cell_type": "markdown",
      "metadata": {
        "id": "CJSbwk8AF52L",
        "colab_type": "text"
      },
      "source": [
        "In MATLAB the `*` operation is a matrix multiplication, but here it stands for elementwise multiplication (`.*` in MATLAB). To do matrix multiplication we need to use the ```np.dot``` function."
      ]
    },
    {
      "cell_type": "code",
      "metadata": {
        "id": "VOnskJMEGRDO",
        "colab_type": "code",
        "outputId": "394977b3-97a1-48bb-c977-19c605d55687",
        "colab": {
          "base_uri": "https://localhost:8080/",
          "height": 85
        }
      },
      "source": [
        "a = np.array([[2, 1.5], [3, 2.4]])\n",
        "b = np.eye(2)\n",
        "print(a*b)\n",
        "print(np.dot(a,b))"
      ],
      "execution_count": 14,
      "outputs": [
        {
          "output_type": "stream",
          "text": [
            "[[2.  0. ]\n",
            " [0.  2.4]]\n",
            "[[2.  1.5]\n",
            " [3.  2.4]]\n"
          ],
          "name": "stdout"
        }
      ]
    },
    {
      "cell_type": "markdown",
      "metadata": {
        "id": "dgkbI--3HIMt",
        "colab_type": "text"
      },
      "source": [
        "Some other operations are:"
      ]
    },
    {
      "cell_type": "code",
      "metadata": {
        "id": "LZ0GrlViHMY9",
        "colab_type": "code",
        "outputId": "a4195a71-a7d5-4101-8396-2b4c372a4c33",
        "colab": {
          "base_uri": "https://localhost:8080/",
          "height": 119
        }
      },
      "source": [
        "# Matrix broadcast multiplication.\n",
        "A = np.random.random((2,2))\n",
        "print(A)\n",
        "\n",
        "A_inv = np.linalg.inv(A) # inverse\n",
        "print(A_inv)\n",
        "\n",
        "A_det = np.linalg.det(A) # determinant\n",
        "print(A_det)\n",
        "\n",
        "A_diag = np.diag(A) # diagonal\n",
        "print(A_diag)"
      ],
      "execution_count": 15,
      "outputs": [
        {
          "output_type": "stream",
          "text": [
            "[[0.953604   0.67882614]\n",
            " [0.12854309 0.80614373]]\n",
            "[[ 1.18292485 -0.99610066]\n",
            " [-0.18862247  1.39930612]]\n",
            "0.6814834727790089\n",
            "[0.953604   0.80614373]\n"
          ],
          "name": "stdout"
        }
      ]
    },
    {
      "cell_type": "code",
      "metadata": {
        "id": "tMZ8VlxJHN8F",
        "colab_type": "code",
        "outputId": "2045f4bb-8539-4256-8b5f-a725be302408",
        "colab": {
          "base_uri": "https://localhost:8080/",
          "height": 85
        }
      },
      "source": [
        "# Linear algebra operations.\n",
        "a = np.array([1,2,3])\n",
        "b = np.array([2,4,6])\n",
        "\n",
        "ab = np.inner(a,b) # inner product\n",
        "print(ab)\n",
        "\n",
        "ab = np.outer(a,b) # outer product\n",
        "print(ab)\n"
      ],
      "execution_count": 16,
      "outputs": [
        {
          "output_type": "stream",
          "text": [
            "28\n",
            "[[ 2  4  6]\n",
            " [ 4  8 12]\n",
            " [ 6 12 18]]\n"
          ],
          "name": "stdout"
        }
      ]
    },
    {
      "cell_type": "markdown",
      "metadata": {
        "id": "ibZqo6LaH0OL",
        "colab_type": "text"
      },
      "source": [
        "### Broadcasting\n",
        "Numpy lets us do operations with arrays of different sizes. The smaller array will be modified to have compatible shapes with the larger array. An easy example is multiplying a scalar by a matrix e.g. `3.0 * a`, where the `3.0` term is multiplied by all the elements in `a`.\n",
        "\n",
        "The basics and the rules for broadcasting are listed [here](https://docs.scipy.org/doc/numpy/user/basics.broadcasting.html).\n",
        "\n",
        "Another example is:"
      ]
    },
    {
      "cell_type": "code",
      "metadata": {
        "id": "-5QeOQ3nIyfr",
        "colab_type": "code",
        "outputId": "93752747-3d76-40b0-cd50-a9f25121d00a",
        "colab": {
          "base_uri": "https://localhost:8080/",
          "height": 119
        }
      },
      "source": [
        "a = np.array([2, 3, 3, 4])\n",
        "b = np.array([1, 7, 5])\n",
        "try:\n",
        "  a + b\n",
        "except Exception as e:\n",
        "  print(e)\n",
        "\n",
        "# By adding a new axis to a, due to broadcasting the output c\n",
        "# will have shape (3, 4), and the elements will be \n",
        "# c[0] = b + a[0], c[1] = b + a[1], c[2] = b + a[2], c[3] = b + a[3]\n",
        "c = a[:, np.newaxis] + b\n",
        "print(c)\n",
        "print(c[0], b + a[0])"
      ],
      "execution_count": 17,
      "outputs": [
        {
          "output_type": "stream",
          "text": [
            "operands could not be broadcast together with shapes (4,) (3,) \n",
            "[[ 3  9  7]\n",
            " [ 4 10  8]\n",
            " [ 4 10  8]\n",
            " [ 5 11  9]]\n",
            "[3 9 7] [3 9 7]\n"
          ],
          "name": "stdout"
        }
      ]
    },
    {
      "cell_type": "markdown",
      "metadata": {
        "id": "ErEoIO2Hq-R1",
        "colab_type": "text"
      },
      "source": [
        "## Pandas \n",
        "[Official Pandas Cookbook with examples](https://github.com/jvns/pandas-cookbook)\n",
        "\n",
        "\n",
        "The name comes from the term *panel data*. It is an open source and easy-to-use data structures and data analysis tool.\n",
        "\n",
        "Main distinctive capabilities include:\n",
        "* Fast and efficient DataFrame object for data manipulation;\n",
        "* Tools for reading and writing data;\n",
        "* Data alignment and integrated handling of missing data;\n",
        "* High performance merging and joining of data sets;\n",
        "* Hierarchical axis indexing provides an intuitive way of working with high-dimensional data in a lower-dimensional data structure."
      ]
    },
    {
      "cell_type": "code",
      "metadata": {
        "id": "OJLlRlX31mOe",
        "colab_type": "code",
        "outputId": "63fbbc84-7b33-44c9-ecca-517440d63f2d",
        "colab": {
          "base_uri": "https://localhost:8080/",
          "height": 204
        }
      },
      "source": [
        "# For pandas examples we will need a csv file to load with some data\n",
        "# We use a file from this public repo https://github.com/shantnu/Intro-to-Pandas/\n",
        "# In Colab you can use command-line commands by putting ! in front of them\n",
        "# So we use wget to download the file\n",
        "!wget https://raw.githubusercontent.com/shantnu/Intro-to-Pandas/master/hubble_data.csv"
      ],
      "execution_count": 18,
      "outputs": [
        {
          "output_type": "stream",
          "text": [
            "--2020-01-17 14:57:06--  https://raw.githubusercontent.com/shantnu/Intro-to-Pandas/master/hubble_data.csv\n",
            "Resolving raw.githubusercontent.com (raw.githubusercontent.com)... 151.101.0.133, 151.101.64.133, 151.101.128.133, ...\n",
            "Connecting to raw.githubusercontent.com (raw.githubusercontent.com)|151.101.0.133|:443... connected.\n",
            "HTTP request sent, awaiting response... 200 OK\n",
            "Length: 222 [text/plain]\n",
            "Saving to: ‘hubble_data.csv.4’\n",
            "\n",
            "\rhubble_data.csv.4     0%[                    ]       0  --.-KB/s               \rhubble_data.csv.4   100%[===================>]     222  --.-KB/s    in 0s      \n",
            "\n",
            "2020-01-17 14:57:06 (37.5 MB/s) - ‘hubble_data.csv.4’ saved [222/222]\n",
            "\n"
          ],
          "name": "stdout"
        }
      ]
    },
    {
      "cell_type": "code",
      "metadata": {
        "id": "biwX2vgOvxLq",
        "colab_type": "code",
        "outputId": "cf342631-6245-42fa-88c2-7e1f3837909b",
        "colab": {
          "base_uri": "https://localhost:8080/",
          "height": 442
        }
      },
      "source": [
        "# Read a file and store its data to a dataframe, \n",
        "# which is the data structure to handle 2d data in Panda.\n",
        "import pandas as pd\n",
        "\n",
        "hubble = pd.read_csv(\"hubble_data.csv\")\n",
        "\n",
        "# We see that the dataframe has also a header (column names)\n",
        "print(hubble)"
      ],
      "execution_count": 19,
      "outputs": [
        {
          "output_type": "stream",
          "text": [
            "    distance  recession_velocity\n",
            "0      0.032                 170\n",
            "1      0.034                 290\n",
            "2      0.214                -130\n",
            "3      0.263                 -70\n",
            "4      0.275                -185\n",
            "5      0.275                -220\n",
            "6      0.450                 200\n",
            "7      0.500                 290\n",
            "8      0.500                 270\n",
            "9      0.630                 200\n",
            "10     0.800                 300\n",
            "11     0.900                 -30\n",
            "12     0.900                 650\n",
            "13     0.900                 150\n",
            "14     0.900                 500\n",
            "15     1.000                 920\n",
            "16     1.100                 450\n",
            "17     1.100                 500\n",
            "18     1.400                 500\n",
            "19     1.700                 960\n",
            "20     2.000                 500\n",
            "21     2.000                 850\n",
            "22     2.000                 800\n",
            "23     2.000                1090\n"
          ],
          "name": "stdout"
        }
      ]
    },
    {
      "cell_type": "code",
      "metadata": {
        "id": "phEYnlT0zS0p",
        "colab_type": "code",
        "outputId": "cf5918c8-8c95-4e9a-d0d9-b0c17fafae33",
        "colab": {
          "base_uri": "https://localhost:8080/",
          "height": 34
        }
      },
      "source": [
        "# Get info about the data type.\n",
        "type(hubble)"
      ],
      "execution_count": 20,
      "outputs": [
        {
          "output_type": "execute_result",
          "data": {
            "text/plain": [
              "pandas.core.frame.DataFrame"
            ]
          },
          "metadata": {
            "tags": []
          },
          "execution_count": 20
        }
      ]
    },
    {
      "cell_type": "code",
      "metadata": {
        "id": "pbKPpo21zdLY",
        "colab_type": "code",
        "outputId": "9b3b25b7-d94a-466c-bcc9-84203d0d4864",
        "colab": {
          "base_uri": "https://localhost:8080/",
          "height": 136
        }
      },
      "source": [
        "# Get info about the content of csv file.\n",
        "hubble.info()"
      ],
      "execution_count": 21,
      "outputs": [
        {
          "output_type": "stream",
          "text": [
            "<class 'pandas.core.frame.DataFrame'>\n",
            "RangeIndex: 24 entries, 0 to 23\n",
            "Data columns (total 2 columns):\n",
            "distance              24 non-null float64\n",
            "recession_velocity    24 non-null int64\n",
            "dtypes: float64(1), int64(1)\n",
            "memory usage: 512.0 bytes\n"
          ],
          "name": "stdout"
        }
      ]
    },
    {
      "cell_type": "code",
      "metadata": {
        "id": "GgoZulWzz4cb",
        "colab_type": "code",
        "outputId": "8821a159-581f-4260-84f5-abdb129aa195",
        "colab": {
          "base_uri": "https://localhost:8080/",
          "height": 111
        }
      },
      "source": [
        "# Visualize first two rows.\n",
        "hubble.head(2)"
      ],
      "execution_count": 22,
      "outputs": [
        {
          "output_type": "execute_result",
          "data": {
            "text/html": [
              "<div>\n",
              "<style scoped>\n",
              "    .dataframe tbody tr th:only-of-type {\n",
              "        vertical-align: middle;\n",
              "    }\n",
              "\n",
              "    .dataframe tbody tr th {\n",
              "        vertical-align: top;\n",
              "    }\n",
              "\n",
              "    .dataframe thead th {\n",
              "        text-align: right;\n",
              "    }\n",
              "</style>\n",
              "<table border=\"1\" class=\"dataframe\">\n",
              "  <thead>\n",
              "    <tr style=\"text-align: right;\">\n",
              "      <th></th>\n",
              "      <th>distance</th>\n",
              "      <th>recession_velocity</th>\n",
              "    </tr>\n",
              "  </thead>\n",
              "  <tbody>\n",
              "    <tr>\n",
              "      <th>0</th>\n",
              "      <td>0.032</td>\n",
              "      <td>170</td>\n",
              "    </tr>\n",
              "    <tr>\n",
              "      <th>1</th>\n",
              "      <td>0.034</td>\n",
              "      <td>290</td>\n",
              "    </tr>\n",
              "  </tbody>\n",
              "</table>\n",
              "</div>"
            ],
            "text/plain": [
              "   distance  recession_velocity\n",
              "0     0.032                 170\n",
              "1     0.034                 290"
            ]
          },
          "metadata": {
            "tags": []
          },
          "execution_count": 22
        }
      ]
    },
    {
      "cell_type": "code",
      "metadata": {
        "id": "xnuIUFde1Ara",
        "colab_type": "code",
        "outputId": "404950d6-7fb5-4750-dc06-a630949d5bad",
        "colab": {
          "base_uri": "https://localhost:8080/",
          "height": 68
        }
      },
      "source": [
        "# Convert dataframe to numpy array data structure.\n",
        "H = hubble.as_matrix()\n",
        "type(H)"
      ],
      "execution_count": 23,
      "outputs": [
        {
          "output_type": "stream",
          "text": [
            "/usr/local/lib/python3.6/dist-packages/ipykernel_launcher.py:1: FutureWarning: Method .as_matrix will be removed in a future version. Use .values instead.\n",
            "  \"\"\"Entry point for launching an IPython kernel.\n"
          ],
          "name": "stderr"
        },
        {
          "output_type": "execute_result",
          "data": {
            "text/plain": [
              "numpy.ndarray"
            ]
          },
          "metadata": {
            "tags": []
          },
          "execution_count": 23
        }
      ]
    },
    {
      "cell_type": "markdown",
      "metadata": {
        "id": "gYKpFzyQNZMP",
        "colab_type": "text"
      },
      "source": [
        "### Indexing\n",
        "\n",
        "We can index the dataframe by the column name which will return the whole column, or by using `hubble.iloc[row_index, column_index]` "
      ]
    },
    {
      "cell_type": "code",
      "metadata": {
        "id": "UsVH4bRT1maO",
        "colab_type": "code",
        "outputId": "f09601d5-7a37-4a91-909d-463043c5df0d",
        "colab": {
          "base_uri": "https://localhost:8080/",
          "height": 85
        }
      },
      "source": [
        "hubble['distance'].head(3)"
      ],
      "execution_count": 24,
      "outputs": [
        {
          "output_type": "execute_result",
          "data": {
            "text/plain": [
              "0    0.032\n",
              "1    0.034\n",
              "2    0.214\n",
              "Name: distance, dtype: float64"
            ]
          },
          "metadata": {
            "tags": []
          },
          "execution_count": 24
        }
      ]
    },
    {
      "cell_type": "code",
      "metadata": {
        "id": "RfdD08ouN6JV",
        "colab_type": "code",
        "outputId": "578b99eb-ee3c-47fb-99ce-19e2e2aacee2",
        "colab": {
          "base_uri": "https://localhost:8080/",
          "height": 85
        }
      },
      "source": [
        "# This returns the same as above\n",
        "hubble.iloc[:, 0].head(3)"
      ],
      "execution_count": 25,
      "outputs": [
        {
          "output_type": "execute_result",
          "data": {
            "text/plain": [
              "0    0.032\n",
              "1    0.034\n",
              "2    0.214\n",
              "Name: distance, dtype: float64"
            ]
          },
          "metadata": {
            "tags": []
          },
          "execution_count": 25
        }
      ]
    },
    {
      "cell_type": "code",
      "metadata": {
        "id": "W9rGwR03Oe0V",
        "colab_type": "code",
        "outputId": "5d4c6802-39ec-4a6e-b5a5-eb8a732cd195",
        "colab": {
          "base_uri": "https://localhost:8080/",
          "height": 68
        }
      },
      "source": [
        "# Now it returns the first row\n",
        "hubble.iloc[0]"
      ],
      "execution_count": 26,
      "outputs": [
        {
          "output_type": "execute_result",
          "data": {
            "text/plain": [
              "distance                0.032\n",
              "recession_velocity    170.000\n",
              "Name: 0, dtype: float64"
            ]
          },
          "metadata": {
            "tags": []
          },
          "execution_count": 26
        }
      ]
    },
    {
      "cell_type": "code",
      "metadata": {
        "id": "p2_8eWBe2i-E",
        "colab_type": "code",
        "outputId": "f253586d-8db9-4b95-af9b-6010972ceaea",
        "colab": {
          "base_uri": "https://localhost:8080/",
          "height": 34
        }
      },
      "source": [
        "# Check data type of a dataframe column, which is expected to be series:\n",
        "# while data frames is for 2d data, series is a data structure for 1d data.\n",
        "type(hubble['distance'])"
      ],
      "execution_count": 27,
      "outputs": [
        {
          "output_type": "execute_result",
          "data": {
            "text/plain": [
              "pandas.core.series.Series"
            ]
          },
          "metadata": {
            "tags": []
          },
          "execution_count": 27
        }
      ]
    },
    {
      "cell_type": "code",
      "metadata": {
        "id": "H_Kq_HqIy10B",
        "colab_type": "code",
        "outputId": "6e080293-d856-4584-9a71-0ae6343872a9",
        "colab": {
          "base_uri": "https://localhost:8080/",
          "height": 204
        }
      },
      "source": [
        "# Access to data using some criterions similarly to a query in MySQL:\n",
        "# for example, the following code gives as output all the rows\n",
        "# where the recession_velocity is negative.\n",
        "# Note that while previously we have seen that Panda indexing refers to columns,  \n",
        "# now we are selecting rows\n",
        "hubble[hubble['recession_velocity'] < 0]\n"
      ],
      "execution_count": 28,
      "outputs": [
        {
          "output_type": "execute_result",
          "data": {
            "text/html": [
              "<div>\n",
              "<style scoped>\n",
              "    .dataframe tbody tr th:only-of-type {\n",
              "        vertical-align: middle;\n",
              "    }\n",
              "\n",
              "    .dataframe tbody tr th {\n",
              "        vertical-align: top;\n",
              "    }\n",
              "\n",
              "    .dataframe thead th {\n",
              "        text-align: right;\n",
              "    }\n",
              "</style>\n",
              "<table border=\"1\" class=\"dataframe\">\n",
              "  <thead>\n",
              "    <tr style=\"text-align: right;\">\n",
              "      <th></th>\n",
              "      <th>distance</th>\n",
              "      <th>recession_velocity</th>\n",
              "    </tr>\n",
              "  </thead>\n",
              "  <tbody>\n",
              "    <tr>\n",
              "      <th>2</th>\n",
              "      <td>0.214</td>\n",
              "      <td>-130</td>\n",
              "    </tr>\n",
              "    <tr>\n",
              "      <th>3</th>\n",
              "      <td>0.263</td>\n",
              "      <td>-70</td>\n",
              "    </tr>\n",
              "    <tr>\n",
              "      <th>4</th>\n",
              "      <td>0.275</td>\n",
              "      <td>-185</td>\n",
              "    </tr>\n",
              "    <tr>\n",
              "      <th>5</th>\n",
              "      <td>0.275</td>\n",
              "      <td>-220</td>\n",
              "    </tr>\n",
              "    <tr>\n",
              "      <th>11</th>\n",
              "      <td>0.900</td>\n",
              "      <td>-30</td>\n",
              "    </tr>\n",
              "  </tbody>\n",
              "</table>\n",
              "</div>"
            ],
            "text/plain": [
              "    distance  recession_velocity\n",
              "2      0.214                -130\n",
              "3      0.263                 -70\n",
              "4      0.275                -185\n",
              "5      0.275                -220\n",
              "11     0.900                 -30"
            ]
          },
          "metadata": {
            "tags": []
          },
          "execution_count": 28
        }
      ]
    },
    {
      "cell_type": "code",
      "metadata": {
        "id": "EZ4DzTBy6OGn",
        "colab_type": "code",
        "outputId": "faf1994d-8f65-4d95-d2d4-d40377ee0c71",
        "colab": {
          "base_uri": "https://localhost:8080/",
          "height": 187
        }
      },
      "source": [
        "# Skip 15 rows in the footer while reading input file.\n",
        "# This is particularly useful when there is irrelevant content in the footer.\n",
        "hubble = pd.read_csv(\"hubble_data.csv\",engine='python',skipfooter=15)\n",
        "print(hubble)\n"
      ],
      "execution_count": 29,
      "outputs": [
        {
          "output_type": "stream",
          "text": [
            "   distance  recession_velocity\n",
            "0     0.032                 170\n",
            "1     0.034                 290\n",
            "2     0.214                -130\n",
            "3     0.263                 -70\n",
            "4     0.275                -185\n",
            "5     0.275                -220\n",
            "6     0.450                 200\n",
            "7     0.500                 290\n",
            "8     0.500                 270\n"
          ],
          "name": "stdout"
        }
      ]
    },
    {
      "cell_type": "code",
      "metadata": {
        "id": "05ICIcqF4-qS",
        "colab_type": "code",
        "outputId": "97704fd7-7e30-4cac-e9d8-18d4a35b827f",
        "colab": {
          "base_uri": "https://localhost:8080/",
          "height": 34
        }
      },
      "source": [
        "# In some cases it may be necessary to rename column names, \n",
        "# for example, to make them shorter and more readable like in the following case ..\n",
        "hubble.columns"
      ],
      "execution_count": 30,
      "outputs": [
        {
          "output_type": "execute_result",
          "data": {
            "text/plain": [
              "Index(['distance', 'recession_velocity'], dtype='object')"
            ]
          },
          "metadata": {
            "tags": []
          },
          "execution_count": 30
        }
      ]
    },
    {
      "cell_type": "code",
      "metadata": {
        "id": "VXeIaw985-oM",
        "colab_type": "code",
        "outputId": "d755584b-50d6-45f8-f82c-e17cf6892173",
        "colab": {
          "base_uri": "https://localhost:8080/",
          "height": 68
        }
      },
      "source": [
        "# Rename column names.\n",
        "hubble.columns = [\"dist\", \"rec_vel\"]\n",
        "hubble['dist'].head(2)"
      ],
      "execution_count": 31,
      "outputs": [
        {
          "output_type": "execute_result",
          "data": {
            "text/plain": [
              "0    0.032\n",
              "1    0.034\n",
              "Name: dist, dtype: float64"
            ]
          },
          "metadata": {
            "tags": []
          },
          "execution_count": 31
        }
      ]
    },
    {
      "cell_type": "code",
      "metadata": {
        "id": "jz_2ug4oCavp",
        "colab_type": "code",
        "outputId": "952467b9-2b59-4aad-f80a-cf7f1eba720d",
        "colab": {
          "base_uri": "https://localhost:8080/",
          "height": 187
        }
      },
      "source": [
        "# Panda includes some tools to make sophisticate operations with data, i.e., apply() function.\n",
        "# apply() can be used either to process specific rows\n",
        "hubble['dist'] = hubble.apply(lambda row: row['dist'] + row['rec_vel']/10000, axis=1)\n",
        "print(hubble['dist'])\n",
        "\n"
      ],
      "execution_count": 32,
      "outputs": [
        {
          "output_type": "stream",
          "text": [
            "0    0.0490\n",
            "1    0.0630\n",
            "2    0.2010\n",
            "3    0.2560\n",
            "4    0.2565\n",
            "5    0.2530\n",
            "6    0.4700\n",
            "7    0.5290\n",
            "8    0.5270\n",
            "Name: dist, dtype: float64\n"
          ],
          "name": "stdout"
        }
      ]
    },
    {
      "cell_type": "code",
      "metadata": {
        "id": "dWFoUiMzIbKy",
        "colab_type": "code",
        "outputId": "b723b48c-53ee-4424-f485-aa06ce10e59d",
        "colab": {
          "base_uri": "https://localhost:8080/",
          "height": 68
        }
      },
      "source": [
        "# or to apply a global operation to a dataframe.\n",
        "import numpy as np\n",
        "hubble = hubble.apply(np.max, axis=0)\n",
        "print(hubble)"
      ],
      "execution_count": 33,
      "outputs": [
        {
          "output_type": "stream",
          "text": [
            "dist         0.529\n",
            "rec_vel    290.000\n",
            "dtype: float64\n"
          ],
          "name": "stdout"
        }
      ]
    },
    {
      "cell_type": "markdown",
      "metadata": {
        "id": "Pg4a-k70aLsI",
        "colab_type": "text"
      },
      "source": [
        "## Matplotlib\n",
        "[Official Usage Guide](https://matplotlib.org/tutorials/introductory/usage.html#sphx-glr-tutorials-introductory-usage-py)\n",
        "\n",
        "It is a Python 2D plotting library which produces graphs in a variety of formats and interactive environments across platforms\n",
        "Matplotlib allows to generate plots, histograms, power spectra, bar charts, errorcharts, scatterplots, etc., with just a few lines of code.\n",
        "\n",
        "\n",
        "\n",
        "\n",
        "\n"
      ]
    },
    {
      "cell_type": "code",
      "metadata": {
        "id": "2ePBnB4Ib_jW",
        "colab_type": "code",
        "outputId": "959da0b9-691c-4ed3-9c0a-baf1d294fd8b",
        "colab": {
          "base_uri": "https://localhost:8080/",
          "height": 295
        }
      },
      "source": [
        "# Plot a graph.\n",
        "import matplotlib.pyplot as plt\n",
        "import numpy as np\n",
        "x= np.linspace(1*-2*np.pi,2*np.pi,100)\n",
        "y= np.sin(x)\n",
        "plt.plot(x,y)\n",
        "plt.xlabel('x')\n",
        "plt.ylabel('sin(x)')\n",
        "plt.title('My first graph')\n",
        "plt.show()"
      ],
      "execution_count": 34,
      "outputs": [
        {
          "output_type": "display_data",
          "data": {
            "image/png": "[encoded data removed]",
            "text/plain": [
              "<Figure size 432x288 with 1 Axes>"
            ]
          },
          "metadata": {
            "tags": []
          }
        }
      ]
    },
    {
      "cell_type": "code",
      "metadata": {
        "id": "65CtRjV94y2r",
        "colab_type": "code",
        "colab": {}
      },
      "source": [
        "# Download another example\n",
        "!wget -q https://raw.githubusercontent.com/ageron/handson-ml/master/datasets/housing/housing.csv"
      ],
      "execution_count": 0,
      "outputs": []
    },
    {
      "cell_type": "code",
      "metadata": {
        "id": "IJRT6Cf0fXe-",
        "colab_type": "code",
        "outputId": "5e99b1c3-404d-47a7-c2ad-5f8f0deca4eb",
        "colab": {
          "base_uri": "https://localhost:8080/",
          "height": 363
        }
      },
      "source": [
        "# Scatter.\n",
        "housing = pd.read_csv(\"housing.csv\").as_matrix()\n",
        "x=housing[:,0]\n",
        "y=housing[:,1]\n",
        "print(x)\n",
        "print(y)\n",
        "plt.scatter(x,y)\n",
        "plt.xlabel('longitude')\n",
        "plt.ylabel('latitude')\n",
        "plt.title('latitude')\n",
        "plt.show()\n"
      ],
      "execution_count": 36,
      "outputs": [
        {
          "output_type": "stream",
          "text": [
            "/usr/local/lib/python3.6/dist-packages/ipykernel_launcher.py:1: FutureWarning: Method .as_matrix will be removed in a future version. Use .values instead.\n",
            "  \"\"\"Entry point for launching an IPython kernel.\n"
          ],
          "name": "stderr"
        },
        {
          "output_type": "stream",
          "text": [
            "[-122.23 -122.22 -122.24 ... -121.22 -121.32 -121.24]\n",
            "[37.88 37.86 37.85 ... 39.43 39.43 39.37]\n"
          ],
          "name": "stdout"
        },
        {
          "output_type": "display_data",
          "data": {
            "image/png": "[encoded data removed]",
            "text/plain": [
              "<Figure size 432x288 with 1 Axes>"
            ]
          },
          "metadata": {
            "tags": []
          }
        }
      ]
    },
    {
      "cell_type": "code",
      "metadata": {
        "id": "wzOsZns_ilGU",
        "colab_type": "code",
        "outputId": "26404f33-f19b-47d5-db6f-b21be882333b",
        "colab": {
          "base_uri": "https://localhost:8080/",
          "height": 279
        }
      },
      "source": [
        "# Plot histograms\n",
        "population = housing[:,5].astype(int)\n",
        "plt.xlabel('population')\n",
        "plt.ylabel('count')\n",
        "plt.hist(population, bins=50, range=(0, 5000))\n",
        "plt.show()"
      ],
      "execution_count": 37,
      "outputs": [
        {
          "output_type": "display_data",
          "data": {
            "image/png": "[encoded data removed]",
            "text/plain": [
              "<Figure size 432x288 with 1 Axes>"
            ]
          },
          "metadata": {
            "tags": []
          }
        }
      ]
    },
    {
      "cell_type": "code",
      "metadata": {
        "id": "kUwmPVVqiru2",
        "colab_type": "code",
        "colab": {}
      },
      "source": [
        "# Visualizing images\n",
        "!wget -q -O cat.jpg https://www.catster.com/wp-content/uploads/2018/07/Savannah-cat-long-body-shot.jpg\n",
        "import matplotlib.image as mpimg\n",
        "img = mpimg.imread('cat.jpg')\n"
      ],
      "execution_count": 0,
      "outputs": []
    },
    {
      "cell_type": "code",
      "metadata": {
        "id": "BcVqroSc4MO-",
        "colab_type": "code",
        "outputId": "3e2feeb6-f185-4ab4-bb84-11dc023a2697",
        "colab": {
          "base_uri": "https://localhost:8080/",
          "height": 269
        }
      },
      "source": [
        "imgplot = plt.imshow(img)"
      ],
      "execution_count": 39,
      "outputs": [
        {
          "output_type": "display_data",
          "data": {
            "image/png": "[encoded data removed]",
            "text/plain": [
              "<Figure size 432x288 with 1 Axes>"
            ]
          },
          "metadata": {
            "tags": []
          }
        }
      ]
    }
  ]
}