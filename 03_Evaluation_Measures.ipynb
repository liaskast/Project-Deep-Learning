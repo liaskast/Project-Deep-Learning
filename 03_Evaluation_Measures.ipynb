{
  "nbformat": 4,
  "nbformat_minor": 0,
  "metadata": {
    "colab": {
      "name": "2020_03_Evaluation_Measures.ipynb",
      "provenance": [],
      "collapsed_sections": [],
      "toc_visible": true,
      "include_colab_link": true
    },
    "kernelspec": {
      "name": "python3",
      "display_name": "Python 3"
    },
    "accelerator": "GPU"
  },
  "cells": [
    {
      "cell_type": "markdown",
      "metadata": {
        "id": "view-in-github",
        "colab_type": "text"
      },
      "source": [
        "<a href=\"https://colab.research.google.com/github/MatchLab-Imperial/deep-learning-course/blob/master/2020_03_Evaluation_Measures.ipynb\" target=\"_parent\"><img src=\"https://colab.research.google.com/assets/colab-badge.svg\" alt=\"Open In Colab\"/></a>"
      ]
    },
    {
      "cell_type": "markdown",
      "metadata": {
        "id": "IhXUenVgBmjf",
        "colab_type": "text"
      },
      "source": [
        "# Evaluation measures\n",
        "Before starting to dig a little bit deeper into the network training process, let's learn more about some of the usual measures used to evaluate the performance of a machine learning model. \n",
        "\n",
        "The metrics employed depend on the type of problem we are facing. In this tutorial, we will present evaluation measures for classification, ranking and regression problems. \n",
        "\n",
        "\n"
      ]
    },
    {
      "cell_type": "markdown",
      "metadata": {
        "id": "njqA6ve8WHB1",
        "colab_type": "text"
      },
      "source": [
        "## Keras metrics\n",
        "Before explaining some of the used measures, let's see how we can use them in Keras.\n",
        "\n",
        "Keras provides several evaluation measures that are already implemented ([available metrics in Keras](https://keras.io/metrics/)). These metrics are passed at run time, and when `model.fit` is called Keras automatically keeps track of the training (and validation if given) performance per epoch.\n",
        "\n",
        "```\n",
        "model.compile(metrics=['categorical_accuracy'...])\n",
        "```\n",
        "We can also evaluate the performance of a model in any given data by calling `model.evaluate`, where the model returns results in the form of `results=[mean_loss, metric_1, metric_2, etc...]`."
      ]
    },
    {
      "cell_type": "markdown",
      "metadata": {
        "id": "BPk96eQomRwQ",
        "colab_type": "text"
      },
      "source": [
        "### Custom metrics\n",
        "\n",
        "There are cases where we want to use a non-standard metric for evaluating our models. We can define any metrics in a function and pass it to the `compile` method. Following the custom metric example given in the [documentation](https://keras.io/metrics/), let's implement a custom metric for the Boston Housing Dataset. \n",
        "\n",
        "The problem we try to solve in the Boston Housing Dataset is estimating the median value of a certain house in the area of Boston, Massachusetts. The given data contains 13 features per data point, being \"per capita crime rate by town\", \"average number of rooms per dwelling\" or \"pupil-teacher ratio by town\" some of the available features. More information about the dataset is given [here](https://www.cs.toronto.edu/~delve/data/boston/bostonDetail.html).\n",
        "\n",
        "As an example of custom metric, we want to keep track of the mean predicted value during training, which we do in the below code cell."
      ]
    },
    {
      "cell_type": "code",
      "metadata": {
        "id": "AjlLjPXSPcRJ",
        "colab_type": "code",
        "outputId": "152e5208-71b7-43c5-8a04-f8ee09c9b671",
        "colab": {
          "base_uri": "https://localhost:8080/",
          "height": 329
        }
      },
      "source": [
        "import keras.backend as K\n",
        "from keras.models import Sequential\n",
        "from keras.layers import Dense\n",
        "import matplotlib.pyplot as plt\n",
        "from keras.datasets import boston_housing\n",
        "\n",
        "## This our custom metric\n",
        "def mean_pred(y_true, y_pred):\n",
        "    return K.mean(y_pred)\n",
        "\n",
        "(x_train, y_train), (x_test, y_test) = boston_housing.load_data()\n",
        "model = Sequential()\n",
        "model.add(Dense(100, activation='relu', input_shape=(13,)))\n",
        "model.add(Dense(1))\n",
        "model.compile(optimizer='adam',loss='mean_absolute_error', metrics=[mean_pred])\n",
        "history = model.fit(x_train, y_train, epochs=20, batch_size=32,  verbose = 0)\n",
        "# Plot training accuracy values\n",
        "plt.plot(history.history['mean_pred'])\n",
        "plt.title('Mean predicted value during training')\n",
        "plt.ylabel('Value')\n",
        "plt.xlabel('Epoch')\n",
        "plt.show()"
      ],
      "execution_count": 5,
      "outputs": [
        {
          "output_type": "stream",
          "text": [
            "Downloading data from https://s3.amazonaws.com/keras-datasets/boston_housing.npz\n",
            "57344/57026 [==============================] - 0s 0us/step\n"
          ],
          "name": "stdout"
        },
        {
          "output_type": "display_data",
          "data": {
            "image/png": "[encoded data removed]",
            "text/plain": [
              "<Figure size 432x288 with 1 Axes>"
            ]
          },
          "metadata": {
            "tags": []
          }
        }
      ]
    },
    {
      "cell_type": "markdown",
      "metadata": {
        "id": "zwo-H2oSfQ0s",
        "colab_type": "text"
      },
      "source": [
        "# Classification\n",
        "As we know, a classification model maps some input variable into one of the available output classes. The most used metric is the accuracy of the model, which is the ratio between the number of correct predictions and the total number of examples. The error rate, which is defined as $err.=1-acc.$ can also be used in some cases.\n",
        "\n",
        "A related measure that is reported in some cases is the top-k accuracy, which takes the top-k classes predicted by the model and checks if the correct class is in any of those top-k predicted classes. An example of a dataset where it is usual to report the top-5 error is [ImageNet](image-net.org) as shown in [AlexNet's paper](http://www.cs.toronto.edu/~fritz/absps/imagenet.pdf).\n",
        "\n",
        "Let's show a quick example of how to report the accuracy of a model in Keras. First, we prepare the MNIST dataset for training.\n",
        "\n",
        "\n"
      ]
    },
    {
      "cell_type": "code",
      "metadata": {
        "id": "54qmm4DAAIHC",
        "colab_type": "code",
        "outputId": "b2adcb30-cfb0-44d9-dde1-1a20c841f590",
        "colab": {
          "base_uri": "https://localhost:8080/",
          "height": 85
        }
      },
      "source": [
        "# importing some modules\n",
        "import numpy as np\n",
        "from keras.datasets import mnist\n",
        "from keras.models import Sequential\n",
        "from keras.layers import Dense, Activation, Flatten\n",
        "from keras.layers import Conv2D, MaxPooling2D\n",
        "from keras.utils import np_utils\n",
        "import matplotlib.pyplot as plt\n",
        "import keras\n",
        "import tensorflow as tf\n",
        "tf.logging.set_verbosity(tf.logging.ERROR)\n",
        "\n",
        "# network parameters\n",
        "batch_size = 128\n",
        "n_classes = 10\n",
        "n_epochs = 12\n",
        "img_rows, img_cols = 28, 28\n",
        "n_filters = 32\n",
        "pool_size = (2, 2)\n",
        "kernel_size = (3, 3)\n",
        "\n",
        "# import training and testing data\n",
        "(x_train, y_train),(x_test, y_test) = mnist.load_data()\n",
        "\n",
        "# reshape into matrices training and testing data\n",
        "X_train = x_train.reshape(x_train.shape[0], img_rows, img_cols, 1)\n",
        "X_test = x_test.reshape(x_test.shape[0], img_rows, img_cols, 1)\n",
        "\n",
        "input_shape = (img_rows, img_cols, 1)\n",
        "\n",
        "X_train = X_train.astype('float32')\n",
        "X_test = X_test.astype('float32')\n",
        "X_train /= 255\n",
        "X_test /= 255\n",
        "\n",
        "print('Number of training samples {:d}'.format(X_train.shape[0]))\n",
        "print('Number of testing samples {:d}'.format(X_test.shape[0]))\n",
        "\n",
        "# convert class vectors to binary class to use categorical_crossentropy as loss\n",
        "Y_train = np_utils.to_categorical(y_train, n_classes)\n",
        "Y_test = np_utils.to_categorical(y_test, n_classes)\n",
        "      \n"
      ],
      "execution_count": 6,
      "outputs": [
        {
          "output_type": "stream",
          "text": [
            "Downloading data from https://s3.amazonaws.com/img-datasets/mnist.npz\n",
            "11493376/11490434 [==============================] - 0s 0us/step\n",
            "Number of training samples 60000\n",
            "Number of testing samples 10000\n"
          ],
          "name": "stdout"
        }
      ]
    },
    {
      "cell_type": "markdown",
      "metadata": {
        "id": "uf8HknrvhFwV",
        "colab_type": "text"
      },
      "source": [
        "Second, we define a small CNN architecture to classify digits. Notice how we give the metric `accuracy` when calling `compile`.\n",
        "\n"
      ]
    },
    {
      "cell_type": "code",
      "metadata": {
        "id": "E_tMO7qkB5CX",
        "colab_type": "code",
        "outputId": "03823e50-2075-4879-dd0c-020e91822a24",
        "colab": {
          "base_uri": "https://localhost:8080/",
          "height": 357
        }
      },
      "source": [
        "model_cnn = Sequential()\n",
        "\n",
        "model_cnn.add(Conv2D(n_filters, (kernel_size[0], kernel_size[1]),\n",
        "                        padding='valid', input_shape=input_shape))\n",
        "model_cnn.add(Activation('relu'))\n",
        "model_cnn.add(MaxPooling2D(pool_size=pool_size))\n",
        "model_cnn.add(Flatten())\n",
        "model_cnn.add(Dense(n_classes))\n",
        "model_cnn.add(Activation('softmax'))\n",
        "\n",
        "model_cnn.compile(loss='categorical_crossentropy',\n",
        "              optimizer='adadelta',\n",
        "              metrics=['accuracy'])\n",
        "model_cnn.summary()"
      ],
      "execution_count": 7,
      "outputs": [
        {
          "output_type": "stream",
          "text": [
            "Model: \"sequential_5\"\n",
            "_________________________________________________________________\n",
            "Layer (type)                 Output Shape              Param #   \n",
            "=================================================================\n",
            "conv2d_2 (Conv2D)            (None, 26, 26, 32)        320       \n",
            "_________________________________________________________________\n",
            "activation_3 (Activation)    (None, 26, 26, 32)        0         \n",
            "_________________________________________________________________\n",
            "max_pooling2d_2 (MaxPooling2 (None, 13, 13, 32)        0         \n",
            "_________________________________________________________________\n",
            "flatten_2 (Flatten)          (None, 5408)              0         \n",
            "_________________________________________________________________\n",
            "dense_8 (Dense)              (None, 10)                54090     \n",
            "_________________________________________________________________\n",
            "activation_4 (Activation)    (None, 10)                0         \n",
            "=================================================================\n",
            "Total params: 54,410\n",
            "Trainable params: 54,410\n",
            "Non-trainable params: 0\n",
            "_________________________________________________________________\n"
          ],
          "name": "stdout"
        }
      ]
    },
    {
      "cell_type": "markdown",
      "metadata": {
        "id": "Y6hUmh2UjoSW",
        "colab_type": "text"
      },
      "source": [
        "And now we train the network for 12 epochs."
      ]
    },
    {
      "cell_type": "code",
      "metadata": {
        "id": "NlrSAkFVB-05",
        "colab_type": "code",
        "outputId": "034651e0-fed4-4442-81f9-55a3764c824b",
        "colab": {
          "base_uri": "https://localhost:8080/",
          "height": 442
        }
      },
      "source": [
        "history = model_cnn.fit(X_train, Y_train, batch_size=batch_size, epochs=n_epochs,\n",
        "          verbose=1, validation_data=(X_test, Y_test))"
      ],
      "execution_count": 8,
      "outputs": [
        {
          "output_type": "stream",
          "text": [
            "Train on 60000 samples, validate on 10000 samples\n",
            "Epoch 1/12\n",
            "60000/60000 [==============================] - 3s 45us/step - loss: 0.3336 - acc: 0.9036 - val_loss: 0.1478 - val_acc: 0.9580\n",
            "Epoch 2/12\n",
            "60000/60000 [==============================] - 2s 37us/step - loss: 0.1226 - acc: 0.9659 - val_loss: 0.0903 - val_acc: 0.9745\n",
            "Epoch 3/12\n",
            "60000/60000 [==============================] - 2s 36us/step - loss: 0.0877 - acc: 0.9753 - val_loss: 0.0756 - val_acc: 0.9765\n",
            "Epoch 4/12\n",
            "60000/60000 [==============================] - 2s 36us/step - loss: 0.0719 - acc: 0.9801 - val_loss: 0.0685 - val_acc: 0.9798\n",
            "Epoch 5/12\n",
            "60000/60000 [==============================] - 2s 38us/step - loss: 0.0632 - acc: 0.9821 - val_loss: 0.0620 - val_acc: 0.9798\n",
            "Epoch 6/12\n",
            "60000/60000 [==============================] - 2s 35us/step - loss: 0.0574 - acc: 0.9837 - val_loss: 0.0568 - val_acc: 0.9816\n",
            "Epoch 7/12\n",
            "60000/60000 [==============================] - 2s 36us/step - loss: 0.0526 - acc: 0.9848 - val_loss: 0.0553 - val_acc: 0.9812\n",
            "Epoch 8/12\n",
            "60000/60000 [==============================] - 2s 35us/step - loss: 0.0490 - acc: 0.9862 - val_loss: 0.0510 - val_acc: 0.9823\n",
            "Epoch 9/12\n",
            "60000/60000 [==============================] - 2s 36us/step - loss: 0.0462 - acc: 0.9867 - val_loss: 0.0505 - val_acc: 0.9829\n",
            "Epoch 10/12\n",
            "60000/60000 [==============================] - 2s 36us/step - loss: 0.0432 - acc: 0.9880 - val_loss: 0.0502 - val_acc: 0.9836\n",
            "Epoch 11/12\n",
            "60000/60000 [==============================] - 2s 36us/step - loss: 0.0411 - acc: 0.9889 - val_loss: 0.0476 - val_acc: 0.9840\n",
            "Epoch 12/12\n",
            "60000/60000 [==============================] - 2s 40us/step - loss: 0.0389 - acc: 0.9889 - val_loss: 0.0513 - val_acc: 0.9827\n"
          ],
          "name": "stdout"
        }
      ]
    },
    {
      "cell_type": "markdown",
      "metadata": {
        "id": "EnQRaODvMWcL",
        "colab_type": "text"
      },
      "source": [
        "Finally, we evaluate the model in terms of score and accuracy. The returned metrics in Keras when using `evaluate` follow the format `score=[mean_loss_test, metric_1, metric_2, etc...]`, where `metric_n` are the metrics defined when compiling the model. In this case, we defined `accuracy`, hence we can retrieve the loss and accuracy of the model."
      ]
    },
    {
      "cell_type": "code",
      "metadata": {
        "id": "YAq4i9ivCBZA",
        "colab_type": "code",
        "outputId": "87d1644c-a75b-4eb4-80bd-34600b3be820",
        "colab": {
          "base_uri": "https://localhost:8080/",
          "height": 51
        }
      },
      "source": [
        "score = model_cnn.evaluate(X_test, Y_test, verbose=0)\n",
        "print('Test loss: {:f}'.format(score[0]))\n",
        "print('Test accuracy: {:f}'.format(score[1]))"
      ],
      "execution_count": 9,
      "outputs": [
        {
          "output_type": "stream",
          "text": [
            "Test loss: 0.051283\n",
            "Test accuracy: 0.982700\n"
          ],
          "name": "stdout"
        }
      ]
    },
    {
      "cell_type": "markdown",
      "metadata": {
        "id": "X38qShDiOltk",
        "colab_type": "text"
      },
      "source": [
        "# Binary Classification\n",
        "\n",
        "## ROC and AUC\n",
        "\n",
        "In the previous example, our model has been evaluated using the accuracy measure, which calculates the mean accuracy rate across all predictions. \n",
        "\n",
        "In the binary classification case we can evaluate our model with more sophisticated evaluation metrics such as the [Receiver Operating Characteristic (ROC) curve or the Area Under the Curve (AUC)](https://en.wikipedia.org/wiki/Receiver_operating_characteristic). To compute these metrics, we assume that we can apply in our classifier different discrimination thresholds, i.e. the threshold used to predict either positive or negative classes. ROC plots the True Positive Rate (ratio of actual positive elements predicted as positive) vs. the False Positive Rate (ratio of actual positive elements predicted as negative), and AUC summarizes the overall performance in a single number by computing the area under the ROC curve. AUC can be understood as the probability for a binary classifier to classify a randomly chosen positive sample higher than a randomly chosen negative sample. Although it may seem similar to measuring the classifier accuracy, it is a different measure. A way to highlight the difference between the two metrics is to consider a biased dataset with 90\\% positive and 10\\% negative classes. In that dataset, it is easy to achieve an accuracy of 90\\%, as it only needs to always predict the element is positive. However, that same classifier would have a lower AUC. \n",
        "\n",
        "### Transforming our multiclass classification problem into several binary classification problems\n",
        "\n",
        "As we mentioned, ROC and AUC are two metrics for evaluating the performance of a binary classifier. In that setting, we only need one ROC curve.\n",
        "\n",
        "In case you want to measure the performance of a multiclass classifier, e.g. a classifier for the MNIST problem, we can use multiple ROC curves whose number depends on the number of classes. For example, evaluating a classifier trained on MNIST dataset requires 10 different ROC curves, each curve showing the ability of the model to distinguish a particular digit from all the others. This is typically known as one-versus-all setting.\n",
        "\n",
        "We will use the MNIST dataset and the one-versus-all setting to compute a ROC curve and the corresponding AUC for both a non-CNN model and the CNN model we previously defined, showing that the latter is significantly better.\n",
        "\n"
      ]
    },
    {
      "cell_type": "markdown",
      "metadata": {
        "id": "z-k857wfP0DA",
        "colab_type": "text"
      },
      "source": [
        "First, we define a model with only one intermediate layer and train it on MNIST.\n"
      ]
    },
    {
      "cell_type": "code",
      "metadata": {
        "id": "qxQOiZIqhfrJ",
        "colab_type": "code",
        "outputId": "51391f79-1cca-46fa-9dbb-493852a85c71",
        "colab": {
          "base_uri": "https://localhost:8080/",
          "height": 663
        }
      },
      "source": [
        "x_train_flat = x_train.reshape(x_train.shape[0], x_train.shape[1] * x_train.shape[2])\n",
        "x_test_flat = x_test.reshape(x_test.shape[0], x_test.shape[1] * x_test.shape[2])\n",
        "\n",
        "x_train_flat = x_train_flat.astype('float32')\n",
        "x_test_flat = x_test_flat.astype('float32')\n",
        "\n",
        "x_train_flat /= 255\n",
        "x_test_flat /= 255\n",
        "\n",
        "y_train_c = np_utils.to_categorical(y_train, n_classes)\n",
        "y_test_c = np_utils.to_categorical(y_test, n_classes)\n",
        "\n",
        "# Load simple model\n",
        "model = Sequential()\n",
        "model.add(Dense(10, activation='relu', input_shape=(784,)))\n",
        "model.add(Dense(10, activation='softmax'))\n",
        "\n",
        "model.summary()\n",
        "model.compile(optimizer='adam',loss='categorical_crossentropy',metrics=['accuracy'])\n",
        "model.fit(x_train_flat,y_train_c,batch_size=100, epochs=12,verbose=1,validation_data=(x_test_flat,y_test_c))\n"
      ],
      "execution_count": 10,
      "outputs": [
        {
          "output_type": "stream",
          "text": [
            "Model: \"sequential_6\"\n",
            "_________________________________________________________________\n",
            "Layer (type)                 Output Shape              Param #   \n",
            "=================================================================\n",
            "dense_9 (Dense)              (None, 10)                7850      \n",
            "_________________________________________________________________\n",
            "dense_10 (Dense)             (None, 10)                110       \n",
            "=================================================================\n",
            "Total params: 7,960\n",
            "Trainable params: 7,960\n",
            "Non-trainable params: 0\n",
            "_________________________________________________________________\n",
            "Train on 60000 samples, validate on 10000 samples\n",
            "Epoch 1/12\n",
            "60000/60000 [==============================] - 2s 41us/step - loss: 0.7830 - acc: 0.7807 - val_loss: 0.3713 - val_acc: 0.8954\n",
            "Epoch 2/12\n",
            "60000/60000 [==============================] - 2s 39us/step - loss: 0.3459 - acc: 0.9018 - val_loss: 0.3016 - val_acc: 0.9147\n",
            "Epoch 3/12\n",
            "60000/60000 [==============================] - 2s 34us/step - loss: 0.3009 - acc: 0.9149 - val_loss: 0.2837 - val_acc: 0.9205\n",
            "Epoch 4/12\n",
            "60000/60000 [==============================] - 2s 35us/step - loss: 0.2810 - acc: 0.9207 - val_loss: 0.2674 - val_acc: 0.9242\n",
            "Epoch 5/12\n",
            "60000/60000 [==============================] - 2s 37us/step - loss: 0.2700 - acc: 0.9236 - val_loss: 0.2605 - val_acc: 0.9254\n",
            "Epoch 6/12\n",
            "60000/60000 [==============================] - 2s 36us/step - loss: 0.2616 - acc: 0.9263 - val_loss: 0.2583 - val_acc: 0.9278\n",
            "Epoch 7/12\n",
            "60000/60000 [==============================] - 2s 33us/step - loss: 0.2552 - acc: 0.9279 - val_loss: 0.2543 - val_acc: 0.9272\n",
            "Epoch 8/12\n",
            "60000/60000 [==============================] - 2s 34us/step - loss: 0.2497 - acc: 0.9286 - val_loss: 0.2505 - val_acc: 0.9296\n",
            "Epoch 9/12\n",
            "60000/60000 [==============================] - 2s 36us/step - loss: 0.2452 - acc: 0.9305 - val_loss: 0.2477 - val_acc: 0.9293\n",
            "Epoch 10/12\n",
            "60000/60000 [==============================] - 2s 35us/step - loss: 0.2407 - acc: 0.9317 - val_loss: 0.2463 - val_acc: 0.9310\n",
            "Epoch 11/12\n",
            "60000/60000 [==============================] - 2s 34us/step - loss: 0.2371 - acc: 0.9318 - val_loss: 0.2467 - val_acc: 0.9290\n",
            "Epoch 12/12\n",
            "60000/60000 [==============================] - 2s 34us/step - loss: 0.2333 - acc: 0.9333 - val_loss: 0.2449 - val_acc: 0.9286\n"
          ],
          "name": "stdout"
        },
        {
          "output_type": "execute_result",
          "data": {
            "text/plain": [
              "<keras.callbacks.History at 0x7f29d9a0df98>"
            ]
          },
          "metadata": {
            "tags": []
          },
          "execution_count": 10
        }
      ]
    },
    {
      "cell_type": "markdown",
      "metadata": {
        "id": "45DIjF_sVnQY",
        "colab_type": "text"
      },
      "source": [
        "Next, we evaluate the performance of our simple model with the Keras evaluation method and compare it with the CNN-based model. You can notice the accuracy of fully-connected model is considerably lower."
      ]
    },
    {
      "cell_type": "code",
      "metadata": {
        "id": "AGHYqL9hb07d",
        "colab_type": "code",
        "outputId": "2ffe82a4-186b-4482-9598-26144c6fe221",
        "colab": {
          "base_uri": "https://localhost:8080/",
          "height": 68
        }
      },
      "source": [
        "score = model.evaluate(x_test_flat, y_test_c, verbose=1)\n",
        "print('Test loss: {:f}'.format(score[0]))\n",
        "print('Test accuracy: {:f}'.format(score[1]))"
      ],
      "execution_count": 11,
      "outputs": [
        {
          "output_type": "stream",
          "text": [
            "10000/10000 [==============================] - 0s 38us/step\n",
            "Test loss: 0.244876\n",
            "Test accuracy: 0.928600\n"
          ],
          "name": "stdout"
        }
      ]
    },
    {
      "cell_type": "markdown",
      "metadata": {
        "id": "b8igG1xEeBfc",
        "colab_type": "text"
      },
      "source": [
        "Now, we will see in more detail how to compute the ROC and AUC for the multi-class classification problem.\n",
        "The first step to do is predicting the category class for each sample of the testing set."
      ]
    },
    {
      "cell_type": "code",
      "metadata": {
        "id": "5_GRVTbFXE35",
        "colab_type": "code",
        "colab": {}
      },
      "source": [
        "y_pred_cnn = model_cnn.predict(X_test)\n",
        "y_pred = model.predict(x_test_flat)"
      ],
      "execution_count": 0,
      "outputs": []
    },
    {
      "cell_type": "markdown",
      "metadata": {
        "id": "rmDZ4Ybwfiyf",
        "colab_type": "text"
      },
      "source": [
        "\n",
        "\n",
        "\n",
        "In order to make these metrics work on a multiclass classifier, we need to rearrange a little bit our label and prediction data. \n",
        "\n",
        "For this purpose,  we define a function, `set_binary`, which takes as input a given positive class. The labels are transformed to either 1 (chosen positive label) or 0 (all the rest). We also return the confidence values indicating the probability that the corresponding sample is positive. "
      ]
    },
    {
      "cell_type": "code",
      "metadata": {
        "id": "VlRyJD2gYr8F",
        "colab_type": "code",
        "colab": {}
      },
      "source": [
        "def set_binary(y_pred, y_labels, positive_label):\n",
        "  bin_y_pred, bin_y_labels = [], []\n",
        "\n",
        "  for k, yl in enumerate(y_labels):\n",
        "      if yl==positive_label:\n",
        "        bin_y_labels.append(1)\n",
        "      else:\n",
        "        bin_y_labels.append(0)\n",
        "      \n",
        "      bin_y_pred.append(y_pred[k, positive_label])\n",
        "\n",
        "  return [bin_y_pred, bin_y_labels]"
      ],
      "execution_count": 0,
      "outputs": []
    },
    {
      "cell_type": "markdown",
      "metadata": {
        "id": "NZaYUmHIqavq",
        "colab_type": "text"
      },
      "source": [
        "After that, we import `roc_curve` and `auc` functions from `sklearn.metrics` module, which are two predefined functions for computing ROC and AUC.\n",
        "In our example, we assume that the label `5` (which corresponds to the number `5` in MNIST) is the positive class, and compute ROC and AUC value for both the CNN and non-CNN model, showing that the CNN-based model works better.\n"
      ]
    },
    {
      "cell_type": "code",
      "metadata": {
        "id": "4Zv26UvKaqhC",
        "colab_type": "code",
        "outputId": "d8b8000b-3a52-4b83-e308-db9bcb2493c7",
        "colab": {
          "base_uri": "https://localhost:8080/",
          "height": 51
        }
      },
      "source": [
        "from sklearn.metrics import roc_curve\n",
        "from sklearn.metrics import auc\n",
        "positive_label = 5\n",
        "[bin_y_pred, bin_y_labels] = set_binary(y_pred, y_test, positive_label)\n",
        "[bin_y_pred_cnn, bin_y_labels_cnn] = set_binary(y_pred_cnn, y_test, positive_label)\n",
        "\n",
        "\n",
        "fpr_rf, tpr_rf, thresholds_rf = roc_curve(bin_y_labels, bin_y_pred)\n",
        "fpr_rf_cnn, tpr_rf_cnn, thresholds_rf_cnn = roc_curve(bin_y_labels_cnn, bin_y_pred_cnn)\n",
        "\n",
        "auc_keras = auc(fpr_rf,tpr_rf)\n",
        "print(auc_keras)\n",
        "auc_keras_cnn = auc(fpr_rf_cnn,tpr_rf_cnn)\n",
        "print(auc_keras_cnn)\n"
      ],
      "execution_count": 14,
      "outputs": [
        {
          "output_type": "stream",
          "text": [
            "0.9930494012064494\n",
            "0.9998937759344272\n"
          ],
          "name": "stdout"
        }
      ]
    },
    {
      "cell_type": "markdown",
      "metadata": {
        "id": "1JhD3gsVtgrC",
        "colab_type": "text"
      },
      "source": [
        "We finally plot the ROC curve for the 5-vs-all setting."
      ]
    },
    {
      "cell_type": "code",
      "metadata": {
        "id": "r-1zzqrRe2Qo",
        "colab_type": "code",
        "outputId": "0c2d6288-e21e-41a1-e9e7-cf29c35c8b16",
        "colab": {
          "base_uri": "https://localhost:8080/",
          "height": 295
        }
      },
      "source": [
        "plt.figure(1)\n",
        "plt.plot([0, 1], [0, 1], 'k--')\n",
        "plt.plot(fpr_rf, tpr_rf, label='Baseline (area = {:.3f}) over class 5'.format(auc_keras))\n",
        "plt.plot(fpr_rf_cnn, tpr_rf_cnn, label='CNN (area = {:.3f}) over class 5'.format(auc_keras_cnn))\n",
        "\n",
        "plt.xlabel('False positive rate')\n",
        "plt.ylabel('True positive rate')\n",
        "plt.title('ROC curve')\n",
        "plt.legend(loc='best')\n",
        "plt.show()"
      ],
      "execution_count": 15,
      "outputs": [
        {
          "output_type": "display_data",
          "data": {
            "image/png": "[encoded data removed]",
            "text/plain": [
              "<Figure size 432x288 with 1 Axes>"
            ]
          },
          "metadata": {
            "tags": []
          }
        }
      ]
    },
    {
      "cell_type": "markdown",
      "metadata": {
        "id": "dBiHbLpHF8Y_",
        "colab_type": "text"
      },
      "source": [
        "\n",
        "\n",
        "# Retrieval\n",
        "In a retrieval problem, given a query $q$ and a set of elements $D$, we aim to retrieve those elements from $D$ that are relevant for $q$.\n",
        "## Precision and Recall\n",
        "\n",
        "Precision and Recall are two widely used metrics used for retrieval problems. Precision is defined as the ratio of correct (or relevant) retrieved elements divided by the total number of retrieved elements. If a model retrieves $N$ elements from a query, and $k$ of those are correct, then $P=k/N$. Recall, which is the same as the previously introduced True Positive Rate, is the ratio of correct retrieved elements divided by the total number of correct elements in the dataset. If there are $M$ total relevant elements in $D$, the recall is $R=k/M$. There is usually a trade-off between precision and recall, which can be adjusted using a decision threshold in the measure used to retrieve the elements. For example, in the case where a query returns all of the possible elements in $D$, the recall would be 1 whereas the precision would typically be low. An in-depth explanation of both metrics is given in the corresponding [Wikipedia article](https://en.wikipedia.org/wiki/Precision_and_recall).\n"
      ]
    },
    {
      "cell_type": "markdown",
      "metadata": {
        "id": "rcmyM2BLqe4F",
        "colab_type": "text"
      },
      "source": [
        "## MAP\n",
        "\n",
        "Let's give a look now at Mean Average Precision (MAP), which is widely used in some problems such as [object detection](https://arxiv.org/abs/1506.01497) or [patch retrieval](https://arxiv.org/abs/1704.05939). Given a set of queries, MAP is the mean of the average precisions of all the queries. Now, what is the Average Precision (AP)? AP is defined as the area under the precision-recall curve, i.e.\n",
        "$$\n",
        "AP = \\int_0^1 p(r)dr\n",
        "$$\n",
        "where $p(r)$ is the [precision-recall curve](https://scikit-learn.org/stable/auto_examples/model_selection/plot_precision_recall.html). A more intuitive explanation can be found in [this blog](https://towardsdatascience.com/breaking-down-mean-average-precision-map-ae462f623a52).\n",
        "\n",
        "Now, we will use the Fashion MNIST dataset, which is a little bit tougher than MNIST, for our retrieval example. We will first train the model in a standard classification setting. Then, we will take the intermediate features for each of the images in the test set, and we will use these features for our retrieval problem. Hence, for a query image $q$ from the test set, we retrieve its feature vector, and then retrieve the $k$ closest (using some defined distance, e.g. Euclidean) feature vectors from the test set. If the retrieved elements share the same class as $q$, we will consider it a true positive."
      ]
    },
    {
      "cell_type": "code",
      "metadata": {
        "colab_type": "code",
        "id": "9RVR4tAPqbMM",
        "colab": {
          "base_uri": "https://localhost:8080/",
          "height": 153
        },
        "outputId": "ebcf3438-bea6-460a-c023-7d0d89404df3"
      },
      "source": [
        "from keras.datasets import fashion_mnist\n",
        "# importing some modules\n",
        "import numpy as np\n",
        "from keras.models import Sequential\n",
        "from keras.layers import Dense, Activation, Flatten\n",
        "from keras.layers import Conv2D, MaxPooling2D\n",
        "from keras.utils import np_utils\n",
        "import matplotlib.pyplot as plt\n",
        "import keras\n",
        "\n",
        "# the data, shuffled and split between train and test sets\n",
        "img_rows, img_cols = 28, 28\n",
        "n_classes= 10\n",
        "(X_train, y_train), (X_test, y_test) = fashion_mnist.load_data()\n",
        "X_train = X_train.reshape(X_train.shape[0], img_rows, img_cols, 1)\n",
        "X_test = X_test.reshape(X_test.shape[0], img_rows, img_cols, 1)\n",
        "X_train = X_train.astype('float32')\n",
        "X_test = X_test.astype('float32')\n",
        "X_train /= 255\n",
        "X_test /= 255\n",
        "\n",
        "# convert class vectors to binary class matrices\n",
        "Y_train = np_utils.to_categorical(y_train, n_classes)\n",
        "Y_test = np_utils.to_categorical(y_test, n_classes)"
      ],
      "execution_count": 16,
      "outputs": [
        {
          "output_type": "stream",
          "text": [
            "Downloading data from http://fashion-mnist.s3-website.eu-central-1.amazonaws.com/train-labels-idx1-ubyte.gz\n",
            "32768/29515 [=================================] - 0s 3us/step\n",
            "Downloading data from http://fashion-mnist.s3-website.eu-central-1.amazonaws.com/train-images-idx3-ubyte.gz\n",
            "26427392/26421880 [==============================] - 2s 0us/step\n",
            "Downloading data from http://fashion-mnist.s3-website.eu-central-1.amazonaws.com/t10k-labels-idx1-ubyte.gz\n",
            "8192/5148 [===============================================] - 0s 0us/step\n",
            "Downloading data from http://fashion-mnist.s3-website.eu-central-1.amazonaws.com/t10k-images-idx3-ubyte.gz\n",
            "4423680/4422102 [==============================] - 1s 0us/step\n"
          ],
          "name": "stdout"
        }
      ]
    },
    {
      "cell_type": "markdown",
      "metadata": {
        "id": "JOoI8mAq0cyh",
        "colab_type": "text"
      },
      "source": [
        "Second, we visualize some examples. Each grey-scale image contains an article of clothing, e.g. ankle boot, pullover, t-shirt."
      ]
    },
    {
      "cell_type": "code",
      "metadata": {
        "id": "UqiWxZd1Nrg7",
        "colab_type": "code",
        "outputId": "2377d577-4e49-426a-b6af-ddda1ef767a7",
        "colab": {
          "base_uri": "https://localhost:8080/",
          "height": 268
        }
      },
      "source": [
        "N=5\n",
        "start_val = 0# pick an element for the code to plot the following N**2 values\n",
        "fig, axes = plt.subplots(N,N)\n",
        "items = ['t-shirt','trousers','pullover','dress','coat','sandal','shirt','sneaker','bag','Ankle boot']\n",
        "for row in range(N):\n",
        "  for col in range(N):\n",
        "    idx = start_val+row+N*col\n",
        "    axes[row,col].imshow(X_train[idx, :, :, 0], cmap='gray')\n",
        "    y_target = int(y_train[idx])\n",
        "    target = items[y_target]\n",
        "    axes[row,col].set_title(target)\n",
        "    axes[row,col].set_xticks([])\n",
        "    axes[row,col].set_yticks([])"
      ],
      "execution_count": 17,
      "outputs": [
        {
          "output_type": "display_data",
          "data": {
            "image/png": "[encoded data removed]",
            "text/plain": [
              "<Figure size 432x288 with 25 Axes>"
            ]
          },
          "metadata": {
            "tags": []
          }
        }
      ]
    },
    {
      "cell_type": "markdown",
      "metadata": {
        "id": "_ltUxiNe2Mrs",
        "colab_type": "text"
      },
      "source": [
        "Third, we define a simple CNN architecture with few layers and train it on Fashion MNIST."
      ]
    },
    {
      "cell_type": "code",
      "metadata": {
        "id": "8aK0cJG4GaqV",
        "colab_type": "code",
        "outputId": "520d7a65-5efc-46da-ad0a-2c050595aa60",
        "colab": {
          "base_uri": "https://localhost:8080/",
          "height": 425
        }
      },
      "source": [
        "# network parameters\n",
        "batch_size = 128\n",
        "n_filters = 64\n",
        "n_epochs = 12\n",
        "img_rows, img_cols = 28, 28\n",
        "pool_size = (2, 2)\n",
        "kernel_size = (3, 3)\n",
        "input_shape = (img_rows, img_cols, 1)\n",
        "model_cnn = Sequential()\n",
        "\n",
        "model_cnn.add(Conv2D(n_filters, (kernel_size[0], kernel_size[1]),\n",
        "                        padding='valid', input_shape=input_shape))\n",
        "model_cnn.add(Activation('relu'))\n",
        "model_cnn.add(MaxPooling2D(pool_size=pool_size))\n",
        "model_cnn.add(Flatten())\n",
        "model_cnn.add(Dense(n_filters))\n",
        "model_cnn.add(Activation('relu'))\n",
        "model_cnn.add(Dense(n_classes))\n",
        "model_cnn.add(Activation('softmax'))\n",
        "\n",
        "model_cnn.compile(loss='categorical_crossentropy',\n",
        "              optimizer='adam',\n",
        "              metrics=['accuracy'])\n",
        "model_cnn.summary()"
      ],
      "execution_count": 18,
      "outputs": [
        {
          "output_type": "stream",
          "text": [
            "Model: \"sequential_7\"\n",
            "_________________________________________________________________\n",
            "Layer (type)                 Output Shape              Param #   \n",
            "=================================================================\n",
            "conv2d_3 (Conv2D)            (None, 26, 26, 64)        640       \n",
            "_________________________________________________________________\n",
            "activation_5 (Activation)    (None, 26, 26, 64)        0         \n",
            "_________________________________________________________________\n",
            "max_pooling2d_3 (MaxPooling2 (None, 13, 13, 64)        0         \n",
            "_________________________________________________________________\n",
            "flatten_3 (Flatten)          (None, 10816)             0         \n",
            "_________________________________________________________________\n",
            "dense_11 (Dense)             (None, 64)                692288    \n",
            "_________________________________________________________________\n",
            "activation_6 (Activation)    (None, 64)                0         \n",
            "_________________________________________________________________\n",
            "dense_12 (Dense)             (None, 10)                650       \n",
            "_________________________________________________________________\n",
            "activation_7 (Activation)    (None, 10)                0         \n",
            "=================================================================\n",
            "Total params: 693,578\n",
            "Trainable params: 693,578\n",
            "Non-trainable params: 0\n",
            "_________________________________________________________________\n"
          ],
          "name": "stdout"
        }
      ]
    },
    {
      "cell_type": "code",
      "metadata": {
        "id": "iyFl352SGfIA",
        "colab_type": "code",
        "outputId": "64d4284f-89f5-4d94-fcd7-1e65aef09bb6",
        "colab": {
          "base_uri": "https://localhost:8080/",
          "height": 425
        }
      },
      "source": [
        "history = model_cnn.fit(X_train, Y_train, batch_size=batch_size, epochs=n_epochs, verbose=1)"
      ],
      "execution_count": 19,
      "outputs": [
        {
          "output_type": "stream",
          "text": [
            "Epoch 1/12\n",
            "60000/60000 [==============================] - 3s 52us/step - loss: 0.4462 - acc: 0.8433\n",
            "Epoch 2/12\n",
            "60000/60000 [==============================] - 3s 43us/step - loss: 0.2966 - acc: 0.8937\n",
            "Epoch 3/12\n",
            "60000/60000 [==============================] - 3s 42us/step - loss: 0.2554 - acc: 0.9080\n",
            "Epoch 4/12\n",
            "60000/60000 [==============================] - 3s 45us/step - loss: 0.2286 - acc: 0.9174\n",
            "Epoch 5/12\n",
            "60000/60000 [==============================] - 3s 43us/step - loss: 0.2060 - acc: 0.9261\n",
            "Epoch 6/12\n",
            "60000/60000 [==============================] - 3s 43us/step - loss: 0.1889 - acc: 0.9313\n",
            "Epoch 7/12\n",
            "60000/60000 [==============================] - 3s 42us/step - loss: 0.1731 - acc: 0.9364\n",
            "Epoch 8/12\n",
            "60000/60000 [==============================] - 3s 43us/step - loss: 0.1568 - acc: 0.9429\n",
            "Epoch 9/12\n",
            "60000/60000 [==============================] - 3s 42us/step - loss: 0.1422 - acc: 0.9484\n",
            "Epoch 10/12\n",
            "60000/60000 [==============================] - 3s 44us/step - loss: 0.1292 - acc: 0.9533\n",
            "Epoch 11/12\n",
            "60000/60000 [==============================] - 3s 45us/step - loss: 0.1193 - acc: 0.9565\n",
            "Epoch 12/12\n",
            "60000/60000 [==============================] - 3s 45us/step - loss: 0.1073 - acc: 0.9621\n"
          ],
          "name": "stdout"
        }
      ]
    },
    {
      "cell_type": "markdown",
      "metadata": {
        "id": "MzJgvBsO2vCS",
        "colab_type": "text"
      },
      "source": [
        "Fourth, we extract the logits from the last fully connected layer and use them as the feature vectors for the retrieval task. The retrieval task is defined as follows: given a query, i.e. a specific article of clothing, we want to search for the most similar articles in the gallery and order all the gallery images in ascending order."
      ]
    },
    {
      "cell_type": "code",
      "metadata": {
        "id": "Vlx2aZfuHZlz",
        "colab_type": "code",
        "colab": {}
      },
      "source": [
        "from keras import backend as K\n",
        "extract_feature = K.function([model_cnn.layers[0].input],[model_cnn.layers[-4].output])\n",
        "gallery_features = extract_feature([X_test[:20]])[0]\n",
        "gallery_labels = y_test[:20]\n",
        "\n",
        "probe_features = extract_feature([X_test[20:40]])[0]\n",
        "probe_labels = y_test[20:40]"
      ],
      "execution_count": 0,
      "outputs": []
    },
    {
      "cell_type": "markdown",
      "metadata": {
        "id": "sQMz1bQb4Yzx",
        "colab_type": "text"
      },
      "source": [
        "The method below computes mean average precision of the model over the probe (`test_codes, test_labels`) and gallery set (`learned_codes, y_train`) containing corresponding features and labels. This method is from [this blog](https://blog.sicara.com/keras-tutorial-content-based-image-retrieval-convolutional-denoising-autoencoder-dc91450cc511), following the link you can find further documentation about it. "
      ]
    },
    {
      "cell_type": "code",
      "metadata": {
        "id": "xyGuhw_Tgz86",
        "colab_type": "code",
        "colab": {}
      },
      "source": [
        "def compute_mean_average_precision(test_codes, test_labels, learned_codes, y_train, n_samples):\n",
        "    # For each n_samples (=number of retrieved images to assess) we store the corresponding labels and distances\n",
        "    out_labels = []\n",
        "    out_distances = []\n",
        "    ranks = np.zeros(n_samples)\n",
        "    \n",
        "    #For each query image feature we compute the closest images from training dataset\n",
        "    for i in range(len(test_codes)):\n",
        "        distances = []\n",
        "        # Compute the euclidian distance for each feature from training dataset\n",
        "        for code in learned_codes:\n",
        "            distance = np.linalg.norm(code - test_codes[i])\n",
        "            distances.append(distance)\n",
        "        \n",
        "        # Store the computed distances and corresponding labels from training dataset\n",
        "        distances = np.array(distances)\n",
        "      \n",
        "        \n",
        "        # Scoring function needs to replace similar labels by 1 and different ones by 0\n",
        "        labels = np.copy(y_train).astype('float32')\n",
        "        labels[labels != test_labels[i]] = -1\n",
        "        labels[labels == test_labels[i]] = 1\n",
        "        labels[labels == -1] = 0\n",
        "        distance_with_labels = np.stack((distances, labels), axis=-1)\n",
        "        sorted_distance_with_labels = distance_with_labels[distance_with_labels[:, 0].argsort()]\n",
        "        \n",
        "        # The distances are between 0 and 28. The lesser the distance the bigger the relevance score should be\n",
        "        sorted_distances = 1 - sorted_distance_with_labels[:, 0]\n",
        "        sorted_labels = sorted_distance_with_labels[:, 1]\n",
        "        ranks[np.where(sorted_labels==1)]=ranks[ np.where(sorted_labels==1)]+1\n",
        "        \n",
        "        # We keep only n_samples closest elements from the images retrieved\n",
        "        out_distances.append(sorted_distances[:n_samples])\n",
        "        out_labels.append(sorted_labels[:n_samples])\n",
        "\n",
        "\n",
        "    out_labels = np.array(out_labels)\n",
        "    out_distances = np.array(out_distances)\n",
        "    ranks=np.cumsum(ranks)/np.sum(ranks)\n",
        "    \n",
        "    # Score the model based on n_samples first images retrieved\n",
        "    score = label_ranking_average_precision_score(out_labels, out_distances)\n",
        "    return score,ranks"
      ],
      "execution_count": 0,
      "outputs": []
    },
    {
      "cell_type": "markdown",
      "metadata": {
        "id": "yjCBsvLE6yyS",
        "colab_type": "text"
      },
      "source": [
        "Finally, we are able to compute the MAP."
      ]
    },
    {
      "cell_type": "code",
      "metadata": {
        "id": "96fnAWmxbJgK",
        "colab_type": "code",
        "outputId": "be1a386b-dcbe-4642-9ae7-0dcd0f3da49c",
        "colab": {
          "base_uri": "https://localhost:8080/",
          "height": 34
        }
      },
      "source": [
        "from sklearn.metrics import label_ranking_average_precision_score\n",
        "\n",
        "# Compute score\n",
        "score,ranks = compute_mean_average_precision(probe_features, probe_labels, gallery_features, gallery_labels, 20)\n",
        "print(\"Mean Average Precision is {}\".format(score))"
      ],
      "execution_count": 22,
      "outputs": [
        {
          "output_type": "stream",
          "text": [
            "Mean Average Precision is 0.6758928571428571\n"
          ],
          "name": "stdout"
        }
      ]
    },
    {
      "cell_type": "markdown",
      "metadata": {
        "id": "HO7-GC6SyOIw",
        "colab_type": "text"
      },
      "source": [
        "# Regression\n",
        "Now we will quickly present some of the metrics used in regression problems, i.e. when you are estimating a continuous value $\\hat{y}$. In these kind of problems, the usual metrics are the widely known Mean Absolute Error (MAE) and Mean Squared Error (MSE), defined as:\n",
        "\n",
        "$$\n",
        "MAE = \\frac{1}{n} \\sum_n |\\hat{y} - y| \\\\\n",
        "MSE = \\frac{1}{n} \\sum_n (\\hat{y} - y)^2\n",
        "$$\n",
        "\n",
        "\n",
        "\n",
        "Other metrics used in some problems, e.g. [depth estimation](http://www.cvlibs.net/datasets/kitti/eval_depth.php?benchmark=depth_prediction), are the relative versions of MAE and MSE, which are called Mean Absolute Percentage Error (MAPE) and Mean Squared Percentage Error (MSPE).\n",
        "$$\n",
        "MAPE = \\frac{100}{n} \\sum_n \\frac{|\\hat{y} - y|}{|y|} \\\\\n",
        "MSPE = \\frac{100}{n} \\sum_n \\frac{(\\hat{y} - y)^2}{|y|}\n",
        "$$\n"
      ]
    },
    {
      "cell_type": "markdown",
      "metadata": {
        "id": "qsbMddkUlOar",
        "colab_type": "text"
      },
      "source": [
        "# Coursework"
      ]
    },
    {
      "cell_type": "markdown",
      "metadata": {
        "id": "mplVYtAiuaDZ",
        "colab_type": "text"
      },
      "source": [
        "\n",
        "### Task 1: Classification Evaluation Measures\n",
        "Similarly to what we showed for the case of 5 vs. all in MNIST, train the same CNN and baseline model for CIFAR-10. Use the code given to train the models.\n",
        "\n",
        "**Report**:\n",
        "*   Report total accuracy and accuracy per class in the test split and training split.\n",
        "*   Plot the ROC and AUC for both models for the class cat vs. all in the test split. The class *cat* corresponds to the label `3` in the dataset."
      ]
    },
    {
      "cell_type": "code",
      "metadata": {
        "id": "cul1UN8DLAgQ",
        "colab_type": "code",
        "outputId": "499b707b-a5b4-456f-9fa7-6a2a838cf44f",
        "colab": {
          "base_uri": "https://localhost:8080/",
          "height": 867
        }
      },
      "source": [
        "from keras.datasets import cifar10\n",
        "from keras.utils import to_categorical\n",
        "import numpy as np\n",
        "from keras.models import Sequential\n",
        "from keras.layers import Dense, Dropout, Activation, Flatten, Conv2D, MaxPooling2D\n",
        "from keras.utils import np_utils\n",
        "\n",
        "# network parameters\n",
        "batch_size = 128\n",
        "n_classes = 10\n",
        "n_epochs = 12\n",
        "img_rows, img_cols = 32, 32\n",
        "n_filters = 32\n",
        "pool_size = (2, 2)\n",
        "kernel_size = (3, 3)\n",
        " \n",
        "# import training and testing data\n",
        "(x_train, y_train),(x_test, y_test) = cifar10.load_data()\n",
        "# reshape into matrices training and testing data\n",
        "\n",
        "input_shape = (img_rows, img_cols, 3)\n",
        "\n",
        "X_train = x_train.astype('float32')\n",
        "X_test = x_test.astype('float32')\n",
        "X_train /= 255\n",
        "X_test /= 255\n",
        "\n",
        "\n",
        "# convert class vectors to binary class matrices for efficiency reasons\n",
        "Y_train = np_utils.to_categorical(y_train, n_classes)\n",
        "Y_test = np_utils.to_categorical(y_test, n_classes)\n",
        "\n",
        "### Baseline model\n",
        "x_train_flat = X_train.reshape(x_train.shape[0], 3 * x_train.shape[1] * x_train.shape[2])\n",
        "x_test_flat = X_test.reshape(x_test.shape[0], 3 * x_test.shape[1] * x_test.shape[2])\n",
        "\n",
        "model_base = Sequential()\n",
        "model_base.add(Dense(10, activation='relu', input_shape=x_train_flat.shape[1:]))\n",
        "model_base.add(Dense(n_classes, activation='softmax'))\n",
        "\n",
        "model_base.compile(loss='categorical_crossentropy',\n",
        "              optimizer='adam',\n",
        "              metrics=['accuracy'])\n",
        "\n",
        "history = model_base.fit(x_train_flat, Y_train, batch_size=batch_size, epochs=n_epochs,\n",
        "          verbose=1, validation_data=(x_test_flat, Y_test))\n",
        "\n",
        "### CNN\n",
        "model_cnn = Sequential()\n",
        "\n",
        "model_cnn.add(Conv2D(n_filters, (kernel_size[0], kernel_size[1]),\n",
        "                        padding='valid', input_shape=input_shape, data_format = 'channels_first'))\n",
        "model_cnn.add(Activation('relu'))\n",
        "model_cnn.add(MaxPooling2D(pool_size=pool_size))\n",
        "model_cnn.add(Flatten())\n",
        "model_cnn.add(Dense(n_classes))\n",
        "model_cnn.add(Activation('softmax'))\n",
        "\n",
        "model_cnn.compile(loss='categorical_crossentropy',\n",
        "              optimizer='adam',\n",
        "              metrics=['accuracy'])\n",
        "\n",
        "history = model_cnn.fit(X_train, Y_train, batch_size=batch_size,epochs=n_epochs,\n",
        "          verbose=1, validation_data=(X_test, Y_test))"
      ],
      "execution_count": 23,
      "outputs": [
        {
          "output_type": "stream",
          "text": [
            "Train on 50000 samples, validate on 10000 samples\n",
            "Epoch 1/12\n",
            "50000/50000 [==============================] - 2s 41us/step - loss: 2.3035 - acc: 0.0969 - val_loss: 2.3026 - val_acc: 0.1000\n",
            "Epoch 2/12\n",
            "50000/50000 [==============================] - 2s 35us/step - loss: 2.3027 - acc: 0.0990 - val_loss: 2.3026 - val_acc: 0.1000\n",
            "Epoch 3/12\n",
            "50000/50000 [==============================] - 2s 34us/step - loss: 2.3027 - acc: 0.0970 - val_loss: 2.3026 - val_acc: 0.1000\n",
            "Epoch 4/12\n",
            "50000/50000 [==============================] - 2s 33us/step - loss: 2.3027 - acc: 0.0978 - val_loss: 2.3026 - val_acc: 0.1000\n",
            "Epoch 5/12\n",
            "50000/50000 [==============================] - 2s 34us/step - loss: 2.3027 - acc: 0.0981 - val_loss: 2.3026 - val_acc: 0.1000\n",
            "Epoch 6/12\n",
            "50000/50000 [==============================] - 2s 35us/step - loss: 2.3027 - acc: 0.0963 - val_loss: 2.3026 - val_acc: 0.1000\n",
            "Epoch 7/12\n",
            "50000/50000 [==============================] - 2s 36us/step - loss: 2.3027 - acc: 0.0973 - val_loss: 2.3026 - val_acc: 0.1000\n",
            "Epoch 8/12\n",
            "50000/50000 [==============================] - 2s 36us/step - loss: 2.3027 - acc: 0.0993 - val_loss: 2.3026 - val_acc: 0.1000\n",
            "Epoch 9/12\n",
            "50000/50000 [==============================] - 2s 35us/step - loss: 2.3027 - acc: 0.0975 - val_loss: 2.3026 - val_acc: 0.1000\n",
            "Epoch 10/12\n",
            "50000/50000 [==============================] - 2s 34us/step - loss: 2.3027 - acc: 0.0992 - val_loss: 2.3026 - val_acc: 0.1000\n",
            "Epoch 11/12\n",
            "50000/50000 [==============================] - 2s 34us/step - loss: 2.3027 - acc: 0.0995 - val_loss: 2.3026 - val_acc: 0.1000\n",
            "Epoch 12/12\n",
            "50000/50000 [==============================] - 2s 35us/step - loss: 2.3027 - acc: 0.0983 - val_loss: 2.3026 - val_acc: 0.1000\n",
            "Train on 50000 samples, validate on 10000 samples\n",
            "Epoch 1/12\n",
            "50000/50000 [==============================] - 3s 55us/step - loss: 1.9308 - acc: 0.2998 - val_loss: 1.7881 - val_acc: 0.3666\n",
            "Epoch 2/12\n",
            "50000/50000 [==============================] - 2s 46us/step - loss: 1.7469 - acc: 0.3786 - val_loss: 1.7095 - val_acc: 0.4000\n",
            "Epoch 3/12\n",
            "50000/50000 [==============================] - 2s 46us/step - loss: 1.6809 - acc: 0.4102 - val_loss: 1.6547 - val_acc: 0.4183\n",
            "Epoch 4/12\n",
            "50000/50000 [==============================] - 2s 48us/step - loss: 1.6454 - acc: 0.4236 - val_loss: 1.6151 - val_acc: 0.4355\n",
            "Epoch 5/12\n",
            "50000/50000 [==============================] - 2s 45us/step - loss: 1.6098 - acc: 0.4341 - val_loss: 1.5981 - val_acc: 0.4428\n",
            "Epoch 6/12\n",
            "50000/50000 [==============================] - 2s 46us/step - loss: 1.5816 - acc: 0.4466 - val_loss: 1.5725 - val_acc: 0.4454\n",
            "Epoch 7/12\n",
            "50000/50000 [==============================] - 2s 48us/step - loss: 1.5611 - acc: 0.4500 - val_loss: 1.5424 - val_acc: 0.4540\n",
            "Epoch 8/12\n",
            "50000/50000 [==============================] - 2s 45us/step - loss: 1.5393 - acc: 0.4575 - val_loss: 1.5273 - val_acc: 0.4586\n",
            "Epoch 9/12\n",
            "50000/50000 [==============================] - 2s 45us/step - loss: 1.5163 - acc: 0.4656 - val_loss: 1.5145 - val_acc: 0.4574\n",
            "Epoch 10/12\n",
            "50000/50000 [==============================] - 2s 45us/step - loss: 1.5058 - acc: 0.4716 - val_loss: 1.5091 - val_acc: 0.4637\n",
            "Epoch 11/12\n",
            "50000/50000 [==============================] - 2s 45us/step - loss: 1.4870 - acc: 0.4751 - val_loss: 1.4934 - val_acc: 0.4685\n",
            "Epoch 12/12\n",
            "50000/50000 [==============================] - 2s 44us/step - loss: 1.4706 - acc: 0.4811 - val_loss: 1.4742 - val_acc: 0.4737\n"
          ],
          "name": "stdout"
        }
      ]
    },
    {
      "cell_type": "markdown",
      "metadata": {
        "id": "sdNJ7DSHucIA",
        "colab_type": "text"
      },
      "source": [
        "### Task 2: Retrieval Evaluation Measures\n",
        "In this exercise we will use the first 100 images of the test set of CIFAR10 as the query set $Q$ and the rest as the gallery.\n"
      ]
    },
    {
      "cell_type": "code",
      "metadata": {
        "id": "s-72mxNjV13s",
        "colab_type": "code",
        "outputId": "afa61f1b-b065-481c-a077-531442fdd5f5",
        "colab": {
          "base_uri": "https://localhost:8080/",
          "height": 969
        }
      },
      "source": [
        "from keras.datasets import cifar10\n",
        "from keras.utils import to_categorical\n",
        "import numpy as np\n",
        "from keras.models import Sequential\n",
        "from keras.layers import Dense, Dropout, Activation, Flatten, Conv2D, MaxPooling2D\n",
        "from keras.utils import np_utils\n",
        "\n",
        "# network parameters\n",
        "batch_size = 128\n",
        "n_classes = 10\n",
        "n_epochs = 12\n",
        "img_rows, img_cols = 32, 32\n",
        "n_filters = 32\n",
        "pool_size = (2, 2)\n",
        "kernel_size = (3, 3)\n",
        " \n",
        "# import training and testing data\n",
        "(x_train, y_train),(x_test, y_test) = cifar10.load_data()\n",
        "# reshape into matrices training and testing data\n",
        "\n",
        "input_shape = (img_rows, img_cols, 3)\n",
        "\n",
        "X_train = x_train.astype('float32')\n",
        "X_test = x_test.astype('float32')\n",
        "X_train /= 255\n",
        "X_test /= 255\n",
        "\n",
        "print(x_train.shape)\n",
        "\n",
        "y_train_c = to_categorical(y_train, n_classes)\n",
        "y_test_c = to_categorical(y_test, n_classes)\n",
        "\n",
        "\n",
        "model_cnn = Sequential()\n",
        "\n",
        "model_cnn.add(Conv2D(n_filters, (kernel_size[0], kernel_size[1]),\n",
        "                        padding='valid', input_shape=input_shape))\n",
        "model_cnn.add(Activation('relu'))\n",
        "model_cnn.add(MaxPooling2D(pool_size=pool_size))\n",
        "model_cnn.add(Conv2D(n_filters, (kernel_size[0], kernel_size[1]),\n",
        "                        padding='valid'))\n",
        "model_cnn.add(Activation('relu'))\n",
        "model_cnn.add(MaxPooling2D(pool_size=pool_size))\n",
        "model_cnn.add(Flatten())\n",
        "model_cnn.add(Dense(128))\n",
        "model_cnn.add(Activation('relu'))\n",
        "model_cnn.add(Dense(n_classes))\n",
        "model_cnn.add(Activation('softmax'))\n",
        "\n",
        "\n",
        "model_cnn.compile(loss='categorical_crossentropy',\n",
        "              optimizer='adam',\n",
        "              metrics=['accuracy'])\n",
        "model_cnn.summary()\n",
        "\n",
        "history = model_cnn.fit(X_train, y_train_c, batch_size=batch_size,epochs=n_epochs,\n",
        "          verbose=1, validation_data=(X_test, y_test_c))\n",
        "\n",
        "\n",
        "## Setting up the gallery and queries\n",
        "(X_train, y_train), (X_test, y_test) = cifar10.load_data()\n",
        "\n",
        "gallery_images = X_test[100:]\n",
        "gallery_labels = y_test[100:]\n",
        "from keras import backend as K\n",
        "extract_feature = K.function([model_cnn.layers[0].input],[model_cnn.layers[-4].output])\n",
        "gallery_features = extract_feature([X_test[100:,:,:]])[0]\n",
        "\n",
        "\n",
        "query_images = X_test[:100]\n",
        "query_labels = y_test[:100]\n",
        "query_features = extract_feature([X_test[:100,:,:]])[0]\n",
        "\n"
      ],
      "execution_count": 24,
      "outputs": [
        {
          "output_type": "stream",
          "text": [
            "(50000, 32, 32, 3)\n",
            "Model: \"sequential_10\"\n",
            "_________________________________________________________________\n",
            "Layer (type)                 Output Shape              Param #   \n",
            "=================================================================\n",
            "conv2d_5 (Conv2D)            (None, 30, 30, 32)        896       \n",
            "_________________________________________________________________\n",
            "activation_10 (Activation)   (None, 30, 30, 32)        0         \n",
            "_________________________________________________________________\n",
            "max_pooling2d_5 (MaxPooling2 (None, 15, 15, 32)        0         \n",
            "_________________________________________________________________\n",
            "conv2d_6 (Conv2D)            (None, 13, 13, 32)        9248      \n",
            "_________________________________________________________________\n",
            "activation_11 (Activation)   (None, 13, 13, 32)        0         \n",
            "_________________________________________________________________\n",
            "max_pooling2d_6 (MaxPooling2 (None, 6, 6, 32)          0         \n",
            "_________________________________________________________________\n",
            "flatten_5 (Flatten)          (None, 1152)              0         \n",
            "_________________________________________________________________\n",
            "dense_16 (Dense)             (None, 128)               147584    \n",
            "_________________________________________________________________\n",
            "activation_12 (Activation)   (None, 128)               0         \n",
            "_________________________________________________________________\n",
            "dense_17 (Dense)             (None, 10)                1290      \n",
            "_________________________________________________________________\n",
            "activation_13 (Activation)   (None, 10)                0         \n",
            "=================================================================\n",
            "Total params: 159,018\n",
            "Trainable params: 159,018\n",
            "Non-trainable params: 0\n",
            "_________________________________________________________________\n",
            "Train on 50000 samples, validate on 10000 samples\n",
            "Epoch 1/12\n",
            "50000/50000 [==============================] - 4s 81us/step - loss: 1.6029 - acc: 0.4231 - val_loss: 1.3643 - val_acc: 0.5087\n",
            "Epoch 2/12\n",
            "50000/50000 [==============================] - 3s 62us/step - loss: 1.2812 - acc: 0.5472 - val_loss: 1.1901 - val_acc: 0.5844\n",
            "Epoch 3/12\n",
            "50000/50000 [==============================] - 3s 64us/step - loss: 1.1462 - acc: 0.5986 - val_loss: 1.1311 - val_acc: 0.6055\n",
            "Epoch 4/12\n",
            "50000/50000 [==============================] - 3s 61us/step - loss: 1.0530 - acc: 0.6318 - val_loss: 1.0469 - val_acc: 0.6293\n",
            "Epoch 5/12\n",
            "50000/50000 [==============================] - 3s 61us/step - loss: 1.0016 - acc: 0.6497 - val_loss: 1.0399 - val_acc: 0.6374\n",
            "Epoch 6/12\n",
            "50000/50000 [==============================] - 3s 62us/step - loss: 0.9488 - acc: 0.6699 - val_loss: 1.0043 - val_acc: 0.6513\n",
            "Epoch 7/12\n",
            "50000/50000 [==============================] - 3s 61us/step - loss: 0.9139 - acc: 0.6821 - val_loss: 0.9840 - val_acc: 0.6602\n",
            "Epoch 8/12\n",
            "50000/50000 [==============================] - 3s 61us/step - loss: 0.8722 - acc: 0.6982 - val_loss: 0.9778 - val_acc: 0.6637\n",
            "Epoch 9/12\n",
            "50000/50000 [==============================] - 3s 61us/step - loss: 0.8325 - acc: 0.7115 - val_loss: 0.9443 - val_acc: 0.6748\n",
            "Epoch 10/12\n",
            "50000/50000 [==============================] - 3s 63us/step - loss: 0.8079 - acc: 0.7194 - val_loss: 0.9477 - val_acc: 0.6760\n",
            "Epoch 11/12\n",
            "50000/50000 [==============================] - 3s 64us/step - loss: 0.7777 - acc: 0.7314 - val_loss: 0.9528 - val_acc: 0.6761\n",
            "Epoch 12/12\n",
            "50000/50000 [==============================] - 3s 65us/step - loss: 0.7488 - acc: 0.7398 - val_loss: 0.9346 - val_acc: 0.6839\n"
          ],
          "name": "stdout"
        }
      ]
    },
    {
      "cell_type": "markdown",
      "metadata": {
        "id": "lrm0XZPZV2Ao",
        "colab_type": "text"
      },
      "source": [
        "\n",
        "Use the piece of code given above to train a CNN in CIFAR 10. Then use the distance between the features from the CNN for ranking images as it was done in this tutorial. Taking the features extracted from the query $q$ (given in the `query_feature`) rank the gallery images by feature distance. Do not modify the network/hyperparameters for the training process.  \n",
        "\n",
        "**Report**\n",
        "*   Take the first image (`query_images[0]`) from the query set, which should have label `3`. Compute the precision-recall curve over the whole gallery for that first image.\n",
        "*   Compute the Average Precision for the same first image, and then report the Mean Average Precision in all of the test queries from $Q$.\n",
        "*   Count how many images with `label==3` are in the gallery. Assuming that we want to retrieve instances with`label==3`, report the ideal recall for the top 1000 retrieved images by a model that would always ranks the images from the correct class at the top.\n",
        "*   Report the precision and recall for the top 1000 retrieved images with the trained model when using `query_images[0]`.\n",
        "\n",
        "\n"
      ]
    },
    {
      "cell_type": "markdown",
      "metadata": {
        "id": "Xx00jmK399mc",
        "colab_type": "text"
      },
      "source": [
        "\n",
        "### Task 3: Regression Evaluation Measures\n"
      ]
    },
    {
      "cell_type": "code",
      "metadata": {
        "id": "KTMmbLRW9pzM",
        "colab_type": "code",
        "outputId": "9f4009a2-07e0-45e9-cf48-fa4259560e46",
        "colab": {
          "base_uri": "https://localhost:8080/",
          "height": 34
        }
      },
      "source": [
        "from keras.models import Sequential\n",
        "from keras.layers import Dense\n",
        "from keras.datasets import boston_housing\n",
        "\n",
        "(x_train, y_train), (x_test, y_test) = boston_housing.load_data()\n",
        "model_mae = Sequential()\n",
        "model_mae.add(Dense(100, activation='relu', input_shape=(13,)))\n",
        "model_mae.add(Dense(1))\n",
        "model_mae.compile(optimizer='adam',loss='mean_absolute_error', metrics=['mean_absolute_error', 'mean_squared_error'])\n",
        "history = model_mae.fit(x_train, y_train, epochs=50, batch_size=32, verbose=0)\n",
        "results = model_mae.evaluate(x_test, y_test)\n"
      ],
      "execution_count": 25,
      "outputs": [
        {
          "output_type": "stream",
          "text": [
            "102/102 [==============================] - 0s 2ms/step\n"
          ],
          "name": "stdout"
        }
      ]
    },
    {
      "cell_type": "markdown",
      "metadata": {
        "id": "97LXxVyN-5rF",
        "colab_type": "text"
      },
      "source": [
        "As mentioned in the tutorial, the metrics MAE and MSE are given in the results variable in the format `results=[mean_loss_test, metric_1, metric_2, etc...]`. For this exercise implement the MAPE and MSPE as custom metrics.\n",
        "\n",
        "**Report**\n",
        "*   For the given network, report MAE, MSE, MAPE and MSPE  obtained on the test set.\n",
        "*   Separate the values of `y_test` into bins of size 5, plot in a bar figure the MAE and MAPE for those bins. Thus we report the values of MAE and MAPE for the elements of `y_test` between 5-10, and between 10-15, and so on. Discuss the difference between the metrics."
      ]
    }
  ]
}