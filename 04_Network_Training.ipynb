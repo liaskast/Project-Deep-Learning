{
  "nbformat": 4,
  "nbformat_minor": 0,
  "metadata": {
    "colab": {
      "name": "2020_04_Network_Training.ipynb",
      "provenance": [],
      "collapsed_sections": [],
      "toc_visible": true,
      "include_colab_link": true
    },
    "kernelspec": {
      "name": "python3",
      "display_name": "Python 3"
    },
    "accelerator": "GPU"
  },
  "cells": [
    {
      "cell_type": "markdown",
      "metadata": {
        "id": "view-in-github",
        "colab_type": "text"
      },
      "source": [
        "<a href=\"https://colab.research.google.com/github/MatchLab-Imperial/deep-learning-course/blob/master/2020_04_Network_Training.ipynb\" target=\"_parent\"><img src=\"https://colab.research.google.com/assets/colab-badge.svg\" alt=\"Open In Colab\"/></a>"
      ]
    },
    {
      "cell_type": "markdown",
      "metadata": {
        "id": "91E7ozNTWvS9",
        "colab_type": "text"
      },
      "source": [
        "# Network Training\n",
        "\n",
        "In this tutorial, we will introduce different topics related to the training phase of deep neural networks,  including data augmentation, optimization/regularization techniques, weight initializations, loss function and hyperparameters tuning.\n"
      ]
    },
    {
      "cell_type": "markdown",
      "metadata": {
        "id": "hVa-ZTYsXhNT",
        "colab_type": "text"
      },
      "source": [
        "## Preliminary\n",
        "\n",
        "Similarly to past tutorials, we load the MNIST dataset and define a model for digit classification by using our own method `get_data_model`. We also define a new function `plot_history`, which plots the training loss and if required the validation loss. "
      ]
    },
    {
      "cell_type": "code",
      "metadata": {
        "id": "2aGBJBVmXd8b",
        "colab_type": "code",
        "outputId": "f30d81b6-153b-4be2-ec0d-763b9d8d1ed4",
        "colab": {
          "base_uri": "https://localhost:8080/",
          "height": 352
        }
      },
      "source": [
        "import numpy as np\n",
        "import keras \n",
        "from keras.models import Sequential\n",
        "from keras.layers import Dense\n",
        "from keras.utils import np_utils\n",
        "from keras.utils import to_categorical\n",
        "import matplotlib.pyplot as plt\n",
        "from keras.datasets import mnist\n",
        "import tensorflow as tf\n",
        "tf.logging.set_verbosity(tf.logging.ERROR)\n",
        "\n",
        "def plot_history(history, metric = None):\n",
        "  # Plots the loss history of training and validation (if existing)\n",
        "  # and a given metric\n",
        "  \n",
        "  if metric != None:\n",
        "    fig, axes = plt.subplots(2,1)\n",
        "    axes[0].plot(history.history[metric])\n",
        "    try:\n",
        "      axes[0].plot(history.history['val_'+metric])\n",
        "      axes[0].legend(['Train', 'Val'])\n",
        "    except:\n",
        "      pass\n",
        "    axes[0].set_title('{:s}'.format(metric))\n",
        "    axes[0].set_ylabel('{:s}'.format(metric))\n",
        "    axes[0].set_xlabel('Epoch')\n",
        "    fig.subplots_adjust(hspace=0.5)\n",
        "    axes[1].plot(history.history['loss'])\n",
        "    try:\n",
        "      axes[1].plot(history.history['val_loss'])\n",
        "      axes[1].legend(['Train', 'Val'])\n",
        "    except:\n",
        "      pass\n",
        "    axes[1].set_title('Model Loss')\n",
        "    axes[1].set_ylabel('Loss')\n",
        "    axes[1].set_xlabel('Epoch')\n",
        "  else:\n",
        "    plt.plot(history.history['loss'])\n",
        "    try:\n",
        "      plt.plot(history.history['val_loss'])\n",
        "      plt.legend(['Train', 'Val'])\n",
        "    except:\n",
        "      pass\n",
        "    plt.title('Model Loss')\n",
        "    plt.ylabel('Loss')\n",
        "    plt.xlabel('Epoch')\n",
        "  \n",
        "def get_data_model(args = {}):\n",
        "  # Returns simple model, flattened MNIST data and categorical labels\n",
        "  num_classes=10\n",
        "  \n",
        "  # the data, shuffled and split between train and test sets\n",
        "  (x_train, y_train), (x_test, y_test) = mnist.load_data()\n",
        "  x_train = x_train.reshape(x_train.shape[0], x_train.shape[1] * x_train.shape[2])\n",
        "  x_test = x_test.reshape(x_test.shape[0], x_test.shape[1] * x_test.shape[2])\n",
        "\n",
        "  x_train= x_train.astype('float32')\n",
        "  x_test= x_test.astype('float32')\n",
        "\n",
        "  x_train /= 255\n",
        "  x_test /= 255\n",
        "\n",
        "  y_train=to_categorical(y_train,num_classes)\n",
        "  y_test=to_categorical(y_test,num_classes)\n",
        "\n",
        "  # Load simple model\n",
        "  model = Sequential()\n",
        "  model.add(Dense(512, activation='relu', input_shape=(784,), **args))\n",
        "  model.add(Dense(512, activation='relu', **args))\n",
        "  model.add(Dense(10, activation='softmax', **args))\n",
        "  return model, x_train, y_train, x_test, y_test\n",
        "\n",
        "model, x_train, y_train, x_test, y_test = get_data_model()\n",
        "model.summary()\n"
      ],
      "execution_count": 3,
      "outputs": [
        {
          "output_type": "stream",
          "text": [
            "Using TensorFlow backend.\n"
          ],
          "name": "stderr"
        },
        {
          "output_type": "display_data",
          "data": {
            "text/html": [
              "<p style=\"color: red;\">\n",
              "The default version of TensorFlow in Colab will soon switch to TensorFlow 2.x.<br>\n",
              "We recommend you <a href=\"https://www.tensorflow.org/guide/migrate\" target=\"_blank\">upgrade</a> now \n",
              "or ensure your notebook will continue to use TensorFlow 1.x via the <code>%tensorflow_version 1.x</code> magic:\n",
              "<a href=\"https://colab.research.google.com/notebooks/tensorflow_version.ipynb\" target=\"_blank\">more info</a>.</p>\n"
            ],
            "text/plain": [
              "<IPython.core.display.HTML object>"
            ]
          },
          "metadata": {
            "tags": []
          }
        },
        {
          "output_type": "stream",
          "text": [
            "Downloading data from https://s3.amazonaws.com/img-datasets/mnist.npz\n",
            "11493376/11490434 [==============================] - 0s 0us/step\n",
            "Model: \"sequential_1\"\n",
            "_________________________________________________________________\n",
            "Layer (type)                 Output Shape              Param #   \n",
            "=================================================================\n",
            "dense_1 (Dense)              (None, 512)               401920    \n",
            "_________________________________________________________________\n",
            "dense_2 (Dense)              (None, 512)               262656    \n",
            "_________________________________________________________________\n",
            "dense_3 (Dense)              (None, 10)                5130      \n",
            "=================================================================\n",
            "Total params: 669,706\n",
            "Trainable params: 669,706\n",
            "Non-trainable params: 0\n",
            "_________________________________________________________________\n"
          ],
          "name": "stdout"
        }
      ]
    },
    {
      "cell_type": "markdown",
      "metadata": {
        "id": "mRx68ymWLCT7",
        "colab_type": "text"
      },
      "source": [
        "## Optimizers\n",
        "\n",
        "Once the model has been created, it is necessary to define an optimizer. In a deep learning problem, optimizers take in each time-step the gradient of the loss function respect to the weights of the network. Then, the weights are updated to minimize the loss value. Different optimizers follow different rules for updating the weights. For example, the vanilla Stochastic Gradient Descent (SGD) only uses the gradient in the current time-step $t$ and the learning rate to update the weights. \n",
        "\n",
        "Since there are methods more prone to get stuck in local minima and other methods converging faster, the choice of the optimizer can potentially affect both the final performance and the speed of convergence.  A nice visualization of such behavior is the following animation, where you can notice some methods, i.e., Adadelta in yellow, and Rmsprop in black converge significantly faster than SGD in red failing in local minima. \n",
        "\n",
        "![](http://ruder.io/content/images/2016/09/saddle_point_evaluation_optimizers.gif)\n",
        "\n",
        "The animation above is from [Sebastian Ruder's blog](http://ruder.io/optimizing-gradient-descent/), who wrote an interesting article about the math formulation and properties of different optimizers. In this tutorial, we will follow a hands-on approach and will mainly focus on how to use them in Keras. \n",
        "\n",
        "\n",
        "As a rule of thumb, Adam is usually easier to tune due to the adaptive learning rate, whereas SGD with momentum [has been shown](https://arxiv.org/pdf/1712.07628.pdf) to reach better results when tuned correctly. Consult the official documentation [Optimizers in Keras](https://keras.io/optimizers/) to see the available implemented optimizers in Keras.\n",
        "\n",
        "When defining a model in Keras we need to call the `compile` method, which  requires two arguments in string format: a loss function and an optimizer. For example, in the next piece of code we use as optimizer Adam, which is an widely used optimizer, and as our loss function the categorical cross-entropy."
      ]
    },
    {
      "cell_type": "code",
      "metadata": {
        "id": "9od5lUWMWu5X",
        "colab_type": "code",
        "outputId": "c760c495-80cd-408c-d569-90851799c46a",
        "colab": {
          "base_uri": "https://localhost:8080/",
          "height": 391
        }
      },
      "source": [
        "model.compile(optimizer='adam',loss='categorical_crossentropy')\n",
        "model.fit(x_train,y_train,batch_size=100, epochs=10, verbose=1,validation_data=(x_test,y_test))"
      ],
      "execution_count": 4,
      "outputs": [
        {
          "output_type": "stream",
          "text": [
            "Train on 60000 samples, validate on 10000 samples\n",
            "Epoch 1/10\n",
            "60000/60000 [==============================] - 12s 205us/step - loss: 0.2059 - val_loss: 0.0958\n",
            "Epoch 2/10\n",
            "60000/60000 [==============================] - 3s 42us/step - loss: 0.0776 - val_loss: 0.0890\n",
            "Epoch 3/10\n",
            "60000/60000 [==============================] - 2s 40us/step - loss: 0.0490 - val_loss: 0.0672\n",
            "Epoch 4/10\n",
            "60000/60000 [==============================] - 2s 41us/step - loss: 0.0366 - val_loss: 0.0677\n",
            "Epoch 5/10\n",
            "60000/60000 [==============================] - 3s 42us/step - loss: 0.0299 - val_loss: 0.0709\n",
            "Epoch 6/10\n",
            "60000/60000 [==============================] - 2s 41us/step - loss: 0.0223 - val_loss: 0.0853\n",
            "Epoch 7/10\n",
            "60000/60000 [==============================] - 3s 43us/step - loss: 0.0197 - val_loss: 0.0859\n",
            "Epoch 8/10\n",
            "60000/60000 [==============================] - 2s 41us/step - loss: 0.0171 - val_loss: 0.0771\n",
            "Epoch 9/10\n",
            "60000/60000 [==============================] - 2s 41us/step - loss: 0.0155 - val_loss: 0.0827\n",
            "Epoch 10/10\n",
            "60000/60000 [==============================] - 2s 41us/step - loss: 0.0147 - val_loss: 0.0836\n"
          ],
          "name": "stdout"
        },
        {
          "output_type": "execute_result",
          "data": {
            "text/plain": [
              "<keras.callbacks.History at 0x7f35b216aa90>"
            ]
          },
          "metadata": {
            "tags": []
          },
          "execution_count": 4
        }
      ]
    },
    {
      "cell_type": "markdown",
      "metadata": {
        "id": "-yDSecajTyc6",
        "colab_type": "text"
      },
      "source": [
        "## Initializers\n",
        "\n",
        "\n",
        "Neural Networks have a large number of weights that we need to initialize before starting training. Weight initialization is a crucial step in tuning neural networks as different initial values can lead the model to reach different local minima. The weights are usually randomly initialized by different algorithms, e.g. Xavier,  He_normal, LeCun. \n",
        "\n",
        "In Keras, you can set the particular initialization strategy you want to use as an argument when declaring a layer. For example, in the function `Dense()` which defines the mapping $y= Ax + b$, you can initialize the kernel values ($A$ in the equation) with a normal distribution (by default the `stddev` is 0.05) and the bias ($b$ in the equation) with $0$ using the code below."
      ]
    },
    {
      "cell_type": "code",
      "metadata": {
        "id": "A6lzySByXcMB",
        "colab_type": "code",
        "colab": {}
      },
      "source": [
        "linear_layer = Dense(64, kernel_initializer='random_normal',\n",
        "                bias_initializer='zeros')"
      ],
      "execution_count": 0,
      "outputs": []
    },
    {
      "cell_type": "markdown",
      "metadata": {
        "id": "oF_EVmyooqYL",
        "colab_type": "text"
      },
      "source": [
        "Now let's check the weights of the layers and see if they follow the distributions we set. "
      ]
    },
    {
      "cell_type": "code",
      "metadata": {
        "id": "YgHC0CSmowIK",
        "colab_type": "code",
        "outputId": "ddf0feab-1085-40ee-cb61-52df8ed8eed0",
        "colab": {
          "base_uri": "https://localhost:8080/",
          "height": 238
        }
      },
      "source": [
        "from keras.layers import Input\n",
        "import numpy as np\n",
        "from keras import backend as K\n",
        "input_x = K.variable(np.random.random((1, 64)))\n",
        "y = linear_layer(input_x)\n",
        "weights = linear_layer.get_weights()\n",
        "# Weights return an array with [kernel, bias]\n",
        "# Let's see the kernel weights\n",
        "print(weights[0])"
      ],
      "execution_count": 6,
      "outputs": [
        {
          "output_type": "stream",
          "text": [
            "[[ 0.04035673  0.0194908   0.04579018 ... -0.05498166  0.07672695\n",
            "   0.05728488]\n",
            " [ 0.03315612  0.00971843  0.06341536 ... -0.02826347  0.03701399\n",
            "   0.03372418]\n",
            " [ 0.02284417 -0.02099259  0.0636925  ... -0.0410321   0.02925151\n",
            "  -0.00930472]\n",
            " ...\n",
            " [ 0.01462967 -0.00760535  0.01634391 ... -0.00366985  0.01083108\n",
            "  -0.03410503]\n",
            " [ 0.02426023  0.03741289 -0.03115737 ... -0.00929854 -0.04618856\n",
            "  -0.03070786]\n",
            " [-0.08283774  0.03905994  0.05300927 ...  0.02122171 -0.05231838\n",
            "   0.01647863]]\n"
          ],
          "name": "stdout"
        }
      ]
    },
    {
      "cell_type": "code",
      "metadata": {
        "id": "kLDzNuqUp2M8",
        "colab_type": "code",
        "outputId": "3cd952e0-7757-4d8e-a07a-6b8ed732303f",
        "colab": {
          "base_uri": "https://localhost:8080/",
          "height": 34
        }
      },
      "source": [
        "# Now let's check that the mean is 0 and stddev is 0.05\n",
        "print(weights[0].mean(), weights[0].std())"
      ],
      "execution_count": 7,
      "outputs": [
        {
          "output_type": "stream",
          "text": [
            "-0.0008680033 0.050154995\n"
          ],
          "name": "stdout"
        }
      ]
    },
    {
      "cell_type": "code",
      "metadata": {
        "id": "Uohj6D4rqTfT",
        "colab_type": "code",
        "outputId": "84138382-95db-4fb9-fdde-744566911c07",
        "colab": {
          "base_uri": "https://localhost:8080/",
          "height": 68
        }
      },
      "source": [
        "# Let's print the bias now\n",
        "print(weights[1])"
      ],
      "execution_count": 8,
      "outputs": [
        {
          "output_type": "stream",
          "text": [
            "[0. 0. 0. 0. 0. 0. 0. 0. 0. 0. 0. 0. 0. 0. 0. 0. 0. 0. 0. 0. 0. 0. 0. 0.\n",
            " 0. 0. 0. 0. 0. 0. 0. 0. 0. 0. 0. 0. 0. 0. 0. 0. 0. 0. 0. 0. 0. 0. 0. 0.\n",
            " 0. 0. 0. 0. 0. 0. 0. 0. 0. 0. 0. 0. 0. 0. 0. 0.]\n"
          ],
          "name": "stdout"
        }
      ]
    },
    {
      "cell_type": "markdown",
      "metadata": {
        "id": "69NkDCipqbmg",
        "colab_type": "text"
      },
      "source": [
        "The number of initializations available in Keras is listed [in the documentation](https://keras.io/initializers/). By default in Keras the kernel weights are initialized as `'glorot_uniform'` and the bias to `'zeros'`. Glorot uniform, which is also called Xavier initialization was defined [here](http://proceedings.mlr.press/v9/glorot10a/glorot10a.pdf). It samples the weights from a uniform distribution, whose range depends on the number of input and output units. Another initializer quite used is the `he_normal`, which draws the weights from a truncated normal distribution."
      ]
    },
    {
      "cell_type": "markdown",
      "metadata": {
        "id": "1-8ittW2L1DI",
        "colab_type": "text"
      },
      "source": [
        "## Loss\n",
        "\n",
        "Another important step in training deep neural networks is the choice of the loss function, which strictly depends on your problem. In this tutorial, we will introduce two typical losses i.e., cross entropy and mean squared error, for two standard problems in machine learning: classification and regression. The full list of standard losses in Keras is available [here](https://keras.io/losses/)."
      ]
    },
    {
      "cell_type": "markdown",
      "metadata": {
        "id": "0T8aSdjCtSSO",
        "colab_type": "text"
      },
      "source": [
        "### Classification\n",
        "\n",
        "For classification problems, the standard loss used is the cross-entropy loss. For the binary case, the formula is $\\mathcal{L} = y\\log(p) + (1-y)\\log(1-p)$, where $p$ is a probability value between $[0, 1]$.\n",
        "To constrain the activations to assume such values, typically a [Sigmoid activation](https://en.wikipedia.org/wiki/Sigmoid_function) is applied. In Keras, the presented binary classification loss is called `binary_crossentropy`, and it accepts as target a vector with an element in the range $[0, 1]$ (usually either $0$ or $1$) per input element."
      ]
    },
    {
      "cell_type": "code",
      "metadata": {
        "id": "LUQhLNxr5VA7",
        "colab_type": "code",
        "outputId": "d4d913ba-1fbb-4ae6-99ad-a6c243631b71",
        "colab": {
          "base_uri": "https://localhost:8080/",
          "height": 295
        }
      },
      "source": [
        "model, x_train, y_train, x_test, y_test = get_data_model()\n",
        "model.pop()\n",
        "model.add(Dense(1, activation='sigmoid'))\n",
        "\n",
        "# This three lines transform the problem in a binary one\n",
        "# We want to know if the number is bigger than 5 (label 1) or smaller (label 0)\n",
        "y_train = np.argmax(y_train, axis = 1)\n",
        "y_train[y_train < 5] = 0\n",
        "y_train[y_train >= 5] = 1\n",
        "\n",
        "\n",
        "model.compile(optimizer='adam',loss='binary_crossentropy', metrics=['binary_accuracy'])\n",
        "history = model.fit(x_train, y_train, epochs=3, batch_size=32,  validation_split=0.2, verbose = 0)\n",
        "plot_history(history, 'binary_accuracy')"
      ],
      "execution_count": 9,
      "outputs": [
        {
          "output_type": "display_data",
          "data": {
            "image/png": "[encoded data removed]",
            "text/plain": [
              "<Figure size 432x288 with 2 Axes>"
            ]
          },
          "metadata": {
            "tags": []
          }
        }
      ]
    },
    {
      "cell_type": "markdown",
      "metadata": {
        "id": "6jvNHqg--XYy",
        "colab_type": "text"
      },
      "source": [
        "In case the number of classes is higher than 2, we use the cross-entropy loss, which has the form of $\\mathcal{L} = -\\sum_i y_i\\log(p_i)$. The loss is called `categorical_crossentropy` in Keras, and accepts one-hot encoded vectors. A one-hot encoded vector has dimensionality $C$, where $C$ is the number of classes. All of the elements are set to 0, minus the corresponding class $c$, which is set to 1. If we have a vector of labels with a scalar from $[0, C)$ per training example, we can transform it into a one-hot encoding form by using the function `to_categorical`.  \n",
        "\n",
        "Let's see an example using MNIST data."
      ]
    },
    {
      "cell_type": "code",
      "metadata": {
        "id": "v_YBOLN77S1I",
        "colab_type": "code",
        "outputId": "ea42b152-753c-45f2-f7f0-8645dd304ece",
        "colab": {
          "base_uri": "https://localhost:8080/",
          "height": 34
        }
      },
      "source": [
        "(x_train, y_train), (x_test, y_test) = mnist.load_data()\n",
        "# The labels are an scalar from 0 to 9 per example\n",
        "print(y_train[:5])"
      ],
      "execution_count": 10,
      "outputs": [
        {
          "output_type": "stream",
          "text": [
            "[5 0 4 1 9]\n"
          ],
          "name": "stdout"
        }
      ]
    },
    {
      "cell_type": "code",
      "metadata": {
        "id": "Rgm-W7sa5U-P",
        "colab_type": "code",
        "outputId": "a31e5b9e-5e73-4a06-88b7-77daac2c76da",
        "colab": {
          "base_uri": "https://localhost:8080/",
          "height": 102
        }
      },
      "source": [
        "keras.utils.to_categorical(y_train[:5])"
      ],
      "execution_count": 11,
      "outputs": [
        {
          "output_type": "execute_result",
          "data": {
            "text/plain": [
              "array([[0., 0., 0., 0., 0., 1., 0., 0., 0., 0.],\n",
              "       [1., 0., 0., 0., 0., 0., 0., 0., 0., 0.],\n",
              "       [0., 0., 0., 0., 1., 0., 0., 0., 0., 0.],\n",
              "       [0., 1., 0., 0., 0., 0., 0., 0., 0., 0.],\n",
              "       [0., 0., 0., 0., 0., 0., 0., 0., 0., 1.]], dtype=float32)"
            ]
          },
          "metadata": {
            "tags": []
          },
          "execution_count": 11
        }
      ]
    },
    {
      "cell_type": "markdown",
      "metadata": {
        "id": "OR_lJgB6CfFd",
        "colab_type": "text"
      },
      "source": [
        "The output vector needs to be $\\sum_i p_i = 1$, and we achieve that by applying the softmax activation function to the output vector."
      ]
    },
    {
      "cell_type": "code",
      "metadata": {
        "id": "BVTAPlc_B99R",
        "colab_type": "code",
        "outputId": "5ee5e17d-d6f4-4586-8540-aeb50dd326cc",
        "colab": {
          "base_uri": "https://localhost:8080/",
          "height": 295
        }
      },
      "source": [
        "# We use the function get_data_model, which already applies to_categorical\n",
        "_, x_train, y_train, x_test, y_test = get_data_model()\n",
        "\n",
        "### Model defined with softmax\n",
        "model = Sequential()\n",
        "model.add(Dense(512, activation='relu', input_shape=(784,)))\n",
        "model.add(Dense(512, activation='relu'))\n",
        "model.add(Dense(10, activation='softmax'))\n",
        "\n",
        "model.compile(optimizer='adam',loss='categorical_crossentropy', metrics=['categorical_accuracy'])\n",
        "history = model.fit(x_train, y_train, epochs=3, batch_size=32,  validation_split=0.2, verbose = 0)\n",
        "plot_history(history, 'categorical_accuracy')"
      ],
      "execution_count": 12,
      "outputs": [
        {
          "output_type": "display_data",
          "data": {
            "image/png": "[encoded data removed]",
            "text/plain": [
              "<Figure size 432x288 with 2 Axes>"
            ]
          },
          "metadata": {
            "tags": []
          }
        }
      ]
    },
    {
      "cell_type": "markdown",
      "metadata": {
        "id": "iFuOCwNftQgH",
        "colab_type": "text"
      },
      "source": [
        "### Regression\n",
        "For regression problems it is quite standard to use as losses the Mean Squared Error (MSE) or Mean Absolute Error (MAE), depending on the problem. \n",
        "\n",
        "As in the evaluation measures exercise, we will load the Boston Housing dataset."
      ]
    },
    {
      "cell_type": "code",
      "metadata": {
        "id": "Li20u1NjrwS5",
        "colab_type": "code",
        "outputId": "96c547e3-7354-4646-97d8-992f60199c41",
        "colab": {
          "base_uri": "https://localhost:8080/",
          "height": 68
        }
      },
      "source": [
        "from keras.datasets import boston_housing\n",
        "\n",
        "(x_train, y_train), (x_test, y_test) = boston_housing.load_data()\n",
        "print(y_train[:10])"
      ],
      "execution_count": 13,
      "outputs": [
        {
          "output_type": "stream",
          "text": [
            "Downloading data from https://s3.amazonaws.com/keras-datasets/boston_housing.npz\n",
            "57344/57026 [==============================] - 0s 1us/step\n",
            "[15.2 42.3 50.  21.1 17.7 18.5 11.3 15.6 15.6 14.4]\n"
          ],
          "name": "stdout"
        }
      ]
    },
    {
      "cell_type": "markdown",
      "metadata": {
        "id": "0JO5_oiCyPzR",
        "colab_type": "text"
      },
      "source": [
        "We see that the labels are float numbers, and our goal is to predict them. To do so, we need a network that has only one output. Now, we will train the network using MAE and MSE. "
      ]
    },
    {
      "cell_type": "code",
      "metadata": {
        "id": "RSJH6_Mfsjp-",
        "colab_type": "code",
        "colab": {}
      },
      "source": [
        "model_mae = Sequential()\n",
        "model_mae.add(Dense(100, activation='relu', input_shape=(13,)))\n",
        "model_mae.add(Dense(1))\n",
        "model_mae.compile(optimizer='adam',loss='mean_absolute_error', metrics=['mean_absolute_error', 'mean_squared_error'])\n",
        "history = model_mae.fit(x_train, y_train, epochs=100, batch_size=32,  validation_split=0.2, verbose = 0)"
      ],
      "execution_count": 0,
      "outputs": []
    },
    {
      "cell_type": "code",
      "metadata": {
        "id": "J2xZRys8zNsD",
        "colab_type": "code",
        "outputId": "3df6370a-91a2-4ef2-feea-77d32ed09d34",
        "colab": {
          "base_uri": "https://localhost:8080/",
          "height": 295
        }
      },
      "source": [
        "plot_history(history, 'mean_absolute_error')"
      ],
      "execution_count": 15,
      "outputs": [
        {
          "output_type": "display_data",
          "data": {
            "image/png": "[encoded data removed]",
            "text/plain": [
              "<Figure size 432x288 with 2 Axes>"
            ]
          },
          "metadata": {
            "tags": []
          }
        }
      ]
    },
    {
      "cell_type": "code",
      "metadata": {
        "id": "2XYKtV1GzMQg",
        "colab_type": "code",
        "colab": {}
      },
      "source": [
        "model_mse = Sequential()\n",
        "model_mse.add(Dense(100, activation='relu', input_shape=(13,)))\n",
        "model_mse.add(Dense(1))\n",
        "model_mse.compile(optimizer='adam',loss='mean_squared_error', metrics=['mean_absolute_error', 'mean_squared_error'])\n",
        "history = model_mse.fit(x_train, y_train, epochs=100, batch_size=32,  validation_split=0.2, verbose = 0)"
      ],
      "execution_count": 0,
      "outputs": []
    },
    {
      "cell_type": "code",
      "metadata": {
        "id": "SBZB_MDCw1Os",
        "colab_type": "code",
        "outputId": "d3bc8b0f-410e-4508-9baa-f69e934bf44f",
        "colab": {
          "base_uri": "https://localhost:8080/",
          "height": 295
        }
      },
      "source": [
        "plot_history(history, 'mean_squared_error')"
      ],
      "execution_count": 17,
      "outputs": [
        {
          "output_type": "display_data",
          "data": {
            "image/png": "[encoded data removed]",
            "text/plain": [
              "<Figure size 432x288 with 2 Axes>"
            ]
          },
          "metadata": {
            "tags": []
          }
        }
      ]
    },
    {
      "cell_type": "code",
      "metadata": {
        "id": "aMHRntQU0mrM",
        "colab_type": "code",
        "outputId": "c6e7bb99-4d07-4242-c47f-6092e82f8bc7",
        "colab": {
          "base_uri": "https://localhost:8080/",
          "height": 51
        }
      },
      "source": [
        "results = model_mae.evaluate(x_test, y_test)\n",
        "print('MAE trained model achieves MAE: {:.4f} and MSE: {:.4f}'.format(results[1], results[2]))"
      ],
      "execution_count": 18,
      "outputs": [
        {
          "output_type": "stream",
          "text": [
            "102/102 [==============================] - 0s 91us/step\n",
            "MAE trained model achieves MAE: 4.4162 and MSE: 32.7921\n"
          ],
          "name": "stdout"
        }
      ]
    },
    {
      "cell_type": "code",
      "metadata": {
        "id": "df2igCnI030F",
        "colab_type": "code",
        "outputId": "cc6e9fbd-7ea5-4952-be9c-109f2cf1f85f",
        "colab": {
          "base_uri": "https://localhost:8080/",
          "height": 51
        }
      },
      "source": [
        "results = model_mse.evaluate(x_test, y_test)\n",
        "print('MSE trained model achieves MAE: {:.4f} and MSE: {:.4f}'.format(results[1], results[2]))"
      ],
      "execution_count": 19,
      "outputs": [
        {
          "output_type": "stream",
          "text": [
            "102/102 [==============================] - 0s 71us/step\n",
            "MSE trained model achieves MAE: 4.5942 and MSE: 42.6106\n"
          ],
          "name": "stdout"
        }
      ]
    },
    {
      "cell_type": "markdown",
      "metadata": {
        "id": "hWr2tc7l0IdG",
        "colab_type": "text"
      },
      "source": [
        "The plots show that training using MSE as loss achieves a better MSE and worse MAE in the test set compared to the model training with MAE loss."
      ]
    },
    {
      "cell_type": "markdown",
      "metadata": {
        "id": "vnEITU4iy6Q5",
        "colab_type": "text"
      },
      "source": [
        "Now let's print some predicted prices from the test set, along with the actual price, just to have an intuition of the output values."
      ]
    },
    {
      "cell_type": "code",
      "metadata": {
        "id": "uTPGyWHxydF_",
        "colab_type": "code",
        "outputId": "b6dafdb8-fc0e-4bd1-db45-ee7d99e99371",
        "colab": {
          "base_uri": "https://localhost:8080/",
          "height": 51
        }
      },
      "source": [
        "pred_prices = model_mae.predict(x_test)\n",
        "print(np.around(pred_prices[:10, 0], 2))\n",
        "print(y_test[:10])"
      ],
      "execution_count": 20,
      "outputs": [
        {
          "output_type": "stream",
          "text": [
            "[13.58 23.49 26.32 28.32 26.89 25.07 29.7  25.96 22.47 21.81]\n",
            "[ 7.2 18.8 19.  27.  22.2 24.5 31.2 22.9 20.5 23.2]\n"
          ],
          "name": "stdout"
        }
      ]
    },
    {
      "cell_type": "markdown",
      "metadata": {
        "id": "z_VeO_-ORHnn",
        "colab_type": "text"
      },
      "source": [
        "A problem usually treated as a regression problem with deep learning approaches is depth estimation, where the depth of an image is estimated using the RGB information. Some other regression losses are also used in some settings (e.g. Huber loss or Reverse Huber loss, or the already introduced Mean Percentage Absolute Error), but MAE and MSE are the most widely used. "
      ]
    },
    {
      "cell_type": "markdown",
      "metadata": {
        "id": "miKutjvgtXuS",
        "colab_type": "text"
      },
      "source": [
        "## Regularization\n",
        "As mentioned in the lecture, regularization is an effective tool to fight some of the problems we may have during training, such as vanishing/exploding gradients or overfitting to the training set. We now mention some of the usual ways to regularize our training process. "
      ]
    },
    {
      "cell_type": "markdown",
      "metadata": {
        "id": "F-VrqhSbWJ9t",
        "colab_type": "text"
      },
      "source": [
        "### Loss regularizers\n",
        "\n",
        "[Regularizers](https://keras.io/regularizers/)  put some penalties to the optimization process. In practice by penalizing large values, weights are constrained to be small which can help us prevent overfitting.\n",
        "\n",
        "In Keras regularization works on a per-layer basis. It means you can define a regularization function for each layer. In particular,  you can specify three regularization parameters each one related to a different type of penalty:\n",
        "\n",
        "*   `kernel_regularizer`: a penalty depending on the value of the kernel weights, e.g, larger kernel weights result in larger penalization.\n",
        "*   `bias_regularizer`: a penalty depending on the loss function is applied to the value of the bias. If you want the output function to pass through (or have an intercept closer to) the origin, you can use the `bias_regularizer`.\n",
        "*   `activity_regularizer`: a penalty applied to the loss function depending on the layer's output. It results in smaller outputs in value when this regularizer is applied.\n",
        "\n",
        "Standard regularizers that can be applied are $l_1$, $l_2$ and $l_1+l_2$. \n",
        "In the example below, we check the difference in training and validation accuracy by varying the used regularization strategy.\n"
      ]
    },
    {
      "cell_type": "code",
      "metadata": {
        "id": "zv4c80XD_Yzr",
        "colab_type": "code",
        "outputId": "7337306d-4cc6-48e5-d549-555a975a2d97",
        "colab": {
          "base_uri": "https://localhost:8080/",
          "height": 533
        }
      },
      "source": [
        "from keras import regularizers\n",
        "test_accuracy = []\n",
        "train_accuracy = []\n",
        "reg_values = [0.001, 0.0003, 0.0001, 0.00003, 0.00001, 0.000003, 0.000001]\n",
        "\n",
        "for reg_val in reg_values: \n",
        "  print('Training with regularization value of {:f}'.format(reg_val))\n",
        "  args_dict = {'kernel_regularizer': regularizers.l2(reg_val)}\n",
        "  model, x_train, y_train, x_test, y_test = get_data_model(args_dict)\n",
        "  model.compile(optimizer='adam',loss='categorical_crossentropy', metrics=['accuracy'])\n",
        "  history = model.fit(x_train, y_train, epochs=10, batch_size=256, verbose=0)\n",
        "  train_accuracy.append(history.history['acc'][-1])\n",
        "  test_accuracy.append(model.evaluate(x_test, y_test)[-1])\n",
        "\n",
        "import matplotlib.pyplot as plt\n",
        "plt.figure()\n",
        "plt.plot(reg_values, train_accuracy)\n",
        "plt.plot(reg_values, test_accuracy)\n",
        "plt.legend(['Training acc.', 'Test acc.'])\n",
        "plt.title('Accuracy vs. Regularization value')\n",
        "plt.ylabel('Accuracy')\n",
        "plt.xlabel('Regularization value')\n",
        "plt.show()\n",
        "  "
      ],
      "execution_count": 21,
      "outputs": [
        {
          "output_type": "stream",
          "text": [
            "Training with regularization value of 0.001000\n",
            "10000/10000 [==============================] - 1s 58us/step\n",
            "Training with regularization value of 0.000300\n",
            "10000/10000 [==============================] - 1s 54us/step\n",
            "Training with regularization value of 0.000100\n",
            "10000/10000 [==============================] - 1s 64us/step\n",
            "Training with regularization value of 0.000030\n",
            "10000/10000 [==============================] - 1s 60us/step\n",
            "Training with regularization value of 0.000010\n",
            "10000/10000 [==============================] - 1s 67us/step\n",
            "Training with regularization value of 0.000003\n",
            "10000/10000 [==============================] - 1s 68us/step\n",
            "Training with regularization value of 0.000001\n",
            "10000/10000 [==============================] - 1s 68us/step\n"
          ],
          "name": "stdout"
        },
        {
          "output_type": "display_data",
          "data": {
            "image/png": "[encoded data removed]",
            "text/plain": [
              "<Figure size 432x288 with 1 Axes>"
            ]
          },
          "metadata": {
            "tags": []
          }
        }
      ]
    },
    {
      "cell_type": "markdown",
      "metadata": {
        "id": "liYOHIYT8YlT",
        "colab_type": "text"
      },
      "source": [
        "In this example, regularizing the weights actually dropped the final accuracy, although we see how the gap between training and test accuracy decreases. "
      ]
    },
    {
      "cell_type": "markdown",
      "metadata": {
        "id": "FJ-J7tWRTQU7",
        "colab_type": "text"
      },
      "source": [
        "### Dropout\n",
        "\n",
        "Dropout is another regularization technique that can be applied. A Dropout layer deactivates during training some weights of the model by setting elements to 0 with a certain probability. The dropout value, i.e., the probability of disabling the input units, can be set as a parameter when defining a layer. In the evaluation phase, all of the weights are activated and dropout does not have any effect on the model. The dropout layer also scales during training the non-zero elements by 1/(1-prob_drop) to maintain a similar norm between training and evaluation. \n",
        "\n",
        "For example, in the following layer, the dropout value is 0.3, meaning 30% of the input data is switched off during training."
      ]
    },
    {
      "cell_type": "code",
      "metadata": {
        "id": "HEqZN0LyTv1F",
        "colab_type": "code",
        "colab": {}
      },
      "source": [
        "prob_drop = 0.3\n",
        "drop = keras.layers.Dropout(prob_drop)"
      ],
      "execution_count": 0,
      "outputs": []
    },
    {
      "cell_type": "code",
      "metadata": {
        "id": "Pqcb3TWCWe4e",
        "colab_type": "code",
        "outputId": "a251ce90-dc18-488c-83ea-8c5003823edd",
        "colab": {
          "base_uri": "https://localhost:8080/",
          "height": 119
        }
      },
      "source": [
        "from keras.layers import Dropout\n",
        "import numpy as np\n",
        "from keras import backend as K\n",
        "x = np.random.random((1, 512))\n",
        "input_x = K.variable(x)\n",
        "# Set learning phase is used to manually setting\n",
        "# the phase (0 evaluation, 1 training)\n",
        "# Dropout only affects training, so we set it to 1\n",
        "K.set_learning_phase(1)\n",
        "y = K.eval(drop(input_x))\n",
        "print('Input (10 elements)')\n",
        "print(x[0,0:10])\n",
        "print('Output (10 elements)')\n",
        "print(y[0,0:10])"
      ],
      "execution_count": 23,
      "outputs": [
        {
          "output_type": "stream",
          "text": [
            "Input (10 elements)\n",
            "[0.31631946 0.02094538 0.18838843 0.84363962 0.74000742 0.95778424\n",
            " 0.9440196  0.08268878 0.5437736  0.52854259]\n",
            "Output (10 elements)\n",
            "[0.45188496 0.02992198 0.         0.         1.0571535  1.3682632\n",
            " 0.         0.11812683 0.7768194  0.75506085]\n"
          ],
          "name": "stdout"
        }
      ]
    },
    {
      "cell_type": "markdown",
      "metadata": {
        "id": "iXhWs8c1Xw3h",
        "colab_type": "text"
      },
      "source": [
        "We now check what percentage of elements have been set to 0, and what is the scaling value the other elements have."
      ]
    },
    {
      "cell_type": "code",
      "metadata": {
        "id": "8njS0-XRXVsc",
        "colab_type": "code",
        "outputId": "331f6a96-398b-499a-fd20-2a04622a22bb",
        "colab": {
          "base_uri": "https://localhost:8080/",
          "height": 85
        }
      },
      "source": [
        "print('Drop percentage, should be close to {:f}'.format(prob_drop))\n",
        "print(((y==0).sum())/(1.0*y.shape[1]))\n",
        "\n",
        "print('Scaling value, should be {:f}'.format(1/(1-prob_drop)))\n",
        "print(((y[y!=0]).sum())/(1.0*x[y!=0].sum()))\n"
      ],
      "execution_count": 24,
      "outputs": [
        {
          "output_type": "stream",
          "text": [
            "Drop percentage, should be close to 0.300000\n",
            "0.294921875\n",
            "Scaling value, should be 1.428571\n",
            "1.428571394912989\n"
          ],
          "name": "stdout"
        }
      ]
    },
    {
      "cell_type": "markdown",
      "metadata": {
        "id": "C98HL1rgVACR",
        "colab_type": "text"
      },
      "source": [
        "### Batch Normalization\n",
        "\n",
        "Batch Normalization computes the mean and the standard deviation per channel, i.e. given a feature map of dimensionality $B\\times H\\times W\\times C$ ($B$ is batch size, $H,W$ spatial dimensions and $C$ number of feature channels) the layer computes the mean $\\mu$ and standard deviation $\\sigma$, where $\\mu$ and $\\sigma$ have dimensionality $1\\times 1\\times 1\\times C$. Then, the mean $\\mu$ and the standard deviation $\\sigma$ of the batch are used to standardize all of the dimensions of the input feature to follow a distribution with mean 0 and variance 1.\n",
        "The layer is defined in Keras by using:"
      ]
    },
    {
      "cell_type": "code",
      "metadata": {
        "id": "mt2E2uTqWGBB",
        "colab_type": "code",
        "colab": {}
      },
      "source": [
        "batch_norm = keras.layers.BatchNormalization(axis=-1, input_shape=[10,10,1])"
      ],
      "execution_count": 0,
      "outputs": []
    },
    {
      "cell_type": "markdown",
      "metadata": {
        "id": "ax8OE0cbZA7X",
        "colab_type": "text"
      },
      "source": [
        "Now we will generate a batch of 512x1 (a batch of 512 vectors of only 1 channel) using `np.random.random`, which is a uniform distribution under the $[0, 1)$ interval, resulting in mean 0.5 and variance 1/12. Finally, the batch normalization layer scales the distribution to have mean 0 and variance 1.\n",
        "\n"
      ]
    },
    {
      "cell_type": "code",
      "metadata": {
        "id": "8IS_u-HKY1WR",
        "colab_type": "code",
        "outputId": "f7d4c280-4a92-4247-ca02-9db0cddbf004",
        "colab": {
          "base_uri": "https://localhost:8080/",
          "height": 119
        }
      },
      "source": [
        "from keras.layers import BatchNormalization\n",
        "import numpy as np\n",
        "from keras import backend as K\n",
        "K.set_learning_phase(1)\n",
        "x = np.random.random((512, 10, 10, 1))\n",
        "input_x = K.variable(x)\n",
        "y = K.eval(batch_norm(input_x))\n",
        "print('Input')\n",
        "print(x[:10, 0, 0, 0])\n",
        "print('Output')\n",
        "print(y[:10, 0, 0, 0])"
      ],
      "execution_count": 26,
      "outputs": [
        {
          "output_type": "stream",
          "text": [
            "Input\n",
            "[0.82702676 0.07231708 0.48185461 0.05481748 0.09892957 0.41481065\n",
            " 0.39484623 0.0929214  0.6994425  0.12298952]\n",
            "Output\n",
            "[ 1.1229484  -1.4812295  -0.06809197 -1.5416132  -1.3894014  -0.2994318\n",
            " -0.36832044 -1.4101329   0.6827101  -1.3063807 ]\n"
          ],
          "name": "stdout"
        }
      ]
    },
    {
      "cell_type": "code",
      "metadata": {
        "id": "ILdlLzAtZ3sp",
        "colab_type": "code",
        "outputId": "e6d1d2a3-16d5-454b-dceb-10fc24aaa100",
        "colab": {
          "base_uri": "https://localhost:8080/",
          "height": 51
        }
      },
      "source": [
        "# Input mean should be ~0.5 and var ~1/12=0.0833\n",
        "print(x.mean(), x.var())\n",
        "# Output mean should be ~0 and var ~1\n",
        "print(y.mean(), y.var())"
      ],
      "execution_count": 27,
      "outputs": [
        {
          "output_type": "stream",
          "text": [
            "0.5015881786295021 0.08298823971008071\n",
            "4.3921172e-08 0.98809344\n"
          ],
          "name": "stdout"
        }
      ]
    },
    {
      "cell_type": "markdown",
      "metadata": {
        "id": "iDOne7XbrEhL",
        "colab_type": "text"
      },
      "source": [
        "Batch normalization changes behaviour in evaluation mode. During training the layer also tracks the moving average of both mean and variance, which are then used to normalize the testing data without having to use the statistics from the testing batch."
      ]
    },
    {
      "cell_type": "markdown",
      "metadata": {
        "id": "NuF3Y5DoKylT",
        "colab_type": "text"
      },
      "source": [
        "## HyperParameters Tuning\n",
        "\n",
        "When training our model, we need to decide the value of several hyperparameters, what regularization techniques we employ, or the loss used to train the model, among others. To decide these values we should not use as guidance the performance in the test set, as it may lead to overfitting to that set, and in turn to an erroneous estimate of the performance of the model in non-seen data. Hence, we use what is called a validation set, which we use to tweak the hyperparameters. To define a validation split automatically in Keras, we can use two relevant arguments in the `fit` method: `validation_split` and `validation_data`. The argument passed to `validation_split` (0 by default) determines the ratio of the training set for validation purposes. For example,    \n",
        "```\n",
        "model.fit(x_train, y_train, ..., validation_split=0.2)\n",
        "```\n",
        "uses 20% of `x_train` as validation data.\n",
        "\n",
        "Unfortunately, the validation data is randomly sampled and we can not fix the same splits during evaluations, so results are not directly comparable. To solve this problem, an option is using the `validation_data` argument, where we can pass directly the split of data we want to use as validation in the form of a tuple `(data, labels)`. \n",
        "\n",
        "Let's see how we can do the split. First, we load the data:"
      ]
    },
    {
      "cell_type": "code",
      "metadata": {
        "id": "WWL_GXrnT_xS",
        "colab_type": "code",
        "colab": {}
      },
      "source": [
        "model, x_train, y_train, x_test, y_test = get_data_model()"
      ],
      "execution_count": 0,
      "outputs": []
    },
    {
      "cell_type": "markdown",
      "metadata": {
        "id": "XKS6nnKAUBJT",
        "colab_type": "text"
      },
      "source": [
        "Now, we want to split `x_train` in training and validation, but we also need to follow the same partition for `y_train`. We can do so by using `numpy` functions:"
      ]
    },
    {
      "cell_type": "code",
      "metadata": {
        "id": "dVMgy4n7UOdL",
        "colab_type": "code",
        "outputId": "41dcacf1-3835-4a64-ace7-8772be03e289",
        "colab": {
          "base_uri": "https://localhost:8080/",
          "height": 34
        }
      },
      "source": [
        "import numpy\n",
        "\n",
        "# We initialize the pseudo-random number generator \n",
        "# in order to be able to reproduce the splits\n",
        "numpy.random.seed(1234)\n",
        "\n",
        "# We shuffle the indices in case the dataset follows an ordering\n",
        "# If we do not shuffle we may take only a subset of classes if the dataset is\n",
        "# ordered\n",
        "indices = numpy.random.permutation(x_train.shape[0])\n",
        "\n",
        "val_ratio = 0.2\n",
        "n_indices_train = int((1-val_ratio) * x_train.shape[0])\n",
        "train_idx, val_idx = indices[:n_indices_train], indices[n_indices_train:]\n",
        "x_train, x_val = x_train[train_idx,:], x_train[val_idx,:]\n",
        "y_train, y_val = y_train[train_idx], y_train[val_idx]\n",
        "print(x_train.shape[0], x_val.shape[0])\n"
      ],
      "execution_count": 29,
      "outputs": [
        {
          "output_type": "stream",
          "text": [
            "48000 12000\n"
          ],
          "name": "stdout"
        }
      ]
    },
    {
      "cell_type": "markdown",
      "metadata": {
        "id": "yBf2hHC_WF-U",
        "colab_type": "text"
      },
      "source": [
        "Another way is to use a package called `sklearn`, which contains a function called `train_test_split` that performs the split."
      ]
    },
    {
      "cell_type": "code",
      "metadata": {
        "id": "Hy2DPVA9WFjk",
        "colab_type": "code",
        "outputId": "4b67e776-98db-4338-9de8-c956ef04a5a5",
        "colab": {
          "base_uri": "https://localhost:8080/",
          "height": 34
        }
      },
      "source": [
        "# Let's reload the data first\n",
        "model, x_train, y_train, x_test, y_test = get_data_model()\n",
        "\n",
        "from sklearn.model_selection import train_test_split\n",
        "x_train, x_val, y_train, y_val = train_test_split(x_train, y_train, test_size=0.20)\n",
        "print(x_train.shape[0], x_val.shape[0])\n"
      ],
      "execution_count": 30,
      "outputs": [
        {
          "output_type": "stream",
          "text": [
            "48000 12000\n"
          ],
          "name": "stdout"
        }
      ]
    },
    {
      "cell_type": "code",
      "metadata": {
        "id": "TulgsLVmWE6t",
        "colab_type": "code",
        "outputId": "8651fbbb-92f5-42da-e4a1-844ed4436745",
        "colab": {
          "base_uri": "https://localhost:8080/",
          "height": 295
        }
      },
      "source": [
        "model.compile(optimizer='adam',loss='categorical_crossentropy', metrics=['categorical_accuracy'])\n",
        "history = model.fit(x_train, y_train, epochs=2, batch_size=32, verbose=0, validation_data=(x_val, y_val))\n",
        "plot_history(history, 'categorical_accuracy')\n"
      ],
      "execution_count": 31,
      "outputs": [
        {
          "output_type": "display_data",
          "data": {
            "image/png": "[encoded data removed]",
            "text/plain": [
              "<Figure size 432x288 with 2 Axes>"
            ]
          },
          "metadata": {
            "tags": []
          }
        }
      ]
    },
    {
      "cell_type": "markdown",
      "metadata": {
        "id": "rvWaSNdZV6e_",
        "colab_type": "text"
      },
      "source": [
        "We can compare the performance of several models by using the defined `x_val` and `y_val` variables. When we are happy with the performance in the validation split, we then evaluate the model in the unseen test data. Let's check if the accuracy in the test set is similar to the accuracy in the validation set in this case."
      ]
    },
    {
      "cell_type": "code",
      "metadata": {
        "id": "UMRAQsCYVrcg",
        "colab_type": "code",
        "outputId": "5c53d5e3-f6d5-4fec-9e79-38f6d4a444b7",
        "colab": {
          "base_uri": "https://localhost:8080/",
          "height": 85
        }
      },
      "source": [
        "print('Accuracy in the validation set is {:.2f}'.format(model.evaluate(x_val, y_val)[-1]))\n",
        "print('Accuracy in the test set is {:.2f}'.format(model.evaluate(x_test, y_test)[-1]))"
      ],
      "execution_count": 32,
      "outputs": [
        {
          "output_type": "stream",
          "text": [
            "12000/12000 [==============================] - 1s 46us/step\n",
            "Accuracy in the validation set is 0.97\n",
            "10000/10000 [==============================] - 0s 39us/step\n",
            "Accuracy in the test set is 0.97\n"
          ],
          "name": "stdout"
        }
      ]
    },
    {
      "cell_type": "markdown",
      "metadata": {
        "id": "9DFkIWei6hse",
        "colab_type": "text"
      },
      "source": [
        "We know how to define a validation set and how to use it during the training process. An important step now is how to retrieve the model with the highest validation performance during training. We already mentioned this in the introductory Keras tutorial, but let's explain this again now that we know how to define a validation split. By default, Keras returns the last model after training $N$ epochs. We can instead choose to retrieve the model with the best validation performance by using the [`EarlyStopping`](https://keras.io/callbacks/#earlystopping) callback."
      ]
    },
    {
      "cell_type": "code",
      "metadata": {
        "id": "QFfNridt72qT",
        "colab_type": "code",
        "outputId": "af5611f6-4bc8-4980-b726-8dbde400040e",
        "colab": {
          "base_uri": "https://localhost:8080/",
          "height": 561
        }
      },
      "source": [
        "from keras.callbacks import EarlyStopping\n",
        "\n",
        "early_stop = EarlyStopping(monitor='val_categorical_accuracy', min_delta=0, patience=4, verbose=0, mode='auto', baseline=None, restore_best_weights=True)\n",
        "\n",
        "model.compile(optimizer='adam', loss='categorical_crossentropy', metrics=['categorical_accuracy'])\n",
        "\n",
        "model.fit(x_train, y_train, epochs=20, batch_size=32, verbose=1, validation_data=(x_val, y_val), callbacks=[early_stop])\n"
      ],
      "execution_count": 33,
      "outputs": [
        {
          "output_type": "stream",
          "text": [
            "Train on 48000 samples, validate on 12000 samples\n",
            "Epoch 1/20\n",
            "48000/48000 [==============================] - 7s 153us/step - loss: 0.0651 - categorical_accuracy: 0.9794 - val_loss: 0.0994 - val_categorical_accuracy: 0.9702\n",
            "Epoch 2/20\n",
            "48000/48000 [==============================] - 7s 137us/step - loss: 0.0467 - categorical_accuracy: 0.9852 - val_loss: 0.0777 - val_categorical_accuracy: 0.9762\n",
            "Epoch 3/20\n",
            "48000/48000 [==============================] - 7s 136us/step - loss: 0.0343 - categorical_accuracy: 0.9892 - val_loss: 0.0977 - val_categorical_accuracy: 0.9757\n",
            "Epoch 4/20\n",
            "48000/48000 [==============================] - 6s 134us/step - loss: 0.0314 - categorical_accuracy: 0.9900 - val_loss: 0.0842 - val_categorical_accuracy: 0.9796\n",
            "Epoch 5/20\n",
            "48000/48000 [==============================] - 7s 141us/step - loss: 0.0247 - categorical_accuracy: 0.9921 - val_loss: 0.0825 - val_categorical_accuracy: 0.9798\n",
            "Epoch 6/20\n",
            "48000/48000 [==============================] - 6s 135us/step - loss: 0.0209 - categorical_accuracy: 0.9936 - val_loss: 0.1119 - val_categorical_accuracy: 0.9768\n",
            "Epoch 7/20\n",
            "48000/48000 [==============================] - 7s 137us/step - loss: 0.0231 - categorical_accuracy: 0.9929 - val_loss: 0.1110 - val_categorical_accuracy: 0.9765\n",
            "Epoch 8/20\n",
            "48000/48000 [==============================] - 7s 140us/step - loss: 0.0208 - categorical_accuracy: 0.9938 - val_loss: 0.0989 - val_categorical_accuracy: 0.9802\n",
            "Epoch 9/20\n",
            "48000/48000 [==============================] - 7s 139us/step - loss: 0.0163 - categorical_accuracy: 0.9948 - val_loss: 0.0975 - val_categorical_accuracy: 0.9795\n",
            "Epoch 10/20\n",
            "48000/48000 [==============================] - 6s 131us/step - loss: 0.0181 - categorical_accuracy: 0.9942 - val_loss: 0.1016 - val_categorical_accuracy: 0.9792\n",
            "Epoch 11/20\n",
            "48000/48000 [==============================] - 7s 136us/step - loss: 0.0127 - categorical_accuracy: 0.9958 - val_loss: 0.1130 - val_categorical_accuracy: 0.9812\n",
            "Epoch 12/20\n",
            "48000/48000 [==============================] - 6s 134us/step - loss: 0.0189 - categorical_accuracy: 0.9951 - val_loss: 0.1206 - val_categorical_accuracy: 0.9793\n",
            "Epoch 13/20\n",
            "48000/48000 [==============================] - 7s 139us/step - loss: 0.0142 - categorical_accuracy: 0.9958 - val_loss: 0.1220 - val_categorical_accuracy: 0.9789\n",
            "Epoch 14/20\n",
            "48000/48000 [==============================] - 7s 141us/step - loss: 0.0139 - categorical_accuracy: 0.9960 - val_loss: 0.1244 - val_categorical_accuracy: 0.9785\n",
            "Epoch 15/20\n",
            "48000/48000 [==============================] - 6s 134us/step - loss: 0.0154 - categorical_accuracy: 0.9961 - val_loss: 0.1094 - val_categorical_accuracy: 0.9808\n"
          ],
          "name": "stdout"
        },
        {
          "output_type": "execute_result",
          "data": {
            "text/plain": [
              "<keras.callbacks.History at 0x7f354dfca128>"
            ]
          },
          "metadata": {
            "tags": []
          },
          "execution_count": 33
        }
      ]
    },
    {
      "cell_type": "markdown",
      "metadata": {
        "id": "VtujLcUPAc7R",
        "colab_type": "text"
      },
      "source": [
        "We check that the performance of the saved model is the same as the obtained in the best epoch in terms of validation accuracy."
      ]
    },
    {
      "cell_type": "code",
      "metadata": {
        "id": "LPiaL47KAY-e",
        "colab_type": "code",
        "outputId": "0404e634-27ab-472d-8d31-e8d855464105",
        "colab": {
          "base_uri": "https://localhost:8080/",
          "height": 51
        }
      },
      "source": [
        "model.evaluate(x_val, y_val)"
      ],
      "execution_count": 34,
      "outputs": [
        {
          "output_type": "stream",
          "text": [
            "12000/12000 [==============================] - 1s 43us/step\n"
          ],
          "name": "stdout"
        },
        {
          "output_type": "execute_result",
          "data": {
            "text/plain": [
              "[0.11302502553185548, 0.9811666666666666]"
            ]
          },
          "metadata": {
            "tags": []
          },
          "execution_count": 34
        }
      ]
    },
    {
      "cell_type": "markdown",
      "metadata": {
        "id": "NMd2DVJCGmE7",
        "colab_type": "text"
      },
      "source": [
        "One of the most important parameters to tweak is the training rate, which controls the update step performed during the backpropagation. Keras provides two callbacks that allow us to modify the learning rate during training. One is `LearningRateScheduler`, which allows us to define a rule to vary the learning rate depending on the epoch. For example, using the `lr_scheduler` function (found [here](https://stackoverflow.com/questions/39779710/setting-up-a-learningratescheduler-in-keras)), we can modify the loss function so that every 3 epochs is multiplied by 0.1."
      ]
    },
    {
      "cell_type": "code",
      "metadata": {
        "id": "AC9in_Zhfnly",
        "colab_type": "code",
        "outputId": "0974337d-8ed8-459d-9597-9475ffcf66b6",
        "colab": {
          "base_uri": "https://localhost:8080/",
          "height": 686
        }
      },
      "source": [
        "def lr_scheduler(epoch, lr):\n",
        "    decay_rate = 0.1\n",
        "    decay_step = 3\n",
        "    if epoch % decay_step == 0 and epoch:\n",
        "        return lr * decay_rate\n",
        "    return lr\n",
        "    \n",
        "lrate = keras.callbacks.LearningRateScheduler(lr_scheduler)\n",
        "model, x_train, y_train, x_test, y_test = get_data_model()\n",
        "model.compile(optimizer='adam',loss='categorical_crossentropy', metrics=['categorical_accuracy'])\n",
        "initial_lr = K.get_value(model.optimizer.lr)\n",
        "history = model.fit(x_train, y_train, epochs=10, batch_size=32, validation_split=0.2, callbacks=[lrate])\n",
        "print('Initial Learning Rate: {:.4f}'.format(initial_lr))\n",
        "print('Final Learning Rate: {:.10f}'.format(K.eval(model.optimizer.lr)))\n",
        "plot_history(history, 'categorical_accuracy')"
      ],
      "execution_count": 35,
      "outputs": [
        {
          "output_type": "stream",
          "text": [
            "Train on 48000 samples, validate on 12000 samples\n",
            "Epoch 1/10\n",
            "48000/48000 [==============================] - 8s 158us/step - loss: 0.1999 - categorical_accuracy: 0.9384 - val_loss: 0.1090 - val_categorical_accuracy: 0.9659\n",
            "Epoch 2/10\n",
            "48000/48000 [==============================] - 6s 132us/step - loss: 0.0836 - categorical_accuracy: 0.9736 - val_loss: 0.1033 - val_categorical_accuracy: 0.9690\n",
            "Epoch 3/10\n",
            "48000/48000 [==============================] - 6s 133us/step - loss: 0.0573 - categorical_accuracy: 0.9814 - val_loss: 0.1096 - val_categorical_accuracy: 0.9691\n",
            "Epoch 4/10\n",
            "48000/48000 [==============================] - 6s 133us/step - loss: 0.0194 - categorical_accuracy: 0.9943 - val_loss: 0.0697 - val_categorical_accuracy: 0.9806\n",
            "Epoch 5/10\n",
            "48000/48000 [==============================] - 6s 131us/step - loss: 0.0104 - categorical_accuracy: 0.9970 - val_loss: 0.0653 - val_categorical_accuracy: 0.9820\n",
            "Epoch 6/10\n",
            "48000/48000 [==============================] - 6s 134us/step - loss: 0.0067 - categorical_accuracy: 0.9984 - val_loss: 0.0701 - val_categorical_accuracy: 0.9817\n",
            "Epoch 7/10\n",
            "48000/48000 [==============================] - 6s 133us/step - loss: 0.0037 - categorical_accuracy: 0.9994 - val_loss: 0.0680 - val_categorical_accuracy: 0.9821\n",
            "Epoch 8/10\n",
            "48000/48000 [==============================] - 7s 138us/step - loss: 0.0032 - categorical_accuracy: 0.9995 - val_loss: 0.0687 - val_categorical_accuracy: 0.9822\n",
            "Epoch 9/10\n",
            "48000/48000 [==============================] - 6s 132us/step - loss: 0.0029 - categorical_accuracy: 0.9996 - val_loss: 0.0695 - val_categorical_accuracy: 0.9822\n",
            "Epoch 10/10\n",
            "48000/48000 [==============================] - 6s 135us/step - loss: 0.0026 - categorical_accuracy: 0.9996 - val_loss: 0.0696 - val_categorical_accuracy: 0.9821\n",
            "Initial Learning Rate: 0.0010\n",
            "Final Learning Rate: 0.0000010000\n"
          ],
          "name": "stdout"
        },
        {
          "output_type": "display_data",
          "data": {
            "image/png": "[encoded data removed]",
            "text/plain": [
              "<Figure size 432x288 with 2 Axes>"
            ]
          },
          "metadata": {
            "tags": []
          }
        }
      ]
    },
    {
      "cell_type": "markdown",
      "metadata": {
        "id": "jAF6VK2gkdRU",
        "colab_type": "text"
      },
      "source": [
        "Let's plot the progress of the learning rate in each epoch to check how the learning rate is decreased every three epochs as we defined in `lr_scheduler`."
      ]
    },
    {
      "cell_type": "code",
      "metadata": {
        "id": "jtugFeDVj8HD",
        "colab_type": "code",
        "outputId": "7f1ac2d3-ead7-40ab-a801-7503a05cba49",
        "colab": {
          "base_uri": "https://localhost:8080/",
          "height": 279
        }
      },
      "source": [
        "learning_rate = history.history['lr']\n",
        "plt.plot(range(1, len(learning_rate)+1), learning_rate)\n",
        "plt.ylabel('Learning Rate')\n",
        "plt.xlabel('Epochs')\n",
        "plt.show()"
      ],
      "execution_count": 36,
      "outputs": [
        {
          "output_type": "display_data",
          "data": {
            "image/png": "[encoded data removed]",
            "text/plain": [
              "<Figure size 432x288 with 1 Axes>"
            ]
          },
          "metadata": {
            "tags": []
          }
        }
      ]
    },
    {
      "cell_type": "markdown",
      "metadata": {
        "id": "XAPrOzm0iDTs",
        "colab_type": "text"
      },
      "source": [
        "Another callback provided is `ReduceLROnPlateau`, which reduces the learning rate whenever a given metric has stopped improving. There are 5 important arguments:\n",
        "\n",
        " * `monitor`: we specify the metric we want to track\n",
        " * `patience`: number of epochs without improvement before reducing lr\n",
        " * `factor`: the new learning rate will be `new_lr = lr * factor`\n",
        " * `min_lr`: sets the minimum lr\n",
        " * `min_delta`: margin to define when the metric has stopped improving\n",
        " "
      ]
    },
    {
      "cell_type": "code",
      "metadata": {
        "id": "os7b7Oh0TO7m",
        "colab_type": "code",
        "outputId": "154d49c5-6432-4b32-846b-09246e09df36",
        "colab": {
          "base_uri": "https://localhost:8080/",
          "height": 686
        }
      },
      "source": [
        "from keras.callbacks import ReduceLROnPlateau\n",
        "reduce_lr = ReduceLROnPlateau(monitor='val_loss', factor=0.2,\n",
        "                              patience=1, min_lr=0.00001, min_delta = 0.01)\n",
        "model, x_train, y_train, x_test, y_test = get_data_model() \n",
        "model.compile(optimizer='adam',loss='categorical_crossentropy', metrics=['categorical_accuracy'])\n",
        "initial_lr = K.get_value(model.optimizer.lr)\n",
        "history = model.fit(x_train, y_train, epochs=10, batch_size=32, validation_split=0.2, callbacks=[reduce_lr])\n",
        "print('Initial Learning Rate: {:.4f}'.format(initial_lr))\n",
        "print('Final Learning Rate: {:.10f}'.format(K.eval(model.optimizer.lr)))\n",
        "plot_history(history, 'categorical_accuracy')"
      ],
      "execution_count": 37,
      "outputs": [
        {
          "output_type": "stream",
          "text": [
            "Train on 48000 samples, validate on 12000 samples\n",
            "Epoch 1/10\n",
            "48000/48000 [==============================] - 7s 153us/step - loss: 0.1982 - categorical_accuracy: 0.9398 - val_loss: 0.1212 - val_categorical_accuracy: 0.9629\n",
            "Epoch 2/10\n",
            "48000/48000 [==============================] - 7s 137us/step - loss: 0.0870 - categorical_accuracy: 0.9727 - val_loss: 0.1007 - val_categorical_accuracy: 0.9685\n",
            "Epoch 3/10\n",
            "48000/48000 [==============================] - 7s 140us/step - loss: 0.0555 - categorical_accuracy: 0.9825 - val_loss: 0.0868 - val_categorical_accuracy: 0.9744\n",
            "Epoch 4/10\n",
            "48000/48000 [==============================] - 7s 141us/step - loss: 0.0464 - categorical_accuracy: 0.9856 - val_loss: 0.0916 - val_categorical_accuracy: 0.9741\n",
            "Epoch 5/10\n",
            "48000/48000 [==============================] - 6s 134us/step - loss: 0.0123 - categorical_accuracy: 0.9962 - val_loss: 0.0710 - val_categorical_accuracy: 0.9822\n",
            "Epoch 6/10\n",
            "48000/48000 [==============================] - 6s 132us/step - loss: 0.0048 - categorical_accuracy: 0.9988 - val_loss: 0.0752 - val_categorical_accuracy: 0.9821\n",
            "Epoch 7/10\n",
            "48000/48000 [==============================] - 7s 136us/step - loss: 0.0022 - categorical_accuracy: 0.9997 - val_loss: 0.0748 - val_categorical_accuracy: 0.9822\n",
            "Epoch 8/10\n",
            "48000/48000 [==============================] - 7s 137us/step - loss: 0.0014 - categorical_accuracy: 0.9999 - val_loss: 0.0752 - val_categorical_accuracy: 0.9825\n",
            "Epoch 9/10\n",
            "48000/48000 [==============================] - 7s 138us/step - loss: 0.0013 - categorical_accuracy: 0.9999 - val_loss: 0.0762 - val_categorical_accuracy: 0.9822\n",
            "Epoch 10/10\n",
            "48000/48000 [==============================] - 6s 134us/step - loss: 0.0012 - categorical_accuracy: 0.9999 - val_loss: 0.0772 - val_categorical_accuracy: 0.9829\n",
            "Initial Learning Rate: 0.0010\n",
            "Final Learning Rate: 0.0000100000\n"
          ],
          "name": "stdout"
        },
        {
          "output_type": "display_data",
          "data": {
            "image/png": "[encoded data removed]",
            "text/plain": [
              "<Figure size 432x288 with 2 Axes>"
            ]
          },
          "metadata": {
            "tags": []
          }
        }
      ]
    },
    {
      "cell_type": "markdown",
      "metadata": {
        "id": "FX9W-7yNoyvL",
        "colab_type": "text"
      },
      "source": [
        "Again, we check how the learning rate has changed. You can check that the learning has indeed decreased when the `val_loss` has not improved by more than 0.01 until it reached the `min_lr` value."
      ]
    },
    {
      "cell_type": "code",
      "metadata": {
        "id": "BVNFkE-qnKVk",
        "colab_type": "code",
        "outputId": "6f8e8d02-d286-41cd-cca7-b55f97d23f45",
        "colab": {
          "base_uri": "https://localhost:8080/",
          "height": 279
        }
      },
      "source": [
        "learning_rate = history.history['lr']\n",
        "plt.plot(range(1, len(learning_rate)+1), learning_rate)\n",
        "plt.ylabel('Learning Rate')\n",
        "plt.xlabel('Epochs')\n",
        "plt.show()"
      ],
      "execution_count": 38,
      "outputs": [
        {
          "output_type": "display_data",
          "data": {
            "image/png": "[encoded data removed]",
            "text/plain": [
              "<Figure size 432x288 with 1 Axes>"
            ]
          },
          "metadata": {
            "tags": []
          }
        }
      ]
    },
    {
      "cell_type": "markdown",
      "metadata": {
        "id": "ugiRVHj-j8UX",
        "colab_type": "text"
      },
      "source": [
        "### Searching for the right set of parameters\n",
        "\n",
        "Apart from the learning rate, there are several hyperparameters we can tune: the optimizer parameters (momentum, beta, rho, decay), the dropout rate, the number of neurons/feature maps, batch size, regularization weights, etc...  After some time working with the models, you gain an intuition of what set of parameters work better. However, performing a proper search of hyperparameters may improve the results. A way to do this (among several others) is performing a search of parameters. Several available packages can help you with hyperparameter optimization in Keras, the one we will use is called [`talos`](https://github.com/autonomio/talos)."
      ]
    },
    {
      "cell_type": "code",
      "metadata": {
        "id": "Az5-RBT1zFX8",
        "colab_type": "code",
        "outputId": "2f6d0f7b-38f0-4985-fbea-2564568646b9",
        "colab": {
          "base_uri": "https://localhost:8080/",
          "height": 1000
        }
      },
      "source": [
        "!pip install talos==0.4.9"
      ],
      "execution_count": 39,
      "outputs": [
        {
          "output_type": "stream",
          "text": [
            "Collecting talos==0.4.9\n",
            "  Downloading https://files.pythonhosted.org/packages/74/26/c44a51af579835c873e878b99c68fcba08107cdfc22d72ac4ecbc027f158/talos-0.4.9.tar.gz\n",
            "Requirement already satisfied: numpy in /usr/local/lib/python3.6/dist-packages (from talos==0.4.9) (1.17.5)\n",
            "Requirement already satisfied: pandas in /usr/local/lib/python3.6/dist-packages (from talos==0.4.9) (0.25.3)\n",
            "Requirement already satisfied: keras in /usr/local/lib/python3.6/dist-packages (from talos==0.4.9) (2.2.5)\n",
            "Collecting astetik\n",
            "  Downloading https://files.pythonhosted.org/packages/3c/ba/f8622951da73d9b47b45bb847112c388651f9c6e413e712954f260301d9f/astetik-1.9.9.tar.gz\n",
            "Requirement already satisfied: sklearn in /usr/local/lib/python3.6/dist-packages (from talos==0.4.9) (0.0)\n",
            "Requirement already satisfied: tqdm in /usr/local/lib/python3.6/dist-packages (from talos==0.4.9) (4.28.1)\n",
            "Collecting chances\n",
            "  Downloading https://files.pythonhosted.org/packages/fa/d8/d61112d7476dc3074b855f1edd8556cde9b49b7106853f0b060109dd4c82/chances-0.1.9.tar.gz\n",
            "Collecting kerasplotlib\n",
            "  Downloading https://files.pythonhosted.org/packages/7b/b7/31663d3b5ea9afd8c2c6ffa06d3c4e118ef363e12dc75b7c49fb6a2d22aa/kerasplotlib-0.1.6.tar.gz\n",
            "Collecting wrangle\n",
            "  Downloading https://files.pythonhosted.org/packages/85/35/bc729e377417613f2d062a890faea5d649ef1a554df21499e9c3a4a5501a/wrangle-0.6.7.tar.gz\n",
            "Requirement already satisfied: requests in /usr/local/lib/python3.6/dist-packages (from talos==0.4.9) (2.21.0)\n",
            "Requirement already satisfied: python-dateutil>=2.6.1 in /usr/local/lib/python3.6/dist-packages (from pandas->talos==0.4.9) (2.6.1)\n",
            "Requirement already satisfied: pytz>=2017.2 in /usr/local/lib/python3.6/dist-packages (from pandas->talos==0.4.9) (2018.9)\n",
            "Requirement already satisfied: h5py in /usr/local/lib/python3.6/dist-packages (from keras->talos==0.4.9) (2.8.0)\n",
            "Requirement already satisfied: pyyaml in /usr/local/lib/python3.6/dist-packages (from keras->talos==0.4.9) (3.13)\n",
            "Requirement already satisfied: six>=1.9.0 in /usr/local/lib/python3.6/dist-packages (from keras->talos==0.4.9) (1.12.0)\n",
            "Requirement already satisfied: keras-preprocessing>=1.1.0 in /usr/local/lib/python3.6/dist-packages (from keras->talos==0.4.9) (1.1.0)\n",
            "Requirement already satisfied: scipy>=0.14 in /usr/local/lib/python3.6/dist-packages (from keras->talos==0.4.9) (1.4.1)\n",
            "Requirement already satisfied: keras-applications>=1.0.8 in /usr/local/lib/python3.6/dist-packages (from keras->talos==0.4.9) (1.0.8)\n",
            "Collecting geonamescache\n",
            "\u001b[?25l  Downloading https://files.pythonhosted.org/packages/32/c1/efb823270c8526b2f4f3eb8c804c5a0a55277267ad2312f5eb47bd9cc370/geonamescache-1.1.0-py3-none-any.whl (830kB)\n",
            "\u001b[K     |████████████████████████████████| 839kB 9.4MB/s \n",
            "\u001b[?25hRequirement already satisfied: scikit-learn in /usr/local/lib/python3.6/dist-packages (from sklearn->talos==0.4.9) (0.22.1)\n",
            "Requirement already satisfied: ipython in /usr/local/lib/python3.6/dist-packages (from kerasplotlib->talos==0.4.9) (5.5.0)\n",
            "Requirement already satisfied: statsmodels in /usr/local/lib/python3.6/dist-packages (from wrangle->talos==0.4.9) (0.10.2)\n",
            "Requirement already satisfied: chardet<3.1.0,>=3.0.2 in /usr/local/lib/python3.6/dist-packages (from requests->talos==0.4.9) (3.0.4)\n",
            "Requirement already satisfied: urllib3<1.25,>=1.21.1 in /usr/local/lib/python3.6/dist-packages (from requests->talos==0.4.9) (1.24.3)\n",
            "Requirement already satisfied: certifi>=2017.4.17 in /usr/local/lib/python3.6/dist-packages (from requests->talos==0.4.9) (2019.11.28)\n",
            "Requirement already satisfied: idna<2.9,>=2.5 in /usr/local/lib/python3.6/dist-packages (from requests->talos==0.4.9) (2.8)\n",
            "Requirement already satisfied: joblib>=0.11 in /usr/local/lib/python3.6/dist-packages (from scikit-learn->sklearn->talos==0.4.9) (0.14.1)\n",
            "Requirement already satisfied: setuptools>=18.5 in /usr/local/lib/python3.6/dist-packages (from ipython->kerasplotlib->talos==0.4.9) (45.1.0)\n",
            "Requirement already satisfied: prompt-toolkit<2.0.0,>=1.0.4 in /usr/local/lib/python3.6/dist-packages (from ipython->kerasplotlib->talos==0.4.9) (1.0.18)\n",
            "Requirement already satisfied: pexpect; sys_platform != \"win32\" in /usr/local/lib/python3.6/dist-packages (from ipython->kerasplotlib->talos==0.4.9) (4.8.0)\n",
            "Requirement already satisfied: decorator in /usr/local/lib/python3.6/dist-packages (from ipython->kerasplotlib->talos==0.4.9) (4.4.1)\n",
            "Requirement already satisfied: simplegeneric>0.8 in /usr/local/lib/python3.6/dist-packages (from ipython->kerasplotlib->talos==0.4.9) (0.8.1)\n",
            "Requirement already satisfied: traitlets>=4.2 in /usr/local/lib/python3.6/dist-packages (from ipython->kerasplotlib->talos==0.4.9) (4.3.3)\n",
            "Requirement already satisfied: pickleshare in /usr/local/lib/python3.6/dist-packages (from ipython->kerasplotlib->talos==0.4.9) (0.7.5)\n",
            "Requirement already satisfied: pygments in /usr/local/lib/python3.6/dist-packages (from ipython->kerasplotlib->talos==0.4.9) (2.1.3)\n",
            "Requirement already satisfied: patsy>=0.4.0 in /usr/local/lib/python3.6/dist-packages (from statsmodels->wrangle->talos==0.4.9) (0.5.1)\n",
            "Requirement already satisfied: wcwidth in /usr/local/lib/python3.6/dist-packages (from prompt-toolkit<2.0.0,>=1.0.4->ipython->kerasplotlib->talos==0.4.9) (0.1.8)\n",
            "Requirement already satisfied: ptyprocess>=0.5 in /usr/local/lib/python3.6/dist-packages (from pexpect; sys_platform != \"win32\"->ipython->kerasplotlib->talos==0.4.9) (0.6.0)\n",
            "Requirement already satisfied: ipython-genutils in /usr/local/lib/python3.6/dist-packages (from traitlets>=4.2->ipython->kerasplotlib->talos==0.4.9) (0.2.0)\n",
            "Building wheels for collected packages: talos, astetik, chances, kerasplotlib, wrangle\n",
            "  Building wheel for talos (setup.py) ... \u001b[?25l\u001b[?25hdone\n",
            "  Created wheel for talos: filename=talos-0.4.9-cp36-none-any.whl size=37106 sha256=26a3c930a8970b110d07a6e50055fe319d43cf198a8c9373a4ed32aab0097d03\n",
            "  Stored in directory: /root/.cache/pip/wheels/eb/6b/c0/5b58a4767728bb467656ccd70b4fc2e286840c1e8ffa2631ac\n",
            "  Building wheel for astetik (setup.py) ... \u001b[?25l\u001b[?25hdone\n",
            "  Created wheel for astetik: filename=astetik-1.9.9-cp36-none-any.whl size=56960 sha256=e0fd5979154f0a02908b5624ef54bfaab61364e8e40dd715e34dad971e5832d4\n",
            "  Stored in directory: /root/.cache/pip/wheels/ae/70/21/c475cd079ec401dd6e1b9b1d42b4c38554ce12679bfb214aad\n",
            "  Building wheel for chances (setup.py) ... \u001b[?25l\u001b[?25hdone\n",
            "  Created wheel for chances: filename=chances-0.1.9-cp36-none-any.whl size=41609 sha256=2704ae1a7a8bc4e14e449749228e4149348e253819b5f427d554fe18c82eb58c\n",
            "  Stored in directory: /root/.cache/pip/wheels/75/33/46/c871b94249bd57d17797d049b3dff8e3a09c315afb67eb14c6\n",
            "  Building wheel for kerasplotlib (setup.py) ... \u001b[?25l\u001b[?25hdone\n",
            "  Created wheel for kerasplotlib: filename=kerasplotlib-0.1.6-cp36-none-any.whl size=3601 sha256=dd0c0373c60548b3bc76a2c51b229bafcd445e11c3aa9bd1d03b2295116ca649\n",
            "  Stored in directory: /root/.cache/pip/wheels/9d/d3/8c/9503a22b0a38e8b21c70ad834e4606d209193443e5c709305d\n",
            "  Building wheel for wrangle (setup.py) ... \u001b[?25l\u001b[?25hdone\n",
            "  Created wheel for wrangle: filename=wrangle-0.6.7-cp36-none-any.whl size=49894 sha256=d7688f6e92287c27a45873d63da7a4b899812f4d4dc8a2ecdcf9cf9174bf08ab\n",
            "  Stored in directory: /root/.cache/pip/wheels/bf/1b/50/d0403ce6ef269e364894da7b50db68db14c4ac62c577561e2d\n",
            "Successfully built talos astetik chances kerasplotlib wrangle\n",
            "\u001b[31mERROR: wrangle 0.6.7 has requirement scipy==1.2, but you'll have scipy 1.4.1 which is incompatible.\u001b[0m\n",
            "Installing collected packages: wrangle, geonamescache, astetik, chances, kerasplotlib, talos\n",
            "Successfully installed astetik-1.9.9 chances-0.1.9 geonamescache-1.1.0 kerasplotlib-0.1.6 talos-0.4.9 wrangle-0.6.7\n"
          ],
          "name": "stdout"
        }
      ]
    },
    {
      "cell_type": "markdown",
      "metadata": {
        "id": "a2w5UNq0_I0L",
        "colab_type": "text"
      },
      "source": [
        "Now we show a quick example of how to do it. We set only 2 epoch of training and `grid_downsampling=0.05`, which controls the number of sets of hyperparameters tested."
      ]
    },
    {
      "cell_type": "code",
      "metadata": {
        "id": "Pm2XxaG_zPT-",
        "colab_type": "code",
        "outputId": "167f14ae-bb1f-478a-85f3-c3cd68056097",
        "colab": {
          "base_uri": "https://localhost:8080/",
          "height": 241
        }
      },
      "source": [
        "import talos as ta\n",
        "_, x_train, y_train, x_test, y_test = get_data_model()\n",
        "\n",
        "def model_scan(x_train, y_train, x_val, y_val, params):\n",
        "  model = Sequential()\n",
        "  model.add(Dense(params['first_neuron'], input_shape=(784,), activation=params['activation']))\n",
        "  model.add(Dropout(params['dropout']))\n",
        "  model.add(Dense(10, activation=params['last_activation']))\n",
        "\n",
        "  model.compile(optimizer=params['optimizer'](lr = params['lr']),\n",
        "                loss=params['losses'],\n",
        "                metrics=['categorical_accuracy'])\n",
        "  \n",
        "  out = model.fit(x_train, y_train,\n",
        "                  batch_size=params['batch_size'],\n",
        "                  epochs=params['epochs'],\n",
        "                  verbose=0,\n",
        "                  validation_data=[x_val, y_val])\n",
        "  \n",
        "  return out, model\n",
        "p = {}\n",
        "p['lr'] = [0.0001, 0.001]\n",
        "p['first_neuron'] = [8, 16, 32, 64, 128]\n",
        "p['batch_size'] =  [20, 40]\n",
        "p['epochs'] =  [2]\n",
        "p['dropout'] =  [0, 0.40, 0.7]\n",
        "p['weight_regularizer'] = [None]\n",
        "p['optimizer'] =  [keras.optimizers.Adam, keras.optimizers.SGD]\n",
        "p['losses'] =  ['categorical_crossentropy']\n",
        "p['activation'] = ['relu', 'tanh']\n",
        "p['last_activation'] =  ['softmax']\n",
        "## grid_downsample limits the number of combinations run in the search\n",
        "## to the fraction set (e.g. 0.05 runs 5% of the possible combinations) \n",
        "h = ta.Scan(x_train, y_train,\n",
        "          params=p,\n",
        "          model=model_scan,\n",
        "          grid_downsample=0.05,\n",
        "          print_params=True,\n",
        "          disable_progress_bar=True)"
      ],
      "execution_count": 40,
      "outputs": [
        {
          "output_type": "stream",
          "text": [
            "{'lr': 0.001, 'first_neuron': 64, 'batch_size': 40, 'epochs': 2, 'dropout': 0, 'weight_regularizer': None, 'optimizer': <class 'keras.optimizers.SGD'>, 'losses': 'categorical_crossentropy', 'activation': 'relu', 'last_activation': 'softmax'}\n",
            "{'lr': 0.0001, 'first_neuron': 8, 'batch_size': 20, 'epochs': 2, 'dropout': 0, 'weight_regularizer': None, 'optimizer': <class 'keras.optimizers.SGD'>, 'losses': 'categorical_crossentropy', 'activation': 'tanh', 'last_activation': 'softmax'}\n",
            "{'lr': 0.001, 'first_neuron': 8, 'batch_size': 40, 'epochs': 2, 'dropout': 0.4, 'weight_regularizer': None, 'optimizer': <class 'keras.optimizers.Adam'>, 'losses': 'categorical_crossentropy', 'activation': 'relu', 'last_activation': 'softmax'}\n",
            "{'lr': 0.0001, 'first_neuron': 128, 'batch_size': 40, 'epochs': 2, 'dropout': 0.7, 'weight_regularizer': None, 'optimizer': <class 'keras.optimizers.SGD'>, 'losses': 'categorical_crossentropy', 'activation': 'relu', 'last_activation': 'softmax'}\n",
            "{'lr': 0.001, 'first_neuron': 16, 'batch_size': 20, 'epochs': 2, 'dropout': 0, 'weight_regularizer': None, 'optimizer': <class 'keras.optimizers.Adam'>, 'losses': 'categorical_crossentropy', 'activation': 'relu', 'last_activation': 'softmax'}\n",
            "{'lr': 0.0001, 'first_neuron': 16, 'batch_size': 40, 'epochs': 2, 'dropout': 0.4, 'weight_regularizer': None, 'optimizer': <class 'keras.optimizers.Adam'>, 'losses': 'categorical_crossentropy', 'activation': 'relu', 'last_activation': 'softmax'}\n",
            "{'lr': 0.001, 'first_neuron': 32, 'batch_size': 20, 'epochs': 2, 'dropout': 0.7, 'weight_regularizer': None, 'optimizer': <class 'keras.optimizers.SGD'>, 'losses': 'categorical_crossentropy', 'activation': 'relu', 'last_activation': 'softmax'}\n",
            "{'lr': 0.0001, 'first_neuron': 16, 'batch_size': 20, 'epochs': 2, 'dropout': 0.4, 'weight_regularizer': None, 'optimizer': <class 'keras.optimizers.Adam'>, 'losses': 'categorical_crossentropy', 'activation': 'relu', 'last_activation': 'softmax'}\n",
            "{'lr': 0.0001, 'first_neuron': 16, 'batch_size': 20, 'epochs': 2, 'dropout': 0.4, 'weight_regularizer': None, 'optimizer': <class 'keras.optimizers.Adam'>, 'losses': 'categorical_crossentropy', 'activation': 'tanh', 'last_activation': 'softmax'}\n",
            "{'lr': 0.0001, 'first_neuron': 8, 'batch_size': 40, 'epochs': 2, 'dropout': 0, 'weight_regularizer': None, 'optimizer': <class 'keras.optimizers.Adam'>, 'losses': 'categorical_crossentropy', 'activation': 'relu', 'last_activation': 'softmax'}\n",
            "{'lr': 0.001, 'first_neuron': 16, 'batch_size': 20, 'epochs': 2, 'dropout': 0.4, 'weight_regularizer': None, 'optimizer': <class 'keras.optimizers.SGD'>, 'losses': 'categorical_crossentropy', 'activation': 'tanh', 'last_activation': 'softmax'}\n",
            "{'lr': 0.001, 'first_neuron': 128, 'batch_size': 40, 'epochs': 2, 'dropout': 0.7, 'weight_regularizer': None, 'optimizer': <class 'keras.optimizers.Adam'>, 'losses': 'categorical_crossentropy', 'activation': 'relu', 'last_activation': 'softmax'}\n"
          ],
          "name": "stdout"
        }
      ]
    },
    {
      "cell_type": "markdown",
      "metadata": {
        "id": "5FCxXrdxCXRC",
        "colab_type": "text"
      },
      "source": [
        "Now we check the results of the experiment."
      ]
    },
    {
      "cell_type": "code",
      "metadata": {
        "id": "xARWdCT0_-Ig",
        "colab_type": "code",
        "outputId": "ebf973ee-7977-4e36-a225-516221403160",
        "colab": {
          "base_uri": "https://localhost:8080/",
          "height": 645
        }
      },
      "source": [
        "from talos import Reporting\n",
        "r = Reporting(h)\n",
        "# returns the results dataframe\n",
        "r.data"
      ],
      "execution_count": 41,
      "outputs": [
        {
          "output_type": "execute_result",
          "data": {
            "text/html": [
              "<div>\n",
              "<style scoped>\n",
              "    .dataframe tbody tr th:only-of-type {\n",
              "        vertical-align: middle;\n",
              "    }\n",
              "\n",
              "    .dataframe tbody tr th {\n",
              "        vertical-align: top;\n",
              "    }\n",
              "\n",
              "    .dataframe thead th {\n",
              "        text-align: right;\n",
              "    }\n",
              "</style>\n",
              "<table border=\"1\" class=\"dataframe\">\n",
              "  <thead>\n",
              "    <tr style=\"text-align: right;\">\n",
              "      <th></th>\n",
              "      <th>round_epochs</th>\n",
              "      <th>val_loss</th>\n",
              "      <th>val_categorical_accuracy</th>\n",
              "      <th>loss</th>\n",
              "      <th>categorical_accuracy</th>\n",
              "      <th>lr</th>\n",
              "      <th>first_neuron</th>\n",
              "      <th>batch_size</th>\n",
              "      <th>epochs</th>\n",
              "      <th>dropout</th>\n",
              "      <th>weight_regularizer</th>\n",
              "      <th>optimizer</th>\n",
              "      <th>losses</th>\n",
              "      <th>activation</th>\n",
              "      <th>last_activation</th>\n",
              "    </tr>\n",
              "  </thead>\n",
              "  <tbody>\n",
              "    <tr>\n",
              "      <th>0</th>\n",
              "      <td>2</td>\n",
              "      <td>1.236038</td>\n",
              "      <td>0.747333</td>\n",
              "      <td>1.471593</td>\n",
              "      <td>0.683000</td>\n",
              "      <td>0.0010</td>\n",
              "      <td>64</td>\n",
              "      <td>40</td>\n",
              "      <td>2</td>\n",
              "      <td>0.0</td>\n",
              "      <td>None</td>\n",
              "      <td>&lt;class 'keras.optimizers.SGD'&gt;</td>\n",
              "      <td>categorical_crossentropy</td>\n",
              "      <td>relu</td>\n",
              "      <td>softmax</td>\n",
              "    </tr>\n",
              "    <tr>\n",
              "      <th>1</th>\n",
              "      <td>2</td>\n",
              "      <td>2.081936</td>\n",
              "      <td>0.292222</td>\n",
              "      <td>2.135361</td>\n",
              "      <td>0.249857</td>\n",
              "      <td>0.0001</td>\n",
              "      <td>8</td>\n",
              "      <td>20</td>\n",
              "      <td>2</td>\n",
              "      <td>0.0</td>\n",
              "      <td>None</td>\n",
              "      <td>&lt;class 'keras.optimizers.SGD'&gt;</td>\n",
              "      <td>categorical_crossentropy</td>\n",
              "      <td>tanh</td>\n",
              "      <td>softmax</td>\n",
              "    </tr>\n",
              "    <tr>\n",
              "      <th>2</th>\n",
              "      <td>2</td>\n",
              "      <td>0.598860</td>\n",
              "      <td>0.868667</td>\n",
              "      <td>1.131837</td>\n",
              "      <td>0.593405</td>\n",
              "      <td>0.0010</td>\n",
              "      <td>8</td>\n",
              "      <td>40</td>\n",
              "      <td>2</td>\n",
              "      <td>0.4</td>\n",
              "      <td>None</td>\n",
              "      <td>&lt;class 'keras.optimizers.Adam'&gt;</td>\n",
              "      <td>categorical_crossentropy</td>\n",
              "      <td>relu</td>\n",
              "      <td>softmax</td>\n",
              "    </tr>\n",
              "    <tr>\n",
              "      <th>3</th>\n",
              "      <td>2</td>\n",
              "      <td>2.213844</td>\n",
              "      <td>0.190000</td>\n",
              "      <td>2.386598</td>\n",
              "      <td>0.118048</td>\n",
              "      <td>0.0001</td>\n",
              "      <td>128</td>\n",
              "      <td>40</td>\n",
              "      <td>2</td>\n",
              "      <td>0.7</td>\n",
              "      <td>None</td>\n",
              "      <td>&lt;class 'keras.optimizers.SGD'&gt;</td>\n",
              "      <td>categorical_crossentropy</td>\n",
              "      <td>relu</td>\n",
              "      <td>softmax</td>\n",
              "    </tr>\n",
              "    <tr>\n",
              "      <th>4</th>\n",
              "      <td>2</td>\n",
              "      <td>0.244798</td>\n",
              "      <td>0.931278</td>\n",
              "      <td>0.245371</td>\n",
              "      <td>0.929119</td>\n",
              "      <td>0.0010</td>\n",
              "      <td>16</td>\n",
              "      <td>20</td>\n",
              "      <td>2</td>\n",
              "      <td>0.0</td>\n",
              "      <td>None</td>\n",
              "      <td>&lt;class 'keras.optimizers.Adam'&gt;</td>\n",
              "      <td>categorical_crossentropy</td>\n",
              "      <td>relu</td>\n",
              "      <td>softmax</td>\n",
              "    </tr>\n",
              "    <tr>\n",
              "      <th>5</th>\n",
              "      <td>2</td>\n",
              "      <td>0.753048</td>\n",
              "      <td>0.852389</td>\n",
              "      <td>1.163909</td>\n",
              "      <td>0.618690</td>\n",
              "      <td>0.0001</td>\n",
              "      <td>16</td>\n",
              "      <td>40</td>\n",
              "      <td>2</td>\n",
              "      <td>0.4</td>\n",
              "      <td>None</td>\n",
              "      <td>&lt;class 'keras.optimizers.Adam'&gt;</td>\n",
              "      <td>categorical_crossentropy</td>\n",
              "      <td>relu</td>\n",
              "      <td>softmax</td>\n",
              "    </tr>\n",
              "    <tr>\n",
              "      <th>6</th>\n",
              "      <td>2</td>\n",
              "      <td>1.484827</td>\n",
              "      <td>0.726167</td>\n",
              "      <td>1.838920</td>\n",
              "      <td>0.351095</td>\n",
              "      <td>0.0010</td>\n",
              "      <td>32</td>\n",
              "      <td>20</td>\n",
              "      <td>2</td>\n",
              "      <td>0.7</td>\n",
              "      <td>None</td>\n",
              "      <td>&lt;class 'keras.optimizers.SGD'&gt;</td>\n",
              "      <td>categorical_crossentropy</td>\n",
              "      <td>relu</td>\n",
              "      <td>softmax</td>\n",
              "    </tr>\n",
              "    <tr>\n",
              "      <th>7</th>\n",
              "      <td>2</td>\n",
              "      <td>0.649194</td>\n",
              "      <td>0.865889</td>\n",
              "      <td>1.085386</td>\n",
              "      <td>0.641429</td>\n",
              "      <td>0.0001</td>\n",
              "      <td>16</td>\n",
              "      <td>20</td>\n",
              "      <td>2</td>\n",
              "      <td>0.4</td>\n",
              "      <td>None</td>\n",
              "      <td>&lt;class 'keras.optimizers.Adam'&gt;</td>\n",
              "      <td>categorical_crossentropy</td>\n",
              "      <td>relu</td>\n",
              "      <td>softmax</td>\n",
              "    </tr>\n",
              "    <tr>\n",
              "      <th>8</th>\n",
              "      <td>2</td>\n",
              "      <td>0.603161</td>\n",
              "      <td>0.873278</td>\n",
              "      <td>0.873031</td>\n",
              "      <td>0.780524</td>\n",
              "      <td>0.0001</td>\n",
              "      <td>16</td>\n",
              "      <td>20</td>\n",
              "      <td>2</td>\n",
              "      <td>0.4</td>\n",
              "      <td>None</td>\n",
              "      <td>&lt;class 'keras.optimizers.Adam'&gt;</td>\n",
              "      <td>categorical_crossentropy</td>\n",
              "      <td>tanh</td>\n",
              "      <td>softmax</td>\n",
              "    </tr>\n",
              "    <tr>\n",
              "      <th>9</th>\n",
              "      <td>2</td>\n",
              "      <td>0.757226</td>\n",
              "      <td>0.829889</td>\n",
              "      <td>0.978696</td>\n",
              "      <td>0.780048</td>\n",
              "      <td>0.0001</td>\n",
              "      <td>8</td>\n",
              "      <td>40</td>\n",
              "      <td>2</td>\n",
              "      <td>0.0</td>\n",
              "      <td>None</td>\n",
              "      <td>&lt;class 'keras.optimizers.Adam'&gt;</td>\n",
              "      <td>categorical_crossentropy</td>\n",
              "      <td>relu</td>\n",
              "      <td>softmax</td>\n",
              "    </tr>\n",
              "    <tr>\n",
              "      <th>10</th>\n",
              "      <td>2</td>\n",
              "      <td>1.069248</td>\n",
              "      <td>0.771111</td>\n",
              "      <td>1.292455</td>\n",
              "      <td>0.653667</td>\n",
              "      <td>0.0010</td>\n",
              "      <td>16</td>\n",
              "      <td>20</td>\n",
              "      <td>2</td>\n",
              "      <td>0.4</td>\n",
              "      <td>None</td>\n",
              "      <td>&lt;class 'keras.optimizers.SGD'&gt;</td>\n",
              "      <td>categorical_crossentropy</td>\n",
              "      <td>tanh</td>\n",
              "      <td>softmax</td>\n",
              "    </tr>\n",
              "    <tr>\n",
              "      <th>11</th>\n",
              "      <td>2</td>\n",
              "      <td>0.199156</td>\n",
              "      <td>0.940944</td>\n",
              "      <td>0.372681</td>\n",
              "      <td>0.889024</td>\n",
              "      <td>0.0010</td>\n",
              "      <td>128</td>\n",
              "      <td>40</td>\n",
              "      <td>2</td>\n",
              "      <td>0.7</td>\n",
              "      <td>None</td>\n",
              "      <td>&lt;class 'keras.optimizers.Adam'&gt;</td>\n",
              "      <td>categorical_crossentropy</td>\n",
              "      <td>relu</td>\n",
              "      <td>softmax</td>\n",
              "    </tr>\n",
              "  </tbody>\n",
              "</table>\n",
              "</div>"
            ],
            "text/plain": [
              "    round_epochs  val_loss  ...  activation  last_activation\n",
              "0              2  1.236038  ...        relu          softmax\n",
              "1              2  2.081936  ...        tanh          softmax\n",
              "2              2  0.598860  ...        relu          softmax\n",
              "3              2  2.213844  ...        relu          softmax\n",
              "4              2  0.244798  ...        relu          softmax\n",
              "5              2  0.753048  ...        relu          softmax\n",
              "6              2  1.484827  ...        relu          softmax\n",
              "7              2  0.649194  ...        relu          softmax\n",
              "8              2  0.603161  ...        tanh          softmax\n",
              "9              2  0.757226  ...        relu          softmax\n",
              "10             2  1.069248  ...        tanh          softmax\n",
              "11             2  0.199156  ...        relu          softmax\n",
              "\n",
              "[12 rows x 15 columns]"
            ]
          },
          "metadata": {
            "tags": []
          },
          "execution_count": 41
        }
      ]
    },
    {
      "cell_type": "markdown",
      "metadata": {
        "id": "cBBz_MMS_ezr",
        "colab_type": "text"
      },
      "source": [
        "[Talos' documentation](https://autonomio.github.io/docs_talos/#introduction) provides more information about the package."
      ]
    },
    {
      "cell_type": "markdown",
      "metadata": {
        "id": "xm0oVnMQWLZt",
        "colab_type": "text"
      },
      "source": [
        "## Data augmentation\n",
        "Deep learning models are data-hungry, tend to overfit with small training sets and its performance benefit from large training sets. A way to synthetically create more data is using data augmentation. Now, we will show some examples of data augmentation for images.\n",
        "### Images\n",
        "Data augmentation techniques such as rotation, color jittering, scale or cropping are usually applied in deep learning pipelines for vision applications. The idea is to take as input an image, apply a transformation to it, and then use it for training.\n",
        "\n",
        "Keras includes a preprocessing module, with all [these transformations](https://keras.io/preprocessing/image/) implemented. The preprocessing module can be imported by doing\n",
        "\n",
        "\n"
      ]
    },
    {
      "cell_type": "code",
      "metadata": {
        "id": "n4glvOHvh8qy",
        "colab_type": "code",
        "colab": {}
      },
      "source": [
        "from keras.preprocessing.image import ImageDataGenerator"
      ],
      "execution_count": 0,
      "outputs": []
    },
    {
      "cell_type": "markdown",
      "metadata": {
        "id": "2vftBzsolQcL",
        "colab_type": "text"
      },
      "source": [
        "Then we need to fit it to the input data using `fit` (which computes statistics from the dataset, such as means and std values) and use `flow` to apply the transformations to the input data. In the function `plot_data_augmentation` defined in the code cell below we can see the process of fitting the data and then using flow to iterate over the generator.\n",
        "\n"
      ]
    },
    {
      "cell_type": "code",
      "metadata": {
        "id": "yTLpcR43IHpX",
        "colab_type": "code",
        "colab": {}
      },
      "source": [
        "def plot_data_augmentation(augmentation_gen = ImageDataGenerator()):\n",
        "  (x_train, y_train), (x_test, y_test) = mnist.load_data()\n",
        "  augmentation_gen.fit(np.expand_dims(x_train, -1))\n",
        "  for X_batch, y_batch in augmentation_gen.flow(np.expand_dims(x_train, -1), y_train, batch_size=5, shuffle=False):\n",
        "    for i in range(0, 5):\n",
        "      plt.subplot(150 + 1 + i)\n",
        "      plt.imshow(X_batch[i, :].reshape(28, 28), cmap=plt.get_cmap('gray'))\n",
        "    # show the plot\n",
        "    plt.show()\n",
        "    break"
      ],
      "execution_count": 0,
      "outputs": []
    },
    {
      "cell_type": "markdown",
      "metadata": {
        "id": "OoJYjjapiISI",
        "colab_type": "text"
      },
      "source": [
        "We will now visualize some of the transformations available to use.\n",
        "\n",
        "First, we plot some images without any transformations applied for comparison."
      ]
    },
    {
      "cell_type": "code",
      "metadata": {
        "id": "MyoZHyOTheyU",
        "colab_type": "code",
        "outputId": "6cb02f6a-69fa-4a57-a988-604a767d1cac",
        "colab": {
          "base_uri": "https://localhost:8080/",
          "height": 109
        }
      },
      "source": [
        "plot_data_augmentation()"
      ],
      "execution_count": 44,
      "outputs": [
        {
          "output_type": "display_data",
          "data": {
            "image/png": "[encoded data removed]",
            "text/plain": [
              "<Figure size 432x288 with 5 Axes>"
            ]
          },
          "metadata": {
            "tags": []
          }
        }
      ]
    },
    {
      "cell_type": "markdown",
      "metadata": {
        "id": "eFXEC5EejxWG",
        "colab_type": "text"
      },
      "source": [
        "### Rotation\n",
        "A standard transformation is to rotate the image. We can do so by initializing ImageDataGenerator with `rotation_range=rot_val`."
      ]
    },
    {
      "cell_type": "code",
      "metadata": {
        "id": "hjgfZ1z3j46X",
        "colab_type": "code",
        "outputId": "123290d1-7d2f-42eb-f415-9a4af3644d78",
        "colab": {
          "base_uri": "https://localhost:8080/",
          "height": 109
        }
      },
      "source": [
        "# We first define the transformation we want to apply\n",
        "augmentation_gen = ImageDataGenerator(rotation_range=90)\n",
        "plot_data_augmentation(augmentation_gen)"
      ],
      "execution_count": 45,
      "outputs": [
        {
          "output_type": "display_data",
          "data": {
            "image/png": "[encoded data removed]",
            "text/plain": [
              "<Figure size 432x288 with 5 Axes>"
            ]
          },
          "metadata": {
            "tags": []
          }
        }
      ]
    },
    {
      "cell_type": "markdown",
      "metadata": {
        "id": "Schj43v4ioTY",
        "colab_type": "text"
      },
      "source": [
        "### Shift\n",
        "\n",
        "We can define a maximum range of both horizontal (`width_shift_range`) and vertical (`height_shift_range`) shift."
      ]
    },
    {
      "cell_type": "code",
      "metadata": {
        "id": "dbzq69FfjLd9",
        "colab_type": "code",
        "outputId": "1da18a2a-a13e-445d-b3cb-9b4c71cbb7f2",
        "colab": {
          "base_uri": "https://localhost:8080/",
          "height": 109
        }
      },
      "source": [
        "augmentation_gen = ImageDataGenerator(width_shift_range=0.3, height_shift_range=0.3)\n",
        "plot_data_augmentation(augmentation_gen)"
      ],
      "execution_count": 46,
      "outputs": [
        {
          "output_type": "display_data",
          "data": {
            "image/png": "[encoded data removed]",
            "text/plain": [
              "<Figure size 432x288 with 5 Axes>"
            ]
          },
          "metadata": {
            "tags": []
          }
        }
      ]
    },
    {
      "cell_type": "markdown",
      "metadata": {
        "id": "7uhYKLIPI1LA",
        "colab_type": "text"
      },
      "source": [
        "### Zooming\n",
        "Zooming into the image can be done with `zoom_range`."
      ]
    },
    {
      "cell_type": "code",
      "metadata": {
        "id": "NGvZzyL0HQjF",
        "colab_type": "code",
        "outputId": "67391396-96f1-4ccf-ff13-3c7f32b4c17b",
        "colab": {
          "base_uri": "https://localhost:8080/",
          "height": 109
        }
      },
      "source": [
        "augmentation_gen = ImageDataGenerator(zoom_range=0.4)\n",
        "plot_data_augmentation(augmentation_gen)"
      ],
      "execution_count": 47,
      "outputs": [
        {
          "output_type": "display_data",
          "data": {
            "image/png": "[encoded data removed]",
            "text/plain": [
              "<Figure size 432x288 with 5 Axes>"
            ]
          },
          "metadata": {
            "tags": []
          }
        }
      ]
    },
    {
      "cell_type": "markdown",
      "metadata": {
        "id": "845GvrICI9IX",
        "colab_type": "text"
      },
      "source": [
        "### Flip\n",
        "\n",
        "We can define either horizontal flip (`horizontal_flip`) or vertical (`vertical_flip`).  "
      ]
    },
    {
      "cell_type": "code",
      "metadata": {
        "id": "m6emZPbsHXOV",
        "colab_type": "code",
        "outputId": "80bd1ffc-eb74-468a-c67f-bf53c52a6dd0",
        "colab": {
          "base_uri": "https://localhost:8080/",
          "height": 109
        }
      },
      "source": [
        "augmentation_gen = ImageDataGenerator(horizontal_flip=True, vertical_flip=True)\n",
        "plot_data_augmentation(augmentation_gen)"
      ],
      "execution_count": 48,
      "outputs": [
        {
          "output_type": "display_data",
          "data": {
            "image/png": "[encoded data removed]",
            "text/plain": [
              "<Figure size 432x288 with 5 Axes>"
            ]
          },
          "metadata": {
            "tags": []
          }
        }
      ]
    },
    {
      "cell_type": "markdown",
      "metadata": {
        "id": "GOE33AOLJdPK",
        "colab_type": "text"
      },
      "source": [
        "### Combining transformations\n",
        "We can combine all the transformations and train a model. The `ImageDataGenerator` is a generator, so we need to use the method `fit_generator`, which is explained [in the documentation](https://keras.io/models/sequential/)."
      ]
    },
    {
      "cell_type": "code",
      "metadata": {
        "id": "Xqb15Ga0EsC9",
        "colab_type": "code",
        "outputId": "c5d20f3f-3e67-48e5-8536-bd6c5404a9a5",
        "colab": {
          "base_uri": "https://localhost:8080/",
          "height": 374
        }
      },
      "source": [
        "augmentation_gen = ImageDataGenerator(\n",
        "        rotation_range=40,\n",
        "        width_shift_range=0.2,\n",
        "        height_shift_range=0.2,\n",
        "        rescale=1./255,\n",
        "        shear_range=0.2,\n",
        "        zoom_range=0.2,\n",
        "        horizontal_flip=True,\n",
        "        fill_mode='nearest')\n",
        "\n",
        "(x_train, y_train), (x_test, y_test) = mnist.load_data()\n",
        "augmentation_gen.fit(np.expand_dims(x_train, -1))\n",
        "train_gen = augmentation_gen.flow(np.expand_dims(x_train, -1), keras.utils.to_categorical(y_train))\n",
        "model = Sequential()\n",
        "model.add(keras.layers.Flatten(input_shape=(28, 28, 1)))\n",
        "model.add(Dense(512, activation='relu'))\n",
        "model.add(Dense(512, activation='relu'))\n",
        "model.add(Dense(10, activation='softmax'))\n",
        "model.compile(optimizer='adam',loss='categorical_crossentropy', metrics=['categorical_accuracy'])\n",
        "model.fit_generator(train_gen, samples_per_epoch=len(x_train), epochs=10)"
      ],
      "execution_count": 49,
      "outputs": [
        {
          "output_type": "stream",
          "text": [
            "Epoch 1/10\n",
            "1875/1875 [==============================] - 21s 11ms/step - loss: 1.0975 - categorical_accuracy: 0.6282\n",
            "Epoch 2/10\n",
            "1875/1875 [==============================] - 21s 11ms/step - loss: 0.6859 - categorical_accuracy: 0.7733\n",
            "Epoch 3/10\n",
            "1875/1875 [==============================] - 21s 11ms/step - loss: 0.5789 - categorical_accuracy: 0.8091\n",
            "Epoch 4/10\n",
            "1875/1875 [==============================] - 21s 11ms/step - loss: 0.5231 - categorical_accuracy: 0.8298\n",
            "Epoch 5/10\n",
            "1875/1875 [==============================] - 21s 11ms/step - loss: 0.4851 - categorical_accuracy: 0.8431\n",
            "Epoch 6/10\n",
            "1875/1875 [==============================] - 21s 11ms/step - loss: 0.4608 - categorical_accuracy: 0.8516\n",
            "Epoch 7/10\n",
            "1875/1875 [==============================] - 21s 11ms/step - loss: 0.4374 - categorical_accuracy: 0.8581\n",
            "Epoch 8/10\n",
            "1875/1875 [==============================] - 21s 11ms/step - loss: 0.4300 - categorical_accuracy: 0.8613\n",
            "Epoch 9/10\n",
            "1875/1875 [==============================] - 22s 11ms/step - loss: 0.4119 - categorical_accuracy: 0.8683\n",
            "Epoch 10/10\n",
            "1875/1875 [==============================] - 21s 11ms/step - loss: 0.3955 - categorical_accuracy: 0.8734\n"
          ],
          "name": "stdout"
        },
        {
          "output_type": "execute_result",
          "data": {
            "text/plain": [
              "<keras.callbacks.History at 0x7f34b921da58>"
            ]
          },
          "metadata": {
            "tags": []
          },
          "execution_count": 49
        }
      ]
    },
    {
      "cell_type": "markdown",
      "metadata": {
        "id": "65Ynz4OOee5_",
        "colab_type": "text"
      },
      "source": [
        "In these examples we showed practical examples of data augmentation for images. However, other modalities, such as text or audio can also benefit from data augmentation as shown in the lecture slides."
      ]
    },
    {
      "cell_type": "markdown",
      "metadata": {
        "id": "9Q8t9ZSK2nmg",
        "colab_type": "text"
      },
      "source": [
        "## Tensorboard\n",
        "Tensorboard is quite useful to monitor the different metrics in real time. Both Tensorflow and Pytorch users (using the TensorboardX module) can use it. Tensorboard can be used in Keras by using the Tensorboard callback available ([documentation here](https://keras.io/callbacks/)).\n",
        "\n",
        "However, to make it working in a Colab environment, we need to follow a different process, which is explained [here](https://medium.com/@tommytao_54597/use-tensorboard-in-google-colab-16b4bb9812a6). When you run the following piece of code, a Tensorboard link will be displayed. If you click on it, and you will be redirected to the Tensorboard site."
      ]
    },
    {
      "cell_type": "code",
      "metadata": {
        "id": "IMK1K_sd24ee",
        "colab_type": "code",
        "outputId": "efd36cae-4bb3-4e3a-f784-6e736b29faa4",
        "colab": {
          "base_uri": "https://localhost:8080/",
          "height": 255
        }
      },
      "source": [
        "!pip install tensorboardcolab\n",
        "!wget https://bin.equinox.io/c/4VmDzA7iaHb/ngrok-stable-linux-amd64.zip\n",
        "!unzip ngrok-stable-linux-amd64.zip"
      ],
      "execution_count": 50,
      "outputs": [
        {
          "output_type": "stream",
          "text": [
            "Requirement already satisfied: tensorboardcolab in /usr/local/lib/python3.6/dist-packages (0.0.22)\n",
            "--2020-02-04 19:20:46--  https://bin.equinox.io/c/4VmDzA7iaHb/ngrok-stable-linux-amd64.zip\n",
            "Resolving bin.equinox.io (bin.equinox.io)... 54.224.175.112, 34.237.203.145, 34.235.200.97, ...\n",
            "Connecting to bin.equinox.io (bin.equinox.io)|54.224.175.112|:443... connected.\n",
            "HTTP request sent, awaiting response... 200 OK\n",
            "Length: 13773305 (13M) [application/octet-stream]\n",
            "Saving to: ‘ngrok-stable-linux-amd64.zip’\n",
            "\n",
            "ngrok-stable-linux- 100%[===================>]  13.13M  38.0MB/s    in 0.3s    \n",
            "\n",
            "2020-02-04 19:20:47 (38.0 MB/s) - ‘ngrok-stable-linux-amd64.zip’ saved [13773305/13773305]\n",
            "\n",
            "Archive:  ngrok-stable-linux-amd64.zip\n",
            "  inflating: ngrok                   \n"
          ],
          "name": "stdout"
        }
      ]
    },
    {
      "cell_type": "code",
      "metadata": {
        "id": "uwlns-E_6PSw",
        "colab_type": "code",
        "outputId": "6038cb21-2e58-4c0e-8a13-ad79152356d1",
        "colab": {
          "base_uri": "https://localhost:8080/",
          "height": 68
        }
      },
      "source": [
        "import tensorboardcolab as tbc\n",
        "K.clear_session()\n",
        "tboard = tbc.TensorBoardColab()\n",
        "from tensorboardcolab import TensorBoardColabCallback"
      ],
      "execution_count": 51,
      "outputs": [
        {
          "output_type": "stream",
          "text": [
            "Wait for 8 seconds...\n",
            "TensorBoard link:\n",
            "https://90a41320.ngrok.io\n"
          ],
          "name": "stdout"
        }
      ]
    },
    {
      "cell_type": "markdown",
      "metadata": {
        "id": "PYSa2XXG4Cb8",
        "colab_type": "text"
      },
      "source": [
        "Now, we can use a callback function to show the training progress in the given link. "
      ]
    },
    {
      "cell_type": "code",
      "metadata": {
        "id": "zFh9bJyJ4f7W",
        "colab_type": "code",
        "outputId": "d071fdb6-db9b-43df-9005-4e7d03641015",
        "colab": {
          "base_uri": "https://localhost:8080/",
          "height": 391
        }
      },
      "source": [
        "model, x_train, y_train, x_test, y_test = get_data_model()\n",
        "model.compile(optimizer='adam',loss='categorical_crossentropy')\n",
        "model.fit(x_train, y_train, epochs=10, batch_size=32,  validation_split=0.2, callbacks=[TensorBoardColabCallback(tboard)])"
      ],
      "execution_count": 52,
      "outputs": [
        {
          "output_type": "stream",
          "text": [
            "Train on 48000 samples, validate on 12000 samples\n",
            "Epoch 1/10\n",
            "48000/48000 [==============================] - 6s 130us/step - loss: 0.2022 - val_loss: 0.1401\n",
            "Epoch 2/10\n",
            "48000/48000 [==============================] - 6s 129us/step - loss: 0.0847 - val_loss: 0.0967\n",
            "Epoch 3/10\n",
            "48000/48000 [==============================] - 6s 129us/step - loss: 0.0599 - val_loss: 0.0910\n",
            "Epoch 4/10\n",
            "48000/48000 [==============================] - 6s 126us/step - loss: 0.0465 - val_loss: 0.0919\n",
            "Epoch 5/10\n",
            "48000/48000 [==============================] - 6s 124us/step - loss: 0.0352 - val_loss: 0.1096\n",
            "Epoch 6/10\n",
            "48000/48000 [==============================] - 6s 125us/step - loss: 0.0283 - val_loss: 0.1106\n",
            "Epoch 7/10\n",
            "48000/48000 [==============================] - 6s 126us/step - loss: 0.0266 - val_loss: 0.1021\n",
            "Epoch 8/10\n",
            "48000/48000 [==============================] - 6s 127us/step - loss: 0.0243 - val_loss: 0.1246\n",
            "Epoch 9/10\n",
            "48000/48000 [==============================] - 6s 129us/step - loss: 0.0234 - val_loss: 0.0984\n",
            "Epoch 10/10\n",
            "48000/48000 [==============================] - 6s 126us/step - loss: 0.0172 - val_loss: 0.1192\n"
          ],
          "name": "stdout"
        },
        {
          "output_type": "execute_result",
          "data": {
            "text/plain": [
              "<keras.callbacks.History at 0x7f34b50772e8>"
            ]
          },
          "metadata": {
            "tags": []
          },
          "execution_count": 52
        }
      ]
    },
    {
      "cell_type": "markdown",
      "metadata": {
        "id": "N0x9hnGhUW9u",
        "colab_type": "text"
      },
      "source": [
        "In the Tensorboard website you should see two sections: *Scalars* and *Graph*. In *Scalars* there is the plot with the training and validation loss per epoch, and in *Graph* you should have the graph of your model. You can also plot images, histograms, distributions and other things in Tensorboard, which makes it quite useful to keep track of the training progress. You will not have to use Tensorboard for the tutorials, however it is a nice visualization tool that can be useful for future projects."
      ]
    },
    {
      "cell_type": "markdown",
      "metadata": {
        "id": "nUpwc1fHxF4N",
        "colab_type": "text"
      },
      "source": [
        "# Coursework\n",
        "\n",
        "### Task 1: Tuning a classification model\n",
        "In a machine learning problem, and especially when using a deep learning approach, finding the right set of hyperparameters can make the difference between a model that performs poorly and a model with great accuracy. \n",
        "\n",
        "For this exercise, you will be training a CNN to reach a good accuracy in CIFAR-100. You can start by using the CNN you defined in the `CNN_Introduction` tutorial, however you can use any architecture you wish.\n",
        "\n",
        "**Report:**\n",
        "*   Perform a hyperparameter search and find a set of hyperparameters capable of obtaining at least 50% of accuracy on the test set. As done in `CNN_Introduction`, present a bar figure with the test and training accuracies for different design choices. Discuss which parameters have a significant impact on the network performance.\n",
        "*   For the best architecture and hyperparameters you found, report in a table the accuracies obtained in the training and the test set depending of the optimizer chosen. Carry out similar comparison for different  initialization methods. \n",
        "*   Apply data augmentation to the input images and analyze the differences in training and test accuracy per epoch vs. training without data augmentation. Carry out similar comparison for dropout and batch normalization.\n",
        " "
      ]
    }
  ]
}