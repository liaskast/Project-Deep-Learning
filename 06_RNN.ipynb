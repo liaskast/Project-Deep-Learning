{
  "nbformat": 4,
  "nbformat_minor": 0,
  "metadata": {
    "colab": {
      "name": "2020_06_RNN.ipynb",
      "provenance": [],
      "collapsed_sections": [],
      "toc_visible": true,
      "include_colab_link": true
    },
    "kernelspec": {
      "name": "python3",
      "display_name": "Python 3"
    },
    "accelerator": "GPU"
  },
  "cells": [
    {
      "cell_type": "markdown",
      "metadata": {
        "id": "view-in-github",
        "colab_type": "text"
      },
      "source": [
        "<a href=\"https://colab.research.google.com/github/MatchLab-Imperial/deep-learning-course/blob/master/2020_06_RNN.ipynb\" target=\"_parent\"><img src=\"https://colab.research.google.com/assets/colab-badge.svg\" alt=\"Open In Colab\"/></a>"
      ]
    },
    {
      "cell_type": "markdown",
      "metadata": {
        "id": "kiobin3g2wyW",
        "colab_type": "text"
      },
      "source": [
        "# Recurrent Neural Networks Introduction\n",
        "\n",
        "A Recurrent Neural Network (RNN) is a specific type of architecture that is widely used to deal with sequential information. So far, the introduced CNN architectures from the previous tutorials treated inputs as independent objects, however, many applications need to deal with data that is interconnected. For instance, if you are translating a sentence from English to Taiwanese, and you are predicting the next word, it is useful to know which words came before the last one.\n",
        "\n",
        "RNNs are called recurrent since they apply the same operation to each of the input sequences, with the output of an individual element being dependent on the previous one. Theoretically, RNNs establish a connection between the actual input and ALL the previous ones. Although this is assumed, in the practice, RNNs have proven to only *remember* a limited number of inputs. In other words, RNNs have a *memory* that allows them to *remember* previous elements and use their information to deal with the current input. \n",
        "\n",
        "RNNs can be split into multiple types depending on their applications. For instance, if we want to predict one word given only the previous one, the topology of our network is a *One to One*. Another examples is image captioning,where we can design an *One to Many* architecture to obtain a description from a single input image. The following diagram shows the different types of problems we can face ([Source](http://karpathy.github.io/2015/05/21/rnn-effectiveness/)):\n",
        "\n",
        "\n",
        "![alt text](https://i.ibb.co/5hpYFzf/rnn-introduction.png)"
      ]
    },
    {
      "cell_type": "markdown",
      "metadata": {
        "id": "9t6BQY9B21nV",
        "colab_type": "text"
      },
      "source": [
        "**A Closer Look to RNN**\n",
        "\n",
        "The figure below shows the simplest version of an RNN, which can be easily derived from a simple feedforward architecture by adding a single loop: \n",
        "\n",
        "![alt text](https://i.ibb.co/qnGH6RT/vanilla-rnn.png)\n",
        "\n",
        "During training, the hidden state $h$ is iteratively updated based on the input value $x$ and the learned weights $W_h$ and $W_x$. The final output $y$ is estimated from the current state $h_t$ and the matrix $W_y$. \n",
        "\n",
        "Although RNN can assure short-term dependencies within the network, can they assure long-term dependencies? If RNNs could, it would be extremely useful. However, simple RNNs become unable to learn to connect information as the gap between past and present information grows. To overcome this limitation, in practical applications LSTM unit is adopted, that is a special RNNs architecture composed of multiple interacting layers ([Source](https://colah.github.io/posts/2015-08-Understanding-LSTMs/)):\n",
        "![alt text](https://colah.github.io/posts/2015-08-Understanding-LSTMs/img/LSTM3-chain.png)\n",
        "\n"
      ]
    },
    {
      "cell_type": "markdown",
      "metadata": {
        "id": "EOUUKOPH2_SG",
        "colab_type": "text"
      },
      "source": [
        "In this tutorial, we will use LSTMs straight away as a black box."
      ]
    },
    {
      "cell_type": "markdown",
      "metadata": {
        "id": "iMJ28M_227fj",
        "colab_type": "text"
      },
      "source": [
        "# ***Many to One* RNNs - Regression**\n",
        "\n",
        "In this section, we are going to implement an easy example of an RNN in Keras. Given the records of a local newspaper, which indicates the number of new subscriptions per month, we want to predict the number of members that will join next month.\n",
        "\n",
        "First, we load the data with the utility method in Pandas `read_csv`, which allows us to load directly the dataset from an URL address. Let's follow a good practice and print some rows of the imported record to see the format of the data."
      ]
    },
    {
      "cell_type": "code",
      "metadata": {
        "id": "0PZRejNk29jN",
        "colab_type": "code",
        "outputId": "19fc62a2-d0ff-40be-90cd-e8f2a3087123",
        "colab": {
          "base_uri": "https://localhost:8080/",
          "height": 204
        }
      },
      "source": [
        "import math\n",
        "import numpy as np\n",
        "import pandas as pd\n",
        "import matplotlib.pyplot as plt\n",
        "from IPython.display import SVG\n",
        "from keras.utils.vis_utils import model_to_dot\n",
        "import io\n",
        "import requests\n",
        "data=pd.read_csv(\"https://drive.google.com/uc?id=1Hv2nuwVXO_aZN89llGva0hSH6k3kKAVm\",usecols=[1],engine = \"python\")\n",
        "data.head()"
      ],
      "execution_count": 0,
      "outputs": [
        {
          "output_type": "execute_result",
          "data": {
            "text/html": [
              "<div>\n",
              "<style scoped>\n",
              "    .dataframe tbody tr th:only-of-type {\n",
              "        vertical-align: middle;\n",
              "    }\n",
              "\n",
              "    .dataframe tbody tr th {\n",
              "        vertical-align: top;\n",
              "    }\n",
              "\n",
              "    .dataframe thead th {\n",
              "        text-align: right;\n",
              "    }\n",
              "</style>\n",
              "<table border=\"1\" class=\"dataframe\">\n",
              "  <thead>\n",
              "    <tr style=\"text-align: right;\">\n",
              "      <th></th>\n",
              "      <th>Number of subscriptions to city newspaper</th>\n",
              "    </tr>\n",
              "  </thead>\n",
              "  <tbody>\n",
              "    <tr>\n",
              "      <th>0</th>\n",
              "      <td>112</td>\n",
              "    </tr>\n",
              "    <tr>\n",
              "      <th>1</th>\n",
              "      <td>118</td>\n",
              "    </tr>\n",
              "    <tr>\n",
              "      <th>2</th>\n",
              "      <td>132</td>\n",
              "    </tr>\n",
              "    <tr>\n",
              "      <th>3</th>\n",
              "      <td>129</td>\n",
              "    </tr>\n",
              "    <tr>\n",
              "      <th>4</th>\n",
              "      <td>121</td>\n",
              "    </tr>\n",
              "  </tbody>\n",
              "</table>\n",
              "</div>"
            ],
            "text/plain": [
              "   Number of subscriptions to city newspaper\n",
              "0                                        112\n",
              "1                                        118\n",
              "2                                        132\n",
              "3                                        129\n",
              "4                                        121"
            ]
          },
          "metadata": {
            "tags": []
          },
          "execution_count": 69
        }
      ]
    },
    {
      "cell_type": "markdown",
      "metadata": {
        "id": "Hd3kk4Zh3CA-",
        "colab_type": "text"
      },
      "source": [
        "Moreover, let's plot the number of subscriptions per month."
      ]
    },
    {
      "cell_type": "code",
      "metadata": {
        "id": "uEmJqK1z3Dei",
        "colab_type": "code",
        "outputId": "c4f9e523-3f4e-4974-b72c-8bfe3a51a7bf",
        "colab": {
          "base_uri": "https://localhost:8080/",
          "height": 350
        }
      },
      "source": [
        "plt.figure(figsize = (15, 5))\n",
        "plt.plot(data, label = \"City Newspaper Subscriptions\")\n",
        "plt.xlabel(\"Months\")\n",
        "plt.ylabel(\"1000 Subscriptions\")\n",
        "plt.title(\"Monthly Total Subscriptions to City Newspaper 1949 - 1960\")\n",
        "plt.legend()\n",
        "plt.show()"
      ],
      "execution_count": 0,
      "outputs": [
        {
          "output_type": "display_data",
          "data": {
            "image/png": "[encoded data removed]",
            "text/plain": [
              "<Figure size 1080x360 with 1 Axes>"
            ]
          },
          "metadata": {
            "tags": []
          }
        }
      ]
    },
    {
      "cell_type": "markdown",
      "metadata": {
        "id": "3Z8TX3X53FQT",
        "colab_type": "text"
      },
      "source": [
        "Now we are ready to start importing Keras' modules."
      ]
    },
    {
      "cell_type": "code",
      "metadata": {
        "id": "0zIY8Fz_3Gar",
        "colab_type": "code",
        "colab": {}
      },
      "source": [
        "from keras.layers.core import Dense, Activation, Dropout\n",
        "from keras.layers.recurrent import LSTM\n",
        "from keras.models import Sequential\n",
        "from sklearn.metrics import mean_squared_error\n",
        "from sklearn.preprocessing import MinMaxScaler\n",
        "from sklearn.utils import shuffle"
      ],
      "execution_count": 0,
      "outputs": []
    },
    {
      "cell_type": "markdown",
      "metadata": {
        "id": "7x55PWxD3IFE",
        "colab_type": "text"
      },
      "source": [
        "First of all, we need to prepare the data for the training and test stage. Once the data is loaded, we normalize the input values and split them between training (70%) and testing (30%).\n"
      ]
    },
    {
      "cell_type": "code",
      "metadata": {
        "id": "wIrOh9Pi3JZg",
        "colab_type": "code",
        "outputId": "665dd24f-8cc3-49d9-e846-fe7a66a7a7e2",
        "colab": {
          "base_uri": "https://localhost:8080/",
          "height": 51
        }
      },
      "source": [
        "# convert pandas data frame in numpy array of float.\n",
        "data_np = data.values.astype(\"float32\")\n",
        "\n",
        "# normalize data with min max normalization\n",
        "normalizer = MinMaxScaler(feature_range = (0, 1))\n",
        "dataset = normalizer.fit_transform(data_np)\n",
        "\n",
        "# Using 70% of data for training, 30% for test.\n",
        "TRAINING_PERC = 0.70\n",
        "\n",
        "train_size = int(len(dataset) * TRAINING_PERC)\n",
        "test_size = len(dataset) - train_size\n",
        "train, test = dataset[0:train_size, :], dataset[train_size:len(dataset), :]\n",
        "print(\"Number of samples training set: \" + str((len(train))))\n",
        "print(\"Number of samples test set: \" + str((len(test))))"
      ],
      "execution_count": 0,
      "outputs": [
        {
          "output_type": "stream",
          "text": [
            "Number of samples training set: 100\n",
            "Number of samples test set: 44\n"
          ],
          "name": "stdout"
        }
      ]
    },
    {
      "cell_type": "markdown",
      "metadata": {
        "id": "JI5UamBO3KrU",
        "colab_type": "text"
      },
      "source": [
        "We also arrange the dataset (input and labels) in the appropriate Keras' format by using the helper function `create_dataset()`. \n",
        "\n",
        "`create_dataset()` takes as argument the variable `window_size`. This variable is highly important when dealing with sequences since it is going to determine the length of our input data to the network. For instance, by setting `window_size` to 5, we will be using the last 5 monthly subscriptions values to predict the next one. "
      ]
    },
    {
      "cell_type": "code",
      "metadata": {
        "id": "DvGh-1db3MOy",
        "colab_type": "code",
        "outputId": "c82b2f93-5e6b-43b9-a21f-fbad8b76d745",
        "colab": {
          "base_uri": "https://localhost:8080/",
          "height": 51
        }
      },
      "source": [
        "# helper function to read data.\n",
        "def create_dataset(dataset, window_size = 1):\n",
        "    data_x, data_y = [], []\n",
        "    for i in range(len(dataset) - window_size - 1):\n",
        "        sample = dataset[i:(i + window_size), 0]\n",
        "        data_x.append(sample)\n",
        "        data_y.append(dataset[i + window_size, 0])\n",
        "    return(np.array(data_x), np.array(data_y))\n",
        "\n",
        "# Create test and training sets for regression with window size 5.\n",
        "window_size = 5\n",
        "train_X, train_Y = create_dataset(train, window_size)\n",
        "test_X, test_Y = create_dataset(test, window_size)\n",
        "train_X = np.reshape(train_X, (train_X.shape[0], train_X.shape[1], 1))\n",
        "test_X = np.reshape(test_X, (test_X.shape[0], test_X.shape[1], 1))\n",
        "\n",
        "print(\"Shape of training inputs: \" + str((train_X.shape)))\n",
        "print(\"Shape of training labels: \" + str((train_Y.shape)))"
      ],
      "execution_count": 0,
      "outputs": [
        {
          "output_type": "stream",
          "text": [
            "Shape of training inputs: (94, 5, 1)\n",
            "Shape of training labels: (94,)\n"
          ],
          "name": "stdout"
        }
      ]
    },
    {
      "cell_type": "markdown",
      "metadata": {
        "id": "QlB3Edd03NwG",
        "colab_type": "text"
      },
      "source": [
        "Once all the data is ready, we create the model as a `Sequential` object including 16 LSTM units and a dense layer outputting a single scalar.\n",
        "As mentioned, we specify a window size equal to 5, so that the prediction of the current element depends only on the previous five ones."
      ]
    },
    {
      "cell_type": "code",
      "metadata": {
        "id": "IuT4lcHt3Qqp",
        "colab_type": "code",
        "outputId": "f9d4d9e0-9834-4efe-c3db-1b5110d8a257",
        "colab": {
          "base_uri": "https://localhost:8080/",
          "height": 34
        }
      },
      "source": [
        "batch_size = 32\n",
        "rnn = Sequential()    \n",
        "rnn.add(LSTM(16, input_shape = (window_size, 1)))\n",
        "rnn.add(Dense(1))\n",
        "rnn.compile(loss = \"mean_squared_error\",  optimizer = \"adam\", metrics = ['mse'])\n",
        "\n",
        "rnn.fit(train_X, train_Y, epochs=500, batch_size=batch_size, verbose = 0)"
      ],
      "execution_count": 0,
      "outputs": [
        {
          "output_type": "execute_result",
          "data": {
            "text/plain": [
              "<keras.callbacks.History at 0x7f962c0d6320>"
            ]
          },
          "metadata": {
            "tags": []
          },
          "execution_count": 74
        }
      ]
    },
    {
      "cell_type": "markdown",
      "metadata": {
        "id": "PrMqbfrK3Nz8",
        "colab_type": "text"
      },
      "source": [
        "Now we can compute the MSE on the training and test data:"
      ]
    },
    {
      "cell_type": "code",
      "metadata": {
        "id": "qkhF1mrr3Tor",
        "colab_type": "code",
        "outputId": "5dbd22f8-b337-418f-ff8a-0ac30d9558bc",
        "colab": {
          "base_uri": "https://localhost:8080/",
          "height": 51
        }
      },
      "source": [
        "def get_predict_and_score(model, X, Y):\n",
        "    # transform the prediction to the original scale.\n",
        "    pred = normalizer.inverse_transform(model.predict(X))\n",
        "    # transform also the label to the original scale for interpretability.\n",
        "    orig_data = normalizer.inverse_transform([Y])\n",
        "    # calculate RMSE.\n",
        "    score = math.sqrt(mean_squared_error(orig_data[0], pred[:, 0]))\n",
        "    return(score, pred)\n",
        "\n",
        "mse_train, train_predict = get_predict_and_score(rnn, train_X, train_Y)\n",
        "mse_test, test_predict = get_predict_and_score(rnn, test_X, test_Y)\n",
        "\n",
        "print(\"Training data error: %.2f MSE\" % mse_train)\n",
        "print(\"Test data error: %.2f MSE\" % mse_test)"
      ],
      "execution_count": 0,
      "outputs": [
        {
          "output_type": "stream",
          "text": [
            "Training data error: 24.90 MSE\n",
            "Test data error: 55.46 MSE\n"
          ],
          "name": "stdout"
        }
      ]
    },
    {
      "cell_type": "markdown",
      "metadata": {
        "id": "SVOaCHMc3W6I",
        "colab_type": "text"
      },
      "source": [
        "Moreover, we can plot the predictions and actual values in a graph to check visually the performance of our predictor."
      ]
    },
    {
      "cell_type": "code",
      "metadata": {
        "id": "kUjXRdOg3Vjj",
        "colab_type": "code",
        "outputId": "d048157b-8e69-40c5-a0e2-2f7a146e376f",
        "colab": {
          "base_uri": "https://localhost:8080/",
          "height": 350
        }
      },
      "source": [
        "# Training predictions.\n",
        "train_predictions = np.empty_like(dataset)\n",
        "train_predictions[:, :] = np.nan\n",
        "train_predictions[window_size:len(train_predict) + window_size, :] = train_predict\n",
        "\n",
        "# Test predictions.\n",
        "test_predictions = np.empty_like(dataset)\n",
        "test_predictions[:, :] = np.nan\n",
        "test_predictions[len(train_predict) + (window_size * 2) + 1:len(dataset) - 1, :] = test_predict\n",
        "\n",
        "# Create the plot.\n",
        "plt.figure(figsize = (15, 5))\n",
        "plt.plot(normalizer.inverse_transform(dataset), label = \"True value\")\n",
        "plt.plot(train_predictions, label = \"Training predictions\")\n",
        "plt.plot(test_predictions, label = \"Test predictions\")\n",
        "plt.xlabel(\"Months\")\n",
        "plt.ylabel(\"1000 member subscriptions\")\n",
        "plt.title(\"Comparison true vs. predicted in the training and testing set\")\n",
        "plt.legend()\n",
        "plt.show()"
      ],
      "execution_count": 0,
      "outputs": [
        {
          "output_type": "display_data",
          "data": {
            "image/png": "[encoded data removed]",
            "text/plain": [
              "<Figure size 1080x360 with 1 Axes>"
            ]
          },
          "metadata": {
            "tags": []
          }
        }
      ]
    },
    {
      "cell_type": "markdown",
      "metadata": {
        "id": "rMzQDr20HPbw",
        "colab_type": "text"
      },
      "source": [
        "#Sequence Modelling: Text\n",
        "\n",
        "Now we will use RNNs to tackle text examples. We will present two problems: classification and generation.\n",
        "\n",
        "A small summary of both problems is given below.\n",
        "\n",
        "**Classification**\n",
        "\n",
        "Classification is a standard problem, where we have some input data $x$ and try to classify it as one of the available classes $y$. In the case of sequential data, though, $x$ will be a sequence of elements that will be processed by the RNN to return the label $y$. The image depicts a sequence classification problem, where the red blocks are inputs, the green blocks the RNN model, and the blue block is the output. Hate speech detection could be an example of text classification with RNNs, where for instance the architecture must identify if an input text contains racist or sexist language, among others. \n",
        "\n",
        "![alt text](https://i.ibb.co/TtZPpZr/Capture.jpg)\n",
        "\n",
        "\n",
        "**Generation**\n",
        "\n",
        "In a generation problem, we aim to generate a sequence $y$ following the same distribution as the real data $x$. We will input the sequence into the model, and we will output another sequence $y$. Text translation is a typical example of many to many RNNs.\n",
        "\n",
        "![](https://i.ibb.co/7gSwnT2/Capture.jpg)\n",
        "\n"
      ]
    },
    {
      "cell_type": "markdown",
      "metadata": {
        "id": "Mc5bCFhzQnQi",
        "colab_type": "text"
      },
      "source": [
        "## Preliminary imports\n",
        "\n",
        "Here we include some of the used imports during the tutorial. Just run it to import the necessary modules."
      ]
    },
    {
      "cell_type": "code",
      "metadata": {
        "id": "K2uDXpT1Qsqz",
        "colab_type": "code",
        "outputId": "21b5111b-52e8-495b-c2b2-7b46943c12ee",
        "colab": {
          "base_uri": "https://localhost:8080/",
          "height": 119
        }
      },
      "source": [
        "## These are just a bunch of imports\n",
        "## Just run them\n",
        "import tensorflow as tf\n",
        "from keras.preprocessing import sequence\n",
        "from keras.models import Sequential\n",
        "from keras.layers import Dense, Embedding, Dropout, Flatten, Add, Lambda\n",
        "from keras.layers import LSTM, CuDNNLSTM\n",
        "from keras.datasets import imdb\n",
        "\n",
        "from keras import __version__\n",
        "from keras import backend as K\n",
        "\n",
        "\n",
        "import numpy as np\n",
        "import matplotlib.pyplot as plt\n",
        "import seaborn as sns\n",
        "sns.set()\n",
        "\n",
        "print('Using Keras version:', __version__, 'backend:', K.backend())\n",
        "K.tensorflow_backend._get_available_gpus()\n",
        "session = tf.Session(config=tf.ConfigProto(log_device_placement=True))\n",
        "K.set_session(session)"
      ],
      "execution_count": 0,
      "outputs": [
        {
          "output_type": "stream",
          "text": [
            "Using Keras version: 2.2.5 backend: tensorflow\n",
            "Device mapping:\n",
            "/job:localhost/replica:0/task:0/device:XLA_CPU:0 -> device: XLA_CPU device\n",
            "/job:localhost/replica:0/task:0/device:XLA_GPU:0 -> device: XLA_GPU device\n",
            "/job:localhost/replica:0/task:0/device:GPU:0 -> device: 0, name: Tesla T4, pci bus id: 0000:00:04.0, compute capability: 7.5\n",
            "\n"
          ],
          "name": "stdout"
        }
      ]
    },
    {
      "cell_type": "markdown",
      "metadata": {
        "id": "L4kJNRmcq3DL",
        "colab_type": "text"
      },
      "source": [
        "# Text Classification "
      ]
    },
    {
      "cell_type": "markdown",
      "metadata": {
        "id": "6fLVCgocM6Kk",
        "colab_type": "text"
      },
      "source": [
        "**References:** \n",
        "\n",
        "https://colab.research.google.com/github/csc-training/intro-to-dl/blob/master/day1/keras-imdb-rnn.ipynb#scrollTo=BYu8ql1nG7xc\n",
        "\n",
        "For the text classification example we will use the IMDB dataset available in Keras. The dataset includes tens of thousands of movie reviews taken from the IMDB website with a corresponding label for each review. The label is binary, and indicates if the review has a positive or negative sentiment. This problem is a quite standard Natural Language Processing problem, and it is called sentiment classification or sentiment analysis.\n",
        "\n",
        "Before loading the data and building our model, we will explain a common part of NLP models, the embeddings."
      ]
    },
    {
      "cell_type": "markdown",
      "metadata": {
        "id": "CAzSKba3J5NA",
        "colab_type": "text"
      },
      "source": [
        "### Embeddings\n",
        "**References:** \n",
        "\n",
        "[1] https://nlp.stanford.edu/projects/glove/\n",
        "\n",
        "[2] https://colab.research.google.com/drive/1oXjNYSJ3VsRvAsXN4ClmtsVEgPW_CX_c?hl=en#scrollTo=p9q7qfXrvq-J\n",
        "\n",
        "\n",
        "Usually, the first step of text modelling is transforming the words into a vector. We will encode the sequences in integer numbers, and we will also have a dictionary that contains the relationship `(actual word, integer)`. For example, the sentence \"the cat is on the table and the dog is on the mat\" can be encoded in the form $(7, 1, 3, 5, 7, 6, 0, 7, 2, 3, 5, 7, 4)$, with the corresponding dictionary $(and, 0), (cat, 1), (dog, 2)\\dots (the, 7)$. In a code form, the representation is done like this:"
      ]
    },
    {
      "cell_type": "code",
      "metadata": {
        "id": "jhRu4KoqSVvH",
        "colab_type": "code",
        "outputId": "4a8a948c-7e0a-4468-d3d7-04daaafcdecc",
        "colab": {
          "base_uri": "https://localhost:8080/",
          "height": 68
        }
      },
      "source": [
        "sentence = 'the cat is on the table and the dog is on the mat'\n",
        "## We form a list of unique words by using a set\n",
        "## which returns only unique elements\n",
        "## we also sort them, which is not necessary\n",
        "sentence_set = sorted(set(sentence.split(' ')))\n",
        "words = list(sentence_set)\n",
        "## We now form a dictionary in the form of \n",
        "## e.g. dict_words[and] = 1\n",
        "dict_words = dict((word, i) for i, word in enumerate(words))\n",
        "## We now encode the sentence in a list of integers\n",
        "encoded_sentence = [dict_words[w] for w in sentence.split()]\n",
        "print(sentence_set)\n",
        "print(encoded_sentence)\n",
        "print(dict_words)"
      ],
      "execution_count": 0,
      "outputs": [
        {
          "output_type": "stream",
          "text": [
            "['and', 'cat', 'dog', 'is', 'mat', 'on', 'table', 'the']\n",
            "[7, 1, 3, 5, 7, 6, 0, 7, 2, 3, 5, 7, 4]\n",
            "{'and': 0, 'cat': 1, 'dog': 2, 'is': 3, 'mat': 4, 'on': 5, 'table': 6, 'the': 7}\n"
          ],
          "name": "stdout"
        }
      ]
    },
    {
      "cell_type": "markdown",
      "metadata": {
        "id": "CoHyEZdVzHFD",
        "colab_type": "text"
      },
      "source": [
        "Keras contains a class called `Tokenizer` that helps in performing this process. We will not use it for the examples in this tutorial, as we want to show all the steps involved in the tokenization process, but the `Tokenizer` class provides a high-level way to handle this preprocessing step. As it can be quite useful, we provide a small overview of it. [Here](https://keras.io/preprocessing/text/) you have a link to the Keras documentation explaining the different arguments of the class."
      ]
    },
    {
      "cell_type": "code",
      "metadata": {
        "id": "z5EL3-o5wsQl",
        "colab_type": "code",
        "colab": {}
      },
      "source": [
        "import keras\n",
        "## First you define a tokenizer object\n",
        "## If you want a character level tokenization we set char_level=True\n",
        "## If set to false, it will tokenize in a word level\n",
        "## You can check in the documentation the different arguments\n",
        "tokenizer = keras.preprocessing.text.Tokenizer(char_level=False)\n",
        "## Then you fit it on the data you have\n",
        "## The method expects a list of sentences\n",
        "tokenizer.fit_on_texts([sentence])\n"
      ],
      "execution_count": 0,
      "outputs": []
    },
    {
      "cell_type": "code",
      "metadata": {
        "id": "0RBQrbI10CuR",
        "colab_type": "code",
        "outputId": "b2adc05f-f270-4ade-8ff5-adaf7d2b0187",
        "colab": {
          "base_uri": "https://localhost:8080/",
          "height": 34
        }
      },
      "source": [
        "## Now, the class has formed a dictionary with all the words\n",
        "print(tokenizer.word_index)\n"
      ],
      "execution_count": 0,
      "outputs": [
        {
          "output_type": "stream",
          "text": [
            "{'the': 1, 'is': 2, 'on': 3, 'cat': 4, 'table': 5, 'and': 6, 'dog': 7, 'mat': 8}\n"
          ],
          "name": "stdout"
        }
      ]
    },
    {
      "cell_type": "code",
      "metadata": {
        "id": "CKshU7Lj0Sgl",
        "colab_type": "code",
        "outputId": "49c2e004-5dfc-43c9-8d44-db19a13cf8d2",
        "colab": {
          "base_uri": "https://localhost:8080/",
          "height": 34
        }
      },
      "source": [
        "## You can also check the word count\n",
        "print(tokenizer.word_counts)"
      ],
      "execution_count": 0,
      "outputs": [
        {
          "output_type": "stream",
          "text": [
            "OrderedDict([('the', 4), ('cat', 1), ('is', 2), ('on', 2), ('table', 1), ('and', 1), ('dog', 1), ('mat', 1)])\n"
          ],
          "name": "stdout"
        }
      ]
    },
    {
      "cell_type": "code",
      "metadata": {
        "id": "xNI-js25161w",
        "colab_type": "code",
        "outputId": "d20146a3-0e70-4a75-db98-0fc685e756d1",
        "colab": {
          "base_uri": "https://localhost:8080/",
          "height": 34
        }
      },
      "source": [
        "## You can transform the data to sequences of integers\n",
        "## We print the first 10 elements\n",
        "tokenizer.texts_to_sequences([sentence])"
      ],
      "execution_count": 0,
      "outputs": [
        {
          "output_type": "execute_result",
          "data": {
            "text/plain": [
              "[[1, 4, 2, 3, 1, 5, 6, 1, 7, 2, 3, 1, 8]]"
            ]
          },
          "metadata": {
            "tags": []
          },
          "execution_count": 82
        }
      ]
    },
    {
      "cell_type": "markdown",
      "metadata": {
        "id": "3lITR0l3SUAU",
        "colab_type": "text"
      },
      "source": [
        "Now that we have the sequence in the form of a list of integers,  we could input that directly to the RNN. However, it would be really hard for the RNN to understand the relationships between the words. To give the model more representation power, we first want to transform the integer to a vector of dimension $d$ which represents the semantic meaning of the words. Each of these vectors is called an Embedding. The actual values of the vectors are not important, only the relationships between them. For example, `dog` and `cat` vectors are probably going to be closer than `dog` and `the`.\n",
        "\n",
        " The embeddings can be initialized randomly and the model will learn suitable values to reduce the loss during the training process. However, embeddings which have already been trained in a large corpus of text such as Wikipedia can also be used. Examples of these pretrained embeddings are [Word2Vec](https://en.wikipedia.org/wiki/Word2vec) or  [GloVe](https://nlp.stanford.edu/projects/glove/). These methods are trained using the context of the words, for example predicting the surrounding words when an specific word is given. As a result, words that appear in similar contexts have closer embeddings.\n",
        "\n",
        "![alt text](https://i.ibb.co/s5sg6dZ/Screenshot-from-2019-02-08-15-13-41.png) \n",
        "\n",
        "The image shows relationships between words in the embedding space.\n",
        "\n",
        "\n",
        "\n",
        "We now download the GloVe pretrained vectors trained in Wikipedia and Gigaword. [Here](https://nlp.stanford.edu/projects/glove/) you have an overview of what GloVe is. We will see how the embeddings contain a semantic meaning that allows us to model semantic relationships. The time it takes to download the embeddings may vary, it should be around 6-7 minutes."
      ]
    },
    {
      "cell_type": "code",
      "metadata": {
        "id": "Ie3ToDUgKWN4",
        "colab_type": "code",
        "outputId": "5c59fc66-1634-4f06-8082-7a562630ad4e",
        "colab": {
          "base_uri": "https://localhost:8080/",
          "height": 442
        }
      },
      "source": [
        "## Download and unzip glove pretrained embeddings\n",
        "!wget http://nlp.stanford.edu/data/glove.6B.zip\n",
        "!apt-get -qq install unzip\n",
        "!unzip glove.6B.zip"
      ],
      "execution_count": 0,
      "outputs": [
        {
          "output_type": "stream",
          "text": [
            "--2020-02-14 19:00:27--  http://nlp.stanford.edu/data/glove.6B.zip\n",
            "Resolving nlp.stanford.edu (nlp.stanford.edu)... 171.64.67.140\n",
            "Connecting to nlp.stanford.edu (nlp.stanford.edu)|171.64.67.140|:80... connected.\n",
            "HTTP request sent, awaiting response... 302 Found\n",
            "Location: https://nlp.stanford.edu/data/glove.6B.zip [following]\n",
            "--2020-02-14 19:00:27--  https://nlp.stanford.edu/data/glove.6B.zip\n",
            "Connecting to nlp.stanford.edu (nlp.stanford.edu)|171.64.67.140|:443... connected.\n",
            "HTTP request sent, awaiting response... 301 Moved Permanently\n",
            "Location: http://downloads.cs.stanford.edu/nlp/data/glove.6B.zip [following]\n",
            "--2020-02-14 19:00:28--  http://downloads.cs.stanford.edu/nlp/data/glove.6B.zip\n",
            "Resolving downloads.cs.stanford.edu (downloads.cs.stanford.edu)... 171.64.64.22\n",
            "Connecting to downloads.cs.stanford.edu (downloads.cs.stanford.edu)|171.64.64.22|:80... connected.\n",
            "HTTP request sent, awaiting response... 200 OK\n",
            "Length: 862182613 (822M) [application/zip]\n",
            "Saving to: ‘glove.6B.zip’\n",
            "\n",
            "glove.6B.zip        100%[===================>] 822.24M  2.03MB/s    in 6m 29s  \n",
            "\n",
            "2020-02-14 19:06:57 (2.11 MB/s) - ‘glove.6B.zip’ saved [862182613/862182613]\n",
            "\n",
            "Archive:  glove.6B.zip\n",
            "  inflating: glove.6B.50d.txt        \n",
            "  inflating: glove.6B.100d.txt       \n",
            "  inflating: glove.6B.200d.txt       \n",
            "  inflating: glove.6B.300d.txt       \n"
          ],
          "name": "stdout"
        }
      ]
    },
    {
      "cell_type": "markdown",
      "metadata": {
        "id": "xDs0EebuUJ5x",
        "colab_type": "text"
      },
      "source": [
        "We will now load the GloVe embeddings. We use gensim to manipulate the embeddings, which is a nice tool that can be used to play with GloVe or Word2Vec embeddings. This piece of code also takes some time to load, as the embeddings file is quite large."
      ]
    },
    {
      "cell_type": "code",
      "metadata": {
        "id": "RK0qwB--K0Bp",
        "colab_type": "code",
        "outputId": "2dd233b6-5088-4a66-da74-48c41de850d8",
        "colab": {
          "base_uri": "https://localhost:8080/",
          "height": 360
        }
      },
      "source": [
        "## We load the embeddings\n",
        "## Gensim is a really useful module that provides high-level function\n",
        "## to use with the embeddings\n",
        "!pip install gensim\n",
        "from gensim.models import word2vec\n",
        "from gensim.scripts.glove2word2vec import glove2word2vec\n",
        "## These next three lines just load the embeddings into the object glove_model\n",
        "glove2word2vec(glove_input_file=\"glove.6B.300d.txt\", word2vec_output_file=\"gensim_glove_vectors.txt\")\n",
        "from gensim.models.keyedvectors import KeyedVectors\n",
        "glove_model = KeyedVectors.load_word2vec_format(\"gensim_glove_vectors.txt\", binary=False)"
      ],
      "execution_count": 0,
      "outputs": [
        {
          "output_type": "stream",
          "text": [
            "Requirement already satisfied: gensim in /usr/local/lib/python3.6/dist-packages (3.6.0)\n",
            "Requirement already satisfied: numpy>=1.11.3 in /usr/local/lib/python3.6/dist-packages (from gensim) (1.17.5)\n",
            "Requirement already satisfied: smart-open>=1.2.1 in /usr/local/lib/python3.6/dist-packages (from gensim) (1.9.0)\n",
            "Requirement already satisfied: six>=1.5.0 in /usr/local/lib/python3.6/dist-packages (from gensim) (1.12.0)\n",
            "Requirement already satisfied: scipy>=0.18.1 in /usr/local/lib/python3.6/dist-packages (from gensim) (1.4.1)\n",
            "Requirement already satisfied: boto>=2.32 in /usr/local/lib/python3.6/dist-packages (from smart-open>=1.2.1->gensim) (2.49.0)\n",
            "Requirement already satisfied: boto3 in /usr/local/lib/python3.6/dist-packages (from smart-open>=1.2.1->gensim) (1.11.15)\n",
            "Requirement already satisfied: requests in /usr/local/lib/python3.6/dist-packages (from smart-open>=1.2.1->gensim) (2.21.0)\n",
            "Requirement already satisfied: botocore<1.15.0,>=1.14.15 in /usr/local/lib/python3.6/dist-packages (from boto3->smart-open>=1.2.1->gensim) (1.14.15)\n",
            "Requirement already satisfied: s3transfer<0.4.0,>=0.3.0 in /usr/local/lib/python3.6/dist-packages (from boto3->smart-open>=1.2.1->gensim) (0.3.3)\n",
            "Requirement already satisfied: jmespath<1.0.0,>=0.7.1 in /usr/local/lib/python3.6/dist-packages (from boto3->smart-open>=1.2.1->gensim) (0.9.4)\n",
            "Requirement already satisfied: idna<2.9,>=2.5 in /usr/local/lib/python3.6/dist-packages (from requests->smart-open>=1.2.1->gensim) (2.8)\n",
            "Requirement already satisfied: urllib3<1.25,>=1.21.1 in /usr/local/lib/python3.6/dist-packages (from requests->smart-open>=1.2.1->gensim) (1.24.3)\n",
            "Requirement already satisfied: chardet<3.1.0,>=3.0.2 in /usr/local/lib/python3.6/dist-packages (from requests->smart-open>=1.2.1->gensim) (3.0.4)\n",
            "Requirement already satisfied: certifi>=2017.4.17 in /usr/local/lib/python3.6/dist-packages (from requests->smart-open>=1.2.1->gensim) (2019.11.28)\n",
            "Requirement already satisfied: docutils<0.16,>=0.10 in /usr/local/lib/python3.6/dist-packages (from botocore<1.15.0,>=1.14.15->boto3->smart-open>=1.2.1->gensim) (0.15.2)\n",
            "Requirement already satisfied: python-dateutil<3.0.0,>=2.1 in /usr/local/lib/python3.6/dist-packages (from botocore<1.15.0,>=1.14.15->boto3->smart-open>=1.2.1->gensim) (2.6.1)\n"
          ],
          "name": "stdout"
        },
        {
          "output_type": "stream",
          "text": [
            "/usr/local/lib/python3.6/dist-packages/smart_open/smart_open_lib.py:402: UserWarning: This function is deprecated, use smart_open.open instead. See the migration notes for details: https://github.com/RaRe-Technologies/smart_open/blob/master/README.rst#migrating-to-the-new-open-function\n",
            "  'See the migration notes for details: %s' % _MIGRATION_NOTES_URL\n"
          ],
          "name": "stderr"
        }
      ]
    },
    {
      "cell_type": "markdown",
      "metadata": {
        "id": "yrj-dPMbSsrc",
        "colab_type": "text"
      },
      "source": [
        "Now we will do some operations using the embeddings of the words. First, we will do some words arithmetics based on the embeddings so you can see how they contain some meaning. For example, the distance between words with similar semantic meaning but different genders is kind of constant. Meaning that the vector resulting from doing $man - woman$ should be similar to $king - queen$, hence:\n",
        "\n",
        "$king - queen \\approx man - woman \\rightarrow woman + king - man \\approx queen$\n",
        "\n",
        "We can check this using the method `most_similar` and the `positive` and `negative` arguments as following:\n",
        "\n"
      ]
    },
    {
      "cell_type": "code",
      "metadata": {
        "id": "0PYEzmorMFD_",
        "colab_type": "code",
        "outputId": "adb57082-b053-43bf-9423-96a56863a9f8",
        "colab": {
          "base_uri": "https://localhost:8080/",
          "height": 241
        }
      },
      "source": [
        "## We can do word arithmetics. \n",
        "## We look for the nearest neighbour of the vector resulting on doing\n",
        "## the operation 'king' + 'woman' - 'man'\n",
        "glove_model.most_similar(positive=['woman', 'king'], negative=['man'])"
      ],
      "execution_count": 0,
      "outputs": [
        {
          "output_type": "stream",
          "text": [
            "/usr/local/lib/python3.6/dist-packages/gensim/matutils.py:737: FutureWarning: Conversion of the second argument of issubdtype from `int` to `np.signedinteger` is deprecated. In future, it will be treated as `np.int64 == np.dtype(int).type`.\n",
            "  if np.issubdtype(vec.dtype, np.int):\n"
          ],
          "name": "stderr"
        },
        {
          "output_type": "execute_result",
          "data": {
            "text/plain": [
              "[('queen', 0.6713277101516724),\n",
              " ('princess', 0.5432624220848083),\n",
              " ('throne', 0.5386104583740234),\n",
              " ('monarch', 0.5347574949264526),\n",
              " ('daughter', 0.498025119304657),\n",
              " ('mother', 0.4956442713737488),\n",
              " ('elizabeth', 0.4832652509212494),\n",
              " ('kingdom', 0.47747087478637695),\n",
              " ('prince', 0.4668239951133728),\n",
              " ('wife', 0.4647327661514282)]"
            ]
          },
          "metadata": {
            "tags": []
          },
          "execution_count": 85
        }
      ]
    },
    {
      "cell_type": "code",
      "metadata": {
        "id": "O1bgFWT3aGUi",
        "colab_type": "code",
        "outputId": "a877c2a7-9187-4625-a5ff-52aab48cad0e",
        "colab": {
          "base_uri": "https://localhost:8080/",
          "height": 241
        }
      },
      "source": [
        "## Similar examples\n",
        "glove_model.most_similar(positive=['google', 'ios'], negative=['apple'])"
      ],
      "execution_count": 0,
      "outputs": [
        {
          "output_type": "stream",
          "text": [
            "/usr/local/lib/python3.6/dist-packages/gensim/matutils.py:737: FutureWarning: Conversion of the second argument of issubdtype from `int` to `np.signedinteger` is deprecated. In future, it will be treated as `np.int64 == np.dtype(int).type`.\n",
            "  if np.issubdtype(vec.dtype, np.int):\n"
          ],
          "name": "stderr"
        },
        {
          "output_type": "execute_result",
          "data": {
            "text/plain": [
              "[('android', 0.5720318555831909),\n",
              " ('apps', 0.5662358999252319),\n",
              " ('app', 0.5322650671005249),\n",
              " ('facebook', 0.4770544171333313),\n",
              " ('smartphones', 0.47069066762924194),\n",
              " ('gmail', 0.4677259922027588),\n",
              " ('firefox', 0.4666402041912079),\n",
              " ('skype', 0.4491073191165924),\n",
              " ('iphone', 0.44582629203796387),\n",
              " ('web-based', 0.44464385509490967)]"
            ]
          },
          "metadata": {
            "tags": []
          },
          "execution_count": 86
        }
      ]
    },
    {
      "cell_type": "code",
      "metadata": {
        "id": "J09zgTciaHU4",
        "colab_type": "code",
        "outputId": "4df03c0c-f31d-44b7-ee50-c7ee00653139",
        "colab": {
          "base_uri": "https://localhost:8080/",
          "height": 241
        }
      },
      "source": [
        "glove_model.most_similar(positive=['england', 'paris'], negative=['france'])"
      ],
      "execution_count": 0,
      "outputs": [
        {
          "output_type": "stream",
          "text": [
            "/usr/local/lib/python3.6/dist-packages/gensim/matutils.py:737: FutureWarning: Conversion of the second argument of issubdtype from `int` to `np.signedinteger` is deprecated. In future, it will be treated as `np.int64 == np.dtype(int).type`.\n",
            "  if np.issubdtype(vec.dtype, np.int):\n"
          ],
          "name": "stderr"
        },
        {
          "output_type": "execute_result",
          "data": {
            "text/plain": [
              "[('london', 0.6710129976272583),\n",
              " ('manchester', 0.5267472863197327),\n",
              " ('birmingham', 0.49347949028015137),\n",
              " ('liverpool', 0.49033817648887634),\n",
              " ('oxford', 0.4811282157897949),\n",
              " ('middlesex', 0.47516536712646484),\n",
              " ('surrey', 0.46148526668548584),\n",
              " ('sussex', 0.45899876952171326),\n",
              " ('leeds', 0.4551934599876404),\n",
              " ('essex', 0.45398280024528503)]"
            ]
          },
          "metadata": {
            "tags": []
          },
          "execution_count": 87
        }
      ]
    },
    {
      "cell_type": "code",
      "metadata": {
        "id": "p7LMqhpATsAL",
        "colab_type": "code",
        "outputId": "1c531536-675e-4efb-b2d6-c0ee5ebe0b2a",
        "colab": {
          "base_uri": "https://localhost:8080/",
          "height": 122
        }
      },
      "source": [
        "## We can also check the word that does not match the rest\n",
        "glove_model.doesnt_match(\"breakfast cereal dinner lunch\".split())"
      ],
      "execution_count": 0,
      "outputs": [
        {
          "output_type": "stream",
          "text": [
            "/usr/local/lib/python3.6/dist-packages/gensim/models/keyedvectors.py:895: FutureWarning: arrays to stack must be passed as a \"sequence\" type such as list or tuple. Support for non-sequence iterables such as generators is deprecated as of NumPy 1.16 and will raise an error in the future.\n",
            "  vectors = vstack(self.word_vec(word, use_norm=True) for word in used_words).astype(REAL)\n",
            "/usr/local/lib/python3.6/dist-packages/gensim/matutils.py:737: FutureWarning: Conversion of the second argument of issubdtype from `int` to `np.signedinteger` is deprecated. In future, it will be treated as `np.int64 == np.dtype(int).type`.\n",
            "  if np.issubdtype(vec.dtype, np.int):\n"
          ],
          "name": "stderr"
        },
        {
          "output_type": "execute_result",
          "data": {
            "text/plain": [
              "'cereal'"
            ]
          },
          "metadata": {
            "tags": []
          },
          "execution_count": 88
        }
      ]
    },
    {
      "cell_type": "markdown",
      "metadata": {
        "id": "g85rTdpOY-HZ",
        "colab_type": "text"
      },
      "source": [
        "To check out other functions you can call use [this](https://radimrehurek.com/gensim/models/keyedvectors.html#module-gensim.models.keyedvectors).\n"
      ]
    },
    {
      "cell_type": "markdown",
      "metadata": {
        "id": "AjgjAlaBQvaH",
        "colab_type": "text"
      },
      "source": [
        "In http://projector.tensorflow.org/ you can visualize the words projected in the $\\mathbb{R}^3$ space using either PCA or tSNE, which are both techniques for dimensionality reduction. There, you can see how words are clustered by meaning or topic.\n",
        "\n",
        "\n",
        "![](https://brenndoerfer.github.io/deep-sentiment-analysis-distill/img/tensorboard_projector.gif)\n",
        "\n",
        "Image taken from [here](https://brenndoerfer.github.io/deep-sentiment-analysis-distill/index.html)"
      ]
    },
    {
      "cell_type": "markdown",
      "metadata": {
        "id": "30w3Y4oHJy79",
        "colab_type": "text"
      },
      "source": [
        "### IMDB\n",
        "Now let's start with the text classification problem. We first load the IMDB dataset for sentiment classification. As we said, it contains movie reviews with a corresponding binary sentiment label. The words are already encoded as integers in order from most common words to less common (e.g. `the` is a common word so it should be encoded as a small integer). That makes it easy to filter the non-common words by using the argument `num_words` when loading the data. The filtered words will be all encoded as a special token `<UNK>`, which means unknown. For example, if we want to load the dataset with only the top $20000$ most common words we can do this:"
      ]
    },
    {
      "cell_type": "code",
      "metadata": {
        "id": "GWU0zG7AHd3u",
        "colab_type": "code",
        "outputId": "5d0e1d4f-c0ac-43fe-f8fa-eb3bb4d334d6",
        "colab": {
          "base_uri": "https://localhost:8080/",
          "height": 102
        }
      },
      "source": [
        "# number of most-frequent words to use\n",
        "nb_words = 20000\n",
        "\n",
        "print('Loading data...')\n",
        "(x_train, y_train), (x_test, y_test) = imdb.load_data(num_words=nb_words)\n",
        "print('x_train:', x_train.shape)\n",
        "print('x_test:', x_test.shape)"
      ],
      "execution_count": 0,
      "outputs": [
        {
          "output_type": "stream",
          "text": [
            "Loading data...\n",
            "Downloading data from https://s3.amazonaws.com/text-datasets/imdb.npz\n",
            "17465344/17464789 [==============================] - 1s 0us/step\n",
            "x_train: (25000,)\n",
            "x_test: (25000,)\n"
          ],
          "name": "stdout"
        }
      ]
    },
    {
      "cell_type": "markdown",
      "metadata": {
        "id": "BiYpN-jwcGd-",
        "colab_type": "text"
      },
      "source": [
        "We see that the dataset contains 25000 examples for both train and testing. Let's print an example."
      ]
    },
    {
      "cell_type": "code",
      "metadata": {
        "id": "WF2twk31cNiN",
        "colab_type": "code",
        "outputId": "2b315cfd-db63-4e05-ae54-ceb604fbe063",
        "colab": {
          "base_uri": "https://localhost:8080/",
          "height": 54
        }
      },
      "source": [
        "print(x_train[0])"
      ],
      "execution_count": 0,
      "outputs": [
        {
          "output_type": "stream",
          "text": [
            "[1, 14, 22, 16, 43, 530, 973, 1622, 1385, 65, 458, 4468, 66, 3941, 4, 173, 36, 256, 5, 25, 100, 43, 838, 112, 50, 670, 2, 9, 35, 480, 284, 5, 150, 4, 172, 112, 167, 2, 336, 385, 39, 4, 172, 4536, 1111, 17, 546, 38, 13, 447, 4, 192, 50, 16, 6, 147, 2025, 19, 14, 22, 4, 1920, 4613, 469, 4, 22, 71, 87, 12, 16, 43, 530, 38, 76, 15, 13, 1247, 4, 22, 17, 515, 17, 12, 16, 626, 18, 19193, 5, 62, 386, 12, 8, 316, 8, 106, 5, 4, 2223, 5244, 16, 480, 66, 3785, 33, 4, 130, 12, 16, 38, 619, 5, 25, 124, 51, 36, 135, 48, 25, 1415, 33, 6, 22, 12, 215, 28, 77, 52, 5, 14, 407, 16, 82, 10311, 8, 4, 107, 117, 5952, 15, 256, 4, 2, 7, 3766, 5, 723, 36, 71, 43, 530, 476, 26, 400, 317, 46, 7, 4, 12118, 1029, 13, 104, 88, 4, 381, 15, 297, 98, 32, 2071, 56, 26, 141, 6, 194, 7486, 18, 4, 226, 22, 21, 134, 476, 26, 480, 5, 144, 30, 5535, 18, 51, 36, 28, 224, 92, 25, 104, 4, 226, 65, 16, 38, 1334, 88, 12, 16, 283, 5, 16, 4472, 113, 103, 32, 15, 16, 5345, 19, 178, 32]\n"
          ],
          "name": "stdout"
        }
      ]
    },
    {
      "cell_type": "markdown",
      "metadata": {
        "id": "hqxzLNgAcUmL",
        "colab_type": "text"
      },
      "source": [
        "The printed example is a sequence of numbers. It is important to note that there are three special integers in this IMDB dataset: $0$, $1$ and $2$. $0$ will be used to pad the sequences, which we will explain now. $1$ is used as the `<START>` token (you can see how the printed sequence starts with a `1`). $2$ is the token `<UNK>` which is used for all the filtered non-common words. If we want to retrieve the actual sentence, we can use the dictionary given when using the method `get_word_index()`. However, the given dictionary when calling `get_word_index()` does not take into account the three mentioned tokens, so we need to modify it a little bit."
      ]
    },
    {
      "cell_type": "code",
      "metadata": {
        "id": "Y26JIPAadBtX",
        "colab_type": "code",
        "outputId": "a9df967d-a722-46e9-c4ec-d26977e38d4d",
        "colab": {
          "base_uri": "https://localhost:8080/",
          "height": 88
        }
      },
      "source": [
        "# get_word_index retrieves a mapping word -> index\n",
        "word_index = imdb.get_word_index()\n",
        "# We make space for the three special tokens\n",
        "word_index_c = dict((w, i+3) for (w, i) in word_index.items())\n",
        "word_index_c['<PAD>'] = 0\n",
        "word_index_c['<START>'] = 1\n",
        "word_index_c['<UNK>'] = 2\n",
        "# Instead of having dictionary word -> index we form\n",
        "# the dictionary index -> word\n",
        "index_word = dict((i, w) for (w, i) in word_index_c.items())\n",
        "# We now retrieve the sentence\n",
        "sentence = ''\n",
        "for index in x_train[0]:\n",
        "  sentence += index_word[index] + ' '\n",
        "print(sentence)"
      ],
      "execution_count": 0,
      "outputs": [
        {
          "output_type": "stream",
          "text": [
            "Downloading data from https://s3.amazonaws.com/text-datasets/imdb_word_index.json\n",
            "1646592/1641221 [==============================] - 1s 0us/step\n",
            "<START> this film was just brilliant casting location scenery story direction everyone's really suited the part they played and you could just imagine being there robert <UNK> is an amazing actor and now the same being director <UNK> father came from the same scottish island as myself so i loved the fact there was a real connection with this film the witty remarks throughout the film were great it was just brilliant so much that i bought the film as soon as it was released for retail and would recommend it to everyone to watch and the fly fishing was amazing really cried at the end it was so sad and you know what they say if you cry at a film it must have been good and this definitely was also congratulations to the two little boy's that played the <UNK> of norman and paul they were just brilliant children are often left out of the praising list i think because the stars that play them all grown up are such a big profile for the whole film but these children are amazing and should be praised for what they have done don't you think the whole story was so lovely because it was true and was someone's life after all that was shared with us all \n"
          ],
          "name": "stdout"
        }
      ]
    },
    {
      "cell_type": "markdown",
      "metadata": {
        "id": "iyhd3lQefNH4",
        "colab_type": "text"
      },
      "source": [
        "We can see how we just recovered the sentence that we had printed before as a sequence of numbers. We can also see how there is no punctuation in this dataset.\n",
        "\n",
        "One of the problems with the given text data is that the sequences all have a different length. We want to give Keras a batch of inputs with fixed dimensions. To do so, we define a maximum length `maxlen`, and truncate the sentences longer than that, and also pad with $0$'s at the beginning the sentences shorter than that length. We use the method `sequence.pad_sequence` from `keras.preprocessing`"
      ]
    },
    {
      "cell_type": "code",
      "metadata": {
        "id": "CGcgjhlVbyOv",
        "colab_type": "code",
        "outputId": "3715c5a0-299b-4d89-cba1-fc0a8ab276c3",
        "colab": {
          "base_uri": "https://localhost:8080/",
          "height": 68
        }
      },
      "source": [
        "# Truncate sentences after this number of words\n",
        "maxlen = 80\n",
        "print('Pad sequences (samples x time)')\n",
        "x_train = sequence.pad_sequences(x_train, maxlen=maxlen)\n",
        "x_test = sequence.pad_sequences(x_test, maxlen=maxlen)\n",
        "print('x_train shape:', x_train.shape)\n",
        "print('x_test shape:', x_test.shape)"
      ],
      "execution_count": 0,
      "outputs": [
        {
          "output_type": "stream",
          "text": [
            "Pad sequences (samples x time)\n",
            "x_train shape: (25000, 80)\n",
            "x_test shape: (25000, 80)\n"
          ],
          "name": "stdout"
        }
      ]
    },
    {
      "cell_type": "markdown",
      "metadata": {
        "id": "sXCucplf0M5O",
        "colab_type": "text"
      },
      "source": [
        "We can check how some sentences are padded at the beginning to be of length `maxlen`."
      ]
    },
    {
      "cell_type": "code",
      "metadata": {
        "id": "HeBf1oOJzr4d",
        "colab_type": "code",
        "outputId": "e4cca95b-5a2c-4d67-ca72-a8f4a5491f27",
        "colab": {
          "base_uri": "https://localhost:8080/",
          "height": 187
        }
      },
      "source": [
        "x_train[5]"
      ],
      "execution_count": 0,
      "outputs": [
        {
          "output_type": "execute_result",
          "data": {
            "text/plain": [
              "array([    0,     0,     0,     0,     0,     0,     0,     0,     0,\n",
              "           0,     0,     0,     0,     0,     0,     0,     0,     0,\n",
              "           0,     0,     0,     0,     0,     0,     0,     0,     0,\n",
              "           0,     0,     0,     0,     0,     0,     0,     0,     0,\n",
              "           0,     1,   778,   128,    74,    12,   630,   163,    15,\n",
              "           4,  1766,  7982,  1051,     2,    32,    85,   156,    45,\n",
              "          40,   148,   139,   121,   664,   665,    10,    10,  1361,\n",
              "         173,     4,   749,     2,    16,  3804,     8,     4,   226,\n",
              "          65,    12,    43,   127,    24, 15344,    10,    10],\n",
              "      dtype=int32)"
            ]
          },
          "metadata": {
            "tags": []
          },
          "execution_count": 93
        }
      ]
    },
    {
      "cell_type": "markdown",
      "metadata": {
        "id": "N2ljchrWPMz3",
        "colab_type": "text"
      },
      "source": [
        "We will now build the model we will use for sentiment classification. The model is formed by an Embedding layer, where the model will learn a vector of dimensionality `embedding_dim` for each of the words; a LSTM layer and a linear layer that maps the output of the LSTM to 1 value. We use CuDNNLSTM instead of LSTM, which is just a faster implementation of LSTM when using GPU, as in our case. We train this with the `binary_crossentropy` loss and `sigmoid` activation as we only have two classes. "
      ]
    },
    {
      "cell_type": "code",
      "metadata": {
        "id": "Fh2cHXD5HjQG",
        "colab_type": "code",
        "outputId": "7a43b8bd-7ca6-4718-9176-5b02be5b9eba",
        "colab": {
          "base_uri": "https://localhost:8080/",
          "height": 289
        }
      },
      "source": [
        "## Model parameters:\n",
        "# Dimensions of the embeddings\n",
        "embedding_dim = 300\n",
        "## LSTM dimensionality\n",
        "lstm_units = 128\n",
        "\n",
        "print('Build model...')\n",
        "text_class_model = Sequential()\n",
        "\n",
        "text_class_model.add(Embedding(nb_words,\n",
        "                    embedding_dim,\n",
        "                    input_length=maxlen))\n",
        "\n",
        "# model.add(LSTM(lstm_units))\n",
        "# CuDNNLSTM is a faster implementation of LSTM if running on a GPU:\n",
        "text_class_model.add(CuDNNLSTM(lstm_units))\n",
        "\n",
        "# To stack multiple RNN layers, all RNN layers except the last one need\n",
        "# to have \"return_sequences=True\".  An example of using two RNN layers:\n",
        "# model.add(CuDNNLSTM(lstm_units, return_sequences=True))\n",
        "# model.add(CuDNNLSTM(lstm_units))\n",
        "\n",
        "\n",
        "# You can add some dropout if you want\n",
        "# model.add(Dropout(0.5))\n",
        "\n",
        "text_class_model.add(Dense(1, activation='sigmoid'))\n",
        "\n",
        "# try using different optimizers and different optimizer configs\n",
        "text_class_model.compile(loss='binary_crossentropy',\n",
        "              optimizer='adam',\n",
        "              metrics=['accuracy'])\n",
        "print(text_class_model.summary())"
      ],
      "execution_count": 0,
      "outputs": [
        {
          "output_type": "stream",
          "text": [
            "Build model...\n",
            "Model: \"sequential_4\"\n",
            "_________________________________________________________________\n",
            "Layer (type)                 Output Shape              Param #   \n",
            "=================================================================\n",
            "embedding_3 (Embedding)      (None, 80, 300)           6000000   \n",
            "_________________________________________________________________\n",
            "cu_dnnlstm_3 (CuDNNLSTM)     (None, 128)               220160    \n",
            "_________________________________________________________________\n",
            "dense_4 (Dense)              (None, 1)                 129       \n",
            "=================================================================\n",
            "Total params: 6,220,289\n",
            "Trainable params: 6,220,289\n",
            "Non-trainable params: 0\n",
            "_________________________________________________________________\n",
            "None\n"
          ],
          "name": "stdout"
        }
      ]
    },
    {
      "cell_type": "markdown",
      "metadata": {
        "id": "MTDlUcEF0mqn",
        "colab_type": "text"
      },
      "source": [
        "Let's train it for 5 epochs."
      ]
    },
    {
      "cell_type": "code",
      "metadata": {
        "id": "sJfDwWRlHoEm",
        "colab_type": "code",
        "outputId": "bb11dcdc-34ec-4fed-ff8e-60395abaeba8",
        "colab": {
          "base_uri": "https://localhost:8080/",
          "height": 204
        }
      },
      "source": [
        "## We train the model for 5 epochs and check the accuracy in a validation split\n",
        "epochs = 5\n",
        "validation_split = 0.2\n",
        "\n",
        "history = text_class_model.fit(x_train, y_train, batch_size=128,\n",
        "          epochs=epochs, validation_split=validation_split)\n"
      ],
      "execution_count": 0,
      "outputs": [
        {
          "output_type": "stream",
          "text": [
            "Train on 20000 samples, validate on 5000 samples\n",
            "Epoch 1/5\n",
            "20000/20000 [==============================] - 4s 201us/step - loss: 0.5041 - acc: 0.7427 - val_loss: 0.3728 - val_acc: 0.8356\n",
            "Epoch 2/5\n",
            "20000/20000 [==============================] - 2s 118us/step - loss: 0.2744 - acc: 0.8887 - val_loss: 0.3780 - val_acc: 0.8342\n",
            "Epoch 3/5\n",
            "20000/20000 [==============================] - 2s 116us/step - loss: 0.1691 - acc: 0.9384 - val_loss: 0.4378 - val_acc: 0.8250\n",
            "Epoch 4/5\n",
            "20000/20000 [==============================] - 2s 117us/step - loss: 0.1000 - acc: 0.9660 - val_loss: 0.5723 - val_acc: 0.8204\n",
            "Epoch 5/5\n",
            "20000/20000 [==============================] - 2s 117us/step - loss: 0.0592 - acc: 0.9819 - val_loss: 0.8404 - val_acc: 0.8084\n"
          ],
          "name": "stdout"
        }
      ]
    },
    {
      "cell_type": "markdown",
      "metadata": {
        "id": "5tVyZLyv0rbO",
        "colab_type": "text"
      },
      "source": [
        "This is a classification example, so let's print the loss and the classification accuracy."
      ]
    },
    {
      "cell_type": "code",
      "metadata": {
        "id": "k3D78e9yHo8l",
        "colab_type": "code",
        "outputId": "8f5a93f8-825f-454c-bcd2-8eea134803ee",
        "colab": {
          "base_uri": "https://localhost:8080/",
          "height": 441
        }
      },
      "source": [
        "plt.figure(figsize=(5,3))\n",
        "plt.plot(history.epoch,history.history['loss'], label='training')\n",
        "plt.plot(history.epoch,history.history['val_loss'], label='validation')\n",
        "plt.title('loss')\n",
        "plt.legend(loc='best')\n",
        "\n",
        "plt.figure(figsize=(5,3))\n",
        "plt.plot(history.epoch,history.history['acc'], label='training')\n",
        "plt.plot(history.epoch,history.history['val_acc'], label='validation')\n",
        "plt.title('accuracy')\n",
        "plt.legend(loc='best');"
      ],
      "execution_count": 0,
      "outputs": [
        {
          "output_type": "display_data",
          "data": {
            "image/png": "[encoded data removed]",
            "text/plain": [
              "<Figure size 360x216 with 1 Axes>"
            ]
          },
          "metadata": {
            "tags": []
          }
        },
        {
          "output_type": "display_data",
          "data": {
            "image/png": "[encoded data removed]",
            "text/plain": [
              "<Figure size 360x216 with 1 Axes>"
            ]
          },
          "metadata": {
            "tags": []
          }
        }
      ]
    },
    {
      "cell_type": "markdown",
      "metadata": {
        "id": "mjoId37R0yVI",
        "colab_type": "text"
      },
      "source": [
        "It looks like we could have stopped the training in the first epoch as the validation loss did not decrease afterwards."
      ]
    },
    {
      "cell_type": "code",
      "metadata": {
        "id": "nOHn1utQHqHu",
        "colab_type": "code",
        "outputId": "dbcd09ab-8823-4d1b-9962-0c50eab6c518",
        "colab": {
          "base_uri": "https://localhost:8080/",
          "height": 34
        }
      },
      "source": [
        "# Let's see the accuracy in the test split\n",
        "scores = text_class_model.evaluate(x_test, y_test, verbose=2)\n",
        "print(\"%s: %.2f%%\" % (text_class_model.metrics_names[1], scores[1]*100))"
      ],
      "execution_count": 0,
      "outputs": [
        {
          "output_type": "stream",
          "text": [
            "acc: 80.43%\n"
          ],
          "name": "stdout"
        }
      ]
    },
    {
      "cell_type": "markdown",
      "metadata": {
        "id": "w3HtK17c1S_F",
        "colab_type": "text"
      },
      "source": [
        "### Saving best performing model\n",
        "\n",
        "Now we save the best performing models using the validation loss as a metric. As you already know, lower training error does not mean in some cases better performance in the validation or test split.\n",
        "\n",
        "In the last example we ran the model for 5 epochs, however after the first epoch the validation loss increased. We want to use the model performing the best in the validation set. To do so, we can use a ModelCheckpoint callback as was explained in past tutorials."
      ]
    },
    {
      "cell_type": "code",
      "metadata": {
        "id": "SzVNbh5a1xsq",
        "colab_type": "code",
        "outputId": "90d03731-75ab-428f-c1fa-5a4127013593",
        "colab": {
          "base_uri": "https://localhost:8080/",
          "height": 374
        }
      },
      "source": [
        "###### We reset the model #######\n",
        "text_class_model = Sequential()\n",
        "text_class_model.add(Embedding(nb_words,\n",
        "                    embedding_dim,\n",
        "                    input_length=maxlen))\n",
        "text_class_model.add(CuDNNLSTM(lstm_units))\n",
        "text_class_model.add(Dense(1, activation='sigmoid'))\n",
        "text_class_model.compile(loss='binary_crossentropy',\n",
        "              optimizer='adam',\n",
        "              metrics=['accuracy'])\n",
        "#################################\n",
        "\n",
        "\n",
        "from keras.callbacks import ModelCheckpoint\n",
        "## Here we define the checkpoint callback. We first give the name it will use \n",
        "## to save the model. We also specify what metric should monitor, in this case\n",
        "## the validation loss (it could be validation accuracy too for example)\n",
        "## save_best_only means that the models will only be save when the monitored \n",
        "## metric improves with respect to the past best one\n",
        "checkpoint = ModelCheckpoint('model-{epoch:03d}.h5', verbose=1, \n",
        "                             monitor='val_loss',save_best_only=True)  \n",
        "## Now we pass the callback to the fit method\n",
        "history = text_class_model.fit(x_train, y_train, batch_size=128,\n",
        "          epochs=epochs, callbacks=[checkpoint],\n",
        "          validation_split=validation_split)\n",
        "\n"
      ],
      "execution_count": 0,
      "outputs": [
        {
          "output_type": "stream",
          "text": [
            "Train on 20000 samples, validate on 5000 samples\n",
            "Epoch 1/5\n",
            "20000/20000 [==============================] - 4s 196us/step - loss: 0.4544 - acc: 0.7817 - val_loss: 0.3900 - val_acc: 0.8292\n",
            "\n",
            "Epoch 00001: val_loss improved from inf to 0.38997, saving model to model-001.h5\n",
            "Epoch 2/5\n",
            "20000/20000 [==============================] - 2s 116us/step - loss: 0.2485 - acc: 0.9013 - val_loss: 0.3913 - val_acc: 0.8250\n",
            "\n",
            "Epoch 00002: val_loss did not improve from 0.38997\n",
            "Epoch 3/5\n",
            "20000/20000 [==============================] - 2s 116us/step - loss: 0.1466 - acc: 0.9477 - val_loss: 0.4902 - val_acc: 0.8242\n",
            "\n",
            "Epoch 00003: val_loss did not improve from 0.38997\n",
            "Epoch 4/5\n",
            "20000/20000 [==============================] - 2s 116us/step - loss: 0.0923 - acc: 0.9682 - val_loss: 0.5292 - val_acc: 0.8176\n",
            "\n",
            "Epoch 00004: val_loss did not improve from 0.38997\n",
            "Epoch 5/5\n",
            "20000/20000 [==============================] - 2s 116us/step - loss: 0.0546 - acc: 0.9814 - val_loss: 0.7334 - val_acc: 0.8110\n",
            "\n",
            "Epoch 00005: val_loss did not improve from 0.38997\n"
          ],
          "name": "stdout"
        }
      ]
    },
    {
      "cell_type": "markdown",
      "metadata": {
        "id": "wrtRFGUF22tf",
        "colab_type": "text"
      },
      "source": [
        "We now saved the model after every epoch if the validation loss decreased. In this case, as the best epoch is the first one, it only saves the model after the first epoch. Let's load the model now."
      ]
    },
    {
      "cell_type": "code",
      "metadata": {
        "id": "YwHZ54_22vSa",
        "colab_type": "code",
        "colab": {}
      },
      "source": [
        "from keras.models import load_model\n",
        "text_class_model = load_model('model-001.h5')  # load model weights"
      ],
      "execution_count": 0,
      "outputs": []
    },
    {
      "cell_type": "markdown",
      "metadata": {
        "id": "1KLudp1u3CHY",
        "colab_type": "text"
      },
      "source": [
        "And now we check if the accuracy is better compared to when we used the model trained the model for 5 epochs."
      ]
    },
    {
      "cell_type": "code",
      "metadata": {
        "id": "ZsuLgHQu2zqu",
        "colab_type": "code",
        "outputId": "31eb5c9f-c1ec-410f-acf0-b85c141f91d5",
        "colab": {
          "base_uri": "https://localhost:8080/",
          "height": 34
        }
      },
      "source": [
        "# Let's see the accuracy in the test split\n",
        "scores = text_class_model.evaluate(x_test, y_test, verbose=2)\n",
        "print(\"%s: %.2f%%\" % (text_class_model.metrics_names[1], scores[1]*100))"
      ],
      "execution_count": 0,
      "outputs": [
        {
          "output_type": "stream",
          "text": [
            "acc: 83.17%\n"
          ],
          "name": "stdout"
        }
      ]
    },
    {
      "cell_type": "markdown",
      "metadata": {
        "id": "LFzCBcwb19sU",
        "colab_type": "text"
      },
      "source": [
        "As we can see, the accuracy is slightly better! "
      ]
    },
    {
      "cell_type": "markdown",
      "metadata": {
        "id": "9Ufb6B68hUhl",
        "colab_type": "text"
      },
      "source": [
        "### Importance of embeddings\n",
        "Now, let's check quickly if using Embeddings provide any benefit. For this experiment, we remove the Embedding layer, meaning we will be inputting the word index, i.e. an integer, to the LSTM. Additionally, we need to vary the shape of the input data as the LSTM needs a third dimension with the number of channels per input (in this case 1, as each word is represented by only a number)."
      ]
    },
    {
      "cell_type": "code",
      "metadata": {
        "id": "w1NY5IhRhppg",
        "colab_type": "code",
        "outputId": "e2887534-2a3c-43a2-8231-d4dd1ac99df5",
        "colab": {
          "base_uri": "https://localhost:8080/",
          "height": 255
        }
      },
      "source": [
        "# model parameters\n",
        "# Same model as before but without embeddings\n",
        "lstm_units = 128\n",
        "x_train_r = np.reshape(x_train, (x_train.shape[0], x_train.shape[1], 1))\n",
        "x_test_r = np.reshape(x_test, (x_test.shape[0], x_test.shape[1], 1))\n",
        "\n",
        "\n",
        "print('Build model...')\n",
        "text_class_model = Sequential()\n",
        "\n",
        "text_class_model.add(CuDNNLSTM(lstm_units, input_shape=(maxlen, 1)))\n",
        "\n",
        "text_class_model.add(Dense(1, activation='sigmoid'))\n",
        "\n",
        "text_class_model.compile(loss='binary_crossentropy',\n",
        "              optimizer='adam',\n",
        "              metrics=['accuracy'])\n",
        "print(text_class_model.summary())"
      ],
      "execution_count": 0,
      "outputs": [
        {
          "output_type": "stream",
          "text": [
            "Build model...\n",
            "Model: \"sequential_6\"\n",
            "_________________________________________________________________\n",
            "Layer (type)                 Output Shape              Param #   \n",
            "=================================================================\n",
            "cu_dnnlstm_5 (CuDNNLSTM)     (None, 128)               67072     \n",
            "_________________________________________________________________\n",
            "dense_6 (Dense)              (None, 1)                 129       \n",
            "=================================================================\n",
            "Total params: 67,201\n",
            "Trainable params: 67,201\n",
            "Non-trainable params: 0\n",
            "_________________________________________________________________\n",
            "None\n"
          ],
          "name": "stdout"
        }
      ]
    },
    {
      "cell_type": "code",
      "metadata": {
        "id": "qZaz4eYyiBPc",
        "colab_type": "code",
        "outputId": "961c8d82-7136-4de3-b4d6-9b605bc4feb5",
        "colab": {
          "base_uri": "https://localhost:8080/",
          "height": 204
        }
      },
      "source": [
        "epochs = 5\n",
        "validation_split = 0.2\n",
        "\n",
        "history = text_class_model.fit(x_train_r, y_train, batch_size=128,\n",
        "          epochs=epochs, \n",
        "          validation_split=validation_split)\n"
      ],
      "execution_count": 0,
      "outputs": [
        {
          "output_type": "stream",
          "text": [
            "Train on 20000 samples, validate on 5000 samples\n",
            "Epoch 1/5\n",
            "20000/20000 [==============================] - 3s 153us/step - loss: 0.6930 - acc: 0.5184 - val_loss: 0.6899 - val_acc: 0.5462\n",
            "Epoch 2/5\n",
            "20000/20000 [==============================] - 1s 65us/step - loss: 0.6898 - acc: 0.5299 - val_loss: 0.6864 - val_acc: 0.5512\n",
            "Epoch 3/5\n",
            "20000/20000 [==============================] - 1s 67us/step - loss: 0.6871 - acc: 0.5428 - val_loss: 0.6809 - val_acc: 0.5782\n",
            "Epoch 4/5\n",
            "20000/20000 [==============================] - 1s 65us/step - loss: 0.6874 - acc: 0.5419 - val_loss: 0.6868 - val_acc: 0.5500\n",
            "Epoch 5/5\n",
            "20000/20000 [==============================] - 1s 68us/step - loss: 0.6862 - acc: 0.5490 - val_loss: 0.6866 - val_acc: 0.5582\n"
          ],
          "name": "stdout"
        }
      ]
    },
    {
      "cell_type": "code",
      "metadata": {
        "id": "oZcRp4nXiN84",
        "colab_type": "code",
        "outputId": "d7e4d67c-a958-4eee-b92b-5b92295d6fa2",
        "colab": {
          "base_uri": "https://localhost:8080/",
          "height": 34
        }
      },
      "source": [
        "scores = text_class_model.evaluate(x_test_r, y_test, verbose=2)\n",
        "print(\"%s: %.2f%%\" % (text_class_model.metrics_names[1], scores[1]*100))"
      ],
      "execution_count": 0,
      "outputs": [
        {
          "output_type": "stream",
          "text": [
            "acc: 54.03%\n"
          ],
          "name": "stdout"
        }
      ]
    },
    {
      "cell_type": "markdown",
      "metadata": {
        "id": "uyOqn7yginQg",
        "colab_type": "text"
      },
      "source": [
        "We see how the accuracy is just slightly better compared to doing a random guess as there are only 2 classes. Hence, using embeddings results in models with better capacity/accuracy for this kind of tasks.\n",
        "\n",
        "Instead of inputting directly integers to the RNN, we could argue that another way of representing the input words is to input the one-hot representation of the word directly to the RNN instead of using embeddings. This method has two problems. First, the resulting dimensionality would be too large. In this case we are loading the $20000$ most common words in IMDB, so each word would be encoded in a vector of dimensionality $20000$. Secondly, the encoding does not give any notion of similarity between the different words. For these two reasons, embedding the words to a common lower dimensionality space is also better than using one-hot encoding."
      ]
    },
    {
      "cell_type": "markdown",
      "metadata": {
        "id": "-EwrgAmcM9na",
        "colab_type": "text"
      },
      "source": [
        "# Text Generation\n",
        "\n",
        "We now will use RNNs to generate new text samples. [Recent advances](https://openai.com/blog/better-language-models/) have made models capable of generating convincing text samples. An example can be found in https://talktotransformer.com/. State-of-the-art architectures for text generation do not use RNNs, they use an archictecture called Transformer. However, RNNs provide an easy way to tackle text generation due to their sequential nature.\n",
        "\n",
        "We now will present an example of text generation using a RNN. We will use the Tiny Shakespeare dataset, which contains samples from Shakespeare works.\n",
        "\n",
        "We pose the problem as a classification problem as in the Sentiment classification example. In a text generation setting, given a sequence, we aim to predict the next one. During the training step, the process would be quite similar to the classification task, i.e. given a sequence you predict a label/word/character. However, in the prediction setting, we aim to output a whole sentence, not only a word or character. For that reason we will follow the procedure explained in the image.\n",
        "\n",
        "![](https://cdn-images-1.medium.com/max/1600/1*XvUt5wDQA8D3C0wAuxAvbA.png)\n",
        "The image is taken from [here](https://medium.com/@david.campion/text-generation-using-bidirectional-lstm-and-doc2vec-models-1-3-8979eb65cb3a)\n",
        "\n",
        "As in the text classification section, we encode the raw sentences in the form of a sequence of integers. In this case, however, we have a text with a really wide vocabulary, and we aim to predict the following element of the sequence. In this dataset the number of words is really large, so if we used a word-level model the number of available classes would be quite large. For this reason, instead of encoding on a word level, we will do it on a character level, which results in a more limited vocabulary. We aim to predict the next character when inputting a sentence of length $d$. In evaluation mode, i.e. when we are predicting the next character, we then input a seed of $d$ characters as the first input, and afterwards we use the last $d$ characters as input to predict the next character. \n",
        "\n",
        "The advantages of predicting characters instead of words is that character level models have a limited vocabulary/classes compared to the number of possible words in a text. However, word level models usually present higher performance as it easier for them to keep track of the long-term meaning of the sentence.\n",
        "\n",
        "**References:** Some code snippets taken from [here](https://www.analyticsvidhya.com/blog/2018/03/text-generation-using-python-nlp/)\n"
      ]
    },
    {
      "cell_type": "markdown",
      "metadata": {
        "id": "4_-da7NsDrJf",
        "colab_type": "text"
      },
      "source": [
        "We first download the data we use for the example, and then read the file. "
      ]
    },
    {
      "cell_type": "code",
      "metadata": {
        "id": "zcR0v2GGNFCd",
        "colab_type": "code",
        "outputId": "fcde2a1b-40fe-49ab-b8e5-f729f27fb303",
        "colab": {
          "base_uri": "https://localhost:8080/",
          "height": 204
        }
      },
      "source": [
        "!wget https://raw.githubusercontent.com/jcjohnson/torch-rnn/master/data/tiny-shakespeare.txt\n",
        "## We read all the raw data in the variable data\n",
        "data = open('./tiny-shakespeare.txt', 'r').read()"
      ],
      "execution_count": 0,
      "outputs": [
        {
          "output_type": "stream",
          "text": [
            "--2020-02-14 19:10:40--  https://raw.githubusercontent.com/jcjohnson/torch-rnn/master/data/tiny-shakespeare.txt\n",
            "Resolving raw.githubusercontent.com (raw.githubusercontent.com)... 151.101.0.133, 151.101.64.133, 151.101.128.133, ...\n",
            "Connecting to raw.githubusercontent.com (raw.githubusercontent.com)|151.101.0.133|:443... connected.\n",
            "HTTP request sent, awaiting response... 200 OK\n",
            "Length: 1115394 (1.1M) [text/plain]\n",
            "Saving to: ‘tiny-shakespeare.txt’\n",
            "\n",
            "\rtiny-shakespeare.tx   0%[                    ]       0  --.-KB/s               \rtiny-shakespeare.tx 100%[===================>]   1.06M  --.-KB/s    in 0.02s   \n",
            "\n",
            "2020-02-14 19:10:41 (45.2 MB/s) - ‘tiny-shakespeare.txt’ saved [1115394/1115394]\n",
            "\n"
          ],
          "name": "stdout"
        }
      ]
    },
    {
      "cell_type": "markdown",
      "metadata": {
        "id": "WxFUMjE9kP4C",
        "colab_type": "text"
      },
      "source": [
        "Let's print a subset of the data for visualization purposes."
      ]
    },
    {
      "cell_type": "code",
      "metadata": {
        "id": "7c8ZSkLKkX6Y",
        "colab_type": "code",
        "outputId": "67490510-36a7-4773-a3e6-13013c180a0e",
        "colab": {
          "base_uri": "https://localhost:8080/",
          "height": 374
        }
      },
      "source": [
        "print(data[:364])"
      ],
      "execution_count": 0,
      "outputs": [
        {
          "output_type": "stream",
          "text": [
            "First Citizen:\n",
            "Before we proceed any further, hear me speak.\n",
            "\n",
            "All:\n",
            "Speak, speak.\n",
            "\n",
            "First Citizen:\n",
            "You are all resolved rather to die than to famish?\n",
            "\n",
            "All:\n",
            "Resolved. resolved.\n",
            "\n",
            "First Citizen:\n",
            "First, you know Caius Marcius is chief enemy to the people.\n",
            "\n",
            "All:\n",
            "We know't, we know't.\n",
            "\n",
            "First Citizen:\n",
            "Let us kill him, and we'll have corn at our own price.\n",
            "Is't a verdict?\n"
          ],
          "name": "stdout"
        }
      ]
    },
    {
      "cell_type": "markdown",
      "metadata": {
        "id": "HhZmAeuzD0Wt",
        "colab_type": "text"
      },
      "source": [
        "We see in the raw text that the name of the characters is printed, that there is a blank line between the different character lines, and that lines are usually not longer than ~80 characters. We hope the network is capable of learning all of this.\n",
        "\n",
        "Now we put the data in a more structured way. We aim to encode the text using a sequence of integers as we explained in the classification section.  Hence, we form a dictionary with all the different characters appearing in the text (including whitespaces and punctuation) and its corresponding integer. "
      ]
    },
    {
      "cell_type": "code",
      "metadata": {
        "id": "Zs3tRv_1whDc",
        "colab_type": "code",
        "colab": {}
      },
      "source": [
        "characters = sorted(list(set(data)))\n",
        "n_to_char = {n:char for n, char in enumerate(characters)}\n",
        "char_to_n = {char:n for n, char in enumerate(characters)}"
      ],
      "execution_count": 0,
      "outputs": []
    },
    {
      "cell_type": "markdown",
      "metadata": {
        "id": "MEfzwgCnwjwo",
        "colab_type": "text"
      },
      "source": [
        "Now we want to split the text in examples of length `seq_length` where the label is the next character. To do so, we use the dictionary `char_to_n` to encode the different elements as a sequence of integers.\n"
      ]
    },
    {
      "cell_type": "code",
      "metadata": {
        "id": "gulHCFMJ_tEE",
        "colab_type": "code",
        "outputId": "e946620f-8212-4b9e-b981-e971c12f32a5",
        "colab": {
          "base_uri": "https://localhost:8080/",
          "height": 34
        }
      },
      "source": [
        "x = []\n",
        "y = []\n",
        "length = len(data)\n",
        "seq_length = 100\n",
        "for i in range(0, length-seq_length, 1):\n",
        "  sequence = data[i:i + seq_length]\n",
        "  label = data[i + seq_length]\n",
        "  x.append([char_to_n[char] for char in sequence])\n",
        "  y.append(char_to_n[label])\n",
        "n_samples = len(x)\n",
        "print(\"Total Samples: {:d}\".format(n_samples))"
      ],
      "execution_count": 0,
      "outputs": [
        {
          "output_type": "stream",
          "text": [
            "Total Samples: 1115294\n"
          ],
          "name": "stdout"
        }
      ]
    },
    {
      "cell_type": "markdown",
      "metadata": {
        "id": "ehank2xQFGOo",
        "colab_type": "text"
      },
      "source": [
        "We now form a test split by using 5% of the available data. To do so, we just take the last 5% of the data. Usually, you need to randomize the data before splitting in test/train to avoid having different distribution of the data in both splits. However, as this is a sequential data where we want to predict the next character, if we shuffle the splits we would have this in training:\n",
        "\n",
        "``\n",
        "x = 'the boy is tal_' y = 'l'\n",
        "``\n",
        "\n",
        "and this in testing:\n",
        "\n",
        "``\n",
        "x = 'the boy is ta_' y = 'l'\n",
        "``\n",
        "\n",
        "which would contaminate the splits."
      ]
    },
    {
      "cell_type": "code",
      "metadata": {
        "id": "qbBqXbtpfa5T",
        "colab_type": "code",
        "colab": {}
      },
      "source": [
        "import keras\n",
        "x_train = x[:int(n_samples*0.95)]\n",
        "x_test = x[int(n_samples*0.95):]\n",
        "y_train = y[:int(n_samples*0.95)]\n",
        "y_test = y[int(n_samples*0.95):]\n",
        "\n",
        "## Transform the list to a numpy array\n",
        "x_train = np.reshape(x_train, (len(x_train), seq_length))\n",
        "## Onehot encoding of labels\n",
        "y_train = keras.utils.to_categorical(np.asarray(y_train))\n",
        "\n",
        "x_test = np.reshape(x_test, (len(x_test), seq_length))\n",
        "y_test = keras.utils.to_categorical(np.asarray(y_test))\n"
      ],
      "execution_count": 0,
      "outputs": []
    },
    {
      "cell_type": "markdown",
      "metadata": {
        "id": "U63V-XoLkzD2",
        "colab_type": "text"
      },
      "source": [
        "Let's print a sequence and the shape of the labels."
      ]
    },
    {
      "cell_type": "code",
      "metadata": {
        "id": "E_KvSAVQzOvq",
        "colab_type": "code",
        "outputId": "3fd2f86a-686c-405c-b3af-5a5e7488edc1",
        "colab": {
          "base_uri": "https://localhost:8080/",
          "height": 119
        }
      },
      "source": [
        "print(x_train[8000])\n",
        "print(y_train.shape)"
      ],
      "execution_count": 0,
      "outputs": [
        {
          "output_type": "stream",
          "text": [
            "[ 0 13  1 57 47 41 49  1 51 39 52  5 57  1 39 54 54 43 58 47 58 43  6  1\n",
            " 61 46 53  1 42 43 57 47 56 43 57  1 51 53 57 58  1 58 46 39 58  0 35 46\n",
            " 47 41 46  1 61 53 59 50 42  1 47 52 41 56 43 39 57 43  1 46 47 57  1 43\n",
            " 60 47 50  8  1 20 43  1 58 46 39 58  1 42 43 54 43 52 42 57  0 33 54 53\n",
            " 52  1 63 53]\n",
            "(1059529, 65)\n"
          ],
          "name": "stdout"
        }
      ]
    },
    {
      "cell_type": "markdown",
      "metadata": {
        "id": "Uudj2qT_FNJG",
        "colab_type": "text"
      },
      "source": [
        "Here, we define the model. As we want to give it a little bit more of capacity to our model, we use two different LSTM stacked on top of each other. To do so, we need to use the `return_sequences=True` in the first of the two LSTM. If you want to know a little bit more about the `return_sequences` argument, you can check [this reference](https://machinelearningmastery.com/return-sequences-and-return-states-for-lstms-in-keras/)."
      ]
    },
    {
      "cell_type": "code",
      "metadata": {
        "id": "13TcalgkqHsM",
        "colab_type": "code",
        "outputId": "2cd348b4-5c04-481a-dbed-f3ce8cc6869c",
        "colab": {
          "base_uri": "https://localhost:8080/",
          "height": 462
        }
      },
      "source": [
        "# define the LSTM model\n",
        "embedding_size = 300\n",
        "lstm_units = 256\n",
        "\n",
        "text_gen_model = Sequential()\n",
        "text_gen_model.add(Embedding(y_train.shape[1],\n",
        "                    embedding_size, input_length=seq_length))\n",
        "text_gen_model.add(CuDNNLSTM(lstm_units, return_sequences=True))\n",
        "text_gen_model.add(Dropout(0.2))\n",
        "text_gen_model.add(CuDNNLSTM(lstm_units))\n",
        "text_gen_model.add(Dropout(0.2))\n",
        "text_gen_model.add(Dense(y_train.shape[1], activation='softmax'))\n",
        "\n",
        "text_gen_model.compile(loss='categorical_crossentropy', optimizer='adam')\n",
        "text_gen_model.summary()"
      ],
      "execution_count": 0,
      "outputs": [
        {
          "output_type": "stream",
          "text": [
            "WARNING:tensorflow:From /usr/local/lib/python3.6/dist-packages/keras/backend/tensorflow_backend.py:148: The name tf.placeholder_with_default is deprecated. Please use tf.compat.v1.placeholder_with_default instead.\n",
            "\n",
            "WARNING:tensorflow:From /usr/local/lib/python3.6/dist-packages/keras/backend/tensorflow_backend.py:3733: calling dropout (from tensorflow.python.ops.nn_ops) with keep_prob is deprecated and will be removed in a future version.\n",
            "Instructions for updating:\n",
            "Please use `rate` instead of `keep_prob`. Rate should be set to `rate = 1 - keep_prob`.\n",
            "Model: \"sequential_7\"\n",
            "_________________________________________________________________\n",
            "Layer (type)                 Output Shape              Param #   \n",
            "=================================================================\n",
            "embedding_5 (Embedding)      (None, 100, 300)          19500     \n",
            "_________________________________________________________________\n",
            "cu_dnnlstm_6 (CuDNNLSTM)     (None, 100, 256)          571392    \n",
            "_________________________________________________________________\n",
            "dropout_1 (Dropout)          (None, 100, 256)          0         \n",
            "_________________________________________________________________\n",
            "cu_dnnlstm_7 (CuDNNLSTM)     (None, 256)               526336    \n",
            "_________________________________________________________________\n",
            "dropout_2 (Dropout)          (None, 256)               0         \n",
            "_________________________________________________________________\n",
            "dense_7 (Dense)              (None, 65)                16705     \n",
            "=================================================================\n",
            "Total params: 1,133,933\n",
            "Trainable params: 1,133,933\n",
            "Non-trainable params: 0\n",
            "_________________________________________________________________\n"
          ],
          "name": "stdout"
        }
      ]
    },
    {
      "cell_type": "markdown",
      "metadata": {
        "id": "nC2BaDcumZnm",
        "colab_type": "text"
      },
      "source": [
        "The model is a little bit complex, so training takes some time."
      ]
    },
    {
      "cell_type": "code",
      "metadata": {
        "id": "z2EPi_Fee4dj",
        "colab_type": "code",
        "outputId": "8f459920-3408-4b63-9714-79cc3f1d6b28",
        "colab": {
          "base_uri": "https://localhost:8080/",
          "height": 374
        }
      },
      "source": [
        "text_gen_model.fit(x_train, y_train, epochs=10 , batch_size=128)"
      ],
      "execution_count": 0,
      "outputs": [
        {
          "output_type": "stream",
          "text": [
            "Epoch 1/10\n",
            "1059529/1059529 [==============================] - 335s 316us/step - loss: 1.7868\n",
            "Epoch 2/10\n",
            "1059529/1059529 [==============================] - 332s 314us/step - loss: 1.4827\n",
            "Epoch 3/10\n",
            "1059529/1059529 [==============================] - 334s 315us/step - loss: 1.4157\n",
            "Epoch 4/10\n",
            "1059529/1059529 [==============================] - 335s 316us/step - loss: 1.3818\n",
            "Epoch 5/10\n",
            "1059529/1059529 [==============================] - 335s 317us/step - loss: 1.3584\n",
            "Epoch 6/10\n",
            "1059529/1059529 [==============================] - 334s 315us/step - loss: 1.3425\n",
            "Epoch 7/10\n",
            "1059529/1059529 [==============================] - 336s 317us/step - loss: 1.3316\n",
            "Epoch 8/10\n",
            "1059529/1059529 [==============================] - 335s 316us/step - loss: 1.3224\n",
            "Epoch 9/10\n",
            "1059529/1059529 [==============================] - 334s 316us/step - loss: 1.3160\n",
            "Epoch 10/10\n",
            "1059529/1059529 [==============================] - 334s 315us/step - loss: 1.3107\n"
          ],
          "name": "stdout"
        },
        {
          "output_type": "execute_result",
          "data": {
            "text/plain": [
              "<keras.callbacks.History at 0x7f95272aaf60>"
            ]
          },
          "metadata": {
            "tags": []
          },
          "execution_count": 111
        }
      ]
    },
    {
      "cell_type": "markdown",
      "metadata": {
        "id": "-5XsfQRNr9An",
        "colab_type": "text"
      },
      "source": [
        "### Prediction\n",
        "\n",
        "We now take any of the sequences from the test split and use it as an initial seed. Then we enter a loop where given an input sequence, we predict the next character and then form a new input sequence by appending the predicted character and dropping the first character.\n",
        "\n",
        "Whenever we input a sequence, we obtain as output a probability distribution of the possible characters. For example, given the sequence `the cat and the do` the model will output a probability distribution of the next character where probably the character `g` will have a high probability (forming then `the cat and the dog`). However, the character `c` can also be a possibility, as the sentence formed may be `the cat and the doctor`. When deciding what character to predict, a strategy is to just take the character with the maximum probability at all times. However, the variability of the formed text is then smaller. Another option would be to sample following the same probability of distribution as the model outputs. However, this might result in a large variability with some sentences not making any sense.\n",
        "\n",
        "This trade-off of variability against more probable sequences is controlled by what it is called the temperature of the sampling process. The temperature controls the smoothing on the probability vector. A temperature close to 0 will result in taking always the safest (i.e. that with the highest probability) as the next element. A temperature close to 1 will decide on the next element following the same distribution of probability as the original output of the model.\n",
        "\n",
        "In a more formal way, being $p_i$ the probability of the element $i$ output by the RNN model and $T$ the temperature, the probability after applying the mentioned smoothing $\\hat{p_i}$ is:\n",
        "\n",
        "$$\n",
        "\\hat{p_i} = \\frac{e^{\\log(p_i)/T}}{\\sum_j e^{\\log(p_j)/T}}\n",
        "$$\n",
        "\n",
        "You can check how a small $T$ is going to make the element with the largest probability be close to 1 after the process.\n",
        "\n",
        "Before starting the text prediction, let's show an example of how the sampling temperature affects the model choices."
      ]
    },
    {
      "cell_type": "code",
      "metadata": {
        "id": "loPFAdDvIsWO",
        "colab_type": "code",
        "outputId": "c80cf9f8-0821-4901-8289-50351dc59866",
        "colab": {
          "base_uri": "https://localhost:8080/",
          "height": 153
        }
      },
      "source": [
        "def temperature_smoothing(prediction, temperature=1.0):\n",
        "  # This function computes the temperature smoothing function\n",
        "  # we explained\n",
        "  prediction = np.log(prediction + 1e-7) / (temperature + 0.01)\n",
        "  exp_preds = np.exp(prediction)\n",
        "  prediction = exp_preds / np.sum(exp_preds)\n",
        "  return prediction\n",
        "\n",
        "# We have this vector of probabilities\n",
        "prediction = np.asarray([0.2, 0.3, 0.1, 0.4])\n",
        "## Temperature = 1.0\n",
        "print('Output probabilities with temp.=1')\n",
        "print(temperature_smoothing(prediction, temperature=1))\n",
        "## Temperature = 0.5\n",
        "print('Output probabilities with temp.=0.5')\n",
        "print(temperature_smoothing(prediction, temperature=0.5))\n",
        "## Temperature = 0.25\n",
        "print('Output probabilities with temp.=0.25')\n",
        "print(temperature_smoothing(prediction, temperature=0.25))\n",
        "## Temperature = 0.0\n",
        "print('Output probabilities with temp.=0')\n",
        "print(temperature_smoothing(prediction, temperature=0))"
      ],
      "execution_count": 0,
      "outputs": [
        {
          "output_type": "stream",
          "text": [
            "Output probabilities with temp.=1\n",
            "[0.20065194 0.29977201 0.10101691 0.39855913]\n",
            "Output probabilities with temp.=0.5\n",
            "[0.13579339 0.30071527 0.03488383 0.5286075 ]\n",
            "Output probabilities with temp.=0.25\n",
            "[0.04948661 0.23537565 0.00344097 0.71169677]\n",
            "Output probabilities with temp.=0\n",
            "[7.88880627e-31 3.20722891e-13 6.22348202e-61 1.00000000e+00]\n"
          ],
          "name": "stdout"
        }
      ]
    },
    {
      "cell_type": "markdown",
      "metadata": {
        "id": "ST0l8UWDJy-t",
        "colab_type": "text"
      },
      "source": [
        "You can see how a lower temperature makes the small probabilities become smaller and the biggest probability become bigger."
      ]
    },
    {
      "cell_type": "markdown",
      "metadata": {
        "id": "cnpdKtGwIjue",
        "colab_type": "text"
      },
      "source": [
        "Here you can set the temperature and check how the output varies. You will see that for $T\\approx0$ the generated text is pattern like, with low variability."
      ]
    },
    {
      "cell_type": "code",
      "metadata": {
        "id": "REoPwrqieFLK",
        "colab_type": "code",
        "outputId": "3c2f4fb2-3320-4daf-d792-c3150b4f8a65",
        "colab": {
          "base_uri": "https://localhost:8080/",
          "height": 357
        }
      },
      "source": [
        "import sys\n",
        "# Vary the temperature here\n",
        "temperature = 0.5\n",
        "\n",
        "# We select a random element from the test set as seed\n",
        "start = np.random.randint(0, len(x_test)-1)\n",
        "pattern = x_test[start].tolist()\n",
        "print(\"Seed:\")\n",
        "print(\"\\\"\", ''.join([n_to_char[value] for value in pattern]), \"\\\"\")\n",
        "\n",
        "print(\"\\nPredicted:\")\n",
        "# generate 300 characters\n",
        "for i in range(300):\n",
        "  x = np.reshape(pattern, (1, len(pattern)))\n",
        "  prediction = text_gen_model.predict(x, verbose=0).astype(np.float64)\n",
        "  ## We put the constant 0.02 to avoid dividing by zero\n",
        "  ## We sum by 1e-7 to avoid log(0)\n",
        "  prediction = np.log(prediction + 1e-7) / (temperature + 0.01)\n",
        "  exp_preds = np.exp(prediction)\n",
        "  prediction = exp_preds / np.sum(exp_preds)\n",
        "  ## We applied the smoothing with the temperature\n",
        "  ## Now we predict following the probabilities in the variable prediction\n",
        "  prediction = np.random.multinomial(1, prediction[0,:], 1)\n",
        "  index = np.argmax(prediction)\n",
        "  result = n_to_char[index]\n",
        "  seq_in = [n_to_char[value] for value in pattern]\n",
        "  ## Print the result\n",
        "  sys.stdout.write(result)\n",
        "  \n",
        "  ## Create the input sequence for the next character by appending the predicted\n",
        "  ## character and dropping the first one to always have constant seq. length\n",
        "  pattern.append(index)\n",
        "  pattern = pattern[1:]\n"
      ],
      "execution_count": 0,
      "outputs": [
        {
          "output_type": "stream",
          "text": [
            "Seed:\n",
            "\" revent me; I had peopled else\n",
            "This isle with Calibans.\n",
            "\n",
            "PROSPERO:\n",
            "Abhorred slave,\n",
            "Which any print of \"\n",
            "\n",
            "Predicted:\n",
            " the windows to take\n",
            "As were not than a soul heart to my state,\n",
            "The heavy day of a very great rest,\n",
            "And his father was a profession of revenge.\n",
            "\n",
            "Provost:\n",
            "So much at home, the son, and in his book\n",
            "As he dream to be the instrument news.\n",
            "\n",
            "First Lord:\n",
            "No, and so you were as could not be meeting of this\n"
          ],
          "name": "stdout"
        }
      ]
    },
    {
      "cell_type": "markdown",
      "metadata": {
        "id": "sSQs-l7OmNoI",
        "colab_type": "text"
      },
      "source": [
        "Notice how the network has learnt the structure of the text, to start a new line every few words and to put the name of the characters too. The text itself seems grammatically correct but fails to make much sense in most examples. Test different temperature settings to see how it affects the generation\n",
        "\n",
        "If you want to know more about text generation, along with some extra generated examples, we refer you to [Andrej Karpathy's blog](http://karpathy.github.io/2015/05/21/rnn-effectiveness/)."
      ]
    },
    {
      "cell_type": "markdown",
      "metadata": {
        "id": "5hY4m63VgiM9",
        "colab_type": "text"
      },
      "source": [
        "### Quantitative evaluation of the generated text\n",
        "\n",
        "For a quantitative evaluation of the generated text we will use a metric commonly used in image captioning and translation tasks, BLEU. BLEU looks for matches on a word level between the generated text and the reference text. Specifically, BLEU looks for matches in n-grams up to $n=4$, where an n-gram is defined as a contiguous sentence of $n$ items. For example, in the sentence `the sky is blue`, an n-gram of $n=2$ would be `is blue`. \n",
        "\n",
        "As we mentioned, the metric is more used in more constraint tasks, such as image captioning. In text generation there is a large number of both grammatically and semantically correct possibilities when generating new sentences, but we hope to see a correlation between the BLEU score and the quality of the generated text. Here we just take different seeds from the test data, and compare the generated sentence to the real one from the corpus. We do so 20 times and provide the average BLEU score.\n",
        "\n",
        "The used function is integrated in the package `nltk` and it is called using the following syntax `sentence_bleu(reference, candidate).`"
      ]
    },
    {
      "cell_type": "code",
      "metadata": {
        "id": "LtnzNZZGr11D",
        "colab_type": "code",
        "outputId": "33ceedb8-a8a4-419e-fb96-1df433554b95",
        "colab": {
          "base_uri": "https://localhost:8080/",
          "height": 102
        }
      },
      "source": [
        "from nltk.translate.bleu_score import sentence_bleu\n",
        "import sys\n",
        "temperature = 0.0\n",
        "bleu_score = 0\n",
        "n_eval = 20\n",
        "for _ in range(n_eval):\n",
        "  start = np.random.randint(0, len(x_test)-len(pattern)-1)\n",
        "  pattern = x_test[start].tolist()\n",
        "  reference = x_test[start+len(pattern)].tolist()\n",
        "  reference = ''.join([n_to_char[value] for value in reference]).split(' ')\n",
        "  # generate characters\n",
        "  output_sent = ''\n",
        "  for i in range(100):\n",
        "    x = np.reshape(pattern, (1, len(pattern)))\n",
        "    prediction = text_gen_model.predict(x, verbose=0).astype(np.float64)\n",
        "    prediction = np.log(prediction + 1e-7) / (temperature + 0.01)\n",
        "    exp_preds = np.exp(prediction)\n",
        "    prediction = exp_preds / np.sum(exp_preds)\n",
        "    prediction = np.random.multinomial(1, prediction[0,:], 1)\n",
        "    index = np.argmax(prediction)\n",
        "    result = n_to_char[index]\n",
        "    seq_in = [n_to_char[value] for value in pattern]\n",
        "    output_sent += result\n",
        "    pattern.append(index)\n",
        "    pattern = pattern[1:]\n",
        "  candidate = output_sent.replace('\\n',' ').split(' ')\n",
        "  bleu_score += sentence_bleu(reference, candidate)\n",
        "print(bleu_score/n_eval)"
      ],
      "execution_count": 0,
      "outputs": [
        {
          "output_type": "stream",
          "text": [
            "/usr/local/lib/python3.6/dist-packages/nltk/translate/bleu_score.py:490: UserWarning: \n",
            "Corpus/Sentence contains 0 counts of 2-gram overlaps.\n",
            "BLEU scores might be undesirable; use SmoothingFunction().\n",
            "  warnings.warn(_msg)\n"
          ],
          "name": "stderr"
        },
        {
          "output_type": "stream",
          "text": [
            "0.2911423183777642\n"
          ],
          "name": "stdout"
        }
      ]
    },
    {
      "cell_type": "markdown",
      "metadata": {
        "id": "OwawQJMZ3aQM",
        "colab_type": "text"
      },
      "source": [
        "# Coursework\n",
        "\n",
        "### **Task 1: RNN Regression**\n",
        "\n",
        "In this task, you are asked to estimate the next value of a time series. Specifically, we have selected the airline passenger dataset. This dataset contains the number of passengers that travels with a certain airline company. The data contains 144 entries, one per each month from the year 1949 to the year 1960. \n",
        "\n",
        "Similarly to the previous example, we import the data and plot it to see the structure."
      ]
    },
    {
      "cell_type": "code",
      "metadata": {
        "id": "cRf3UGQ33bnN",
        "colab_type": "code",
        "outputId": "e81406bf-1a11-4298-d5e1-2d1b3d4cb034",
        "colab": {
          "base_uri": "https://localhost:8080/",
          "height": 295
        }
      },
      "source": [
        "import pandas\n",
        "import matplotlib.pyplot as plt\n",
        "\n",
        "!wget https://raw.githubusercontent.com/jbrownlee/Datasets/master/airline-passengers.csv\n",
        "data = pandas.read_csv('airline-passengers.csv', usecols=[1], engine='python')\n",
        "plt.plot(data)\n",
        "plt.xlabel(\"Months\")\n",
        "plt.ylabel(\"Passengers\")\n",
        "plt.title(\"Airline Passengers from January 1949 to December 1960 (12 years)\")\n",
        "plt.show()"
      ],
      "execution_count": 0,
      "outputs": [
        {
          "output_type": "display_data",
          "data": {
            "image/png": "[encoded data removed]",
            "text/plain": [
              "<Figure size 432x288 with 1 Axes>"
            ]
          },
          "metadata": {
            "tags": []
          }
        }
      ]
    },
    {
      "cell_type": "code",
      "metadata": {
        "id": "9Z6C6pTPzLI_",
        "colab_type": "code",
        "colab": {}
      },
      "source": [
        "from keras.layers.core import Dense, Activation, Dropout\n",
        "from keras.layers.recurrent import LSTM\n",
        "from keras.models import Sequential\n",
        "from sklearn.metrics import mean_squared_error\n",
        "from sklearn.preprocessing import MinMaxScaler\n",
        "from sklearn.utils import shuffle\n",
        "import numpy as np\n",
        "# convert pandas data frame in numpy array of float.\n",
        "data_np = data.values.astype(\"float32\")\n",
        "\n",
        "# normalize data with min max normalization\n",
        "normalizer = MinMaxScaler(feature_range = (0, 1))\n",
        "dataset = normalizer.fit_transform(data_np)\n",
        "\n",
        "# Using 70% of data for training, 30% for test.\n",
        "TRAINING_PERC = 0.70\n",
        "\n",
        "train_size = int(len(dataset) * TRAINING_PERC)\n",
        "test_size = len(dataset) - train_size\n",
        "train, test = dataset[0:train_size, :], dataset[train_size:len(dataset), :]\n",
        "print(\"Number of samples training set: \" + str((len(train))))\n",
        "print(\"Number of samples test set: \" + str((len(test))))"
      ],
      "execution_count": 0,
      "outputs": []
    },
    {
      "cell_type": "markdown",
      "metadata": {
        "id": "pOi9udyY3dHS",
        "colab_type": "text"
      },
      "source": [
        "First of all, you need to build the code to train an RNN on the airline passenger dataset based on the last entries. This exercise expects you to study the impact of the `window_size` variable when defining the `train` and `test` dataset splits, where we treat the `test` split as a validation set. "
      ]
    },
    {
      "cell_type": "code",
      "metadata": {
        "id": "WIB08JxD3ezu",
        "colab_type": "code",
        "colab": {}
      },
      "source": [
        "def create_dataset(dataset, window_size = 1):\n",
        "    data_x, data_y = [], []\n",
        "    for i in range(len(dataset) - window_size - 1):\n",
        "        sample = dataset[i:(i + window_size), 0]\n",
        "        data_x.append(sample)\n",
        "        data_y.append(dataset[i + window_size, 0])\n",
        "    return(np.array(data_x), np.array(data_y))\n",
        "\n",
        "window_size = 1 #Use this variable to build the dataset with different number of inputs\n",
        "\n",
        "# Create test and training sets for regression with different window sizes.\n",
        "train_X, train_Y = create_dataset(train, window_size)\n",
        "test_X, test_Y = create_dataset(test, window_size)\n",
        "train_X = np.reshape(train_X, (train_X.shape[0], train_X.shape[1], 1))\n",
        "test_X = np.reshape(test_X, (test_X.shape[0], test_X.shape[1], 1))\n",
        "\n",
        "print(\"Shape of training inputs: \" + str((train_X.shape)))\n",
        "print(\"Shape of training labels: \" + str((train_Y.shape)))"
      ],
      "execution_count": 0,
      "outputs": []
    },
    {
      "cell_type": "markdown",
      "metadata": {
        "id": "hH6W6t5q3gfN",
        "colab_type": "text"
      },
      "source": [
        "\n",
        "**Report**:\n",
        "\n",
        "*   Report a plot showing the test curves of different models when trained with a range of `window_size` values. Report the plot and discuss the main differences you observe between the predicted curves."
      ]
    },
    {
      "cell_type": "markdown",
      "metadata": {
        "id": "Mwb9IfiCLKuT",
        "colab_type": "text"
      },
      "source": [
        "### **Task 2: Text Embeddings Importance**\n",
        "For this task, we tackle a classification problem using the IMDB sentiment dataset as done in the example above. We will specifically check the importance of the embeddings used for this task. The model you will use for this task is given below, and it should work well for the task of IMDB sentiment classification. As in past tasks, use the given `x_test` and `y_test` as validation for this problem. \n",
        "\n",
        "**Report**\n",
        "* Use embeddings of dimensionality 300. Train a model using trainable embeddings initialized at random. Train another model with trainable embeddings initialized with GloVe embeddings. Finally train a model with non-trainable embeddings initialized with GloVe embeddings. Report the training and validation accuracy curves over 10 epochs for the different models trained. Discuss the results.\n",
        "\n",
        "\n",
        "* After training the network, let's check the embeddings. What are the closest words to `action` for the three models you trained? Discuss the difference on the retrieved words.\n",
        "\n"
      ]
    },
    {
      "cell_type": "markdown",
      "metadata": {
        "id": "4Gq0lcyLnaSN",
        "colab_type": "text"
      },
      "source": [
        "We provide the training code you need to use for this exercise below. First we load the dataset as we did in the tutorial.\n"
      ]
    },
    {
      "cell_type": "code",
      "metadata": {
        "id": "E0ibhzVdnZ0X",
        "colab_type": "code",
        "colab": {}
      },
      "source": [
        "import tensorflow as tf\n",
        "from keras.preprocessing import sequence\n",
        "from keras.models import Sequential\n",
        "from keras.layers import Dense, Embedding, Dropout, Flatten, Add, Lambda\n",
        "from keras.layers import LSTM, CuDNNLSTM\n",
        "from keras.datasets import imdb\n",
        "from keras.utils import np_utils\n",
        "\n",
        "# number of most-frequent words to use\n",
        "nb_words = 5000\n",
        "n_classes = 1\n",
        "print('Loading data...')\n",
        "(x_train, y_train), (x_test, y_test) = imdb.load_data(num_words=nb_words)\n",
        "print('x_train:', x_train.shape)\n",
        "print('x_test:', x_test.shape)\n",
        "# get_word_index retrieves a mapping word -> index\n",
        "word_index = imdb.get_word_index()\n",
        "# We make space for the three special tokens\n",
        "word_index_c = dict((w, i+3) for (w, i) in word_index.items())\n",
        "word_index_c['<PAD>'] = 0\n",
        "word_index_c['<START>'] = 1\n",
        "word_index_c['<UNK>'] = 2\n",
        "# Instead of having dictionary word -> index we form\n",
        "# the dictionary index -> word\n",
        "index_word = dict((i, w) for (w, i) in word_index_c.items())\n",
        "# Truncate sentences after this number of words\n",
        "maxlen = 500\n",
        "print('Pad sequences (samples x time)')\n",
        "x_train = sequence.pad_sequences(x_train, maxlen=maxlen)\n",
        "x_test = sequence.pad_sequences(x_test, maxlen=maxlen)\n",
        "print('x_train shape:', x_train.shape)\n",
        "print('x_test shape:', x_test.shape)\n"
      ],
      "execution_count": 0,
      "outputs": []
    },
    {
      "cell_type": "markdown",
      "metadata": {
        "id": "KhRPdZYGF8FI",
        "colab_type": "text"
      },
      "source": [
        "Now we download the embeddings. This piece of code was also run during the tutorial, so there is no need of redownloading them if you alredy did before. This step takes some minutes."
      ]
    },
    {
      "cell_type": "code",
      "metadata": {
        "id": "7mFcjvlAJJIC",
        "colab_type": "code",
        "colab": {}
      },
      "source": [
        "## We load the embeddings\n",
        "## Gensim is a really useful module that provides high-level function\n",
        "## to use with the embeddings\n",
        "## Download and unzip GloVe pretrained embeddings\n",
        "!wget http://nlp.stanford.edu/data/glove.6B.zip\n",
        "!apt-get -qq install unzip\n",
        "!unzip glove.6B.zip\n",
        "!pip install gensim"
      ],
      "execution_count": 0,
      "outputs": []
    },
    {
      "cell_type": "markdown",
      "metadata": {
        "id": "2vhK-7g7GIZX",
        "colab_type": "text"
      },
      "source": [
        "Now we load the GloVe embeddings with dimensionality 300 in this case."
      ]
    },
    {
      "cell_type": "code",
      "metadata": {
        "id": "sYHs_SzrEvML",
        "colab_type": "code",
        "colab": {}
      },
      "source": [
        "from gensim.models import word2vec\n",
        "from gensim.scripts.glove2word2vec import glove2word2vec\n",
        "## These next three lines just load the embeddings into the object glove_model\n",
        "glove2word2vec(glove_input_file=\"glove.6B.300d.txt\", word2vec_output_file=\"gensim_glove_vectors.txt\")\n",
        "from gensim.models.keyedvectors import KeyedVectors\n",
        "glove_model = KeyedVectors.load_word2vec_format(\"gensim_glove_vectors.txt\", binary=False)"
      ],
      "execution_count": 0,
      "outputs": []
    },
    {
      "cell_type": "markdown",
      "metadata": {
        "id": "Xvq6WX5ZGQUP",
        "colab_type": "text"
      },
      "source": [
        "We now load the pretrained embeddings in a numpy array to then pass it to the Keras Embedding layer. Change the shape of `embedding_matrix` to the corresponding embedding dimensionality you are using."
      ]
    },
    {
      "cell_type": "code",
      "metadata": {
        "id": "rli6hi8ZJrjY",
        "colab_type": "code",
        "colab": {}
      },
      "source": [
        "import numpy as np\n",
        "embedding_matrix = np.zeros((nb_words, 300))\n",
        "for word, i in word_index_c.items():\n",
        "    if word in glove_model:\n",
        "      embedding_vector = glove_model[word]\n",
        "      if embedding_vector is not None and i < nb_words:\n",
        "          # words not found in embedding index will be all-zeros.\n",
        "          embedding_matrix[i] = embedding_vector"
      ],
      "execution_count": 0,
      "outputs": []
    },
    {
      "cell_type": "markdown",
      "metadata": {
        "id": "v8NijZKYGco2",
        "colab_type": "text"
      },
      "source": [
        "To initialize the Keras Embedding layer with the embeddings we loaded, we can use the argument `weights=[embedding_matrix]`. Also, to freeze the embeddings during training, we use `trainable=False`. \n",
        "\n",
        "You do not need to modify the model, but we now explain a couple of additions compared to model used in the tutorial: the layers `Bidirectional` and `GlobalMaxPool1D`. `Bidirectional` is commonly used in RNN and forces the processing of the input sequence to be performed both in normal time/order and reverse time/order. The model will produce an output of dimensionality `lstm_units*2` as the normal and reverse output is concatenated. We also use `GlobalMaxPool1D` with , `return_sequences = True` meaning that the output is the max-pooling of all of the states of the RNN at all timesteps, which works well in this problem."
      ]
    },
    {
      "cell_type": "code",
      "metadata": {
        "id": "7421cnIYoPQ-",
        "colab_type": "code",
        "colab": {}
      },
      "source": [
        "from keras.layers.wrappers import Bidirectional\n",
        "from keras.layers import GlobalMaxPool1D\n",
        "## Model parameters:\n",
        "# Dimensions of the embeddings\n",
        "embedding_dim = 300\n",
        "\n",
        "## LSTM dimensionality\n",
        "lstm_units = 100\n",
        "\n",
        "print('Build model...')\n",
        "text_class_model = Sequential()\n",
        "\n",
        "text_class_model.add(Embedding(nb_words,\n",
        "                    embedding_dim,\n",
        "                    input_length=maxlen,\n",
        "                    weights=[embedding_matrix],\n",
        "                            trainable=False))\n",
        "\n",
        "### Do not modify the layers below\n",
        "text_class_model.add(Bidirectional(CuDNNLSTM(lstm_units, return_sequences = True)))\n",
        "text_class_model.add(GlobalMaxPool1D())\n",
        "text_class_model.add(Dense(1, activation='sigmoid'))\n",
        "text_class_model.compile(loss='binary_crossentropy',\n",
        "              optimizer='adam',\n",
        "              metrics=['accuracy'])\n",
        "print(text_class_model.summary())"
      ],
      "execution_count": 0,
      "outputs": []
    },
    {
      "cell_type": "code",
      "metadata": {
        "id": "Gom37wigpZAn",
        "colab_type": "code",
        "colab": {}
      },
      "source": [
        "## We train the model for 10 epochs\n",
        "epochs = 10\n",
        "\n",
        "history = text_class_model.fit(x_train, y_train, batch_size=32, epochs=epochs)"
      ],
      "execution_count": 0,
      "outputs": []
    },
    {
      "cell_type": "markdown",
      "metadata": {
        "id": "Z_DTYhcl68GF",
        "colab_type": "text"
      },
      "source": [
        "We also give you the code to compute the `top_k` closest embeddings to any given `query_word`. The metric used is the L2 distance."
      ]
    },
    {
      "cell_type": "code",
      "metadata": {
        "colab_type": "code",
        "id": "V9uJoVAt7EWk",
        "colab": {}
      },
      "source": [
        "weights = text_class_model.layers[0].get_weights()[0]\n",
        "query_word = 'action'\n",
        "dist = ((weights - weights[word_index_c[query_word]])**2).sum(1).argsort()\n",
        "top_k = 10\n",
        "print('Most {:d} similar words to {:s}'.format(top_k, query_word))\n",
        "for k in range(1, top_k+1):\n",
        "  print(\"{:d}: {:s}\".format(k, index_word[dist[k]]))"
      ],
      "execution_count": 0,
      "outputs": []
    },
    {
      "cell_type": "markdown",
      "metadata": {
        "id": "CywiPmy1eZoF",
        "colab_type": "text"
      },
      "source": [
        "### **Task 3: Text Generation**\n",
        "In this task we focus on the text generation problem. For this purpose, we will download the scripts of the TV show Game of Thrones and try to generate some text resembling the style of the scripts.\n",
        "\n",
        "\n",
        "**Report**\n",
        "* Plot the retrieved BLEU for different temperature values (from 0 to 1 in the x-axis) for the given model. To compute the BLEU score, retrieve 500 samples from the model per temperature used to reduce variability. Each sample should contain 100 characters. Do you see any correlation between BLEU score and temperature used? Why/why not?\n",
        "\n",
        "* Use the given input pattern in the code below. Generate 100 characters for sample. Set the temperature to 0. Report the generated sentence. Report three generated sentences for temperature 1 and for temperature 0.5. What differences can you observe? Are the generated sentences grammatically correct? Do the generated sentences make sense? \n",
        "\n",
        "We give below the code needed to download the dataset and the splits you will use."
      ]
    },
    {
      "cell_type": "code",
      "metadata": {
        "id": "4_I1pRickXKl",
        "colab_type": "code",
        "colab": {}
      },
      "source": [
        "!git clone https://github.com/shekharkoirala/Game_of_Thrones"
      ],
      "execution_count": 0,
      "outputs": []
    },
    {
      "cell_type": "code",
      "metadata": {
        "id": "D1i9e9nekb70",
        "colab_type": "code",
        "colab": {}
      },
      "source": [
        "data = open('./Game_of_Thrones/Data/final_data.txt', 'r').read()"
      ],
      "execution_count": 0,
      "outputs": []
    },
    {
      "cell_type": "markdown",
      "metadata": {
        "id": "oHqzKZQ8aYkp",
        "colab_type": "text"
      },
      "source": [
        "We include the code to build the character-based dataset."
      ]
    },
    {
      "cell_type": "code",
      "metadata": {
        "id": "cnwDgj_unBhW",
        "colab_type": "code",
        "outputId": "7bcfd6b7-10e8-43c2-9fef-0448e24bc5e6",
        "colab": {
          "base_uri": "https://localhost:8080/",
          "height": 34
        }
      },
      "source": [
        "characters = sorted(list(set(data)))\n",
        "n_to_char = {n:char for n, char in enumerate(characters)}\n",
        "char_to_n = {char:n for n, char in enumerate(characters)}\n",
        "x = []\n",
        "y = []\n",
        "length = len(data)\n",
        "seq_length = 100\n",
        "for i in range(0, length-seq_length, 2):\n",
        "  sequence = data[i:i + seq_length]\n",
        "  label = data[i + seq_length]\n",
        "  x.append([char_to_n[char] for char in sequence])\n",
        "  y.append(char_to_n[label])\n",
        "n_samples = len(x)\n",
        "print ('Total Samples:' , n_samples)"
      ],
      "execution_count": 0,
      "outputs": [
        {
          "output_type": "stream",
          "text": [
            "Total Samples: 1237179\n"
          ],
          "name": "stdout"
        }
      ]
    },
    {
      "cell_type": "markdown",
      "metadata": {
        "id": "ZcmI8iV7afK5",
        "colab_type": "text"
      },
      "source": [
        "The splits you will use are the ones below."
      ]
    },
    {
      "cell_type": "code",
      "metadata": {
        "id": "3VkGsFkMnCuB",
        "colab_type": "code",
        "colab": {}
      },
      "source": [
        "import keras\n",
        "import numpy as np\n",
        "\n",
        "x_train = x[:int(n_samples*0.8)]\n",
        "x_test = x[int(n_samples*0.8):]\n",
        "y_train = y[:int(n_samples*0.8)]\n",
        "y_test = y[int(n_samples*0.8):]\n",
        "\n",
        "## Transform the list to a numpy array\n",
        "x_train = np.reshape(x_train, (len(x_train), seq_length))\n",
        "## Onehot encoding of labels\n",
        "y_train = keras.utils.to_categorical(np.asarray(y_train))\n",
        "\n",
        "x_test = np.reshape(x_test, (len(x_test), seq_length))\n",
        "y_test = keras.utils.to_categorical(np.asarray(y_test))"
      ],
      "execution_count": 0,
      "outputs": []
    },
    {
      "cell_type": "markdown",
      "metadata": {
        "id": "hcyzP955aukz",
        "colab_type": "text"
      },
      "source": [
        "Use the model below as your base model."
      ]
    },
    {
      "cell_type": "code",
      "metadata": {
        "id": "LO3FoRM1nEOe",
        "colab_type": "code",
        "colab": {}
      },
      "source": [
        "from keras.models import Sequential\n",
        "from keras.layers import Dense, Embedding, Dropout\n",
        "from keras.layers import CuDNNLSTM\n",
        "# define the LSTM model\n",
        "embedding_size = 300\n",
        "lstm_units = 256\n",
        "\n",
        "text_gen_model = Sequential()\n",
        "text_gen_model.add(Embedding(y_train.shape[1],\n",
        "                    embedding_size, input_length=seq_length))\n",
        "text_gen_model.add(CuDNNLSTM(lstm_units))\n",
        "text_gen_model.add(Dense(y_train.shape[1], activation='softmax'))\n",
        "\n",
        "text_gen_model.compile(loss='categorical_crossentropy', optimizer='adam')\n",
        "text_gen_model.summary()"
      ],
      "execution_count": 0,
      "outputs": []
    },
    {
      "cell_type": "markdown",
      "metadata": {
        "id": "jSgGhwym_WLx",
        "colab_type": "text"
      },
      "source": [
        "The training takes a while, so we include a saved model that you can load to skip the training step."
      ]
    },
    {
      "cell_type": "code",
      "metadata": {
        "id": "xcasWx79nFcY",
        "colab_type": "code",
        "colab": {}
      },
      "source": [
        "# text_gen_model.fit(x_train, y_train, epochs=20, batch_size=128)\n",
        "!wget https://imperialcollegelondon.box.com/shared/static/1ffasfm5bx691allukv4y8n0tglr5c06.h5 -O ./text_model.h5\n",
        "text_gen_model = keras.models.load_model(\"./text_model.h5\")"
      ],
      "execution_count": 0,
      "outputs": []
    },
    {
      "cell_type": "markdown",
      "metadata": {
        "id": "MsuUE8vua77e",
        "colab_type": "text"
      },
      "source": [
        "The code you need to evaluate the BLEU score if given below. Vary the temperature to the different needed values."
      ]
    },
    {
      "cell_type": "code",
      "metadata": {
        "id": "s5ufMSdgp0A6",
        "colab_type": "code",
        "colab": {}
      },
      "source": [
        "from nltk.translate.bleu_score import sentence_bleu\n",
        "import sys\n",
        "temperature = 0.8\n",
        "bleu_score = 0\n",
        "n_eval = 500\n",
        "for _ in range(n_eval):\n",
        "  start = np.random.randint(0, len(x_test)-seq_length-1)\n",
        "  pattern = x_test[start].tolist()\n",
        "  reference = x_test[start+seq_length].tolist()\n",
        "  reference = ''.join([n_to_char[value] for value in reference]).split(' ')\n",
        "  # generate characters\n",
        "  output_sent = ''\n",
        "  for i in range(100):\n",
        "    x = np.reshape(pattern, (1, len(pattern)))\n",
        "    prediction = text_gen_model.predict(x, verbose=0).astype(np.float64)\n",
        "    prediction = np.log(prediction + 1e-7) / (temperature + 0.01)\n",
        "    exp_preds = np.exp(prediction)\n",
        "    prediction = exp_preds / np.sum(exp_preds)\n",
        "    prediction = np.random.multinomial(1, prediction[0,:], 1)\n",
        "    index = np.argmax(prediction)\n",
        "    result = n_to_char[index]\n",
        "    seq_in = [n_to_char[value] for value in pattern]\n",
        "    output_sent += result\n",
        "    pattern.append(index)\n",
        "    pattern = pattern[1:]\n",
        "  candidate = output_sent.replace('\\n',' ').split(' ')\n",
        "  bleu_score += sentence_bleu(reference, candidate)\n",
        "print(bleu_score/n_eval)"
      ],
      "execution_count": 0,
      "outputs": []
    },
    {
      "cell_type": "markdown",
      "metadata": {
        "id": "gVEF_WPycOnD",
        "colab_type": "text"
      },
      "source": [
        "The code below includes the input pattern you need to use. It generates 100 characters."
      ]
    },
    {
      "cell_type": "code",
      "metadata": {
        "id": "Yshz7OZGnIWX",
        "colab_type": "code",
        "colab": {}
      },
      "source": [
        "import sys\n",
        "# Vary the temperature here\n",
        "temperature = 1.0\n",
        "\n",
        "pattern = [char_to_n[value] for value in list(\"JAIME: Do you know how long it's going to take us to get to King's Landing walking through fields an\")]\n",
        "print(\"\\nPredicted:\")\n",
        "# generate 100 characters\n",
        "for i in range(100):\n",
        "  x = np.reshape(pattern, (1, len(pattern)))\n",
        "  prediction = text_gen_model.predict(x, verbose=0).astype(np.float64)\n",
        "  ## We put the constant 0.02 to avoid dividing by zero\n",
        "  ## We sum by 1e-7 to avoid log(0)\n",
        "  prediction = np.log(prediction + 1e-7) / (temperature + 0.01)\n",
        "  exp_preds = np.exp(prediction)\n",
        "  prediction = exp_preds / np.sum(exp_preds)\n",
        "  ## We applied the smoothing with the temperature\n",
        "  ## Now we predict following the probabilities in the variable prediction\n",
        "  prediction = np.random.multinomial(1, prediction[0,:], 1)\n",
        "  index = np.argmax(prediction)\n",
        "  result = n_to_char[index]\n",
        "  seq_in = [n_to_char[value] for value in pattern]\n",
        "  ## Print the result\n",
        "  sys.stdout.write(result)\n",
        "  \n",
        "  ## Create the input sequence for the next character by appending the predicted\n",
        "  ## character and dropping the first one to always have constant seq. length\n",
        "  pattern.append(index)\n",
        "  pattern = pattern[1:]"
      ],
      "execution_count": 0,
      "outputs": []
    }
  ]
}